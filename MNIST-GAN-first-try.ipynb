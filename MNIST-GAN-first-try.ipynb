{
 "cells": [
  {
   "cell_type": "code",
   "execution_count": 1,
   "id": "5234c486",
   "metadata": {
    "_cell_guid": "b1076dfc-b9ad-4769-8c92-a6c4dae69d19",
    "_uuid": "8f2839f25d086af736a60e9eeb907d3b93b6e0e5",
    "execution": {
     "iopub.execute_input": "2025-07-11T23:12:24.906993Z",
     "iopub.status.busy": "2025-07-11T23:12:24.906753Z",
     "iopub.status.idle": "2025-07-11T23:13:01.128136Z",
     "shell.execute_reply": "2025-07-11T23:13:01.127317Z"
    },
    "papermill": {
     "duration": 36.227788,
     "end_time": "2025-07-11T23:13:01.131301",
     "exception": false,
     "start_time": "2025-07-11T23:12:24.903513",
     "status": "completed"
    },
    "tags": []
   },
   "outputs": [
    {
     "name": "stderr",
     "output_type": "stream",
     "text": [
      "2025-07-11 23:12:43.593439: E external/local_xla/xla/stream_executor/cuda/cuda_fft.cc:477] Unable to register cuFFT factory: Attempting to register factory for plugin cuFFT when one has already been registered\n",
      "WARNING: All log messages before absl::InitializeLog() is called are written to STDERR\n",
      "E0000 00:00:1752275563.937237      19 cuda_dnn.cc:8310] Unable to register cuDNN factory: Attempting to register factory for plugin cuDNN when one has already been registered\n",
      "E0000 00:00:1752275564.037910      19 cuda_blas.cc:1418] Unable to register cuBLAS factory: Attempting to register factory for plugin cuBLAS when one has already been registered\n"
     ]
    },
    {
     "name": "stdout",
     "output_type": "stream",
     "text": [
      "/kaggle/input/mnist-dataset/train-images.idx3-ubyte\n",
      "/kaggle/input/mnist-dataset/t10k-labels.idx1-ubyte\n",
      "/kaggle/input/mnist-dataset/t10k-images.idx3-ubyte\n",
      "/kaggle/input/mnist-dataset/train-labels.idx1-ubyte\n",
      "/kaggle/input/mnist-dataset/t10k-labels-idx1-ubyte/t10k-labels-idx1-ubyte\n",
      "/kaggle/input/mnist-dataset/t10k-images-idx3-ubyte/t10k-images-idx3-ubyte\n",
      "/kaggle/input/mnist-dataset/train-labels-idx1-ubyte/train-labels-idx1-ubyte\n",
      "/kaggle/input/mnist-dataset/train-images-idx3-ubyte/train-images-idx3-ubyte\n"
     ]
    }
   ],
   "source": [
    "# This Python 3 environment comes with many helpful analytics libraries installed\n",
    "# It is defined by the kaggle/python Docker image: https://github.com/kaggle/docker-python\n",
    "# For example, here's several helpful packages to load\n",
    "\n",
    "import numpy as np # linear algebra\n",
    "import pandas as pd # data processing, CSV file I/O (e.g. pd.read_csv)\n",
    "import torch\n",
    "import torch.nn as nn\n",
    "import torchvision\n",
    "import torchvision.datasets as datasets\n",
    "from torch.utils.data import DataLoader\n",
    "import torchvision.transforms as transforms\n",
    "from torch.utils.tensorboard import SummaryWriter\n",
    "import torch.optim as optim\n",
    "# Input data files are available in the read-only \"../input/\" directory\n",
    "# For example, running this (by clicking run or pressing Shift+Enter) will list all files under the input directory\n",
    "\n",
    "import os\n",
    "for dirname, _, filenames in os.walk('/kaggle/input'):\n",
    "    for filename in filenames:\n",
    "        print(os.path.join(dirname, filename))\n",
    "%config Completer.use_jedi = False\n",
    "\n",
    "# You can write up to 20GB to the current directory (/kaggle/working/) that gets preserved as output when you create a version using \"Save & Run All\" \n",
    "# You can also write temporary files to /kaggle/temp/, but they won't be saved outside of the current session"
   ]
  },
  {
   "cell_type": "code",
   "execution_count": 2,
   "id": "1049917e",
   "metadata": {
    "execution": {
     "iopub.execute_input": "2025-07-11T23:13:01.136619Z",
     "iopub.status.busy": "2025-07-11T23:13:01.136203Z",
     "iopub.status.idle": "2025-07-11T23:13:01.140488Z",
     "shell.execute_reply": "2025-07-11T23:13:01.139926Z"
    },
    "papermill": {
     "duration": 0.007957,
     "end_time": "2025-07-11T23:13:01.141556",
     "exception": false,
     "start_time": "2025-07-11T23:13:01.133599",
     "status": "completed"
    },
    "tags": []
   },
   "outputs": [],
   "source": [
    "class Discriminator(nn.Module):\n",
    "    def __init__(self,in_features):\n",
    "        super().__init__()\n",
    "        self.disc = nn.Sequential(\n",
    "            nn.Linear(in_features,128),\n",
    "            nn.LeakyReLU(0.1),\n",
    "            nn.Linear(128,1),    \n",
    "            nn.Sigmoid()\n",
    "        )\n",
    "    \n",
    "    def forward(self, x):\n",
    "        return self.disc(x)"
   ]
  },
  {
   "cell_type": "code",
   "execution_count": 3,
   "id": "2ffae68e",
   "metadata": {
    "execution": {
     "iopub.execute_input": "2025-07-11T23:13:01.146381Z",
     "iopub.status.busy": "2025-07-11T23:13:01.146172Z",
     "iopub.status.idle": "2025-07-11T23:13:01.150034Z",
     "shell.execute_reply": "2025-07-11T23:13:01.149438Z"
    },
    "papermill": {
     "duration": 0.007449,
     "end_time": "2025-07-11T23:13:01.151073",
     "exception": false,
     "start_time": "2025-07-11T23:13:01.143624",
     "status": "completed"
    },
    "tags": []
   },
   "outputs": [],
   "source": [
    "class Generator(nn.Module):\n",
    "    def __init__(self, z_dim, img_dim):\n",
    "        super().__init__()\n",
    "        self.gen = nn.Sequential(\n",
    "            nn.Linear(z_dim, 256),\n",
    "            nn.LeakyReLU(0.1),\n",
    "            nn.Linear(256,img_dim),     \n",
    "            nn.Tanh(),\n",
    "        )\n",
    "    def forward(self,x):\n",
    "        return self.gen(x)\n",
    "\n"
   ]
  },
  {
   "cell_type": "code",
   "execution_count": 4,
   "id": "a7eb6e11",
   "metadata": {
    "execution": {
     "iopub.execute_input": "2025-07-11T23:13:01.155778Z",
     "iopub.status.busy": "2025-07-11T23:13:01.155573Z",
     "iopub.status.idle": "2025-07-11T23:21:57.481808Z",
     "shell.execute_reply": "2025-07-11T23:21:57.480816Z"
    },
    "papermill": {
     "duration": 536.33043,
     "end_time": "2025-07-11T23:21:57.483473",
     "exception": false,
     "start_time": "2025-07-11T23:13:01.153043",
     "status": "completed"
    },
    "tags": []
   },
   "outputs": [
    {
     "name": "stdout",
     "output_type": "stream",
     "text": [
      "cuda\n"
     ]
    },
    {
     "name": "stderr",
     "output_type": "stream",
     "text": [
      "100%|██████████| 9.91M/9.91M [00:00<00:00, 37.0MB/s]\n",
      "100%|██████████| 28.9k/28.9k [00:00<00:00, 1.06MB/s]\n",
      "100%|██████████| 1.65M/1.65M [00:00<00:00, 9.72MB/s]\n",
      "100%|██████████| 4.54k/4.54k [00:00<00:00, 9.20MB/s]\n"
     ]
    }
   ],
   "source": [
    "#Hyperparameters etc.\n",
    "device = \"cuda\" if torch.cuda.is_available() else \"cpu\"\n",
    "print(device)\n",
    "lr = 3e-4\n",
    "z_dim = 64\n",
    "image_dim = 28 * 28 * 1\n",
    "batch_size = 32\n",
    "num_epochs = 50\n",
    "\n",
    "disc= Discriminator(image_dim).to(device)\n",
    "gen = Generator(z_dim,image_dim).to(device)\n",
    "fixed_noise = torch.randn((batch_size, z_dim)).to(device)\n",
    "transform = transforms.Compose([\n",
    "    transforms.ToTensor(),\n",
    "    transforms.Normalize((0.5,), (0.5,))\n",
    "])\n",
    "dataset = datasets.MNIST(root=\"dataset/\",transform=transform, download=True)\n",
    "loader = DataLoader(dataset,batch_size=batch_size, shuffle= True)\n",
    "opt_disc = optim.Adam(disc.parameters(),lr = lr)\n",
    "opt_gen = optim.Adam(gen.parameters(),lr = lr)\n",
    "criterion = nn.BCELoss() #our loss\n",
    "writer_fake = SummaryWriter(f\"runs/GAN_MNIST/fake\")\n",
    "writer_real = SummaryWriter(f\"runs/GAN_MNIST/real\")\n",
    "step = 0\n",
    "\n",
    "for epoch in range(num_epochs):\n",
    "    for batch_idx, (real, _)in enumerate(loader):\n",
    "        real = real.view(-1,784).to(device)\n",
    "        batch_size = real.shape[0]\n",
    "\n",
    "\n"
   ]
  },
  {
   "cell_type": "code",
   "execution_count": 5,
   "id": "69e918b7",
   "metadata": {
    "execution": {
     "iopub.execute_input": "2025-07-11T23:21:57.491098Z",
     "iopub.status.busy": "2025-07-11T23:21:57.490349Z",
     "iopub.status.idle": "2025-07-11T23:21:57.497232Z",
     "shell.execute_reply": "2025-07-11T23:21:57.496493Z"
    },
    "papermill": {
     "duration": 0.011438,
     "end_time": "2025-07-11T23:21:57.498384",
     "exception": false,
     "start_time": "2025-07-11T23:21:57.486946",
     "status": "completed"
    },
    "tags": []
   },
   "outputs": [],
   "source": [
    "%config Completer.use_jedi = False"
   ]
  },
  {
   "cell_type": "markdown",
   "id": "eb35702d",
   "metadata": {
    "papermill": {
     "duration": 0.002498,
     "end_time": "2025-07-11T23:21:57.503541",
     "exception": false,
     "start_time": "2025-07-11T23:21:57.501043",
     "status": "completed"
    },
    "tags": []
   },
   "source": []
  },
  {
   "cell_type": "code",
   "execution_count": 6,
   "id": "c2501e2a",
   "metadata": {
    "execution": {
     "iopub.execute_input": "2025-07-11T23:21:57.509488Z",
     "iopub.status.busy": "2025-07-11T23:21:57.509111Z",
     "iopub.status.idle": "2025-07-11T23:21:59.145012Z",
     "shell.execute_reply": "2025-07-11T23:21:59.144385Z"
    },
    "papermill": {
     "duration": 1.640354,
     "end_time": "2025-07-11T23:21:59.146447",
     "exception": false,
     "start_time": "2025-07-11T23:21:57.506093",
     "status": "completed"
    },
    "tags": []
   },
   "outputs": [],
   "source": [
    "##training the D\n",
    "#max log(D(real)) + log(1-D(G(z)))\n",
    "noise = torch.randn(batch_size, z_dim).to(device)\n",
    "fake = gen(noise) ##generate fake images\n",
    "disc_real = disc(real).view(-1) \n",
    "lossD_real = criterion(disc_real,torch.ones_like(disc_real))\n",
    "disc_fake = disc(fake).view(-1)\n",
    "lossD_fake = criterion(disc_fake,torch.zeros_like(disc_fake))\n",
    "lossD = (lossD_real + lossD_fake) / 2\n",
    "disc.zero_grad()\n",
    "lossD.backward(retain_graph = True)\n",
    "opt_disc.step()"
   ]
  },
  {
   "cell_type": "code",
   "execution_count": 7,
   "id": "1b5bfa61",
   "metadata": {
    "execution": {
     "iopub.execute_input": "2025-07-11T23:21:59.153305Z",
     "iopub.status.busy": "2025-07-11T23:21:59.152843Z",
     "iopub.status.idle": "2025-07-11T23:21:59.161392Z",
     "shell.execute_reply": "2025-07-11T23:21:59.160679Z"
    },
    "papermill": {
     "duration": 0.013187,
     "end_time": "2025-07-11T23:21:59.162641",
     "exception": false,
     "start_time": "2025-07-11T23:21:59.149454",
     "status": "completed"
    },
    "tags": []
   },
   "outputs": [],
   "source": [
    "#training the G\n",
    "#min log(1-D(G(z))) => max log(D(G(z)))\n",
    "output = disc(fake).view(-1)\n",
    "lossG = criterion(output, torch.ones_like(output))\n",
    "gen.zero_grad()\n",
    "lossG.backward()\n",
    "opt_gen.step()\n"
   ]
  },
  {
   "cell_type": "code",
   "execution_count": 8,
   "id": "1d7a3b8e",
   "metadata": {
    "execution": {
     "iopub.execute_input": "2025-07-11T23:21:59.168680Z",
     "iopub.status.busy": "2025-07-11T23:21:59.168493Z",
     "iopub.status.idle": "2025-07-11T23:21:59.172715Z",
     "shell.execute_reply": "2025-07-11T23:21:59.172229Z"
    },
    "papermill": {
     "duration": 0.008369,
     "end_time": "2025-07-11T23:21:59.173736",
     "exception": false,
     "start_time": "2025-07-11T23:21:59.165367",
     "status": "completed"
    },
    "tags": []
   },
   "outputs": [],
   "source": [
    "if batch_idx == 0:\n",
    "    print(f\"Epoch [{epoch}/{num_epochs}] \"\n",
    "    f\"Loss D : {lossD:.4f}, Loss G : {lossG:.4f}\"\n",
    "    )\n",
    "    with torch.no_grad():\n",
    "        fake = gen(fixed_noise).reshape(-1,1,28,28)\n",
    "        data = real.reshape(-1,1,28,28)\n",
    "        img_grid_fake = torchvision.utils.make_grid(fake, normalize = True)\n",
    "        img_grid_real = torchvision.utils.make_grid(data, normalize = True)\n",
    "\n",
    "        writer_fake.add_image(\n",
    "        \"Mnist read images\",img_grid_real,global_steps = step)\n",
    "        step += 1"
   ]
  },
  {
   "cell_type": "code",
   "execution_count": 9,
   "id": "437f4ac8",
   "metadata": {
    "execution": {
     "iopub.execute_input": "2025-07-11T23:21:59.179610Z",
     "iopub.status.busy": "2025-07-11T23:21:59.179406Z",
     "iopub.status.idle": "2025-07-11T23:22:06.826067Z",
     "shell.execute_reply": "2025-07-11T23:22:06.825280Z"
    },
    "papermill": {
     "duration": 7.650998,
     "end_time": "2025-07-11T23:22:06.827392",
     "exception": false,
     "start_time": "2025-07-11T23:21:59.176394",
     "status": "completed"
    },
    "tags": []
   },
   "outputs": [
    {
     "data": {
      "application/javascript": [
       "\n",
       "        (async () => {\n",
       "            const url = new URL(await google.colab.kernel.proxyPort(6006, {'cache': true}));\n",
       "            url.searchParams.set('tensorboardColab', 'true');\n",
       "            const iframe = document.createElement('iframe');\n",
       "            iframe.src = url;\n",
       "            iframe.setAttribute('width', '100%');\n",
       "            iframe.setAttribute('height', '800');\n",
       "            iframe.setAttribute('frameborder', 0);\n",
       "            document.body.appendChild(iframe);\n",
       "        })();\n",
       "    "
      ],
      "text/plain": [
       "<IPython.core.display.Javascript object>"
      ]
     },
     "metadata": {},
     "output_type": "display_data"
    }
   ],
   "source": [
    "%load_ext tensorboard\n",
    "%tensorboard --logdir=runs"
   ]
  }
 ],
 "metadata": {
  "kaggle": {
   "accelerator": "nvidiaTeslaT4",
   "dataSources": [
    {
     "datasetId": 102285,
     "sourceId": 242592,
     "sourceType": "datasetVersion"
    }
   ],
   "isGpuEnabled": true,
   "isInternetEnabled": true,
   "language": "python",
   "sourceType": "notebook"
  },
  "kernelspec": {
   "display_name": "Python 3",
   "language": "python",
   "name": "python3"
  },
  "language_info": {
   "codemirror_mode": {
    "name": "ipython",
    "version": 3
   },
   "file_extension": ".py",
   "mimetype": "text/x-python",
   "name": "python",
   "nbconvert_exporter": "python",
   "pygments_lexer": "ipython3",
   "version": "3.11.13"
  },
  "papermill": {
   "default_parameters": {},
   "duration": 590.577936,
   "end_time": "2025-07-11T23:22:09.548824",
   "environment_variables": {},
   "exception": null,
   "input_path": "__notebook__.ipynb",
   "output_path": "__notebook__.ipynb",
   "parameters": {},
   "start_time": "2025-07-11T23:12:18.970888",
   "version": "2.6.0"
  }
 },
 "nbformat": 4,
 "nbformat_minor": 5
}
