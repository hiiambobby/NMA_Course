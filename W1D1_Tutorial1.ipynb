{
  "cells": [
    {
      "cell_type": "markdown",
      "metadata": {
        "execution": {},
        "id": "aO5r74wJkx1-"
      },
      "source": [
        "# Tutorial 1: PyTorch\n",
        "**Week 1, Day 1: Basics and PyTorch**\n",
        "\n",
        "**By Neuromatch Academy**\n",
        "\n",
        "\n",
        "__Content creators:__ Shubh Pachchigar, Vladimir Haltakov, Matthew Sargent, Konrad Kording\n",
        "\n",
        "__Content reviewers:__ Deepak Raya, Siwei Bai, Kelson Shilling-Scrivo\n",
        "\n",
        "__Content editors:__ Anoop Kulkarni, Spiros Chavlis\n",
        "\n",
        "__Production editors:__ Arush Tagade, Spiros Chavlis"
      ]
    },
    {
      "cell_type": "markdown",
      "metadata": {
        "execution": {},
        "id": "2XdhM4wBkx2D"
      },
      "source": [
        "---\n",
        "# Tutorial Objectives\n",
        "\n",
        "Then have a few specific objectives for this tutorial:\n",
        "* Learn about PyTorch and tensors\n",
        "* Tensor Manipulations\n",
        "* Data Loading\n",
        "* GPUs and CUDA Tensors\n",
        "* Train NaiveNet\n",
        "* Get to know your pod\n",
        "* Start thinking about the course as a whole"
      ]
    },
    {
      "cell_type": "code",
      "execution_count": null,
      "metadata": {
        "cellView": "form",
        "execution": {},
        "id": "-F-dBXdjkx2E"
      },
      "outputs": [],
      "source": [
        "# @title Tutorial slides\n",
        "from IPython.display import IFrame\n",
        "link_id = \"wcjrv\"\n",
        "print(f\"If you want to download the slides: https://osf.io/download/{link_id}/\")\n",
        "IFrame(src=f\"https://mfr.ca-1.osf.io/render?url=https://osf.io/{link_id}/?direct%26mode=render%26action=download%26mode=render\", width=854, height=480)"
      ]
    },
    {
      "cell_type": "markdown",
      "metadata": {
        "execution": {},
        "id": "ozD-f18Qkx2J"
      },
      "source": [
        "---\n",
        "# Setup"
      ]
    },
    {
      "cell_type": "markdown",
      "metadata": {
        "execution": {},
        "id": "4FqeeMZdkx2J"
      },
      "source": [
        "Throughout your Neuromatch tutorials, most (probably all!) notebooks contain setup cells. These cells will import the required Python packages (e.g., PyTorch, NumPy); set global or environment variables, and load in helper functions for things like plotting. In some tutorials, you will notice that we install some dependencies even if they are preinstalled on Google Colab or Kaggle. This happens because we have added automation to our repository through [GitHub Actions](https://docs.github.com/en/actions/learn-github-actions/introduction-to-github-actions).\n",
        "\n",
        "Be sure to run all of the cells in the setup section. Feel free to expand them and have a look at what you are loading in, but you should be able to fulfill the learning objectives of every tutorial without having to look at these cells.\n",
        "\n",
        "If you start building your own projects built on this code base we highly recommend looking at them in more detail."
      ]
    },
    {
      "cell_type": "code",
      "execution_count": 3,
      "metadata": {
        "cellView": "form",
        "execution": {},
        "id": "JY26KQL7kx2K"
      },
      "outputs": [],
      "source": [
        "# @title Install dependencies\n",
        "!pip install pandas --quiet"
      ]
    },
    {
      "cell_type": "code",
      "execution_count": 4,
      "metadata": {
        "cellView": "form",
        "execution": {},
        "colab": {
          "base_uri": "https://localhost:8080/"
        },
        "id": "RiDlx-cVkx2K",
        "outputId": "326be48d-f287-4859-f20d-a9e1b13e089f"
      },
      "outputs": [
        {
          "output_type": "stream",
          "name": "stdout",
          "text": [
            "  Preparing metadata (setup.py) ... \u001b[?25l\u001b[?25hdone\n",
            "  Preparing metadata (setup.py) ... \u001b[?25l\u001b[?25hdone\n",
            "\u001b[2K   \u001b[90m━━━━━━━━━━━━━━━━━━━━━━━━━━━━━━━━━━━━━━━━\u001b[0m \u001b[32m1.6/1.6 MB\u001b[0m \u001b[31m36.3 MB/s\u001b[0m eta \u001b[36m0:00:00\u001b[0m\n",
            "\u001b[?25h  Building wheel for vibecheck (setup.py) ... \u001b[?25l\u001b[?25hdone\n",
            "  Building wheel for datatops (setup.py) ... \u001b[?25l\u001b[?25hdone\n"
          ]
        }
      ],
      "source": [
        "# @title Install and import feedback gadget\n",
        "!pip3 install vibecheck datatops --quiet\n",
        "\n",
        "from vibecheck import DatatopsContentReviewContainer\n",
        "def content_review(notebook_section: str):\n",
        "    return DatatopsContentReviewContainer(\n",
        "        \"\",  # No text prompt\n",
        "        notebook_section,\n",
        "        {\n",
        "            \"url\": \"https://pmyvdlilci.execute-api.us-east-1.amazonaws.com/klab\",\n",
        "            \"name\": \"neuromatch_dl\",\n",
        "            \"user_key\": \"f379rz8y\",\n",
        "        },\n",
        "    ).render()\n",
        "\n",
        "\n",
        "feedback_prefix = \"W1D1_T1\""
      ]
    },
    {
      "cell_type": "code",
      "execution_count": 7,
      "metadata": {
        "execution": {},
        "id": "sx506eahkx2L"
      },
      "outputs": [],
      "source": [
        "# Imports\n",
        "import time\n",
        "import random\n",
        "import numpy as np\n",
        "import pandas as pd\n",
        "import matplotlib.pyplot as plt\n",
        "\n",
        "# PyTorch libraries\n",
        "import torch\n",
        "from torch import nn\n",
        "from torchvision import datasets\n",
        "from torch.utils.data import DataLoader\n",
        "from torchvision.transforms import ToTensor"
      ]
    },
    {
      "cell_type": "code",
      "execution_count": 8,
      "metadata": {
        "execution": {},
        "id": "7-90Bvx4kx2M"
      },
      "outputs": [],
      "source": [
        "# @title Figure Settings\n",
        "import logging\n",
        "logging.getLogger('matplotlib.font_manager').disabled = True\n",
        "\n",
        "import ipywidgets as widgets\n",
        "%config InlineBackend.figure_format = 'retina'\n",
        "plt.style.use(\"https://raw.githubusercontent.com/NeuromatchAcademy/content-creation/main/nma.mplstyle\")"
      ]
    },
    {
      "cell_type": "code",
      "execution_count": 33,
      "metadata": {
        "execution": {},
        "id": "xIr50br_kx2M"
      },
      "outputs": [],
      "source": [
        "# @title Helper Functions\n",
        "\n",
        "def checkExercise1(A, B, C, D):\n",
        "  \"\"\"\n",
        "  Helper function for checking Exercise 1.\n",
        "\n",
        "  Args:\n",
        "    A: torch.Tensor\n",
        "      Torch Tensor of shape (20, 21) consisting of ones.\n",
        "    B: torch.Tensor\n",
        "      Torch Tensor of size([3,4])\n",
        "    C: torch.Tensor\n",
        "      Torch Tensor of size([20,21])\n",
        "    D: torch.Tensor\n",
        "      Torch Tensor of size([19])\n",
        "\n",
        "  Returns:\n",
        "    Nothing.\n",
        "  \"\"\"\n",
        "  assert torch.equal(A.to(int),torch.ones(20, 21).to(int)), \"Got: {A} \\n Expected: {torch.ones(20, 21)} (shape: {torch.ones(20, 21).shape})\"\n",
        "  assert np.array_equal(B.numpy(),np.vander([1, 2, 3], 4)), \"Got: {B} \\n Expected: {np.vander([1, 2, 3], 4)} (shape: {np.vander([1, 2, 3], 4).shape})\"\n",
        "  assert C.shape == (20, 21), \"Got: {C} \\n Expected (shape: {(20, 21)})\"\n",
        "  assert torch.equal(D, torch.arange(4, 41, step=2)), \"Got {D} \\n Expected: {torch.arange(4, 41, step=2)} (shape: {torch.arange(4, 41, step=2).shape})\"\n",
        "  print(\"All correct\")\n",
        "\n",
        "def timeFun(f, dim, iterations, device='cpu'):\n",
        "  \"\"\"\n",
        "  Helper function to calculate amount of time taken per instance on CPU/GPU\n",
        "\n",
        "  Args:\n",
        "    f: BufferedReader IO instance\n",
        "      Function name for which to calculate computational time complexity\n",
        "    dim: Integer\n",
        "      Number of dimensions in instance in question\n",
        "    iterations: Integer\n",
        "      Number of iterations for instance in question\n",
        "    device: String\n",
        "      Device on which respective computation is to be run\n",
        "\n",
        "  Returns:\n",
        "    Nothing\n",
        "  \"\"\"\n",
        "  iterations = iterations\n",
        "  t_total = 0\n",
        "  for _ in range(iterations):\n",
        "    start = time.time()\n",
        "    f(dim, device)\n",
        "    end = time.time()\n",
        "    t_total += end - start\n",
        "\n",
        "  if device == 'cpu':\n",
        "    print(f\"time taken for {iterations} iterations of {f.__name__}({dim}, {device}): {t_total:.5f}\")\n",
        "  else:\n",
        "    print(f\"time taken for {iterations} iterations of {f.__name__}({dim}, {device}): {t_total:.5f}\")"
      ]
    },
    {
      "cell_type": "markdown",
      "metadata": {
        "execution": {},
        "id": "md8ptdj-kx2N"
      },
      "source": [
        "**Important note: Colab users**\n",
        "\n",
        "*Scratch Code Cells*\n",
        "\n",
        "If you want to quickly try out something or take a look at the data, you can use scratch code cells. They allow you to run Python code, but will not mess up the structure of your notebook.\n",
        "\n",
        "To open a new scratch cell go to *Insert* → *Scratch code cell*."
      ]
    },
    {
      "cell_type": "markdown",
      "metadata": {
        "execution": {},
        "id": "gByduwfkkx2N"
      },
      "source": [
        "# Section 1: Welcome to Neuromatch Deep learning course\n",
        "\n",
        "*Time estimate: ~25mins*"
      ]
    },
    {
      "cell_type": "code",
      "execution_count": null,
      "metadata": {
        "cellView": "form",
        "execution": {},
        "id": "r-ELAdc_kx2N"
      },
      "outputs": [],
      "source": [
        "# @title Video 1: Welcome and History\n",
        "from ipywidgets import widgets\n",
        "from IPython.display import YouTubeVideo\n",
        "from IPython.display import IFrame\n",
        "from IPython.display import display\n",
        "\n",
        "\n",
        "class PlayVideo(IFrame):\n",
        "  def __init__(self, id, source, page=1, width=400, height=300, **kwargs):\n",
        "    self.id = id\n",
        "    if source == 'Bilibili':\n",
        "      src = f'https://player.bilibili.com/player.html?bvid={id}&page={page}'\n",
        "    elif source == 'Osf':\n",
        "      src = f'https://mfr.ca-1.osf.io/render?url=https://osf.io/download/{id}/?direct%26mode=render'\n",
        "    super(PlayVideo, self).__init__(src, width, height, **kwargs)\n",
        "\n",
        "\n",
        "def display_videos(video_ids, W=400, H=300, fs=1):\n",
        "  tab_contents = []\n",
        "  for i, video_id in enumerate(video_ids):\n",
        "    out = widgets.Output()\n",
        "    with out:\n",
        "      if video_ids[i][0] == 'Youtube':\n",
        "        video = YouTubeVideo(id=video_ids[i][1], width=W,\n",
        "                             height=H, fs=fs, rel=0)\n",
        "        print(f'Video available at https://youtube.com/watch?v={video.id}')\n",
        "      else:\n",
        "        video = PlayVideo(id=video_ids[i][1], source=video_ids[i][0], width=W,\n",
        "                          height=H, fs=fs, autoplay=False)\n",
        "        if video_ids[i][0] == 'Bilibili':\n",
        "          print(f'Video available at https://www.bilibili.com/video/{video.id}')\n",
        "        elif video_ids[i][0] == 'Osf':\n",
        "          print(f'Video available at https://osf.io/{video.id}')\n",
        "      display(video)\n",
        "    tab_contents.append(out)\n",
        "  return tab_contents\n",
        "\n",
        "\n",
        "video_ids = [('Youtube', 'ca21SNqt78I'), ('Bilibili', 'BV1Av411n7oL')]\n",
        "tab_contents = display_videos(video_ids, W=854, H=480)\n",
        "tabs = widgets.Tab()\n",
        "tabs.children = tab_contents\n",
        "for i in range(len(tab_contents)):\n",
        "  tabs.set_title(i, video_ids[i][0])\n",
        "display(tabs)"
      ]
    },
    {
      "cell_type": "markdown",
      "metadata": {
        "execution": {},
        "id": "0V8yw1ARkx2O"
      },
      "source": [
        "This will be an intensive 3 week adventure. We will all learn Deep Learning (DL) in a group. Groups need standards. Read our\n",
        "[Code of Conduct](https://docs.google.com/document/d/1eHKIkaNbAlbx_92tLQelXnicKXEcvFzlyzzeWjEtifM/edit?usp=sharing).\n"
      ]
    },
    {
      "cell_type": "code",
      "execution_count": null,
      "metadata": {
        "cellView": "form",
        "execution": {},
        "id": "IVHNdvQHkx2O"
      },
      "outputs": [],
      "source": [
        "# @title Submit your feedback\n",
        "content_review(f\"{feedback_prefix}_Welcome_and_History_Video\")"
      ]
    },
    {
      "cell_type": "code",
      "execution_count": null,
      "metadata": {
        "cellView": "form",
        "execution": {},
        "id": "9c0b-Ouokx2O"
      },
      "outputs": [],
      "source": [
        "# @title Video 2: Why DL is cool\n",
        "from ipywidgets import widgets\n",
        "from IPython.display import YouTubeVideo\n",
        "from IPython.display import IFrame\n",
        "from IPython.display import display\n",
        "\n",
        "\n",
        "class PlayVideo(IFrame):\n",
        "  def __init__(self, id, source, page=1, width=400, height=300, **kwargs):\n",
        "    self.id = id\n",
        "    if source == 'Bilibili':\n",
        "      src = f'https://player.bilibili.com/player.html?bvid={id}&page={page}'\n",
        "    elif source == 'Osf':\n",
        "      src = f'https://mfr.ca-1.osf.io/render?url=https://osf.io/download/{id}/?direct%26mode=render'\n",
        "    super(PlayVideo, self).__init__(src, width, height, **kwargs)\n",
        "\n",
        "\n",
        "def display_videos(video_ids, W=400, H=300, fs=1):\n",
        "  tab_contents = []\n",
        "  for i, video_id in enumerate(video_ids):\n",
        "    out = widgets.Output()\n",
        "    with out:\n",
        "      if video_ids[i][0] == 'Youtube':\n",
        "        video = YouTubeVideo(id=video_ids[i][1], width=W,\n",
        "                             height=H, fs=fs, rel=0)\n",
        "        print(f'Video available at https://youtube.com/watch?v={video.id}')\n",
        "      else:\n",
        "        video = PlayVideo(id=video_ids[i][1], source=video_ids[i][0], width=W,\n",
        "                          height=H, fs=fs, autoplay=False)\n",
        "        if video_ids[i][0] == 'Bilibili':\n",
        "          print(f'Video available at https://www.bilibili.com/video/{video.id}')\n",
        "        elif video_ids[i][0] == 'Osf':\n",
        "          print(f'Video available at https://osf.io/{video.id}')\n",
        "      display(video)\n",
        "    tab_contents.append(out)\n",
        "  return tab_contents\n",
        "\n",
        "\n",
        "video_ids = [('Youtube', 'l-K6495BN-4'), ('Bilibili', 'BV1gf4y1j7UZ')]\n",
        "tab_contents = display_videos(video_ids, W=854, H=480)\n",
        "tabs = widgets.Tab()\n",
        "tabs.children = tab_contents\n",
        "for i in range(len(tab_contents)):\n",
        "  tabs.set_title(i, video_ids[i][0])\n",
        "display(tabs)"
      ]
    },
    {
      "cell_type": "markdown",
      "metadata": {
        "execution": {},
        "id": "5W__6_nBkx2O"
      },
      "source": [
        "**Discuss with your pod: What do you hope to get out of this course? [in about 100 words]**"
      ]
    },
    {
      "cell_type": "code",
      "execution_count": null,
      "metadata": {
        "cellView": "form",
        "execution": {},
        "id": "YZ0SFCUykx2P"
      },
      "outputs": [],
      "source": [
        "# @title Submit your feedback\n",
        "content_review(f\"{feedback_prefix}_Why_DL_is_cool_Video\")"
      ]
    },
    {
      "cell_type": "markdown",
      "metadata": {
        "execution": {},
        "id": "2AtCGf7lkx2P"
      },
      "source": [
        "---\n",
        "# Section 2: The Basics of PyTorch\n",
        "\n",
        "*Time estimate: ~2 hours 05 mins*"
      ]
    },
    {
      "cell_type": "markdown",
      "metadata": {
        "execution": {},
        "id": "-O2vKa-3kx2P"
      },
      "source": [
        "PyTorch is a Python-based scientific computing package targeted at two sets of\n",
        "audiences:\n",
        "\n",
        "-  A replacement for NumPy optimized for the power of GPUs\n",
        "-  A deep learning platform that provides significant flexibility\n",
        "   and speed\n",
        "\n",
        "At its core, PyTorch provides a few key features:\n",
        "\n",
        "- A multidimensional [Tensor](https://pytorch.org/docs/stable/tensors.html) object, similar to [NumPy Array](https://numpy.org/doc/stable/reference/generated/numpy.ndarray.html) but with GPU acceleration.\n",
        "- An optimized **autograd** engine for automatically computing derivatives.\n",
        "- A clean, modular API for building and deploying **deep learning models**.\n",
        "\n",
        "You can find more information about PyTorch in the Appendix."
      ]
    },
    {
      "cell_type": "markdown",
      "metadata": {
        "execution": {},
        "id": "Yh2QaKJxkx2P"
      },
      "source": [
        "## Section 2.1: Creating Tensors\n"
      ]
    },
    {
      "cell_type": "code",
      "execution_count": null,
      "metadata": {
        "cellView": "form",
        "execution": {},
        "id": "z045m26hkx2P"
      },
      "outputs": [],
      "source": [
        "# @title Video 3: Making Tensors\n",
        "from ipywidgets import widgets\n",
        "from IPython.display import YouTubeVideo\n",
        "from IPython.display import IFrame\n",
        "from IPython.display import display\n",
        "\n",
        "\n",
        "class PlayVideo(IFrame):\n",
        "  def __init__(self, id, source, page=1, width=400, height=300, **kwargs):\n",
        "    self.id = id\n",
        "    if source == 'Bilibili':\n",
        "      src = f'https://player.bilibili.com/player.html?bvid={id}&page={page}'\n",
        "    elif source == 'Osf':\n",
        "      src = f'https://mfr.ca-1.osf.io/render?url=https://osf.io/download/{id}/?direct%26mode=render'\n",
        "    super(PlayVideo, self).__init__(src, width, height, **kwargs)\n",
        "\n",
        "\n",
        "def display_videos(video_ids, W=400, H=300, fs=1):\n",
        "  tab_contents = []\n",
        "  for i, video_id in enumerate(video_ids):\n",
        "    out = widgets.Output()\n",
        "    with out:\n",
        "      if video_ids[i][0] == 'Youtube':\n",
        "        video = YouTubeVideo(id=video_ids[i][1], width=W,\n",
        "                             height=H, fs=fs, rel=0)\n",
        "        print(f'Video available at https://youtube.com/watch?v={video.id}')\n",
        "      else:\n",
        "        video = PlayVideo(id=video_ids[i][1], source=video_ids[i][0], width=W,\n",
        "                          height=H, fs=fs, autoplay=False)\n",
        "        if video_ids[i][0] == 'Bilibili':\n",
        "          print(f'Video available at https://www.bilibili.com/video/{video.id}')\n",
        "        elif video_ids[i][0] == 'Osf':\n",
        "          print(f'Video available at https://osf.io/{video.id}')\n",
        "      display(video)\n",
        "    tab_contents.append(out)\n",
        "  return tab_contents\n",
        "\n",
        "\n",
        "video_ids = [('Youtube', 'jGKd_4tPGrw'), ('Bilibili', 'BV1Rw411d7Uy')]\n",
        "tab_contents = display_videos(video_ids, W=854, H=480)\n",
        "tabs = widgets.Tab()\n",
        "tabs.children = tab_contents\n",
        "for i in range(len(tab_contents)):\n",
        "  tabs.set_title(i, video_ids[i][0])\n",
        "display(tabs)"
      ]
    },
    {
      "cell_type": "code",
      "execution_count": null,
      "metadata": {
        "cellView": "form",
        "execution": {},
        "id": "t7jbUB33kx2Q"
      },
      "outputs": [],
      "source": [
        "# @title Submit your feedback\n",
        "content_review(f\"{feedback_prefix}_Making_Tensors_Video\")"
      ]
    },
    {
      "cell_type": "markdown",
      "metadata": {
        "execution": {},
        "id": "lV6RsOoekx2Q"
      },
      "source": [
        "There are various ways of creating tensors, and when doing any real deep learning project, we will usually have to do so."
      ]
    },
    {
      "cell_type": "markdown",
      "metadata": {
        "execution": {},
        "id": "c4-048makx2Q"
      },
      "source": [
        "**Construct tensors directly:**\n",
        "\n",
        "---\n",
        "\n"
      ]
    },
    {
      "cell_type": "code",
      "execution_count": null,
      "metadata": {
        "execution": {},
        "id": "4OCLpnv3kx2Q"
      },
      "outputs": [],
      "source": [
        "# We can construct a tensor directly from some common python iterables,\n",
        "# such as list and tuple nested iterables can also be handled as long as the\n",
        "# dimensions are compatible\n",
        "\n",
        "# tensor from a list\n",
        "a = torch.tensor([0, 1, 2])\n",
        "\n",
        "#tensor from a tuple of tuples\n",
        "b = ((1.0, 1.1), (1.2, 1.3))\n",
        "b = torch.tensor(b)\n",
        "\n",
        "# tensor from a numpy array\n",
        "c = np.ones([2, 3])\n",
        "c = torch.tensor(c)\n",
        "\n",
        "print(f\"Tensor a: {a}\")\n",
        "print(f\"Tensor b: {b}\")\n",
        "print(f\"Tensor c: {c}\")"
      ]
    },
    {
      "cell_type": "markdown",
      "metadata": {
        "execution": {},
        "id": "GH9GfYD4kx2Q"
      },
      "source": [
        "**Some common tensor constructors:**\n",
        "\n",
        "---"
      ]
    },
    {
      "cell_type": "code",
      "execution_count": null,
      "metadata": {
        "execution": {},
        "id": "cL9Z-38wkx2Q"
      },
      "outputs": [],
      "source": [
        "# The numerical arguments we pass to these constructors\n",
        "# determine the shape of the output tensor\n",
        "\n",
        "x = torch.ones(5, 3)\n",
        "y = torch.zeros(2)\n",
        "z = torch.empty(1, 1, 5)\n",
        "print(f\"Tensor x: {x}\")\n",
        "print(f\"Tensor y: {y}\")\n",
        "print(f\"Tensor z: {z}\")"
      ]
    },
    {
      "cell_type": "markdown",
      "metadata": {
        "execution": {},
        "id": "0eb2O3xikx2R"
      },
      "source": [
        "Notice that `.empty()` does not return zeros, but seemingly random numbers. Unlike `.zeros()`, which initialises the elements of the tensor with zeros, `.empty()` just allocates the memory. It is hence a bit faster if you are looking to just create a tensor."
      ]
    },
    {
      "cell_type": "markdown",
      "metadata": {
        "execution": {},
        "id": "DXNY-TDRkx2R"
      },
      "source": [
        "**Creating random tensors and tensors like other tensors:**\n",
        "\n",
        "---"
      ]
    },
    {
      "cell_type": "code",
      "execution_count": null,
      "metadata": {
        "execution": {},
        "id": "dEm1Gjphkx2R"
      },
      "outputs": [],
      "source": [
        "# There are also constructors for random numbers\n",
        "\n",
        "# Uniform distribution\n",
        "a = torch.rand(1, 3)\n",
        "\n",
        "# Normal distribution\n",
        "b = torch.randn(3, 4)\n",
        "\n",
        "# There are also constructors that allow us to construct\n",
        "# a tensor according to the above constructors, but with\n",
        "# dimensions equal to another tensor.\n",
        "\n",
        "c = torch.zeros_like(a)\n",
        "d = torch.rand_like(c)\n",
        "\n",
        "print(f\"Tensor a: {a}\")\n",
        "print(f\"Tensor b: {b}\")\n",
        "print(f\"Tensor c: {c}\")\n",
        "print(f\"Tensor d: {d}\")"
      ]
    },
    {
      "cell_type": "markdown",
      "metadata": {
        "execution": {},
        "id": "G8oTv2hnkx2R"
      },
      "source": [
        "*Reproducibility*:\n",
        "\n",
        "- PyTorch Random Number Generator (RNG): You can use `torch.manual_seed()` to seed the RNG for all devices (both CPU and GPU):\n",
        "\n",
        "```python\n",
        "import torch\n",
        "torch.manual_seed(0)\n",
        "```\n",
        "- For custom operators, you might need to set python seed as well:\n",
        "\n",
        "```python\n",
        "import random\n",
        "random.seed(0)\n",
        "```\n",
        "\n",
        "- Random number generators in other libraries (e.g., NumPy):\n",
        "\n",
        "```python\n",
        "import numpy as np\n",
        "np.random.seed(0)\n",
        "```"
      ]
    },
    {
      "cell_type": "markdown",
      "metadata": {
        "execution": {},
        "id": "2B-FF0ngkx2R"
      },
      "source": [
        "Here, we define for you a function called `set_seed` that does the job for you!"
      ]
    },
    {
      "cell_type": "code",
      "execution_count": null,
      "metadata": {
        "execution": {},
        "id": "7k80JJxxkx2R"
      },
      "outputs": [],
      "source": [
        "def set_seed(seed=None, seed_torch=True):\n",
        "  \"\"\"\n",
        "  Function that controls randomness. NumPy and random modules must be imported.\n",
        "\n",
        "  Args:\n",
        "    seed : Integer\n",
        "      A non-negative integer that defines the random state. Default is `None`.\n",
        "    seed_torch : Boolean\n",
        "      If `True` sets the random seed for pytorch tensors, so pytorch module\n",
        "      must be imported. Default is `True`.\n",
        "\n",
        "  Returns:\n",
        "    Nothing.\n",
        "  \"\"\"\n",
        "  if seed is None:\n",
        "    seed = np.random.choice(2 ** 32)\n",
        "  random.seed(seed)\n",
        "  np.random.seed(seed)\n",
        "  if seed_torch:\n",
        "    torch.manual_seed(seed)\n",
        "    torch.cuda.manual_seed_all(seed)\n",
        "    torch.cuda.manual_seed(seed)\n",
        "    torch.backends.cudnn.benchmark = False\n",
        "    torch.backends.cudnn.deterministic = True\n",
        "\n",
        "  print(f'Random seed {seed} has been set.')"
      ]
    },
    {
      "cell_type": "markdown",
      "metadata": {
        "execution": {},
        "id": "F83ANEHxkx2R"
      },
      "source": [
        "Now, let's use the `set_seed` function in the previous example. Execute the cell multiple times to verify that the numbers printed are always the same."
      ]
    },
    {
      "cell_type": "code",
      "execution_count": null,
      "metadata": {
        "execution": {},
        "id": "1MJlKrBJkx2S"
      },
      "outputs": [],
      "source": [
        "def simplefun(seed=True, my_seed=None):\n",
        "  \"\"\"\n",
        "  Helper function to verify effectiveness of set_seed attribute\n",
        "\n",
        "  Args:\n",
        "    seed: Boolean\n",
        "      Specifies if seed value is provided or not\n",
        "    my_seed: Integer\n",
        "      Initializes seed to specified value\n",
        "\n",
        "  Returns:\n",
        "    Nothing\n",
        "  \"\"\"\n",
        "  if seed:\n",
        "    set_seed(seed=my_seed)\n",
        "\n",
        "  # uniform distribution\n",
        "  a = torch.rand(1, 3)\n",
        "  # normal distribution\n",
        "  b = torch.randn(3, 4)\n",
        "\n",
        "  print(\"Tensor a: \", a)\n",
        "  print(\"Tensor b: \", b)"
      ]
    },
    {
      "cell_type": "code",
      "execution_count": null,
      "metadata": {
        "execution": {},
        "id": "VbC5s1yAkx2S"
      },
      "outputs": [],
      "source": [
        "simplefun(seed=True, my_seed=0)  # Turn `seed` to `False` or change `my_seed`"
      ]
    },
    {
      "cell_type": "markdown",
      "metadata": {
        "execution": {},
        "id": "1gttLaXckx2S"
      },
      "source": [
        "**Numpy-like number ranges:**\n",
        "---\n",
        "The ```.arange()``` and ```.linspace()``` behave how you would expect them to if you are familar with numpy."
      ]
    },
    {
      "cell_type": "code",
      "execution_count": null,
      "metadata": {
        "execution": {},
        "id": "w1TEdGJ4kx2S"
      },
      "outputs": [],
      "source": [
        "a = torch.arange(0, 10, step=1)\n",
        "b = np.arange(0, 10, step=1)\n",
        "\n",
        "c = torch.linspace(0, 5, steps=11)\n",
        "d = np.linspace(0, 5, num=11)\n",
        "\n",
        "print(f\"Tensor a: {a}\\n\")\n",
        "print(f\"Numpy array b: {b}\\n\")\n",
        "print(f\"Tensor c: {c}\\n\")\n",
        "print(f\"Numpy array d: {d}\\n\")"
      ]
    },
    {
      "cell_type": "markdown",
      "metadata": {
        "execution": {},
        "id": "wvqEFyx3kx2Y"
      },
      "source": [
        "### Coding Exercise 2.1: Creating Tensors\n",
        "\n",
        "Below you will find some incomplete code. Fill in the missing code to construct the specified tensors.\n",
        "\n",
        "We want the tensors:\n",
        "\n",
        "$A:$ 20 by 21 tensor consisting of ones\n",
        "\n",
        "$B:$ a tensor with elements equal to the elements of numpy array $Z$\n",
        "\n",
        "$C:$ a tensor with the same number of elements as $A$ but with values $\n",
        "\\sim \\mathcal{U}(0,1)^\\dagger$\n",
        "\n",
        "$D:$ a 1D tensor containing the even numbers between 4 and 40 inclusive.\n",
        "\n",
        "<br>\n",
        "\n",
        "$^\\dagger$: $\\mathcal{U(\\alpha, \\beta)}$ denotes the [uniform distribution](https://en.wikipedia.org/wiki/Continuous_uniform_distribution) from $\\alpha$ to $\\beta$, with $\\alpha, \\beta \\in \\mathbb{R}$.\n"
      ]
    },
    {
      "cell_type": "code",
      "execution_count": null,
      "metadata": {
        "execution": {},
        "id": "wbds_sgQkx2Y"
      },
      "outputs": [],
      "source": [
        "def tensor_creation(Z):\n",
        "  \"\"\"\n",
        "  A function that creates various tensors.\n",
        "\n",
        "  Args:\n",
        "    Z: numpy.ndarray\n",
        "      An array of shape (3,4)\n",
        "\n",
        "  Returns:\n",
        "    A : Tensor\n",
        "      20 by 21 tensor consisting of ones\n",
        "    B : Tensor\n",
        "      A tensor with elements equal to the elements of numpy array Z\n",
        "    C : Tensor\n",
        "      A tensor with the same number of elements as A but with values ∼U(0,1)\n",
        "    D : Tensor\n",
        "      A 1D tensor containing the even numbers between 4 and 40 inclusive.\n",
        "  \"\"\"\n",
        "  #################################################\n",
        "  ## TODO for students: fill in the missing code\n",
        "  ## from the first expression\n",
        "  raise NotImplementedError(\"Student exercise: say what they should have done\")\n",
        "  #################################################\n",
        "  A = ...\n",
        "  B = ...\n",
        "  C = ...\n",
        "  D = ...\n",
        "\n",
        "  return A, B, C, D\n",
        "\n",
        "\n",
        "# numpy array to copy later\n",
        "Z = np.vander([1, 2, 3], 4)\n",
        "\n",
        "# Uncomment below to check your function!\n",
        "# A, B, C, D = tensor_creation(Z)\n",
        "# checkExercise1(A, B, C, D)"
      ]
    },
    {
      "cell_type": "markdown",
      "metadata": {
        "execution": {},
        "id": "zPuSPdGVkx2Z"
      },
      "source": [
        "[*Click for solution*](https://github.com/NeuromatchAcademy/course-content-dl/tree/main/tutorials/W1D1_BasicsAndPytorch/solutions/W1D1_Tutorial1_Solution_7137e978.py)\n",
        "\n"
      ]
    },
    {
      "cell_type": "markdown",
      "metadata": {
        "execution": {},
        "id": "NNEq1h-1kx2Z"
      },
      "source": [
        "```\n",
        "All correct!\n",
        "```"
      ]
    },
    {
      "cell_type": "code",
      "execution_count": null,
      "metadata": {
        "cellView": "form",
        "execution": {},
        "id": "OZpCQUcJkx2Z"
      },
      "outputs": [],
      "source": [
        "# @title Submit your feedback\n",
        "content_review(f\"{feedback_prefix}_Creating_Tensors_Exercise\")"
      ]
    },
    {
      "cell_type": "markdown",
      "metadata": {
        "execution": {},
        "id": "pACUyjLUkx2a"
      },
      "source": [
        "## Section 2.2: Operations in PyTorch\n",
        "\n",
        "**Tensor-Tensor operations**\n",
        "\n",
        "We can perform operations on tensors using methods under `torch.`"
      ]
    },
    {
      "cell_type": "code",
      "execution_count": null,
      "metadata": {
        "cellView": "form",
        "execution": {},
        "id": "vXCxFNe2kx2a"
      },
      "outputs": [],
      "source": [
        "# @title Video 4: Tensor Operators\n",
        "from ipywidgets import widgets\n",
        "from IPython.display import YouTubeVideo\n",
        "from IPython.display import IFrame\n",
        "from IPython.display import display\n",
        "\n",
        "\n",
        "class PlayVideo(IFrame):\n",
        "  def __init__(self, id, source, page=1, width=400, height=300, **kwargs):\n",
        "    self.id = id\n",
        "    if source == 'Bilibili':\n",
        "      src = f'https://player.bilibili.com/player.html?bvid={id}&page={page}'\n",
        "    elif source == 'Osf':\n",
        "      src = f'https://mfr.ca-1.osf.io/render?url=https://osf.io/download/{id}/?direct%26mode=render'\n",
        "    super(PlayVideo, self).__init__(src, width, height, **kwargs)\n",
        "\n",
        "\n",
        "def display_videos(video_ids, W=400, H=300, fs=1):\n",
        "  tab_contents = []\n",
        "  for i, video_id in enumerate(video_ids):\n",
        "    out = widgets.Output()\n",
        "    with out:\n",
        "      if video_ids[i][0] == 'Youtube':\n",
        "        video = YouTubeVideo(id=video_ids[i][1], width=W,\n",
        "                             height=H, fs=fs, rel=0)\n",
        "        print(f'Video available at https://youtube.com/watch?v={video.id}')\n",
        "      else:\n",
        "        video = PlayVideo(id=video_ids[i][1], source=video_ids[i][0], width=W,\n",
        "                          height=H, fs=fs, autoplay=False)\n",
        "        if video_ids[i][0] == 'Bilibili':\n",
        "          print(f'Video available at https://www.bilibili.com/video/{video.id}')\n",
        "        elif video_ids[i][0] == 'Osf':\n",
        "          print(f'Video available at https://osf.io/{video.id}')\n",
        "      display(video)\n",
        "    tab_contents.append(out)\n",
        "  return tab_contents\n",
        "\n",
        "\n",
        "video_ids = [('Youtube', 'R1R8VoYXBVA'), ('Bilibili', 'BV1G44y127As')]\n",
        "tab_contents = display_videos(video_ids, W=854, H=480)\n",
        "tabs = widgets.Tab()\n",
        "tabs.children = tab_contents\n",
        "for i in range(len(tab_contents)):\n",
        "  tabs.set_title(i, video_ids[i][0])\n",
        "display(tabs)"
      ]
    },
    {
      "cell_type": "code",
      "execution_count": null,
      "metadata": {
        "cellView": "form",
        "execution": {},
        "id": "lPhxbtg-kx2a"
      },
      "outputs": [],
      "source": [
        "# @title Submit your feedback\n",
        "content_review(f\"{feedback_prefix}_Tensors_Operators_Video\")"
      ]
    },
    {
      "cell_type": "markdown",
      "metadata": {
        "execution": {},
        "id": "VYd6bQORkx2a"
      },
      "source": [
        "**Tensor-Tensor operations**\n",
        "\n",
        "We can perform operations on tensors using methods under `torch.`."
      ]
    },
    {
      "cell_type": "code",
      "execution_count": null,
      "metadata": {
        "execution": {},
        "id": "5Uf_9ffXkx2a"
      },
      "outputs": [],
      "source": [
        "a = torch.ones(5, 3)\n",
        "b = torch.rand(5, 3)\n",
        "c = torch.empty(5, 3)\n",
        "d = torch.empty(5, 3)\n",
        "\n",
        "# this only works if c and d already exist\n",
        "torch.add(a, b, out=c)\n",
        "\n",
        "# Pointwise Multiplication of a and b\n",
        "torch.multiply(a, b, out=d)\n",
        "\n",
        "print(c)\n",
        "print(d)"
      ]
    },
    {
      "cell_type": "markdown",
      "metadata": {
        "execution": {},
        "id": "iJr0dIezkx2b"
      },
      "source": [
        "However, in PyTorch, most common Python operators are overridden.\n",
        "The common standard arithmetic operators ($+$, $-$, $*$, $/$, and $**$) have all been lifted to elementwise operations"
      ]
    },
    {
      "cell_type": "code",
      "execution_count": null,
      "metadata": {
        "execution": {},
        "id": "8enM9S1Zkx2b"
      },
      "outputs": [],
      "source": [
        "x = torch.tensor([1, 2, 4, 8])\n",
        "y = torch.tensor([1, 2, 3, 4])\n",
        "x + y, x - y, x * y, x / y, x**y  # The `**` is the exponentiation operator"
      ]
    },
    {
      "cell_type": "markdown",
      "metadata": {
        "execution": {},
        "id": "WqjMj_H-kx2b"
      },
      "source": [
        "**Tensor Methods**"
      ]
    },
    {
      "cell_type": "markdown",
      "metadata": {
        "execution": {},
        "id": "eRXuB1rfkx2b"
      },
      "source": [
        "Tensors also have a number of common arithmetic operations built in. A full list of **all** methods can be found  in the appendix (there are a lot!)\n",
        "\n",
        "All of these operations should have similar syntax to their numpy equivalents (feel free to skip if you already know this!)."
      ]
    },
    {
      "cell_type": "code",
      "execution_count": null,
      "metadata": {
        "execution": {},
        "id": "ru76imFIkx2b"
      },
      "outputs": [],
      "source": [
        "x = torch.rand(3, 3)\n",
        "print(x)\n",
        "print(\"\\n\")\n",
        "# sum() - note the axis is the axis you move across when summing\n",
        "print(f\"Sum of every element of x: {x.sum()}\")\n",
        "print(f\"Sum of the columns of x: {x.sum(axis=0)}\")\n",
        "print(f\"Sum of the rows of x: {x.sum(axis=1)}\")\n",
        "print(\"\\n\")\n",
        "\n",
        "print(f\"Mean value of all elements of x {x.mean()}\")\n",
        "print(f\"Mean values of the columns of x {x.mean(axis=0)}\")\n",
        "print(f\"Mean values of the rows of x {x.mean(axis=1)}\")"
      ]
    },
    {
      "cell_type": "markdown",
      "metadata": {
        "execution": {},
        "id": "5rM6Oicdkx2b"
      },
      "source": [
        "**Matrix Operations**\n",
        "\n",
        "The `@` symbol is overridden to represent matrix multiplication. You can also use `torch.matmul()` to multiply tensors. For dot multiplication, you can use `torch.dot()`, or manipulate the axes of your tensors and do matrix multiplication (we will cover that in the next section).\n",
        "\n",
        "Transposes of 2D tensors are obtained using `torch.t()` or `Tensor.T`. Note the lack of brackets for `Tensor.T` - it is an attribute, not a method.\n",
        "\n"
      ]
    },
    {
      "cell_type": "markdown",
      "metadata": {
        "execution": {},
        "id": "WEy5V94Jkx2c"
      },
      "source": [
        "### Coding Exercise 2.2 : Simple tensor operations\n",
        "\n",
        "Below are two expressions involving operations on matrices.\n",
        "\n",
        "\\begin{equation}\n",
        "\\textbf{A} =\n",
        "\\begin{bmatrix}2 &4 \\\\5 & 7\n",
        "\\end{bmatrix}\n",
        "\\begin{bmatrix} 1 &1 \\\\2 & 3\n",
        "\\end{bmatrix}\n",
        "+\n",
        "\\begin{bmatrix}10 & 10  \\\\ 12 & 1\n",
        "\\end{bmatrix}\n",
        "\\end{equation}\n",
        "\n",
        "\n",
        "and\n",
        "\n",
        "\n",
        "\\begin{equation}\n",
        "b =\n",
        "\\begin{bmatrix} 3 \\\\ 5 \\\\ 7\n",
        "\\end{bmatrix} \\cdot\n",
        "\\begin{bmatrix} 2 \\\\ 4 \\\\ 8\n",
        "\\end{bmatrix}\n",
        "\\end{equation}\n",
        "\n",
        "The code block below that computes these expressions using PyTorch is incomplete - fill in the missing lines."
      ]
    },
    {
      "cell_type": "code",
      "execution_count": null,
      "metadata": {
        "execution": {},
        "id": "hFm_ESITkx2c"
      },
      "outputs": [],
      "source": [
        "def simple_operations(a1: torch.Tensor, a2: torch.Tensor, a3: torch.Tensor):\n",
        "  \"\"\"\n",
        "  Helper function to demonstrate simple operations\n",
        "  i.e., Multiplication of tensor a1 with tensor a2 and then add it with tensor a3\n",
        "\n",
        "  Args:\n",
        "    a1: Torch tensor\n",
        "      Tensor of size ([2,2])\n",
        "    a2: Torch tensor\n",
        "      Tensor of size ([2,2])\n",
        "    a3: Torch tensor\n",
        "      Tensor of size ([2,2])\n",
        "\n",
        "  Returns:\n",
        "    answer: Torch tensor\n",
        "      Tensor of size ([2,2]) resulting from a1 multiplied with a2, added with a3\n",
        "  \"\"\"\n",
        "  ################################################\n",
        "  ## TODO for students:  complete the first computation using the argument matricies\n",
        "  raise NotImplementedError(\"Student exercise: fill in the missing code to complete the operation\")\n",
        "  ################################################\n",
        "  #\n",
        "  answer = ...\n",
        "  return answer\n",
        "\n",
        "\n",
        "# Computing expression 1:\n",
        "\n",
        "# init our tensors\n",
        "a1 = torch.tensor([[2, 4], [5, 7]])\n",
        "a2 = torch.tensor([[1, 1], [2, 3]])\n",
        "a3 = torch.tensor([[10, 10], [12, 1]])\n",
        "## uncomment to test your function\n",
        "# A = simple_operations(a1, a2, a3)\n",
        "# print(A)"
      ]
    },
    {
      "cell_type": "markdown",
      "metadata": {
        "execution": {},
        "id": "f1EHqs53kx2c"
      },
      "source": [
        "[*Click for solution*](https://github.com/NeuromatchAcademy/course-content-dl/tree/main/tutorials/W1D1_BasicsAndPytorch/solutions/W1D1_Tutorial1_Solution_10c96625.py)\n",
        "\n"
      ]
    },
    {
      "cell_type": "markdown",
      "metadata": {
        "execution": {},
        "id": "NtZwiw-Jkx2c"
      },
      "source": [
        "```\n",
        "tensor([[20, 24],\n",
        "        [31, 27]])\n",
        "```"
      ]
    },
    {
      "cell_type": "code",
      "execution_count": null,
      "metadata": {
        "execution": {},
        "id": "DhVJDGYlkx2c"
      },
      "outputs": [],
      "source": [
        "def dot_product(b1: torch.Tensor, b2: torch.Tensor):\n",
        "  ###############################################\n",
        "  ## TODO for students:  complete the first computation using the argument matricies\n",
        "  raise NotImplementedError(\"Student exercise: fill in the missing code to complete the operation\")\n",
        "  ###############################################\n",
        "  \"\"\"\n",
        "  Helper function to demonstrate dot product operation\n",
        "  Dot product is an algebraic operation that takes two equal-length sequences\n",
        "  (usually coordinate vectors), and returns a single number.\n",
        "  Geometrically, it is the product of the Euclidean magnitudes of the\n",
        "  two vectors and the cosine of the angle between them.\n",
        "\n",
        "  Args:\n",
        "    b1: Torch tensor\n",
        "      Tensor of size ([3])\n",
        "    b2: Torch tensor\n",
        "      Tensor of size ([3])\n",
        "\n",
        "  Returns:\n",
        "    product: Tensor\n",
        "      Tensor of size ([1]) resulting from b1 scalar multiplied with b2\n",
        "  \"\"\"\n",
        "  # Use torch.dot() to compute the dot product of two tensors\n",
        "  product = ...\n",
        "  return product\n",
        "\n",
        "\n",
        "# Computing expression 2:\n",
        "b1 = torch.tensor([3, 5, 7])\n",
        "b2 = torch.tensor([2, 4, 8])\n",
        "## Uncomment to test your function\n",
        "# b = dot_product(b1, b2)\n",
        "# print(b)"
      ]
    },
    {
      "cell_type": "markdown",
      "metadata": {
        "execution": {},
        "id": "Ts4Z7i8Hkx2d"
      },
      "source": [
        "[*Click for solution*](https://github.com/NeuromatchAcademy/course-content-dl/tree/main/tutorials/W1D1_BasicsAndPytorch/solutions/W1D1_Tutorial1_Solution_84663577.py)\n",
        "\n"
      ]
    },
    {
      "cell_type": "markdown",
      "metadata": {
        "execution": {},
        "id": "gwXGZmmskx2d"
      },
      "source": [
        "```\n",
        "tensor(82)\n",
        "```"
      ]
    },
    {
      "cell_type": "code",
      "execution_count": null,
      "metadata": {
        "cellView": "form",
        "execution": {},
        "id": "m7GyTMu2kx2d"
      },
      "outputs": [],
      "source": [
        "# @title Submit your feedback\n",
        "content_review(f\"{feedback_prefix}_Simple_Tensor_Operations_Exercise\")"
      ]
    },
    {
      "cell_type": "markdown",
      "metadata": {
        "execution": {},
        "id": "mn2iXM2ikx2d"
      },
      "source": [
        "## Section 2.3 Manipulating Tensors in Pytorch"
      ]
    },
    {
      "cell_type": "code",
      "execution_count": null,
      "metadata": {
        "cellView": "form",
        "execution": {},
        "id": "bDQS7gFJkx2d"
      },
      "outputs": [],
      "source": [
        "# @title Video 5: Tensor Indexing\n",
        "from ipywidgets import widgets\n",
        "from IPython.display import YouTubeVideo\n",
        "from IPython.display import IFrame\n",
        "from IPython.display import display\n",
        "\n",
        "\n",
        "class PlayVideo(IFrame):\n",
        "  def __init__(self, id, source, page=1, width=400, height=300, **kwargs):\n",
        "    self.id = id\n",
        "    if source == 'Bilibili':\n",
        "      src = f'https://player.bilibili.com/player.html?bvid={id}&page={page}'\n",
        "    elif source == 'Osf':\n",
        "      src = f'https://mfr.ca-1.osf.io/render?url=https://osf.io/download/{id}/?direct%26mode=render'\n",
        "    super(PlayVideo, self).__init__(src, width, height, **kwargs)\n",
        "\n",
        "\n",
        "def display_videos(video_ids, W=400, H=300, fs=1):\n",
        "  tab_contents = []\n",
        "  for i, video_id in enumerate(video_ids):\n",
        "    out = widgets.Output()\n",
        "    with out:\n",
        "      if video_ids[i][0] == 'Youtube':\n",
        "        video = YouTubeVideo(id=video_ids[i][1], width=W,\n",
        "                             height=H, fs=fs, rel=0)\n",
        "        print(f'Video available at https://youtube.com/watch?v={video.id}')\n",
        "      else:\n",
        "        video = PlayVideo(id=video_ids[i][1], source=video_ids[i][0], width=W,\n",
        "                          height=H, fs=fs, autoplay=False)\n",
        "        if video_ids[i][0] == 'Bilibili':\n",
        "          print(f'Video available at https://www.bilibili.com/video/{video.id}')\n",
        "        elif video_ids[i][0] == 'Osf':\n",
        "          print(f'Video available at https://osf.io/{video.id}')\n",
        "      display(video)\n",
        "    tab_contents.append(out)\n",
        "  return tab_contents\n",
        "\n",
        "\n",
        "video_ids = [('Youtube', '0d0KSJ3lJbg'), ('Bilibili', 'BV1BM4y1K7pD')]\n",
        "tab_contents = display_videos(video_ids, W=854, H=480)\n",
        "tabs = widgets.Tab()\n",
        "tabs.children = tab_contents\n",
        "for i in range(len(tab_contents)):\n",
        "  tabs.set_title(i, video_ids[i][0])\n",
        "display(tabs)"
      ]
    },
    {
      "cell_type": "code",
      "execution_count": null,
      "metadata": {
        "cellView": "form",
        "execution": {},
        "id": "1brE5UFVkx2e"
      },
      "outputs": [],
      "source": [
        "# @title Submit your feedback\n",
        "content_review(f\"{feedback_prefix}_Manipulating_Tensors_Video\")"
      ]
    },
    {
      "cell_type": "markdown",
      "metadata": {
        "execution": {},
        "id": "XKfldIIokx2e"
      },
      "source": [
        "**Indexing**\n",
        "\n",
        "Just as in numpy, elements in a tensor can be accessed by index. As in any numpy array, the first element has index 0 and ranges are specified to include the first to last_element-1. We can access elements according to their relative position to the end of the list by using negative indices. Indexing is also referred to as slicing.\n",
        "\n",
        "For example, `[-1]` selects the last element; `[1:3]` selects the second and the third elements, and `[:-2]` will select all elements excluding the last and second-to-last elements."
      ]
    },
    {
      "cell_type": "code",
      "execution_count": null,
      "metadata": {
        "execution": {},
        "id": "NK9xDwB3kx2e"
      },
      "outputs": [],
      "source": [
        "x = torch.arange(0, 10)\n",
        "print(x)\n",
        "print(x[-1])\n",
        "print(x[1:3])\n",
        "print(x[:-2])"
      ]
    },
    {
      "cell_type": "markdown",
      "metadata": {
        "execution": {},
        "id": "-7MPzaEVkx2e"
      },
      "source": [
        "When we have multidimensional tensors, indexing rules work the same way as NumPy."
      ]
    },
    {
      "cell_type": "code",
      "execution_count": null,
      "metadata": {
        "execution": {},
        "id": "dedg7yPZkx2e"
      },
      "outputs": [],
      "source": [
        "# make a 5D tensor\n",
        "x = torch.rand(1, 2, 3, 4, 5)\n",
        "\n",
        "print(f\" shape of x[0]:{x[0].shape}\")\n",
        "print(f\" shape of x[0][0]:{x[0][0].shape}\")\n",
        "print(f\" shape of x[0][0][0]:{x[0][0][0].shape}\")"
      ]
    },
    {
      "cell_type": "markdown",
      "metadata": {
        "execution": {},
        "id": "CMoJdTiGkx2f"
      },
      "source": [
        "**Flatten and reshape**\n",
        "\n",
        "There are various methods for reshaping tensors. It is common to have to express 2D data in 1D format. Similarly, it is also common to have to reshape a 1D tensor into a 2D tensor. We can achieve this with the `.flatten()` and `.reshape()` methods."
      ]
    },
    {
      "cell_type": "code",
      "execution_count": null,
      "metadata": {
        "execution": {},
        "id": "cSmvD8F1kx2f"
      },
      "outputs": [],
      "source": [
        "z = torch.arange(12).reshape(6, 2)\n",
        "print(f\"Original z: \\n {z}\")\n",
        "\n",
        "# 2D -> 1D\n",
        "z = z.flatten()\n",
        "print(f\"Flattened z: \\n {z}\")\n",
        "\n",
        "# and back to 2D\n",
        "z = z.reshape(3, 4)\n",
        "print(f\"Reshaped (3x4) z: \\n {z}\")"
      ]
    },
    {
      "cell_type": "markdown",
      "metadata": {
        "execution": {},
        "id": "HS3NnQ4_kx2f"
      },
      "source": [
        "You will also see the `.view()` methods used a lot to reshape tensors. There is a subtle difference between `.view()` and `.reshape()`, though for now we will just use `.reshape()`. The documentation can be found in the Appendix."
      ]
    },
    {
      "cell_type": "markdown",
      "metadata": {
        "execution": {},
        "id": "-pmZnAe0kx2f"
      },
      "source": [
        "**Squeezing tensors**\n",
        "\n",
        "When processing batches of data, you will quite often be left with singleton dimensions. E.g., `[1,10]` or `[256, 1, 3]`. This dimension can quite easily mess up your matrix operations if you don't plan on it being there...\n",
        "\n",
        "In order to compress tensors along their singleton dimensions we can use the `.squeeze()` method. We can use the `.unsqueeze()` method to do the opposite."
      ]
    },
    {
      "cell_type": "code",
      "execution_count": null,
      "metadata": {
        "execution": {},
        "id": "UicftznUkx2f"
      },
      "outputs": [],
      "source": [
        "x = torch.randn(1, 10)\n",
        "# printing the zeroth element of the tensor will not give us the first number!\n",
        "\n",
        "print(x.shape)\n",
        "print(f\"x[0]: {x[0]}\")"
      ]
    },
    {
      "cell_type": "markdown",
      "metadata": {
        "execution": {},
        "id": "Qpk9sY9Qkx2f"
      },
      "source": [
        "Because of that pesky singleton dimension, `x[0]` gave us the first row instead!"
      ]
    },
    {
      "cell_type": "code",
      "execution_count": null,
      "metadata": {
        "execution": {},
        "id": "iMTxloq9kx2g"
      },
      "outputs": [],
      "source": [
        "# Let's get rid of that singleton dimension and see what happens now\n",
        "x = x.squeeze(0)\n",
        "print(x.shape)\n",
        "print(f\"x[0]: {x[0]}\")"
      ]
    },
    {
      "cell_type": "code",
      "execution_count": null,
      "metadata": {
        "execution": {},
        "id": "bCIyHEOvkx2g"
      },
      "outputs": [],
      "source": [
        "# Adding singleton dimensions works a similar way, and is often used when tensors\n",
        "# being added need same number of dimensions\n",
        "\n",
        "y = torch.randn(5, 5)\n",
        "print(f\"Shape of y: {y.shape}\")\n",
        "\n",
        "# lets insert a singleton dimension\n",
        "y = y.unsqueeze(1)\n",
        "print(f\"Shape of y: {y.shape}\")"
      ]
    },
    {
      "cell_type": "markdown",
      "metadata": {
        "execution": {},
        "id": "4qcLT4Gpkx2g"
      },
      "source": [
        "**Permutation**\n",
        "\n",
        "Sometimes our dimensions will be in the wrong order! For example, we may be dealing with RGB images with dim $[3\\times48\\times64]$, but our pipeline expects the colour dimension to be the last dimension, i.e., $[48\\times64\\times3]$. To get around this we can use the `.permute()` method."
      ]
    },
    {
      "cell_type": "code",
      "execution_count": null,
      "metadata": {
        "execution": {},
        "id": "hhjClFsYkx2g"
      },
      "outputs": [],
      "source": [
        "# `x` has dimensions [color,image_height,image_width]\n",
        "x = torch.rand(3, 48, 64)\n",
        "\n",
        "# We want to permute our tensor to be [ image_height , image_width , color ]\n",
        "x = x.permute(1, 2, 0)\n",
        "# permute(1,2,0) means:\n",
        "# The 0th dim of my new tensor = the 1st dim of my old tensor\n",
        "# The 1st dim of my new tensor = the 2nd\n",
        "# The 2nd dim of my new tensor = the 0th\n",
        "print(x.shape)"
      ]
    },
    {
      "cell_type": "markdown",
      "metadata": {
        "execution": {},
        "id": "KC6oy-njkx2g"
      },
      "source": [
        "You may also see `.transpose()` used. This works in a similar way as permute, but can only swap two dimensions at once."
      ]
    },
    {
      "cell_type": "markdown",
      "metadata": {
        "execution": {},
        "id": "-8fw7zlNkx2g"
      },
      "source": [
        "**Concatenation**"
      ]
    },
    {
      "cell_type": "markdown",
      "metadata": {
        "execution": {},
        "id": "zl6kSQbtkx2h"
      },
      "source": [
        "In this example, we concatenate two matrices along rows (axis 0, the first element of the shape) vs. columns (axis 1, the second element of the shape). We can see that the first output tensor’s axis-0 length (`6`) is the sum of the two input tensors’ axis-0 lengths (`3+3`); while the second output tensor’s axis-1 length (`8`) is the sum of the two input tensors’ axis-1 lengths (`4+4`)."
      ]
    },
    {
      "cell_type": "code",
      "execution_count": null,
      "metadata": {
        "execution": {},
        "id": "WU1aQNXukx2h"
      },
      "outputs": [],
      "source": [
        "# Create two tensors of the same shape\n",
        "x = torch.arange(12, dtype=torch.float32).reshape((3, 4))\n",
        "y = torch.tensor([[2.0, 1, 4, 3], [1, 2, 3, 4], [4, 3, 2, 1]])\n",
        "\n",
        "# Concatenate along rows\n",
        "cat_rows = torch.cat((x, y), dim=0)\n",
        "\n",
        "# Concatenate along columns\n",
        "cat_cols = torch.cat((x, y), dim=1)\n",
        "\n",
        "# Printing outputs\n",
        "print('Concatenated by rows: shape{} \\n {}'.format(list(cat_rows.shape), cat_rows))\n",
        "print('\\n Concatenated by colums: shape{}  \\n {}'.format(list(cat_cols.shape), cat_cols))"
      ]
    },
    {
      "cell_type": "markdown",
      "metadata": {
        "execution": {},
        "id": "-sDup1sjkx2h"
      },
      "source": [
        "**Conversion to Other Python Objects**\n",
        "\n",
        "Converting a tensor to a numpy.ndarray, or vice versa, is easy, and the converted result does not share memory. This minor inconvenience is quite important: when you perform operations on the CPU or GPUs, you do not want to halt computation, waiting to see whether the NumPy package of Python might want to be doing something else with the same chunk of memory.\n",
        "\n",
        "When converting to a NumPy array, the information being tracked by the tensor will be lost, i.e., the computational graph. This will be covered in detail when you are introduced to autograd tomorrow!"
      ]
    },
    {
      "cell_type": "code",
      "execution_count": null,
      "metadata": {
        "execution": {},
        "id": "UTvtfvflkx2h"
      },
      "outputs": [],
      "source": [
        "x = torch.randn(5)\n",
        "print(f\"x: {x}  |  x type:  {x.type()}\")\n",
        "\n",
        "y = x.numpy()\n",
        "print(f\"y: {y}  |  y type:  {type(y)}\")\n",
        "\n",
        "z = torch.tensor(y)\n",
        "print(f\"z: {z}  |  z type:  {z.type()}\")"
      ]
    },
    {
      "cell_type": "markdown",
      "metadata": {
        "execution": {},
        "id": "RutYYs6Fkx2h"
      },
      "source": [
        "To convert a size-1 tensor to a Python scalar, we can invoke the item function or Python’s built-in functions."
      ]
    },
    {
      "cell_type": "code",
      "execution_count": null,
      "metadata": {
        "execution": {},
        "id": "to2Phxqskx2i"
      },
      "outputs": [],
      "source": [
        "a = torch.tensor([3.5])\n",
        "a, a.item(), float(a), int(a)"
      ]
    },
    {
      "cell_type": "markdown",
      "metadata": {
        "execution": {},
        "id": "ek9lD7dtkx2i"
      },
      "source": [
        "### Coding Exercise 2.3: Manipulating Tensors\n",
        "Using a combination of the methods discussed above, complete the functions below."
      ]
    },
    {
      "cell_type": "markdown",
      "metadata": {
        "execution": {},
        "id": "PMY89Sm0kx2i"
      },
      "source": [
        "**Function A**\n",
        "\n",
        "This function takes in two 2D tensors $A$ and $B$ and returns the column sum of A multiplied by the sum of all the elmements of $B$, i.e., a scalar, e.g.,\n",
        "\n",
        "\\begin{equation}\n",
        "  \\text{If }\n",
        "  A = \\begin{bmatrix}\n",
        "  1 & 1 \\\\\n",
        "  1 & 1\n",
        "  \\end{bmatrix}\n",
        "  \\text{and }\n",
        "  B = \\begin{bmatrix}\n",
        "  1 & 2 & 3 \\\\\n",
        "  1 & 2 & 3\n",
        "  \\end{bmatrix}\n",
        "  \\text{ then }\n",
        "  Out =  \\begin{bmatrix}\n",
        "  2 & 2\n",
        "  \\end{bmatrix} \\cdot 12 = \\begin{bmatrix}\n",
        "  24 & 24\n",
        "  \\end{bmatrix}\n",
        "\\end{equation}\n",
        "\n",
        "**Function B**\n",
        "\n",
        "This function takes in a square matrix $C$ and returns a 2D tensor consisting of a flattened $C$ with the index of each element appended to this tensor in the row dimension, e.g.,\n",
        "\n",
        "\\begin{equation}\n",
        "  \\text{If }\n",
        "  C = \\begin{bmatrix}\n",
        "  2 & 3 \\\\\n",
        "  -1 & 10\n",
        "  \\end{bmatrix}\n",
        "  \\text{ then }\n",
        "  Out = \\begin{bmatrix}\n",
        "  0 & 2 \\\\\n",
        "  1 & 3 \\\\\n",
        "  2 & -1 \\\\\n",
        "  3 & 10\n",
        "  \\end{bmatrix}\n",
        "\\end{equation}\n",
        "\n",
        "**Hint:** Pay close attention to singleton dimensions.\n",
        "\n",
        "**Function C**\n",
        "\n",
        "This function takes in two 2D tensors $D$ and $E$. If the dimensions allow it, this function returns the elementwise sum of $D$-shaped $E$, and $D$; else this function returns a 1D tensor that is the concatenation of the two tensors, e.g.,\n",
        "\n",
        "\\begin{equation}\n",
        "  \\text{If }\n",
        "  D = \\begin{bmatrix}\n",
        "  1 & -1 \\\\\n",
        "  -1 & 3\n",
        "  \\end{bmatrix}\n",
        "  \\text{and }\n",
        "  E = \\begin{bmatrix}\n",
        "  2 & 3 & 0 & 2 \\\\\n",
        "  \\end{bmatrix}\n",
        "  \\text{ then }\n",
        "  Out = \\begin{bmatrix}\n",
        "  3 & 2 \\\\\n",
        "  -1 & 5\n",
        "  \\end{bmatrix}\n",
        "\\end{equation}\n",
        "\n",
        "<br>\n",
        "\n",
        "\\begin{equation}\n",
        "  \\text{If }\n",
        "  D = \\begin{bmatrix}\n",
        "  1 & -1 \\\\\n",
        "  -1 & 3\n",
        "  \\end{bmatrix}\n",
        "  \\text{and }\n",
        "  E = \\begin{bmatrix}\n",
        "  2 & 3 & 0  \\\\\n",
        "  \\end{bmatrix}\n",
        "  \\text{ then }\n",
        "  Out = \\begin{bmatrix}\n",
        "  1 & -1 & -1 & 3  & 2 & 3 & 0\n",
        "  \\end{bmatrix}\n",
        "\\end{equation}\n",
        "\n",
        "<br>\n",
        "\n",
        "**Hint:** `torch.numel()` is an easy way of finding the number of elements in a tensor."
      ]
    },
    {
      "cell_type": "code",
      "execution_count": null,
      "metadata": {
        "execution": {},
        "id": "n5obnX5lkx2i"
      },
      "outputs": [],
      "source": [
        "def functionA(my_tensor1, my_tensor2):\n",
        "  \"\"\"\n",
        "  This function takes in two 2D tensors `my_tensor1` and `my_tensor2`\n",
        "  and returns the column sum of\n",
        "  `my_tensor1` multiplied by the sum of all the elmements of `my_tensor2`,\n",
        "  i.e., a scalar.\n",
        "\n",
        "  Args:\n",
        "    my_tensor1: torch.Tensor\n",
        "    my_tensor2: torch.Tensor\n",
        "\n",
        "  Retuns:\n",
        "    output: torch.Tensor\n",
        "      The multiplication of the column sum of `my_tensor1` by the sum of\n",
        "      `my_tensor2`.\n",
        "  \"\"\"\n",
        "  ################################################\n",
        "  ## TODO for students: complete functionA\n",
        "  raise NotImplementedError(\"Student exercise: complete function A\")\n",
        "  ################################################\n",
        "  # TODO multiplication the sum of the tensors\n",
        "  output = ...\n",
        "\n",
        "  return output\n",
        "\n",
        "\n",
        "def functionB(my_tensor):\n",
        "  \"\"\"\n",
        "  This function takes in a square matrix `my_tensor` and returns a 2D tensor\n",
        "  consisting of a flattened `my_tensor` with the index of each element\n",
        "  appended to this tensor in the row dimension.\n",
        "\n",
        "  Args:\n",
        "    my_tensor: torch.Tensor\n",
        "\n",
        "  Returns:\n",
        "    output: torch.Tensor\n",
        "      Concatenated tensor.\n",
        "  \"\"\"\n",
        "  ################################################\n",
        "  ## TODO for students: complete functionB\n",
        "  raise NotImplementedError(\"Student exercise: complete function B\")\n",
        "  ################################################\n",
        "  # TODO flatten the tensor `my_tensor`\n",
        "  my_tensor = ...\n",
        "  # TODO create the idx tensor to be concatenated to `my_tensor`\n",
        "  idx_tensor = ...\n",
        "  # TODO concatenate the two tensors\n",
        "  output = ...\n",
        "\n",
        "  return output\n",
        "\n",
        "\n",
        "def functionC(my_tensor1, my_tensor2):\n",
        "  \"\"\"\n",
        "  This function takes in two 2D tensors `my_tensor1` and `my_tensor2`.\n",
        "  If the dimensions allow it, it returns the\n",
        "  elementwise sum of `my_tensor1`-shaped `my_tensor2`, and `my_tensor2`;\n",
        "  else this function returns a 1D tensor that is the concatenation of the\n",
        "  two tensors.\n",
        "\n",
        "  Args:\n",
        "    my_tensor1: torch.Tensor\n",
        "    my_tensor2: torch.Tensor\n",
        "\n",
        "  Returns:\n",
        "    output: torch.Tensor\n",
        "      Concatenated tensor.\n",
        "  \"\"\"\n",
        "  ################################################\n",
        "  ## TODO for students: complete functionB\n",
        "  raise NotImplementedError(\"Student exercise: complete function C\")\n",
        "  ################################################\n",
        "  # TODO check we can reshape `my_tensor2` into the shape of `my_tensor1`\n",
        "  if ...:\n",
        "    # TODO reshape `my_tensor2` into the shape of `my_tensor1`\n",
        "    my_tensor2 = ...\n",
        "    # TODO sum the two tensors\n",
        "    output = ...\n",
        "  else:\n",
        "    # TODO flatten both tensors\n",
        "    my_tensor1 = ...\n",
        "    my_tensor2 = ...\n",
        "    # TODO concatenate the two tensors in the correct dimension\n",
        "    output = ...\n",
        "\n",
        "  return output\n",
        "\n",
        "\n",
        "## Implement the functions above and then uncomment the following lines to test your code\n",
        "# print(functionA(torch.tensor([[1, 1], [1, 1]]), torch.tensor([[1, 2, 3], [1, 2, 3]])))\n",
        "# print(functionB(torch.tensor([[2, 3], [-1, 10]])))\n",
        "# print(functionC(torch.tensor([[1, -1], [-1, 3]]), torch.tensor([[2, 3, 0, 2]])))\n",
        "# print(functionC(torch.tensor([[1, -1], [-1, 3]]), torch.tensor([[2, 3, 0]])))"
      ]
    },
    {
      "cell_type": "markdown",
      "metadata": {
        "execution": {},
        "id": "-HHXxQpSkx2i"
      },
      "source": [
        "[*Click for solution*](https://github.com/NeuromatchAcademy/course-content-dl/tree/main/tutorials/W1D1_BasicsAndPytorch/solutions/W1D1_Tutorial1_Solution_234c6f74.py)\n",
        "\n"
      ]
    },
    {
      "cell_type": "markdown",
      "metadata": {
        "execution": {},
        "id": "MyHAQOApkx2j"
      },
      "source": [
        "```\n",
        "tensor([24, 24])\n",
        "tensor([[ 0,  2],\n",
        "        [ 1,  3],\n",
        "        [ 2, -1],\n",
        "        [ 3, 10]])\n",
        "tensor([[ 3,  2],\n",
        "        [-1,  5]])\n",
        "tensor([ 1, -1, -1,  3,  2,  3,  0])\n",
        "```"
      ]
    },
    {
      "cell_type": "code",
      "execution_count": null,
      "metadata": {
        "cellView": "form",
        "execution": {},
        "id": "Wh3Az6UMkx2j"
      },
      "outputs": [],
      "source": [
        "# @title Submit your feedback\n",
        "content_review(f\"{feedback_prefix}_Manipulating_Tensors_Exercise\")"
      ]
    },
    {
      "cell_type": "markdown",
      "metadata": {
        "execution": {},
        "id": "PZlZtEr2kx2j"
      },
      "source": [
        "## Section 2.4: GPUs"
      ]
    },
    {
      "cell_type": "code",
      "execution_count": 13,
      "metadata": {
        "cellView": "form",
        "execution": {},
        "colab": {
          "base_uri": "https://localhost:8080/",
          "height": 581,
          "referenced_widgets": [
            "6ae118ea10194538ae6d81d0d7391077",
            "132aafb574794666a041cf56dcd1ce4a",
            "47fe31407d0849c79e9cd20b49ec191d",
            "9b19e4293a804d1aab1e2033f7a53a1e",
            "716563df26ad44558259820c6396ad82",
            "7af7260402c14ea68dec94257d366286"
          ]
        },
        "id": "PlTptKHCkx2j",
        "outputId": "e7d634ad-7edb-41d0-8798-96f6ed6b6741"
      },
      "outputs": [
        {
          "output_type": "display_data",
          "data": {
            "text/plain": [
              "Tab(children=(Output(), Output()), _titles={'0': 'Youtube', '1': 'Bilibili'})"
            ],
            "application/vnd.jupyter.widget-view+json": {
              "version_major": 2,
              "version_minor": 0,
              "model_id": "6ae118ea10194538ae6d81d0d7391077"
            }
          },
          "metadata": {}
        }
      ],
      "source": [
        "# @title Video 6: GPU vs CPU\n",
        "from ipywidgets import widgets\n",
        "from IPython.display import YouTubeVideo\n",
        "from IPython.display import IFrame\n",
        "from IPython.display import display\n",
        "\n",
        "\n",
        "class PlayVideo(IFrame):\n",
        "  def __init__(self, id, source, page=1, width=400, height=300, **kwargs):\n",
        "    self.id = id\n",
        "    if source == 'Bilibili':\n",
        "      src = f'https://player.bilibili.com/player.html?bvid={id}&page={page}'\n",
        "    elif source == 'Osf':\n",
        "      src = f'https://mfr.ca-1.osf.io/render?url=https://osf.io/download/{id}/?direct%26mode=render'\n",
        "    super(PlayVideo, self).__init__(src, width, height, **kwargs)\n",
        "\n",
        "\n",
        "def display_videos(video_ids, W=400, H=300, fs=1):\n",
        "  tab_contents = []\n",
        "  for i, video_id in enumerate(video_ids):\n",
        "    out = widgets.Output()\n",
        "    with out:\n",
        "      if video_ids[i][0] == 'Youtube':\n",
        "        video = YouTubeVideo(id=video_ids[i][1], width=W,\n",
        "                             height=H, fs=fs, rel=0)\n",
        "        print(f'Video available at https://youtube.com/watch?v={video.id}')\n",
        "      else:\n",
        "        video = PlayVideo(id=video_ids[i][1], source=video_ids[i][0], width=W,\n",
        "                          height=H, fs=fs, autoplay=False)\n",
        "        if video_ids[i][0] == 'Bilibili':\n",
        "          print(f'Video available at https://www.bilibili.com/video/{video.id}')\n",
        "        elif video_ids[i][0] == 'Osf':\n",
        "          print(f'Video available at https://osf.io/{video.id}')\n",
        "      display(video)\n",
        "    tab_contents.append(out)\n",
        "  return tab_contents\n",
        "\n",
        "\n",
        "video_ids = [('Youtube', '9Mc9GFUtILY'), ('Bilibili', 'BV1nM4y1K7qx')]\n",
        "tab_contents = display_videos(video_ids, W=854, H=480)\n",
        "tabs = widgets.Tab()\n",
        "tabs.children = tab_contents\n",
        "for i in range(len(tab_contents)):\n",
        "  tabs.set_title(i, video_ids[i][0])\n",
        "display(tabs)"
      ]
    },
    {
      "cell_type": "code",
      "execution_count": 14,
      "metadata": {
        "cellView": "form",
        "execution": {},
        "colab": {
          "base_uri": "https://localhost:8080/",
          "height": 62,
          "referenced_widgets": [
            "018e68d514a849b8b4acf69fac763019",
            "2fe6f90634044d548dc31c6f98082c61",
            "37502699a89745fdbadee9d1d4200bfe",
            "3e9e64b99970491baac358400769c5ba",
            "f28b22eb24114ec7bf1a565073979161",
            "cb9f13a7cef14ef483750d7b1db1972f",
            "5efdfd14270c4482b8837a8827b59294",
            "7b4af0b9dbd94c4b8cc4e4ccbd189e2c",
            "c96cee18927645918a688eb587abc5e2",
            "8043933399a84298b23d0f0fd1d903b3",
            "df37033c2a61499f832a5289e99336de",
            "7a5e674e17694d35a2df4992b7488d78",
            "e0800b2b701b4b56a286069671fc2808",
            "f6f01e92b0a84b0180a203bb006f620b",
            "55f27552660944ed9665d35e2d2ff2a2",
            "83b2ffc721424c83965d8355bd78da3e",
            "fb7a5ddb487643089b05ba8e0b5c949f",
            "a81ce2f5f5df4c0986814fe7c6a9bdfb",
            "5fe66902744543a9b7565be6bdd2e59c",
            "1f32b43629564e74b2f4e078e40d7d01",
            "973e4a851a1343a0adead7bf9c30a8a5",
            "7c339b6c2db94a1ca6b3055e03f6c705",
            "667353a3b2b649eeb877eaef053122de",
            "6f75c0b6f14b43b18ef2da1128f48e55",
            "a4335d8540814a0c8cba7efcfd81e17c",
            "b5361e94c1af43ecb050dff994ef1cd6"
          ]
        },
        "id": "Kh2V70_Qkx2j",
        "outputId": "bd497f8d-e549-4ffc-c7d8-83ae8f331d6f"
      },
      "outputs": [
        {
          "output_type": "display_data",
          "data": {
            "text/plain": [
              "VBox(children=(VBox(children=(HBox(children=(Button(description='🙂', layout=Layout(height='auto', padding='0.5…"
            ],
            "application/vnd.jupyter.widget-view+json": {
              "version_major": 2,
              "version_minor": 0,
              "model_id": "018e68d514a849b8b4acf69fac763019"
            }
          },
          "metadata": {}
        }
      ],
      "source": [
        "# @title Submit your feedback\n",
        "content_review(f\"{feedback_prefix}_GPU_vs_CPU_Video\")"
      ]
    },
    {
      "cell_type": "markdown",
      "metadata": {
        "execution": {},
        "id": "hW6-y_wBkx2j"
      },
      "source": [
        "\n",
        "By default, when we create a tensor it will *not* live on the GPU!"
      ]
    },
    {
      "cell_type": "code",
      "execution_count": 15,
      "metadata": {
        "execution": {},
        "colab": {
          "base_uri": "https://localhost:8080/"
        },
        "id": "Eme835Nykx2j",
        "outputId": "2643b809-13ca-43f6-f4f8-805d0de7454a"
      },
      "outputs": [
        {
          "output_type": "stream",
          "name": "stdout",
          "text": [
            "cpu\n"
          ]
        }
      ],
      "source": [
        "x = torch.randn(10)\n",
        "print(x.device)"
      ]
    },
    {
      "cell_type": "markdown",
      "metadata": {
        "execution": {},
        "id": "6nso_C3Tkx2k"
      },
      "source": [
        "When using Colab notebooks, by default, will not have access to a GPU. In order to start using GPUs we need to request one. We can do this by going to the runtime tab at the top of the page.\n",
        "\n",
        "By following *Runtime* → *Change runtime type* and selecting **GPU** from the *Hardware Accelerator* dropdown list, we can start playing with sending tensors to GPUs.\n",
        "\n",
        "Once you have done this your runtime will restart and you will need to rerun the first setup cell to reimport PyTorch. Then proceed to the next cell.\n",
        "\n",
        "For more information on the GPU usage policy you can view in the Appendix."
      ]
    },
    {
      "cell_type": "markdown",
      "metadata": {
        "execution": {},
        "id": "h3iMEF1Lkx2k"
      },
      "source": [
        "**Now we have a GPU.**\n"
      ]
    },
    {
      "cell_type": "markdown",
      "metadata": {
        "execution": {},
        "id": "gliq-Dhlkx2k"
      },
      "source": [
        "The cell below should return `True`."
      ]
    },
    {
      "cell_type": "code",
      "execution_count": 16,
      "metadata": {
        "execution": {},
        "colab": {
          "base_uri": "https://localhost:8080/"
        },
        "id": "GMQhAWsckx2k",
        "outputId": "779334ea-ed30-450c-b669-c6539b9a218d"
      },
      "outputs": [
        {
          "output_type": "stream",
          "name": "stdout",
          "text": [
            "True\n"
          ]
        }
      ],
      "source": [
        "print(torch.cuda.is_available())"
      ]
    },
    {
      "cell_type": "markdown",
      "metadata": {
        "execution": {},
        "id": "KLiHmn0Qkx2k"
      },
      "source": [
        "[CUDA](https://developer.nvidia.com/cuda-toolkit) is an API developed by Nvidia for interfacing with GPUs. PyTorch provides us with a layer of abstraction, and allows us to launch CUDA kernels using pure Python.\n",
        "\n",
        "In short, we get the power of parallelizing our tensor computations on GPUs, whilst only writing (relatively) simple Python!\n",
        "\n",
        "Here, we define the function `set_device`, which returns the device use in the notebook, i.e., `cpu` or `cuda`. Unless otherwise specified, we use this function on top of every tutorial, and we store the device variable such as\n",
        "\n",
        "```python\n",
        "DEVICE = set_device()\n",
        "```\n",
        "\n",
        "Let's define the function using the PyTorch package `torch.cuda`, which is lazily initialized, so we can always import it, and use `is_available()` to determine if our system supports CUDA."
      ]
    },
    {
      "cell_type": "code",
      "execution_count": 17,
      "metadata": {
        "execution": {},
        "id": "Vz39N-sakx2k"
      },
      "outputs": [],
      "source": [
        "def set_device():\n",
        "  \"\"\"\n",
        "  Set the device. CUDA if available, CPU otherwise\n",
        "\n",
        "  Args:\n",
        "    None\n",
        "\n",
        "  Returns:\n",
        "    Nothing\n",
        "  \"\"\"\n",
        "  device = \"cuda\" if torch.cuda.is_available() else \"cpu\"\n",
        "  if device != \"cuda\":\n",
        "    print(\"GPU is not enabled in this notebook. \\n\"\n",
        "          \"If you want to enable it, in the menu under `Runtime` -> \\n\"\n",
        "          \"`Hardware accelerator.` and select `GPU` from the dropdown menu\")\n",
        "  else:\n",
        "    print(\"GPU is enabled in this notebook. \\n\"\n",
        "          \"If you want to disable it, in the menu under `Runtime` -> \\n\"\n",
        "          \"`Hardware accelerator.` and select `None` from the dropdown menu\")\n",
        "\n",
        "  return device"
      ]
    },
    {
      "cell_type": "markdown",
      "metadata": {
        "execution": {},
        "id": "uIhsYpdPkx2l"
      },
      "source": [
        "Let's make some CUDA tensors!"
      ]
    },
    {
      "cell_type": "code",
      "execution_count": 18,
      "metadata": {
        "execution": {},
        "colab": {
          "base_uri": "https://localhost:8080/"
        },
        "id": "McnNfIN7kx2l",
        "outputId": "4215070b-cb07-470e-8dba-65a4bb53a747"
      },
      "outputs": [
        {
          "output_type": "stream",
          "name": "stdout",
          "text": [
            "GPU is enabled in this notebook. \n",
            "If you want to disable it, in the menu under `Runtime` -> \n",
            "`Hardware accelerator.` and select `None` from the dropdown menu\n",
            "torch.float32\n",
            "cuda:0\n",
            "y before calling to() | device: cpu | dtype: torch.FloatTensor\n",
            "y after calling to() | device: cuda:0 | dtype: torch.cuda.FloatTensor\n"
          ]
        }
      ],
      "source": [
        "# common device agnostic way of writing code that can run on cpu OR gpu\n",
        "# that we provide for you in each of the tutorials\n",
        "DEVICE = set_device()\n",
        "\n",
        "# we can specify a device when we first create our tensor\n",
        "x = torch.randn(2, 2, device=DEVICE)\n",
        "print(x.dtype)\n",
        "print(x.device)\n",
        "\n",
        "# we can also use the .to() method to change the device a tensor lives on\n",
        "y = torch.randn(2, 2)\n",
        "print(f\"y before calling to() | device: {y.device} | dtype: {y.type()}\")\n",
        "\n",
        "y = y.to(DEVICE)\n",
        "print(f\"y after calling to() | device: {y.device} | dtype: {y.type()}\")"
      ]
    },
    {
      "cell_type": "markdown",
      "metadata": {
        "execution": {},
        "id": "SonqiCnikx2l"
      },
      "source": [
        "**Operations between cpu tensors and cuda tensors**\n",
        "\n",
        "Note that the type of the tensor changed after calling `.to()`. What happens if we try and perform operations on tensors on devices?"
      ]
    },
    {
      "cell_type": "code",
      "execution_count": 19,
      "metadata": {
        "execution": {},
        "id": "87V4Svujkx2l"
      },
      "outputs": [],
      "source": [
        "x = torch.tensor([0, 1, 2], device=DEVICE)\n",
        "y = torch.tensor([3, 4, 5], device=\"cpu\")\n",
        "\n",
        "## Uncomment the following line and run this cell\n",
        "# z = x + y"
      ]
    },
    {
      "cell_type": "markdown",
      "metadata": {
        "execution": {},
        "id": "XUqxqUPMkx2l"
      },
      "source": [
        "We cannot combine CUDA tensors and CPU tensors in this fashion. If we want to compute an operation that combines tensors on different devices, we need to move them first! We can use the `.to()` method as before, or the `.cpu()` and `.cuda()` methods. Note that using the `.cuda()` will throw an error, if CUDA is not enabled in your machine.\n",
        "\n",
        "Generally, in this course, all Deep Learning is done on the GPU, and any computation is done on the CPU, so sometimes we have to pass things back and forth, so you'll see us call."
      ]
    },
    {
      "cell_type": "code",
      "execution_count": 20,
      "metadata": {
        "execution": {},
        "colab": {
          "base_uri": "https://localhost:8080/"
        },
        "id": "yNj2GIMnkx2l",
        "outputId": "e886d109-4759-474d-f055-c2917fc04aa2"
      },
      "outputs": [
        {
          "output_type": "stream",
          "name": "stdout",
          "text": [
            "tensor([3, 5, 7])\n",
            "tensor([ 9, 11, 13], device='cuda:0')\n"
          ]
        }
      ],
      "source": [
        "x = torch.tensor([0, 1, 2], device=DEVICE)\n",
        "y = torch.tensor([3, 4, 5], device=\"cpu\")\n",
        "z = torch.tensor([6, 7, 8], device=DEVICE)\n",
        "\n",
        "# moving to cpu\n",
        "x = x.to(\"cpu\")  # alternatively, you can use x = x.cpu()\n",
        "print(x + y)\n",
        "\n",
        "# moving to gpu\n",
        "y = y.to(DEVICE)  # alternatively, you can use y = y.cuda()\n",
        "print(y + z)"
      ]
    },
    {
      "cell_type": "markdown",
      "metadata": {
        "execution": {},
        "id": "OrJ4OSkUkx2l"
      },
      "source": [
        "### Coding Exercise 2.4: Just how much faster are GPUs?\n",
        "\n",
        "Below is a simple function `simpleFun`. Complete this function, such that it performs the operations:\n",
        "\n",
        "- Elementwise multiplication\n",
        "\n",
        "- Matrix multiplication\n",
        "\n",
        "The operations should be able to perfomed on either the CPU or GPU specified by the parameter `device`. We will use the helper function `timeFun(f, dim, iterations, device)`."
      ]
    },
    {
      "cell_type": "code",
      "execution_count": 21,
      "metadata": {
        "execution": {},
        "id": "m7YDdmsKkx2m"
      },
      "outputs": [],
      "source": [
        "dim = 10000\n",
        "iterations = 1"
      ]
    },
    {
      "cell_type": "code",
      "execution_count": 22,
      "metadata": {
        "execution": {},
        "id": "OCa23I1dkx2m"
      },
      "outputs": [],
      "source": [
        "def simpleFun(dim, device):\n",
        "  \"\"\"\n",
        "  Helper function to check device-compatiblity with computations\n",
        "\n",
        "  Args:\n",
        "    dim: Integer\n",
        "    device: String\n",
        "      \"cpu\" or \"cuda\"\n",
        "\n",
        "  Returns:\n",
        "    Nothing.\n",
        "  \"\"\"\n",
        "  ###############################################\n",
        "  ## TODO for students: recreate the function, but\n",
        "  ## ensure all computations happens on the `device`\n",
        "  raise NotImplementedError(\"Student exercise: fill in the missing code to create the tensors\")\n",
        "  ###############################################\n",
        "  # 2D tensor filled with uniform random numbers in [0,1), dim x dim\n",
        "  x = ...\n",
        "  # 2D tensor filled with uniform random numbers in [0,1), dim x dim\n",
        "  y = ...\n",
        "  # 2D tensor filled with the scalar value 2, dim x dim\n",
        "  z = ...\n",
        "\n",
        "  # elementwise multiplication of x and y\n",
        "  a = ...\n",
        "  # matrix multiplication of x and z\n",
        "  b = ...\n",
        "\n",
        "  del x\n",
        "  del y\n",
        "  del z\n",
        "  del a\n",
        "  del b\n",
        "\n",
        "\n",
        "## Implement the function above and uncomment the following lines to test your code\n",
        "# timeFun(f=simpleFun, dim=dim, iterations=iterations)\n",
        "# timeFun(f=simpleFun, dim=dim, iterations=iterations, device=DEVICE)"
      ]
    },
    {
      "cell_type": "markdown",
      "metadata": {
        "execution": {},
        "id": "swR6kwYgkx2m"
      },
      "source": [
        "[*Click for solution*](https://github.com/NeuromatchAcademy/course-content-dl/tree/main/tutorials/W1D1_BasicsAndPytorch/solutions/W1D1_Tutorial1_Solution_bb83a0e6.py)\n",
        "\n"
      ]
    },
    {
      "cell_type": "markdown",
      "metadata": {
        "execution": {},
        "id": "54vMnQE-kx2m"
      },
      "source": [
        "Sample output (depends on your hardware)\n",
        "\n",
        "```\n",
        "time taken for 1 iterations of simpleFun(10000, cpu): 23.74070\n",
        "time taken for 1 iterations of simpleFun(10000, cuda): 0.87535\n",
        "```"
      ]
    },
    {
      "cell_type": "code",
      "execution_count": 23,
      "metadata": {
        "cellView": "form",
        "execution": {},
        "colab": {
          "base_uri": "https://localhost:8080/",
          "height": 62,
          "referenced_widgets": [
            "005a311e758b475b8c2b76e0593cc567",
            "a32a6d9f0061427fb9c3719481317986",
            "5b50d141e6d947cc926e8a48f149ebfb",
            "2cf4299a85914b699ec5ba15619c092a",
            "4336058292e64bbdb35cab5597d9d4d8",
            "118c3d10b9064c91819f413c83f4742e",
            "0c9de144c9424fb8a48e91b443148781",
            "c3d3580c97fc4ad5b5b64d0eef6f5e3a",
            "6ddbbb5650474618a851b6b45723ce8c",
            "57e62a978c124709acb30a9f98d41be8",
            "200d1909a8274bec8d74dbcb28088405",
            "aa78f244db1f4d919d96e8fe084d6698",
            "d0739104daa54dfdbb50816f74980e72",
            "168fb0421fef4a1285460043120f1e3f",
            "e44e5f5d5cc649d798ed50249374b860",
            "24f42ffb1887445380ed9b9637b91071",
            "1e42c664d10b4942b7ef120f8f845865",
            "ed363810a444432ab5b7337140ad11f7",
            "a143a1e38aca4ea399855baeb291f286",
            "28feb9f46d7d4b9c93eff727b443cdc7",
            "ac7e2111e5be44e597b74111bd42796a",
            "9a83c1a31a46400798ded709176420b4",
            "f073ea061ae34dfd9961710fb1bd6ce5",
            "dbbe309b7ec044e5a9da8996a4703170",
            "979afbc8fb7d48679e5a628c269c569b",
            "30d9ad76b46b4b5d9028315b7b45151b"
          ]
        },
        "id": "SShh9am5kx2m",
        "outputId": "d32c6783-a2ef-4015-b584-a808213c19ce"
      },
      "outputs": [
        {
          "output_type": "display_data",
          "data": {
            "text/plain": [
              "VBox(children=(VBox(children=(HBox(children=(Button(description='🙂', layout=Layout(height='auto', padding='0.5…"
            ],
            "application/vnd.jupyter.widget-view+json": {
              "version_major": 2,
              "version_minor": 0,
              "model_id": "005a311e758b475b8c2b76e0593cc567"
            }
          },
          "metadata": {}
        }
      ],
      "source": [
        "# @title Submit your feedback\n",
        "content_review(f\"{feedback_prefix}_How_Much_Faster_Are_GPUs_Exercise\")"
      ]
    },
    {
      "cell_type": "markdown",
      "metadata": {
        "execution": {},
        "id": "82JRXXxukx2p"
      },
      "source": [
        "**Discuss!**\n",
        "\n",
        "Try and reduce the dimensions of the tensors and increase the iterations. You can get to a point where the cpu only function is faster than the GPU function. Why might this be?"
      ]
    },
    {
      "cell_type": "markdown",
      "metadata": {
        "execution": {},
        "id": "kEaU1Pm8kx2p"
      },
      "source": [
        "[*Click for solution*](https://github.com/NeuromatchAcademy/course-content-dl/tree/main/tutorials/W1D1_BasicsAndPytorch/solutions/W1D1_Tutorial1_Solution_4ee0dee3.py)\n",
        "\n"
      ]
    },
    {
      "cell_type": "code",
      "execution_count": 24,
      "metadata": {
        "cellView": "form",
        "execution": {},
        "colab": {
          "base_uri": "https://localhost:8080/",
          "height": 62,
          "referenced_widgets": [
            "d9ffc6681612483caa41754d47664eaa",
            "5bd7242b53b44f5a8c75414512976514",
            "20ef85045baa4ac987ac5755695c1fd4",
            "28f5a3a92271453b941c955b00c50683",
            "ccae771854004be9a7eb0f7478d863e6",
            "3109bce046394bc4a8bea6131ff7f199",
            "687cb0973cec4c3da8e9ad66f3c86a9a",
            "27cd57e329834b1ca31719dd8b7b47f3",
            "036b1c878f9440f0953eed1d8e57a7bc",
            "caafae5f6d164575be35acca194d3f66",
            "bfe33f829f0f420795e5062b40371738",
            "7affd0ca8fcf43eb9624dc8aed00bea6",
            "a5d65a4ecc8c429e8ace1e751a127f32",
            "3306cdd4385740d3b8c0d2b30ae315fa",
            "1428fc293cc74d7abf49e4fd8f638b22",
            "14b89bec4b304c37a119ab960f2ef496",
            "1a0478fab2e84666a81a8d1f0d96c672",
            "3b6bf4429712455281d2fed67a8e104e",
            "401696b6a05f4937993bf218a10b0bad",
            "7fbf5b06468f4804a99fd53b32ca1025",
            "29604a127c1c4d62b943357836fab037",
            "2878a7ab2cbb4aa6b9ae4171782b764f",
            "9bc5b2cbce6c4e1682642c5e49d799d8",
            "68e48a59f6bd4fc9b2ae1bb469cdc4ef",
            "4a37228f7deb47e7b844c4ebc7417766",
            "756f7ae0900f49f7bd1c4fa7440e9ea4"
          ]
        },
        "id": "cwi2uWaykx2q",
        "outputId": "1548cb45-8708-498e-dde8-f51aa8320b15"
      },
      "outputs": [
        {
          "output_type": "display_data",
          "data": {
            "text/plain": [
              "VBox(children=(VBox(children=(HBox(children=(Button(description='🙂', layout=Layout(height='auto', padding='0.5…"
            ],
            "application/vnd.jupyter.widget-view+json": {
              "version_major": 2,
              "version_minor": 0,
              "model_id": "d9ffc6681612483caa41754d47664eaa"
            }
          },
          "metadata": {}
        }
      ],
      "source": [
        "# @title Submit your feedback\n",
        "content_review(f\"{feedback_prefix}_GPUs_Discussion\")"
      ]
    },
    {
      "cell_type": "markdown",
      "metadata": {
        "execution": {},
        "id": "-f44g2Yqkx2r"
      },
      "source": [
        "## Section 2.5: Datasets and Dataloaders"
      ]
    },
    {
      "cell_type": "code",
      "execution_count": null,
      "metadata": {
        "cellView": "form",
        "execution": {},
        "id": "AB8-38V5kx2r"
      },
      "outputs": [],
      "source": [
        "# @title Video 7: Getting Data\n",
        "from ipywidgets import widgets\n",
        "from IPython.display import YouTubeVideo\n",
        "from IPython.display import IFrame\n",
        "from IPython.display import display\n",
        "\n",
        "\n",
        "class PlayVideo(IFrame):\n",
        "  def __init__(self, id, source, page=1, width=400, height=300, **kwargs):\n",
        "    self.id = id\n",
        "    if source == 'Bilibili':\n",
        "      src = f'https://player.bilibili.com/player.html?bvid={id}&page={page}'\n",
        "    elif source == 'Osf':\n",
        "      src = f'https://mfr.ca-1.osf.io/render?url=https://osf.io/download/{id}/?direct%26mode=render'\n",
        "    super(PlayVideo, self).__init__(src, width, height, **kwargs)\n",
        "\n",
        "\n",
        "def display_videos(video_ids, W=400, H=300, fs=1):\n",
        "  tab_contents = []\n",
        "  for i, video_id in enumerate(video_ids):\n",
        "    out = widgets.Output()\n",
        "    with out:\n",
        "      if video_ids[i][0] == 'Youtube':\n",
        "        video = YouTubeVideo(id=video_ids[i][1], width=W,\n",
        "                             height=H, fs=fs, rel=0)\n",
        "        print(f'Video available at https://youtube.com/watch?v={video.id}')\n",
        "      else:\n",
        "        video = PlayVideo(id=video_ids[i][1], source=video_ids[i][0], width=W,\n",
        "                          height=H, fs=fs, autoplay=False)\n",
        "        if video_ids[i][0] == 'Bilibili':\n",
        "          print(f'Video available at https://www.bilibili.com/video/{video.id}')\n",
        "        elif video_ids[i][0] == 'Osf':\n",
        "          print(f'Video available at https://osf.io/{video.id}')\n",
        "      display(video)\n",
        "    tab_contents.append(out)\n",
        "  return tab_contents\n",
        "\n",
        "\n",
        "video_ids = [('Youtube', 'LSkjPM1gFu0'), ('Bilibili', 'BV1744y127SQ')]\n",
        "tab_contents = display_videos(video_ids, W=854, H=480)\n",
        "tabs = widgets.Tab()\n",
        "tabs.children = tab_contents\n",
        "for i in range(len(tab_contents)):\n",
        "  tabs.set_title(i, video_ids[i][0])\n",
        "display(tabs)"
      ]
    },
    {
      "cell_type": "code",
      "execution_count": null,
      "metadata": {
        "cellView": "form",
        "execution": {},
        "id": "vAEal-ipkx2r"
      },
      "outputs": [],
      "source": [
        "# @title Submit your feedback\n",
        "content_review(f\"{feedback_prefix}_Getting_Data_Video\")"
      ]
    },
    {
      "cell_type": "markdown",
      "metadata": {
        "execution": {},
        "id": "Y_-6U78Ykx2r"
      },
      "source": [
        "When training neural network models you will be working with large amounts of data. Fortunately, PyTorch offers some great tools that help you organize and manipulate your data samples."
      ]
    },
    {
      "cell_type": "code",
      "execution_count": null,
      "metadata": {
        "execution": {},
        "id": "MsEpq6rxkx2r"
      },
      "outputs": [],
      "source": [
        "# Import dataset and dataloaders related packages\n",
        "from torchvision import datasets\n",
        "from torchvision.transforms import ToTensor\n",
        "from torch.utils.data import DataLoader\n",
        "from torchvision.transforms import Compose, Grayscale"
      ]
    },
    {
      "cell_type": "markdown",
      "metadata": {
        "execution": {},
        "id": "rIpeTWc6kx2s"
      },
      "source": [
        "**Datasets**\n",
        "\n",
        "The `torchvision` package gives you easy access to many of the publicly available datasets. Let's load the [CIFAR10](https://www.cs.toronto.edu/~kriz/cifar.html) dataset, which contains color images of 10 different classes, like vehicles and animals.\n",
        "\n",
        "Creating an object of type `datasets.CIFAR10` will automatically download and load all images from the dataset. The resulting data structure can be treated as a list containing data samples and their corresponding labels."
      ]
    },
    {
      "cell_type": "code",
      "execution_count": null,
      "metadata": {
        "execution": {},
        "id": "oxDmT6Knkx2s"
      },
      "outputs": [],
      "source": [
        "# Download and load the images from the CIFAR10 dataset\n",
        "cifar10_data = datasets.CIFAR10(\n",
        "    root=\"data\",  # path where the images will be stored\n",
        "    download=True,  # all images should be downloaded\n",
        "    transform=ToTensor()  # transform the images to tensors\n",
        "    )\n",
        "\n",
        "# Print the number of samples in the loaded dataset\n",
        "print(f\"Number of samples: {len(cifar10_data)}\")\n",
        "print(f\"Class names: {cifar10_data.classes}\")"
      ]
    },
    {
      "cell_type": "markdown",
      "metadata": {
        "execution": {},
        "id": "LoMiTLHWkx2s"
      },
      "source": [
        "We have 50,000 samples loaded. Now, let's take a look at one of them in detail. Each sample consists of an image and its corresponding label."
      ]
    },
    {
      "cell_type": "code",
      "execution_count": null,
      "metadata": {
        "execution": {},
        "id": "9Utngq1okx2s"
      },
      "outputs": [],
      "source": [
        "# Choose a random sample\n",
        "random.seed(2021)\n",
        "image, label = cifar10_data[random.randint(0, len(cifar10_data))]\n",
        "print(f\"Label: {cifar10_data.classes[label]}\")\n",
        "print(f\"Image size: {image.shape}\")"
      ]
    },
    {
      "cell_type": "markdown",
      "metadata": {
        "execution": {},
        "id": "O70-JSzfkx2s"
      },
      "source": [
        "Color images are modeled as 3 dimensional tensors. The first dimension corresponds to the channels ($\\text{C}$) of the image (in this case we have RGB images). The second dimensions is the height ($\\text{H}$) of the image and the third is the width ($\\text{W}$). We can denote this image format as $\\text{C} \\times \\text{H} \\times \\text{W}$."
      ]
    },
    {
      "cell_type": "markdown",
      "metadata": {
        "execution": {},
        "id": "RZUI_P5Fkx2t"
      },
      "source": [
        "### Coding Exercise 2.5: Display an image from the dataset\n",
        "\n",
        "Let's try to display the image using `matplotlib`. The code below will not work, because `imshow` expects to have the image in a different format, i.e., $\\text{C} \\times \\text{H} \\times \\text{W}$.\n",
        "\n",
        "You need to reorder the dimensions of the tensor using the `permute` method of the tensor. PyTorch `torch.permute(*dims)` rearranges the original tensor according to the desired ordering and returns a new multidimensional rotated tensor. The size of the returned tensor remains the same as that of the original.\n",
        "\n",
        "**Code hint:**\n",
        "\n",
        "```python\n",
        "# create a tensor of size 2 x 4\n",
        "input_var = torch.randn(2, 4)\n",
        "# print its size and the tensor\n",
        "print(input_var.size())\n",
        "print(input_var)\n",
        "\n",
        "# dimensions permuted\n",
        "input_var = input_var.permute(1, 0)\n",
        "# print its size and the permuted tensor\n",
        "print(input_var.size())\n",
        "print(input_var)\n",
        "```"
      ]
    },
    {
      "cell_type": "code",
      "execution_count": null,
      "metadata": {
        "execution": {},
        "id": "Wmnub3jakx2t"
      },
      "outputs": [],
      "source": [
        "# TODO: Uncomment the following line to see the error that arises from the current image format\n",
        "# plt.imshow(image)\n",
        "\n",
        "# TODO: Comment the above line and fix this code by reordering the tensor dimensions\n",
        "# plt.imshow(image.permute(...))\n",
        "# plt.show()"
      ]
    },
    {
      "cell_type": "markdown",
      "metadata": {
        "execution": {},
        "id": "B-1MysLckx2t"
      },
      "source": [
        "[*Click for solution*](https://github.com/NeuromatchAcademy/course-content-dl/tree/main/tutorials/W1D1_BasicsAndPytorch/solutions/W1D1_Tutorial1_Solution_b04bd357.py)\n",
        "\n",
        "*Example output:*\n",
        "\n",
        "<img alt='Solution hint' align='left' width=580.0 height=575.0 src=https://raw.githubusercontent.com/NeuromatchAcademy/course-content-dl/main/tutorials/W1D1_BasicsAndPytorch/static/W1D1_Tutorial1_Solution_b04bd357_0.png>\n",
        "\n"
      ]
    },
    {
      "cell_type": "code",
      "execution_count": null,
      "metadata": {
        "cellView": "form",
        "execution": {},
        "id": "BLmzPEvokx2t"
      },
      "outputs": [],
      "source": [
        "# @title Submit your feedback\n",
        "content_review(f\"{feedback_prefix}_Display_an_Image_Exercise\")"
      ]
    },
    {
      "cell_type": "code",
      "execution_count": null,
      "metadata": {
        "cellView": "form",
        "execution": {},
        "id": "_UH5WAMxkx2t"
      },
      "outputs": [],
      "source": [
        "#@title Video 8: Train and Test\n",
        "from ipywidgets import widgets\n",
        "from IPython.display import YouTubeVideo\n",
        "from IPython.display import IFrame\n",
        "from IPython.display import display\n",
        "\n",
        "\n",
        "class PlayVideo(IFrame):\n",
        "  def __init__(self, id, source, page=1, width=400, height=300, **kwargs):\n",
        "    self.id = id\n",
        "    if source == 'Bilibili':\n",
        "      src = f'https://player.bilibili.com/player.html?bvid={id}&page={page}'\n",
        "    elif source == 'Osf':\n",
        "      src = f'https://mfr.ca-1.osf.io/render?url=https://osf.io/download/{id}/?direct%26mode=render'\n",
        "    super(PlayVideo, self).__init__(src, width, height, **kwargs)\n",
        "\n",
        "\n",
        "def display_videos(video_ids, W=400, H=300, fs=1):\n",
        "  tab_contents = []\n",
        "  for i, video_id in enumerate(video_ids):\n",
        "    out = widgets.Output()\n",
        "    with out:\n",
        "      if video_ids[i][0] == 'Youtube':\n",
        "        video = YouTubeVideo(id=video_ids[i][1], width=W,\n",
        "                             height=H, fs=fs, rel=0)\n",
        "        print(f'Video available at https://youtube.com/watch?v={video.id}')\n",
        "      else:\n",
        "        video = PlayVideo(id=video_ids[i][1], source=video_ids[i][0], width=W,\n",
        "                          height=H, fs=fs, autoplay=False)\n",
        "        if video_ids[i][0] == 'Bilibili':\n",
        "          print(f'Video available at https://www.bilibili.com/video/{video.id}')\n",
        "        elif video_ids[i][0] == 'Osf':\n",
        "          print(f'Video available at https://osf.io/{video.id}')\n",
        "      display(video)\n",
        "    tab_contents.append(out)\n",
        "  return tab_contents\n",
        "\n",
        "\n",
        "video_ids = [('Youtube', 'JokSIuPs-ys'), ('Bilibili', 'BV1rV411H7s5')]\n",
        "tab_contents = display_videos(video_ids, W=854, H=480)\n",
        "tabs = widgets.Tab()\n",
        "tabs.children = tab_contents\n",
        "for i in range(len(tab_contents)):\n",
        "  tabs.set_title(i, video_ids[i][0])\n",
        "display(tabs)"
      ]
    },
    {
      "cell_type": "code",
      "execution_count": null,
      "metadata": {
        "cellView": "form",
        "execution": {},
        "id": "pXWkTicjkx2t"
      },
      "outputs": [],
      "source": [
        "# @title Submit your feedback\n",
        "content_review(f\"{feedback_prefix}_Train_and_Test_Video\")"
      ]
    },
    {
      "cell_type": "markdown",
      "metadata": {
        "execution": {},
        "id": "Mholw_rFkx2u"
      },
      "source": [
        "**Training and Test Datasets**\n",
        "\n",
        "When loading a dataset, you can specify if you want to load the training or the test samples using the `train` argument. We can load the training and test datasets separately. For simplicity, today we will not use both datasets separately, but this topic will be adressed in the next days."
      ]
    },
    {
      "cell_type": "code",
      "execution_count": null,
      "metadata": {
        "execution": {},
        "id": "ApUg2Vb2kx2u"
      },
      "outputs": [],
      "source": [
        "# Load the training samples\n",
        "training_data = datasets.CIFAR10(\n",
        "    root=\"data\",\n",
        "    train=True,\n",
        "    download=True,\n",
        "    transform=ToTensor()\n",
        "    )\n",
        "\n",
        "# Load the test samples\n",
        "test_data = datasets.CIFAR10(\n",
        "    root=\"data\",\n",
        "    train=False,\n",
        "    download=True,\n",
        "    transform=ToTensor()\n",
        "    )"
      ]
    },
    {
      "cell_type": "code",
      "execution_count": null,
      "metadata": {
        "cellView": "form",
        "execution": {},
        "id": "KyRxpF8ukx2u"
      },
      "outputs": [],
      "source": [
        "# @title Video 9: Data Augmentation - Transformations\n",
        "from ipywidgets import widgets\n",
        "from IPython.display import YouTubeVideo\n",
        "from IPython.display import IFrame\n",
        "from IPython.display import display\n",
        "\n",
        "\n",
        "class PlayVideo(IFrame):\n",
        "  def __init__(self, id, source, page=1, width=400, height=300, **kwargs):\n",
        "    self.id = id\n",
        "    if source == 'Bilibili':\n",
        "      src = f'https://player.bilibili.com/player.html?bvid={id}&page={page}'\n",
        "    elif source == 'Osf':\n",
        "      src = f'https://mfr.ca-1.osf.io/render?url=https://osf.io/download/{id}/?direct%26mode=render'\n",
        "    super(PlayVideo, self).__init__(src, width, height, **kwargs)\n",
        "\n",
        "\n",
        "def display_videos(video_ids, W=400, H=300, fs=1):\n",
        "  tab_contents = []\n",
        "  for i, video_id in enumerate(video_ids):\n",
        "    out = widgets.Output()\n",
        "    with out:\n",
        "      if video_ids[i][0] == 'Youtube':\n",
        "        video = YouTubeVideo(id=video_ids[i][1], width=W,\n",
        "                             height=H, fs=fs, rel=0)\n",
        "        print(f'Video available at https://youtube.com/watch?v={video.id}')\n",
        "      else:\n",
        "        video = PlayVideo(id=video_ids[i][1], source=video_ids[i][0], width=W,\n",
        "                          height=H, fs=fs, autoplay=False)\n",
        "        if video_ids[i][0] == 'Bilibili':\n",
        "          print(f'Video available at https://www.bilibili.com/video/{video.id}')\n",
        "        elif video_ids[i][0] == 'Osf':\n",
        "          print(f'Video available at https://osf.io/{video.id}')\n",
        "      display(video)\n",
        "    tab_contents.append(out)\n",
        "  return tab_contents\n",
        "\n",
        "\n",
        "video_ids = [('Youtube', 'sjegA9OBUPw'), ('Bilibili', 'BV19B4y1N77t')]\n",
        "tab_contents = display_videos(video_ids, W=854, H=480)\n",
        "tabs = widgets.Tab()\n",
        "tabs.children = tab_contents\n",
        "for i in range(len(tab_contents)):\n",
        "  tabs.set_title(i, video_ids[i][0])\n",
        "display(tabs)"
      ]
    },
    {
      "cell_type": "markdown",
      "metadata": {
        "execution": {},
        "id": "R4OJ_FyLkx2u"
      },
      "source": [
        "**Dataloader**\n",
        "\n",
        "Another important concept is the `Dataloader`. It is a wrapper around the `Dataset` that splits it into minibatches (important for training the neural network) and makes the data iterable. The `shuffle` argument is used to shuffle the order of the samples across the minibatches."
      ]
    },
    {
      "cell_type": "code",
      "execution_count": null,
      "metadata": {
        "execution": {},
        "id": "3QINkKt1kx2u"
      },
      "outputs": [],
      "source": [
        "# Create dataloaders with\n",
        "train_dataloader = DataLoader(training_data, batch_size=64, shuffle=True)\n",
        "test_dataloader = DataLoader(test_data, batch_size=64, shuffle=True)"
      ]
    },
    {
      "cell_type": "markdown",
      "metadata": {
        "execution": {},
        "id": "KW2YIW7skx2v"
      },
      "source": [
        "*Reproducibility:* DataLoader will reseed workers following Randomness in multi-process data loading algorithm. Use `worker_init_fn()` and a `generator` to preserve reproducibility:\n",
        "\n",
        "\n",
        "```python\n",
        "def seed_worker(worker_id):\n",
        "  worker_seed = torch.initial_seed() % 2**32\n",
        "  numpy.random.seed(worker_seed)\n",
        "  random.seed(worker_seed)\n",
        "\n",
        "\n",
        "g_seed = torch.Generator()\n",
        "g_seed.manual_seed(my_seed)\n",
        "\n",
        "DataLoader(\n",
        "    train_dataset,\n",
        "    batch_size=batch_size,\n",
        "    num_workers=num_workers,\n",
        "    worker_init_fn=seed_worker,\n",
        "    generator=g_seed\n",
        "    )\n",
        "```"
      ]
    },
    {
      "cell_type": "markdown",
      "metadata": {
        "execution": {},
        "id": "b4xqAF3tkx2v"
      },
      "source": [
        "**Important:** For the `seed_worker` to have an effect, `num_workers` should be 2 or more."
      ]
    },
    {
      "cell_type": "markdown",
      "metadata": {
        "execution": {},
        "id": "xmM3zT7Nkx2v"
      },
      "source": [
        "We can now query the next batch from the data loader and inspect it. For this we need to convert the dataloader object to a Python iterator using the function `iter` and then we can query the next batch using the function `next`.\n",
        "\n",
        "We can now see that we have a 4D tensor. This is because we have a 64 images in the batch ($B$) and each image has 3 dimensions: channels ($C$), height ($H$) and width ($W$). So, the size of the 4D tensor is $B \\times C \\times H \\times W$."
      ]
    },
    {
      "cell_type": "code",
      "execution_count": null,
      "metadata": {
        "execution": {},
        "id": "kP7cZ7iQkx2z"
      },
      "outputs": [],
      "source": [
        "# Load the next batch\n",
        "batch_images, batch_labels = next(iter(train_dataloader))\n",
        "print('Batch size:', batch_images.shape)\n",
        "\n",
        "# Display the first image from the batch\n",
        "plt.imshow(batch_images[0].permute(1, 2, 0))\n",
        "plt.show()"
      ]
    },
    {
      "cell_type": "markdown",
      "metadata": {
        "execution": {},
        "id": "wQ1_ESimkx20"
      },
      "source": [
        "**Transformations**\n",
        "\n",
        "Another useful feature when loading a dataset is applying transformations on the data - color conversions, normalization, cropping, rotation etc. There are many predefined transformations in the `torchvision.transforms` package and you can also combine them using the `Compose` transform. Checkout the [pytorch documentation](https://pytorch.org/vision/stable/transforms.html) for details."
      ]
    },
    {
      "cell_type": "markdown",
      "metadata": {
        "execution": {},
        "id": "xNxT_ncVkx20"
      },
      "source": [
        "### Coding Exercise 2.6: Load the CIFAR10 dataset as grayscale images\n",
        "\n",
        "The goal of this excercise is to load the images from the CIFAR10 dataset as grayscale images. Note that we rerun the `set_seed` function to ensure reproducibility."
      ]
    },
    {
      "cell_type": "code",
      "execution_count": null,
      "metadata": {
        "execution": {},
        "id": "3uWP0nKBkx20"
      },
      "outputs": [],
      "source": [
        "def my_data_load():\n",
        "  \"\"\"\n",
        "  Function to load CIFAR10 data as grayscale images\n",
        "\n",
        "  Args:\n",
        "    None\n",
        "\n",
        "  Returns:\n",
        "    data: DataFrame\n",
        "      CIFAR10 loaded Dataframe of shape (3309, 14)\n",
        "  \"\"\"\n",
        "  ###############################################\n",
        "  ## TODO for students: load the CIFAR10 data,\n",
        "  ## but as grayscale images and not as RGB colored.\n",
        "  raise NotImplementedError(\"Student exercise: fill in the missing code to load the data\")\n",
        "  ###############################################\n",
        "  ## TODO Load the CIFAR10 data using a transform that converts the images to grayscale tensors\n",
        "  data = datasets.CIFAR10(...,\n",
        "                          transform=...)\n",
        "  # Display a random grayscale image\n",
        "  image, label = data[random.randint(0, len(data))]\n",
        "  plt.imshow(image.squeeze(), cmap=\"gray\")\n",
        "  plt.show()\n",
        "\n",
        "  return data\n",
        "\n",
        "\n",
        "set_seed(seed=2021)\n",
        "## After implementing the above code, uncomment the following lines to test your code\n",
        "# data = my_data_load()"
      ]
    },
    {
      "cell_type": "markdown",
      "metadata": {
        "execution": {},
        "id": "WiQsRo-tkx21"
      },
      "source": [
        "[*Click for solution*](https://github.com/NeuromatchAcademy/course-content-dl/tree/main/tutorials/W1D1_BasicsAndPytorch/solutions/W1D1_Tutorial1_Solution_1c5a709e.py)\n",
        "\n",
        "*Example output:*\n",
        "\n",
        "<img alt='Solution hint' align='left' width=580.0 height=575.0 src=https://raw.githubusercontent.com/NeuromatchAcademy/course-content-dl/main/tutorials/W1D1_BasicsAndPytorch/static/W1D1_Tutorial1_Solution_1c5a709e_1.png>\n",
        "\n"
      ]
    },
    {
      "cell_type": "code",
      "execution_count": null,
      "metadata": {
        "cellView": "form",
        "execution": {},
        "id": "MFa-JHMqkx21"
      },
      "outputs": [],
      "source": [
        "# @title Submit your feedback\n",
        "content_review(f\"{feedback_prefix}_Load_CIFAR10_Exercise\")"
      ]
    },
    {
      "cell_type": "markdown",
      "metadata": {
        "execution": {},
        "id": "orJXKJ2wkx21"
      },
      "source": [
        "---\n",
        "# Section 3: Neural Networks\n",
        "\n",
        "*Time estimate: ~1 hour 30 mins (excluding video)*"
      ]
    },
    {
      "cell_type": "markdown",
      "metadata": {
        "execution": {},
        "id": "RZ3V3H1ckx21"
      },
      "source": [
        "Now it's time for you to create your first neural network using PyTorch. This section will walk you through the process of:\n",
        "\n",
        "- Creating a simple neural network model\n",
        "- Training the network\n",
        "- Visualizing the results of the network\n",
        "- Tweaking the network"
      ]
    },
    {
      "cell_type": "code",
      "execution_count": 1,
      "metadata": {
        "cellView": "form",
        "execution": {},
        "colab": {
          "base_uri": "https://localhost:8080/",
          "height": 581,
          "referenced_widgets": [
            "68d61e766cb048fab2ee75cef8272ecd",
            "827d5ab6ae824db7945c0700ed4eed63",
            "cf3ee9c726734ec8aa9b3d7c2cc36410",
            "a080e19b709949a4beb89c1522115d74",
            "3f9626fd9013454d85c78fafe809920b",
            "26b0552a3d244f649386bbc5cffcf37c"
          ]
        },
        "id": "TAb2WeJakx21",
        "outputId": "268bdd03-e308-4e74-8720-c1552d4f963b"
      },
      "outputs": [
        {
          "output_type": "display_data",
          "data": {
            "text/plain": [
              "Tab(children=(Output(), Output()), _titles={'0': 'Youtube', '1': 'Bilibili'})"
            ],
            "application/vnd.jupyter.widget-view+json": {
              "version_major": 2,
              "version_minor": 0,
              "model_id": "68d61e766cb048fab2ee75cef8272ecd"
            }
          },
          "metadata": {}
        }
      ],
      "source": [
        "# @title Video 10: CSV Files\n",
        "from ipywidgets import widgets\n",
        "from IPython.display import YouTubeVideo\n",
        "from IPython.display import IFrame\n",
        "from IPython.display import display\n",
        "\n",
        "\n",
        "class PlayVideo(IFrame):\n",
        "  def __init__(self, id, source, page=1, width=400, height=300, **kwargs):\n",
        "    self.id = id\n",
        "    if source == 'Bilibili':\n",
        "      src = f'https://player.bilibili.com/player.html?bvid={id}&page={page}'\n",
        "    elif source == 'Osf':\n",
        "      src = f'https://mfr.ca-1.osf.io/render?url=https://osf.io/download/{id}/?direct%26mode=render'\n",
        "    super(PlayVideo, self).__init__(src, width, height, **kwargs)\n",
        "\n",
        "\n",
        "def display_videos(video_ids, W=400, H=300, fs=1):\n",
        "  tab_contents = []\n",
        "  for i, video_id in enumerate(video_ids):\n",
        "    out = widgets.Output()\n",
        "    with out:\n",
        "      if video_ids[i][0] == 'Youtube':\n",
        "        video = YouTubeVideo(id=video_ids[i][1], width=W,\n",
        "                             height=H, fs=fs, rel=0)\n",
        "        print(f'Video available at https://youtube.com/watch?v={video.id}')\n",
        "      else:\n",
        "        video = PlayVideo(id=video_ids[i][1], source=video_ids[i][0], width=W,\n",
        "                          height=H, fs=fs, autoplay=False)\n",
        "        if video_ids[i][0] == 'Bilibili':\n",
        "          print(f'Video available at https://www.bilibili.com/video/{video.id}')\n",
        "        elif video_ids[i][0] == 'Osf':\n",
        "          print(f'Video available at https://osf.io/{video.id}')\n",
        "      display(video)\n",
        "    tab_contents.append(out)\n",
        "  return tab_contents\n",
        "\n",
        "\n",
        "video_ids = [('Youtube', 'JrC_UAJWYKU'), ('Bilibili', 'BV1xy4y1T7kv')]\n",
        "tab_contents = display_videos(video_ids, W=854, H=480)\n",
        "tabs = widgets.Tab()\n",
        "tabs.children = tab_contents\n",
        "for i in range(len(tab_contents)):\n",
        "  tabs.set_title(i, video_ids[i][0])\n",
        "display(tabs)"
      ]
    },
    {
      "cell_type": "code",
      "execution_count": null,
      "metadata": {
        "cellView": "form",
        "execution": {},
        "id": "OIxfYA_2kx22"
      },
      "outputs": [],
      "source": [
        "# @title Submit your feedback\n",
        "content_review(f\"{feedback_prefix}_CSV_files_Video\")"
      ]
    },
    {
      "cell_type": "markdown",
      "metadata": {
        "execution": {},
        "id": "sM-wtTRAkx22"
      },
      "source": [
        "## Section 3.1: Data Loading\n",
        "\n",
        "First we need some sample data to train our network on. You can use the function below to generate an example dataset consisting of 2D points along two interleaving half circles. The data will be stored in a file called `sample_data.csv`. You can inspect the file directly in Colab by going to Files on the left side and opening the CSV file."
      ]
    },
    {
      "cell_type": "code",
      "execution_count": 10,
      "metadata": {
        "cellView": "form",
        "execution": {},
        "id": "1bRMsL0ikx22"
      },
      "outputs": [],
      "source": [
        "# @title Generate sample data\n",
        "# @markdown we used `scikit-learn` module\n",
        "from sklearn.datasets import make_moons\n",
        "\n",
        "# Create a dataset of 256 points with a little noise\n",
        "X, y = make_moons(256, noise=0.1)\n",
        "\n",
        "# Store the data as a Pandas data frame and save it to a CSV file\n",
        "df = pd.DataFrame(dict(x0=X[:,0], x1=X[:,1], y=y))\n",
        "df.to_csv('sample_data.csv')"
      ]
    },
    {
      "cell_type": "markdown",
      "metadata": {
        "execution": {},
        "id": "DeFeevVmkx22"
      },
      "source": [
        "Now we can load the data from the CSV file using the Pandas library. Pandas provides many functions for reading files in various formats. When loading data from a CSV file, we can reference the columns directly by their names."
      ]
    },
    {
      "cell_type": "code",
      "execution_count": 11,
      "metadata": {
        "execution": {},
        "colab": {
          "base_uri": "https://localhost:8080/",
          "height": 627
        },
        "id": "D1dI1wWCkx23",
        "outputId": "f6edf2fb-471f-45cb-b35a-c577306e95bd"
      },
      "outputs": [
        {
          "output_type": "stream",
          "name": "stdout",
          "text": [
            "Size X:(256, 2)\n",
            "Size y:(256,)\n"
          ]
        },
        {
          "output_type": "display_data",
          "data": {
            "text/plain": [
              "<Figure size 800x600 with 1 Axes>"
            ],
            "image/png": "[encoded data removed]"
          },
          "metadata": {
            "image/png": {
              "width": 775,
              "height": 575
            }
          }
        }
      ],
      "source": [
        "# Load the data from the CSV file in a Pandas DataFrame\n",
        "data = pd.read_csv(\"sample_data.csv\")\n",
        "\n",
        "# Create a 2D numpy array from the x0 and x1 columns\n",
        "X_orig = data[[\"x0\", \"x1\"]].to_numpy()\n",
        "\n",
        "# Create a 1D numpy array from the y column\n",
        "y_orig = data[\"y\"].to_numpy()\n",
        "\n",
        "# Print the sizes of the generated 2D points X and the corresponding labels Y\n",
        "print(f\"Size X:{X_orig.shape}\")\n",
        "print(f\"Size y:{y_orig.shape}\")\n",
        "\n",
        "# Visualize the dataset. The color of the points is determined by the labels `y_orig`.\n",
        "plt.scatter(X_orig[:, 0], X_orig[:, 1], s=40, c=y_orig)\n",
        "plt.show()"
      ]
    },
    {
      "cell_type": "markdown",
      "metadata": {
        "execution": {},
        "id": "pAGEcXCQkx24"
      },
      "source": [
        "**Prepare Data for PyTorch**\n",
        "\n",
        "Now let's prepare the data in a format suitable for PyTorch - convert everything into tensors."
      ]
    },
    {
      "cell_type": "code",
      "execution_count": 25,
      "metadata": {
        "execution": {},
        "colab": {
          "base_uri": "https://localhost:8080/"
        },
        "id": "FIq2b7_Okx24",
        "outputId": "556d897a-3884-45e6-86b2-96ae6c0a41f3"
      },
      "outputs": [
        {
          "output_type": "stream",
          "name": "stdout",
          "text": [
            "GPU is enabled in this notebook. \n",
            "If you want to disable it, in the menu under `Runtime` -> \n",
            "`Hardware accelerator.` and select `None` from the dropdown menu\n",
            "Size X:torch.Size([256, 2])\n",
            "Size y:torch.Size([256])\n"
          ]
        }
      ],
      "source": [
        "# Initialize the device variable\n",
        "DEVICE = set_device()\n",
        "\n",
        "# Convert the 2D points to a float32 tensor\n",
        "X = torch.tensor(X_orig, dtype=torch.float32)\n",
        "\n",
        "# Upload the tensor to the device\n",
        "X = X.to(DEVICE)\n",
        "\n",
        "print(f\"Size X:{X.shape}\")\n",
        "\n",
        "# Convert the labels to a long interger tensor\n",
        "y = torch.from_numpy(y_orig).type(torch.LongTensor)\n",
        "\n",
        "# Upload the tensor to the device\n",
        "y = y.to(DEVICE)\n",
        "\n",
        "print(f\"Size y:{y.shape}\")"
      ]
    },
    {
      "cell_type": "markdown",
      "metadata": {
        "execution": {},
        "id": "ziDRnWk-kx24"
      },
      "source": [
        "## Section 3.2: Create a Simple Neural Network"
      ]
    },
    {
      "cell_type": "code",
      "execution_count": 26,
      "metadata": {
        "cellView": "form",
        "execution": {},
        "colab": {
          "base_uri": "https://localhost:8080/",
          "height": 581,
          "referenced_widgets": [
            "1ab6136e28484497af0b064e3454df02",
            "34e7dd8eba1c46829238de67a7323ee2",
            "e2fe10cf74a9484dbe0388405d0c2b5d",
            "c65809e432824b90af321596bdf348ed",
            "035d926737fa4105b90818407484f422",
            "0a0e4f270cc5499a8d1f7dfdb1e15069"
          ]
        },
        "id": "BX8W5ycSkx25",
        "outputId": "ca02a095-d37d-43ca-c351-ddd7fff0ead7"
      },
      "outputs": [
        {
          "output_type": "display_data",
          "data": {
            "text/plain": [
              "Tab(children=(Output(), Output()), _titles={'0': 'Youtube', '1': 'Bilibili'})"
            ],
            "application/vnd.jupyter.widget-view+json": {
              "version_major": 2,
              "version_minor": 0,
              "model_id": "1ab6136e28484497af0b064e3454df02"
            }
          },
          "metadata": {}
        }
      ],
      "source": [
        "# @title Video 11: Generating the Neural Network\n",
        "from ipywidgets import widgets\n",
        "from IPython.display import YouTubeVideo\n",
        "from IPython.display import IFrame\n",
        "from IPython.display import display\n",
        "\n",
        "\n",
        "class PlayVideo(IFrame):\n",
        "  def __init__(self, id, source, page=1, width=400, height=300, **kwargs):\n",
        "    self.id = id\n",
        "    if source == 'Bilibili':\n",
        "      src = f'https://player.bilibili.com/player.html?bvid={id}&page={page}'\n",
        "    elif source == 'Osf':\n",
        "      src = f'https://mfr.ca-1.osf.io/render?url=https://osf.io/download/{id}/?direct%26mode=render'\n",
        "    super(PlayVideo, self).__init__(src, width, height, **kwargs)\n",
        "\n",
        "\n",
        "def display_videos(video_ids, W=400, H=300, fs=1):\n",
        "  tab_contents = []\n",
        "  for i, video_id in enumerate(video_ids):\n",
        "    out = widgets.Output()\n",
        "    with out:\n",
        "      if video_ids[i][0] == 'Youtube':\n",
        "        video = YouTubeVideo(id=video_ids[i][1], width=W,\n",
        "                             height=H, fs=fs, rel=0)\n",
        "        print(f'Video available at https://youtube.com/watch?v={video.id}')\n",
        "      else:\n",
        "        video = PlayVideo(id=video_ids[i][1], source=video_ids[i][0], width=W,\n",
        "                          height=H, fs=fs, autoplay=False)\n",
        "        if video_ids[i][0] == 'Bilibili':\n",
        "          print(f'Video available at https://www.bilibili.com/video/{video.id}')\n",
        "        elif video_ids[i][0] == 'Osf':\n",
        "          print(f'Video available at https://osf.io/{video.id}')\n",
        "      display(video)\n",
        "    tab_contents.append(out)\n",
        "  return tab_contents\n",
        "\n",
        "\n",
        "video_ids = [('Youtube', 'PwSzRohUvck'), ('Bilibili', 'BV1fK4y1M74a')]\n",
        "tab_contents = display_videos(video_ids, W=854, H=480)\n",
        "tabs = widgets.Tab()\n",
        "tabs.children = tab_contents\n",
        "for i in range(len(tab_contents)):\n",
        "  tabs.set_title(i, video_ids[i][0])\n",
        "display(tabs)"
      ]
    },
    {
      "cell_type": "code",
      "execution_count": null,
      "metadata": {
        "cellView": "form",
        "execution": {},
        "id": "pnUxfQwdkx25"
      },
      "outputs": [],
      "source": [
        "# @title Submit your feedback\n",
        "content_review(f\"{feedback_prefix}_Generating_Neural_Network_Video\")"
      ]
    },
    {
      "cell_type": "markdown",
      "metadata": {
        "execution": {},
        "id": "JM8Lz2Sgkx25"
      },
      "source": [
        "For this example we want to have a simple neural network consisting of 3 layers:\n",
        "\n",
        "- 1 input layer of size 2 (our points have 2 coordinates)\n",
        "- 1 hidden layer of size 16 (you can play with different numbers here)\n",
        "- 1 output layer of size 2 (we want the have the scores for the two classes)\n",
        "\n",
        "During the course you will deal with differend kinds of neural networks. On Day 2, we will focus on linear networks, but you will work with some more complicated architectures in the next days. The example here is meant to demonstrate the process of creating and training a neural network end-to-end.\n",
        "\n",
        "**Programing the Network**\n",
        "\n",
        "PyTorch provides a base class for all neural network modules called [`nn.Module`](https://pytorch.org/docs/stable/generated/torch.nn.Module.html). You need to inherit from `nn.Module` and implement some important methods:\n",
        "\n",
        "* `__init__`\n",
        "\n",
        "  In the `__init__` method you need to define the structure of your network. Here you will specify what layers will the network consist of, what activation functions will be used etc.\n",
        "\n",
        "* `forward`\n",
        "\n",
        "  All neural network modules need to implement the `forward` method. It specifies the computations the network needs to do when data is passed through it.\n",
        "\n",
        "* `predict`\n",
        "\n",
        "  This is not an obligatory method of a neural network module, but it is a good practice if you want to quickly get the most likely label from the network. It calls the `forward` method and chooses the label with the highest score.\n",
        "\n",
        "* `train`\n",
        "\n",
        "  This is also not an obligatory method, but it is a good practice to have. The method will be used to train the network parameters and will be implemented later in the notebook.\n",
        "\n",
        "<br>\n",
        "\n",
        "**Note:** You can use the `__call__` method of a module directly and it will invoke the `forward` method: `net()` does the same as `net.forward()`."
      ]
    },
    {
      "cell_type": "code",
      "execution_count": 27,
      "metadata": {
        "execution": {},
        "id": "pmwI_Fvgkx25"
      },
      "outputs": [],
      "source": [
        "# Inherit from nn.Module - the base class for neural network modules provided by Pytorch\n",
        "class NaiveNet(nn.Module):\n",
        "  \"\"\"\n",
        "  NaiveNet architecture\n",
        "  Structure is as follows:\n",
        "  Linear Layer (2, 16) -> ReLU activation -> Linear Layer (16, 2)\n",
        "  \"\"\"\n",
        "  # Define the structure of your network\n",
        "  def __init__(self):\n",
        "    \"\"\"\n",
        "    Defines the NaiveNet structure by initialising following attributes\n",
        "    nn.Linear (2, 16):  Transformation from the input to the hidden layer\n",
        "    nn.ReLU: Activation function (ReLU) is a non-linearity which is widely used because it reduces computation.\n",
        "             The function returns 0 if it receives any negative input, but for any positive value x, it returns that value back.\n",
        "    nn.Linear (16, 2): Transformation from the hidden to the output layer\n",
        "\n",
        "    Args:\n",
        "      None\n",
        "\n",
        "    Returns:\n",
        "      Nothing\n",
        "    \"\"\"\n",
        "    super(NaiveNet, self).__init__()\n",
        "\n",
        "    # The network is defined as a sequence of operations\n",
        "    self.layers = nn.Sequential(\n",
        "        nn.Linear(2, 16),\n",
        "        nn.ReLU(),\n",
        "        nn.Linear(16, 2),\n",
        "    )\n",
        "\n",
        "  # Specify the computations performed on the data\n",
        "  def forward(self, x):\n",
        "    \"\"\"\n",
        "    Defines the forward pass through the above defined structure\n",
        "\n",
        "    Args:\n",
        "      x: torch.Tensor\n",
        "        Input tensor of size ([3])\n",
        "\n",
        "    Returns:\n",
        "      layers: nn.module\n",
        "        Initialised Layers in order to re-use the same layer for each forward pass of data you make.\n",
        "    \"\"\"\n",
        "    # Pass the data through the layers\n",
        "    return self.layers(x)\n",
        "\n",
        "  # Choose the most likely label predicted by the network\n",
        "  def predict(self, x):\n",
        "    \"\"\"\n",
        "    Performs the prediction task of the network\n",
        "\n",
        "    Args:\n",
        "      x: torch.Tensor\n",
        "        Input tensor of size ([3])\n",
        "\n",
        "    Returns:\n",
        "      Most likely class i.e., Label with the highest score\n",
        "    \"\"\"\n",
        "    # Pass the data through the networks\n",
        "    output = self.forward(x)\n",
        "\n",
        "    # Choose the label with the highest score\n",
        "    return torch.argmax(output, 1)\n",
        "\n",
        "  # Train the neural network (will be implemented later)\n",
        "  def train(self, X, y):\n",
        "    \"\"\"\n",
        "    Training the Neural Network\n",
        "\n",
        "    Args:\n",
        "      X: torch.Tensor\n",
        "        Input data\n",
        "      y: torch.Tensor\n",
        "        Class Labels/Targets\n",
        "\n",
        "    Returns:\n",
        "      Nothing\n",
        "    \"\"\"\n",
        "    pass"
      ]
    },
    {
      "cell_type": "markdown",
      "metadata": {
        "execution": {},
        "id": "YC6VtdVwkx25"
      },
      "source": [
        "**Check that your network works**\n",
        "\n",
        "Create an instance of your model and visualize it."
      ]
    },
    {
      "cell_type": "code",
      "execution_count": 28,
      "metadata": {
        "execution": {},
        "colab": {
          "base_uri": "https://localhost:8080/"
        },
        "id": "h7EgjcQ9kx25",
        "outputId": "062c07fd-83a8-4118-c2eb-54e93fe04eef"
      },
      "outputs": [
        {
          "output_type": "stream",
          "name": "stdout",
          "text": [
            "NaiveNet(\n",
            "  (layers): Sequential(\n",
            "    (0): Linear(in_features=2, out_features=16, bias=True)\n",
            "    (1): ReLU()\n",
            "    (2): Linear(in_features=16, out_features=2, bias=True)\n",
            "  )\n",
            ")\n"
          ]
        }
      ],
      "source": [
        "# Create new NaiveNet and transfer it to the device\n",
        "model = NaiveNet().to(DEVICE)\n",
        "\n",
        "# Print the structure of the network\n",
        "print(model)"
      ]
    },
    {
      "cell_type": "markdown",
      "metadata": {
        "execution": {},
        "id": "YG7xYE3gkx26"
      },
      "source": [
        "### Coding Exercise 3.2: Classify some samples\n",
        "\n",
        "Now, let's pass some of the points of our dataset through the network and see if it works. You should not expect the network to actually classify the points correctly, because it has not been trained yet.\n",
        "\n",
        "The goal here is just to get some experience with the data structures that are passed to the forward and predict methods and their results."
      ]
    },
    {
      "cell_type": "code",
      "execution_count": 31,
      "metadata": {
        "execution": {},
        "colab": {
          "base_uri": "https://localhost:8080/"
        },
        "id": "XdQv-JkDkx26",
        "outputId": "962ac775-ce5b-45a2-d3ab-5573f3e438d0"
      },
      "outputs": [
        {
          "output_type": "stream",
          "name": "stdout",
          "text": [
            "Sample input:\n",
            " tensor([[ 0.0875,  0.1834],\n",
            "        [ 1.0344,  0.5160],\n",
            "        [ 2.0345,  0.4329],\n",
            "        [-0.9403,  0.0740],\n",
            "        [ 2.0618,  0.1007]], device='cuda:0')\n",
            "\n",
            "Network output:\n",
            " tensor([[-0.0246,  0.0962],\n",
            "        [ 0.1131,  0.2525],\n",
            "        [ 0.1438,  0.5673],\n",
            "        [-0.2786, -0.0537],\n",
            "        [ 0.1836,  0.6578]], device='cuda:0', grad_fn=<AddmmBackward0>)\n",
            "\n",
            "Predicted labels:\n",
            " tensor([1, 1, 1, 1, 1], device='cuda:0')\n"
          ]
        }
      ],
      "source": [
        "## Get the samples\n",
        "X_samples = X[:5]\n",
        "print(\"Sample input:\\n\", X_samples)\n",
        "\n",
        "## Do a forward pass of the network\n",
        "output = model.forward(X_samples)\n",
        "print(\"\\nNetwork output:\\n\", output)\n",
        "\n",
        "## Predict the label of each point\n",
        "y_predicted = model.predict(X_samples)\n",
        "print(\"\\nPredicted labels:\\n\", y_predicted)"
      ]
    },
    {
      "cell_type": "markdown",
      "metadata": {
        "execution": {},
        "id": "Ah-Ej3fhkx26"
      },
      "source": [
        "[*Click for solution*](https://github.com/NeuromatchAcademy/course-content-dl/tree/main/tutorials/W1D1_BasicsAndPytorch/solutions/W1D1_Tutorial1_Solution_63f6a21a.py)\n",
        "\n"
      ]
    },
    {
      "cell_type": "markdown",
      "metadata": {
        "execution": {},
        "id": "cKwnPh1Mkx26"
      },
      "source": [
        "```\n",
        "Sample input:\n",
        " tensor([[ 0.9066,  0.5052],\n",
        "        [-0.2024,  1.1226],\n",
        "        [ 1.0685,  0.2809],\n",
        "        [ 0.6720,  0.5097],\n",
        "        [ 0.8548,  0.5122]], device='cuda:0')\n",
        "\n",
        "Network output:\n",
        " tensor([[ 0.1543, -0.8018],\n",
        "        [ 2.2077, -2.9859],\n",
        "        [-0.5745, -0.0195],\n",
        "        [ 0.1924, -0.8367],\n",
        "        [ 0.1818, -0.8301]], device='cuda:0', grad_fn=<AddmmBackward>)\n",
        "\n",
        "Predicted labels:\n",
        " tensor([0, 0, 1, 0, 0], device='cuda:0')\n",
        "```"
      ]
    },
    {
      "cell_type": "code",
      "execution_count": null,
      "metadata": {
        "cellView": "form",
        "execution": {},
        "id": "53-LmNP4kx28"
      },
      "outputs": [],
      "source": [
        "# @title Submit your feedback\n",
        "content_review(f\"{feedback_prefix}_Classify_some_examples_Exercise\")"
      ]
    },
    {
      "cell_type": "markdown",
      "metadata": {
        "execution": {},
        "id": "fCqPrhrtkx28"
      },
      "source": [
        "## Section 3.3: Train Your Neural Network"
      ]
    },
    {
      "cell_type": "code",
      "execution_count": 32,
      "metadata": {
        "cellView": "form",
        "execution": {},
        "colab": {
          "base_uri": "https://localhost:8080/",
          "height": 581,
          "referenced_widgets": [
            "2ff7ad4d96844dc59ca45ba715020f11",
            "5a43846dddb840ff8f96dab31fbaf712",
            "c73910df5c734b3eb08ab3271bdbbc82",
            "e8345ccfb7814e62ac9cf69f131570ea",
            "6756db4ebc41436386cd06409b651e98",
            "517e4593e12247b9aac07f7313c387ad"
          ]
        },
        "id": "HhGo9pGhkx28",
        "outputId": "afd50813-6b35-441b-81a3-18a4aa4abc9a"
      },
      "outputs": [
        {
          "output_type": "display_data",
          "data": {
            "text/plain": [
              "Tab(children=(Output(), Output()), _titles={'0': 'Youtube', '1': 'Bilibili'})"
            ],
            "application/vnd.jupyter.widget-view+json": {
              "version_major": 2,
              "version_minor": 0,
              "model_id": "2ff7ad4d96844dc59ca45ba715020f11"
            }
          },
          "metadata": {}
        }
      ],
      "source": [
        "# @title Video 12: Train the Network\n",
        "from ipywidgets import widgets\n",
        "from IPython.display import YouTubeVideo\n",
        "from IPython.display import IFrame\n",
        "from IPython.display import display\n",
        "\n",
        "\n",
        "class PlayVideo(IFrame):\n",
        "  def __init__(self, id, source, page=1, width=400, height=300, **kwargs):\n",
        "    self.id = id\n",
        "    if source == 'Bilibili':\n",
        "      src = f'https://player.bilibili.com/player.html?bvid={id}&page={page}'\n",
        "    elif source == 'Osf':\n",
        "      src = f'https://mfr.ca-1.osf.io/render?url=https://osf.io/download/{id}/?direct%26mode=render'\n",
        "    super(PlayVideo, self).__init__(src, width, height, **kwargs)\n",
        "\n",
        "\n",
        "def display_videos(video_ids, W=400, H=300, fs=1):\n",
        "  tab_contents = []\n",
        "  for i, video_id in enumerate(video_ids):\n",
        "    out = widgets.Output()\n",
        "    with out:\n",
        "      if video_ids[i][0] == 'Youtube':\n",
        "        video = YouTubeVideo(id=video_ids[i][1], width=W,\n",
        "                             height=H, fs=fs, rel=0)\n",
        "        print(f'Video available at https://youtube.com/watch?v={video.id}')\n",
        "      else:\n",
        "        video = PlayVideo(id=video_ids[i][1], source=video_ids[i][0], width=W,\n",
        "                          height=H, fs=fs, autoplay=False)\n",
        "        if video_ids[i][0] == 'Bilibili':\n",
        "          print(f'Video available at https://www.bilibili.com/video/{video.id}')\n",
        "        elif video_ids[i][0] == 'Osf':\n",
        "          print(f'Video available at https://osf.io/{video.id}')\n",
        "      display(video)\n",
        "    tab_contents.append(out)\n",
        "  return tab_contents\n",
        "\n",
        "\n",
        "video_ids = [('Youtube', '4MIqnE4XPaA'), ('Bilibili', 'BV1v54y1n7CS')]\n",
        "tab_contents = display_videos(video_ids, W=854, H=480)\n",
        "tabs = widgets.Tab()\n",
        "tabs.children = tab_contents\n",
        "for i in range(len(tab_contents)):\n",
        "  tabs.set_title(i, video_ids[i][0])\n",
        "display(tabs)"
      ]
    },
    {
      "cell_type": "code",
      "execution_count": null,
      "metadata": {
        "cellView": "form",
        "execution": {},
        "id": "KD-F4v3Ikx29"
      },
      "outputs": [],
      "source": [
        "# @title Submit your feedback\n",
        "content_review(f\"{feedback_prefix}_Train_the_Network_Video\")"
      ]
    },
    {
      "cell_type": "markdown",
      "metadata": {
        "execution": {},
        "id": "F7O6aXjEkx29"
      },
      "source": [
        "Now it is time to train your network on your dataset. Don't worry if you don't fully understand everything yet - we will cover training in much more details in the next days. For now, the goal is just to see your network in action!\n",
        "\n",
        "You will usually implement the `train` method directly when implementing your class `NaiveNet`. Here, we will implement it as a function outside of the class in order to have it in a separate cell."
      ]
    },
    {
      "cell_type": "code",
      "execution_count": null,
      "metadata": {
        "cellView": "form",
        "execution": {},
        "id": "mVe4fu0Ykx29"
      },
      "outputs": [],
      "source": [
        "# @title Helper function to plot the decision boundary\n",
        "\n",
        "# Code adapted from this notebook: https://jonchar.net/notebooks/Artificial-Neural-Network-with-Keras/\n",
        "\n",
        "from pathlib import Path\n",
        "\n",
        "def plot_decision_boundary(model, X, y, device):\n",
        "  \"\"\"\n",
        "  Helper function to plot decision boundary\n",
        "\n",
        "  Args:\n",
        "    model: nn.module\n",
        "      NaiveNet instance\n",
        "    X: torch.tensor\n",
        "      Input CIFAR10 data\n",
        "    y: torch.tensor\n",
        "      Class Labels/Targets\n",
        "    device: String\n",
        "      \"cpu\" or \"cuda\"\n",
        "\n",
        "  Returns:\n",
        "    Nothing\n",
        "  \"\"\"\n",
        "  # Transfer the data to the CPU\n",
        "  X = X.cpu().numpy()\n",
        "  y = y.cpu().numpy()\n",
        "\n",
        "  # Check if the frames folder exists and create it if needed\n",
        "  frames_path = Path(\"frames\")\n",
        "  if not frames_path.exists():\n",
        "    frames_path.mkdir()\n",
        "\n",
        "  # Set min and max values and give it some padding\n",
        "  x_min, x_max = X[:, 0].min() - .5, X[:, 0].max() + .5\n",
        "  y_min, y_max = X[:, 1].min() - .5, X[:, 1].max() + .5\n",
        "  h = 0.01\n",
        "\n",
        "  # Generate a grid of points with distance h between them\n",
        "  xx, yy = np.meshgrid(np.arange(x_min, x_max, h), np.arange(y_min, y_max, h))\n",
        "\n",
        "  # Predict the function value for the whole gid\n",
        "  grid_points = np.c_[xx.ravel(), yy.ravel()]\n",
        "  grid_points = torch.from_numpy(grid_points).type(torch.FloatTensor)\n",
        "  Z = model.predict(grid_points.to(device)).cpu().numpy()\n",
        "  Z = Z.reshape(xx.shape)\n",
        "\n",
        "  # Plot the contour and training examples\n",
        "  plt.contourf(xx, yy, Z, cmap=plt.cm.Spectral)\n",
        "  plt.scatter(X[:, 0], X[:, 1], c=y, cmap=plt.cm.binary)"
      ]
    },
    {
      "cell_type": "code",
      "execution_count": null,
      "metadata": {
        "execution": {},
        "id": "-yUsKfA1kx29"
      },
      "outputs": [],
      "source": [
        "# Implement the train function given a training dataset X and correcsponding labels y\n",
        "def train(model, X, y):\n",
        "  \"\"\"\n",
        "    Training the Neural Network\n",
        "\n",
        "    Args:\n",
        "      X: torch.Tensor\n",
        "        Input data\n",
        "      y: torch.Tensor\n",
        "        Class Labels/Targets\n",
        "\n",
        "    Returns:\n",
        "      losses: Float\n",
        "        Cross Entropy Loss; Cross-entropy builds upon the idea of entropy\n",
        "        from information theory and calculates the number of bits required\n",
        "        to represent or transmit an average event from one distribution\n",
        "        compared to another distribution.\n",
        "    \"\"\"\n",
        "  # The Cross Entropy Loss is suitable for classification problems\n",
        "  loss_function = nn.CrossEntropyLoss()\n",
        "\n",
        "  # Create an optimizer (Stochastic Gradient Descent) that will be used to train the network\n",
        "  learning_rate = 1e-2\n",
        "  optimizer = torch.optim.SGD(model.parameters(), lr=learning_rate)\n",
        "\n",
        "  # Number of epochs\n",
        "  epochs = 15000\n",
        "\n",
        "  # List of losses for visualization\n",
        "  losses = []\n",
        "\n",
        "  for i in range(epochs):\n",
        "    # Pass the data through the network and compute the loss\n",
        "    # We'll use the whole dataset during the training instead of using batches\n",
        "    # in to order to keep the code simple for now.\n",
        "    y_logits = model.forward(X)\n",
        "    loss = loss_function(y_logits, y)\n",
        "\n",
        "    # Clear the previous gradients and compute the new ones\n",
        "    optimizer.zero_grad()\n",
        "    loss.backward()\n",
        "\n",
        "    # Adapt the weights of the network\n",
        "    optimizer.step()\n",
        "\n",
        "    # Store the loss\n",
        "    losses.append(loss.item())\n",
        "\n",
        "    # Print the results at every 1000th epoch\n",
        "    if i % 1000 == 0:\n",
        "      print(f\"Epoch {i} loss is {loss.item()}\")\n",
        "\n",
        "      plot_decision_boundary(model, X, y, DEVICE)\n",
        "      plt.savefig('frames/{:05d}.png'.format(i))\n",
        "\n",
        "  return losses\n",
        "\n",
        "\n",
        "# Create a new network instance a train it\n",
        "model = NaiveNet().to(DEVICE)\n",
        "losses = train(model, X, y)"
      ]
    },
    {
      "cell_type": "markdown",
      "metadata": {
        "execution": {},
        "id": "_w0BG2DHkx29"
      },
      "source": [
        "**Plot the loss during training**\n",
        "\n",
        "Plot the loss during the training to see how it reduces and converges."
      ]
    },
    {
      "cell_type": "code",
      "execution_count": null,
      "metadata": {
        "execution": {},
        "id": "rf7rgnG6kx2-"
      },
      "outputs": [],
      "source": [
        "plt.plot(np.linspace(1, len(losses), len(losses)), losses)\n",
        "plt.xlabel(\"Epoch\")\n",
        "plt.ylabel(\"Loss\")"
      ]
    },
    {
      "cell_type": "code",
      "execution_count": null,
      "metadata": {
        "cellView": "form",
        "execution": {},
        "id": "tefZrM3nkx2-"
      },
      "outputs": [],
      "source": [
        "# @title Visualize the training process\n",
        "# @markdown Execute this cell!\n",
        "!pip install imageio --quiet\n",
        "!pip install pathlib --quiet\n",
        "\n",
        "import imageio.v2 as imageio\n",
        "from IPython.core.interactiveshell import InteractiveShell\n",
        "from IPython.display import Image, display\n",
        "from pathlib import Path\n",
        "\n",
        "InteractiveShell.ast_node_interactivity = \"all\"\n",
        "\n",
        "# Make a list with all images\n",
        "images = []\n",
        "for i in range(10):\n",
        "  filename = Path(\"frames/0\"+str(i)+\"000.png\")\n",
        "  images.append(imageio.imread(filename))\n",
        "# Save the gif\n",
        "imageio.mimsave('frames/movie.gif', images)\n",
        "gifPath = Path(\"frames/movie.gif\")\n",
        "with open(gifPath,'rb') as f:\n",
        "  display(Image(data=f.read(), format='png'))"
      ]
    },
    {
      "cell_type": "code",
      "execution_count": null,
      "metadata": {
        "cellView": "form",
        "execution": {},
        "id": "ptBcvpjtkx2_"
      },
      "outputs": [],
      "source": [
        "# @title Video 13: Play with it\n",
        "from ipywidgets import widgets\n",
        "from IPython.display import YouTubeVideo\n",
        "from IPython.display import IFrame\n",
        "from IPython.display import display\n",
        "\n",
        "\n",
        "class PlayVideo(IFrame):\n",
        "  def __init__(self, id, source, page=1, width=400, height=300, **kwargs):\n",
        "    self.id = id\n",
        "    if source == 'Bilibili':\n",
        "      src = f'https://player.bilibili.com/player.html?bvid={id}&page={page}'\n",
        "    elif source == 'Osf':\n",
        "      src = f'https://mfr.ca-1.osf.io/render?url=https://osf.io/download/{id}/?direct%26mode=render'\n",
        "    super(PlayVideo, self).__init__(src, width, height, **kwargs)\n",
        "\n",
        "\n",
        "def display_videos(video_ids, W=400, H=300, fs=1):\n",
        "  tab_contents = []\n",
        "  for i, video_id in enumerate(video_ids):\n",
        "    out = widgets.Output()\n",
        "    with out:\n",
        "      if video_ids[i][0] == 'Youtube':\n",
        "        video = YouTubeVideo(id=video_ids[i][1], width=W,\n",
        "                             height=H, fs=fs, rel=0)\n",
        "        print(f'Video available at https://youtube.com/watch?v={video.id}')\n",
        "      else:\n",
        "        video = PlayVideo(id=video_ids[i][1], source=video_ids[i][0], width=W,\n",
        "                          height=H, fs=fs, autoplay=False)\n",
        "        if video_ids[i][0] == 'Bilibili':\n",
        "          print(f'Video available at https://www.bilibili.com/video/{video.id}')\n",
        "        elif video_ids[i][0] == 'Osf':\n",
        "          print(f'Video available at https://osf.io/{video.id}')\n",
        "      display(video)\n",
        "    tab_contents.append(out)\n",
        "  return tab_contents\n",
        "\n",
        "\n",
        "video_ids = [('Youtube', '_GGkapdOdSY'), ('Bilibili', 'BV1Cq4y1W7BH')]\n",
        "tab_contents = display_videos(video_ids, W=854, H=480)\n",
        "tabs = widgets.Tab()\n",
        "tabs.children = tab_contents\n",
        "for i in range(len(tab_contents)):\n",
        "  tabs.set_title(i, video_ids[i][0])\n",
        "display(tabs)"
      ]
    },
    {
      "cell_type": "code",
      "execution_count": null,
      "metadata": {
        "cellView": "form",
        "execution": {},
        "id": "5-uy4pyykx2_"
      },
      "outputs": [],
      "source": [
        "# @title Submit your feedback\n",
        "content_review(f\"{feedback_prefix}_Play_with_it_Video\")"
      ]
    },
    {
      "cell_type": "markdown",
      "metadata": {
        "execution": {},
        "id": "I8Tv1zpPkx2_"
      },
      "source": [
        "### Exercise 3.3: Tweak your Network\n",
        "\n",
        "You can now play around with the network a little bit to get a feeling of what different parameters are doing. Here are some ideas what you could try:\n",
        "\n",
        "- Increase or decrease the number of epochs for training\n",
        "- Increase or decrease the size of the hidden layer\n",
        "- Add one additional hidden layer\n",
        "\n",
        "Can you get the network to better fit the data?"
      ]
    },
    {
      "cell_type": "markdown",
      "metadata": {
        "execution": {},
        "id": "6stj-UrHkx2_"
      },
      "source": [
        "[*Click for solution*](https://github.com/NeuromatchAcademy/course-content-dl/tree/main/tutorials/W1D1_BasicsAndPytorch/solutions/W1D1_Tutorial1_Solution_fd3bd4a1.py)\n",
        "\n"
      ]
    },
    {
      "cell_type": "code",
      "execution_count": null,
      "metadata": {
        "cellView": "form",
        "execution": {},
        "id": "_fRoDx9Vkx2_"
      },
      "outputs": [],
      "source": [
        "# @title Submit your feedback\n",
        "content_review(f\"{feedback_prefix}_Tweak_your_Network_Discussion\")"
      ]
    },
    {
      "cell_type": "code",
      "execution_count": null,
      "metadata": {
        "cellView": "form",
        "execution": {},
        "id": "iKz3QqGikx2_"
      },
      "outputs": [],
      "source": [
        "# @title Video 14: XOR Widget\n",
        "from ipywidgets import widgets\n",
        "from IPython.display import YouTubeVideo\n",
        "from IPython.display import IFrame\n",
        "from IPython.display import display\n",
        "\n",
        "\n",
        "class PlayVideo(IFrame):\n",
        "  def __init__(self, id, source, page=1, width=400, height=300, **kwargs):\n",
        "    self.id = id\n",
        "    if source == 'Bilibili':\n",
        "      src = f'https://player.bilibili.com/player.html?bvid={id}&page={page}'\n",
        "    elif source == 'Osf':\n",
        "      src = f'https://mfr.ca-1.osf.io/render?url=https://osf.io/download/{id}/?direct%26mode=render'\n",
        "    super(PlayVideo, self).__init__(src, width, height, **kwargs)\n",
        "\n",
        "\n",
        "def display_videos(video_ids, W=400, H=300, fs=1):\n",
        "  tab_contents = []\n",
        "  for i, video_id in enumerate(video_ids):\n",
        "    out = widgets.Output()\n",
        "    with out:\n",
        "      if video_ids[i][0] == 'Youtube':\n",
        "        video = YouTubeVideo(id=video_ids[i][1], width=W,\n",
        "                             height=H, fs=fs, rel=0)\n",
        "        print(f'Video available at https://youtube.com/watch?v={video.id}')\n",
        "      else:\n",
        "        video = PlayVideo(id=video_ids[i][1], source=video_ids[i][0], width=W,\n",
        "                          height=H, fs=fs, autoplay=False)\n",
        "        if video_ids[i][0] == 'Bilibili':\n",
        "          print(f'Video available at https://www.bilibili.com/video/{video.id}')\n",
        "        elif video_ids[i][0] == 'Osf':\n",
        "          print(f'Video available at https://osf.io/{video.id}')\n",
        "      display(video)\n",
        "    tab_contents.append(out)\n",
        "  return tab_contents\n",
        "\n",
        "\n",
        "video_ids = [('Youtube', 'oTr1nE2rCWg'), ('Bilibili', 'BV1mB4y1N7QS')]\n",
        "tab_contents = display_videos(video_ids, W=854, H=480)\n",
        "tabs = widgets.Tab()\n",
        "tabs.children = tab_contents\n",
        "for i in range(len(tab_contents)):\n",
        "  tabs.set_title(i, video_ids[i][0])\n",
        "display(tabs)"
      ]
    },
    {
      "cell_type": "code",
      "execution_count": null,
      "metadata": {
        "cellView": "form",
        "execution": {},
        "id": "iiMbXJwCkx3A"
      },
      "outputs": [],
      "source": [
        "# @title Submit your feedback\n",
        "content_review(f\"{feedback_prefix}_XOR_widget_Video\")"
      ]
    },
    {
      "cell_type": "markdown",
      "metadata": {
        "execution": {},
        "id": "xObNnfZRkx3A"
      },
      "source": [
        "Exclusive OR (XOR) logical operation gives a true (`1`) output when the number of true inputs is odd. That is, a true output result if one, and only one, of the inputs to the gate is true. If both inputs are false (`0`) or both are true or false output results. Mathematically speaking, XOR represents the inequality function, i.e., the output is true if the inputs are not alike; otherwise, the output is false.\n",
        "\n",
        "In case of two inputs ($X$ and $Y$) the following truth table is applied:\n",
        "\n",
        "\\begin{matrix}\n",
        "  X & Y & \\text{XOR}\\\\\n",
        "  \\hline\n",
        "  0 & 0 & 0\\\\\n",
        "  0 & 1 & 1\\\\\n",
        "  1 & 0 & 1\\\\\n",
        "  1 & 1 & 0\n",
        "\\end{matrix}\n",
        "\n",
        "Here, with `0`, we denote `False`, and with `1` we denote `True` in boolean terms."
      ]
    },
    {
      "cell_type": "markdown",
      "metadata": {
        "execution": {},
        "id": "SpzpM5y1kx3A"
      },
      "source": [
        "### Interactive Demo 3.3: Solving XOR\n",
        "\n",
        "Here we use an open source and famous visualization widget developed by Tensorflow team available [here](https://github.com/tensorflow/playground).\n",
        "* Play with the widget and observe if you can solve the continuous XOR dataset.\n",
        "* Now add one hidden layer with three units, play with the widget, and set weights by hand to solve this dataset perfectly.\n",
        "\n",
        "For the second part, you should set the weights by clicking on the connections and either type the value or use the up and down keys to change it by one increment. You could also do the same for the biases by clicking on the tiny square to each neuron's bottom left.\n",
        "Even though there are infinitely many solutions, a neat solution when $f(x)$ is ReLU is:\n",
        "\n",
        "\\begin{equation}\n",
        "  y = f(x_1)+f(x_2)-f(x_1+x_2)\n",
        "\\end{equation}\n",
        "\n",
        "Try to set the weights and biases to implement this function after you played enough :)"
      ]
    },
    {
      "cell_type": "code",
      "execution_count": null,
      "metadata": {
        "cellView": "form",
        "execution": {},
        "id": "B7WHVALJkx3A"
      },
      "outputs": [],
      "source": [
        "# @markdown Play with the parameters to solve XOR\n",
        "from IPython.display import IFrame\n",
        "from ipywidgets import widgets\n",
        "url = 'https://playground.arashash.com/#activation=relu&batchSize=10&dataset=xor&regDataset=reg-plane&learningRate=0.03&regularizationRate=0&noise=0&networkShape=&seed=0.91390&showTestData=false&discretize=false&percTrainData=90&x=true&y=true&xTimesY=false&xSquared=false&ySquared=false&cosX=false&sinX=false&cosY=false&sinY=false&collectStats=false&problem=classification&initZero=false&hideText=false'\n",
        "url2 = \"https://playground.arashash.com\"\n",
        "out = widgets.Output()\n",
        "with out:\n",
        "  print(f\"If you want to vist the webpage: {url2}\")\n",
        "  display(IFrame(src=f\"{url}\", width=1020, height=660))\n",
        "display(out)"
      ]
    },
    {
      "cell_type": "code",
      "execution_count": null,
      "metadata": {
        "cellView": "form",
        "execution": {},
        "id": "cnByoUg_kx3A"
      },
      "outputs": [],
      "source": [
        "# @markdown Do you think we can solve the discrete XOR (only 4 possibilities) with only 2 hidden units?\n",
        "w1_min_xor = 'Select' # @param ['Select', 'Yes', 'No']\n",
        "if w1_min_xor == 'Yes':\n",
        "  print(\"Awesome. Indeed, yes. We take the two points for which the output should be 1 and dedicate one of the hidden units to each of them. Each of theses  ReLU functions are diagonal and tuned so that only for one of those two points the output is 1. In the end, we add these two together. And voila - discrete xor.\")\n",
        "elif w1_min_xor == 'No':\n",
        "  print(\"How about giving it another try?\")\n",
        "else:\n",
        "  print(\"Select 'Yes' or 'No'!\")"
      ]
    },
    {
      "cell_type": "code",
      "execution_count": null,
      "metadata": {
        "cellView": "form",
        "execution": {},
        "id": "MSQOntcLkx3B"
      },
      "outputs": [],
      "source": [
        "# @title Submit your feedback\n",
        "content_review(f\"{feedback_prefix}_XOR_Interactive_Demo\")"
      ]
    },
    {
      "cell_type": "markdown",
      "metadata": {
        "execution": {},
        "id": "JmKvPDwJkx3B"
      },
      "source": [
        "---\n",
        "# Section 4: Ethics And Course Info"
      ]
    },
    {
      "cell_type": "code",
      "execution_count": null,
      "metadata": {
        "cellView": "form",
        "execution": {},
        "id": "SwFm3cICkx3B"
      },
      "outputs": [],
      "source": [
        "# @title Video 15: Ethics\n",
        "from ipywidgets import widgets\n",
        "from IPython.display import YouTubeVideo\n",
        "from IPython.display import IFrame\n",
        "from IPython.display import display\n",
        "\n",
        "\n",
        "class PlayVideo(IFrame):\n",
        "  def __init__(self, id, source, page=1, width=400, height=300, **kwargs):\n",
        "    self.id = id\n",
        "    if source == 'Bilibili':\n",
        "      src = f'https://player.bilibili.com/player.html?bvid={id}&page={page}'\n",
        "    elif source == 'Osf':\n",
        "      src = f'https://mfr.ca-1.osf.io/render?url=https://osf.io/download/{id}/?direct%26mode=render'\n",
        "    super(PlayVideo, self).__init__(src, width, height, **kwargs)\n",
        "\n",
        "\n",
        "def display_videos(video_ids, W=400, H=300, fs=1):\n",
        "  tab_contents = []\n",
        "  for i, video_id in enumerate(video_ids):\n",
        "    out = widgets.Output()\n",
        "    with out:\n",
        "      if video_ids[i][0] == 'Youtube':\n",
        "        video = YouTubeVideo(id=video_ids[i][1], width=W,\n",
        "                             height=H, fs=fs, rel=0)\n",
        "        print(f'Video available at https://youtube.com/watch?v={video.id}')\n",
        "      else:\n",
        "        video = PlayVideo(id=video_ids[i][1], source=video_ids[i][0], width=W,\n",
        "                          height=H, fs=fs, autoplay=False)\n",
        "        if video_ids[i][0] == 'Bilibili':\n",
        "          print(f'Video available at https://www.bilibili.com/video/{video.id}')\n",
        "        elif video_ids[i][0] == 'Osf':\n",
        "          print(f'Video available at https://osf.io/{video.id}')\n",
        "      display(video)\n",
        "    tab_contents.append(out)\n",
        "  return tab_contents\n",
        "\n",
        "\n",
        "video_ids = [('Youtube', 'Kt6JLi3rUFU'), ('Bilibili', 'BV1Hw41197oB')]\n",
        "tab_contents = display_videos(video_ids, W=854, H=480)\n",
        "tabs = widgets.Tab()\n",
        "tabs.children = tab_contents\n",
        "for i in range(len(tab_contents)):\n",
        "  tabs.set_title(i, video_ids[i][0])\n",
        "display(tabs)"
      ]
    },
    {
      "cell_type": "code",
      "execution_count": null,
      "metadata": {
        "cellView": "form",
        "execution": {},
        "id": "Fmnr5n48kx3B"
      },
      "outputs": [],
      "source": [
        "# @title Submit your feedback\n",
        "content_review(f\"{feedback_prefix}_Ethics_Video\")"
      ]
    },
    {
      "cell_type": "code",
      "execution_count": null,
      "metadata": {
        "cellView": "form",
        "execution": {},
        "id": "gQrSsa12kx3B"
      },
      "outputs": [],
      "source": [
        "# @title Video 16: Be a group\n",
        "from ipywidgets import widgets\n",
        "from IPython.display import YouTubeVideo\n",
        "from IPython.display import IFrame\n",
        "from IPython.display import display\n",
        "\n",
        "\n",
        "class PlayVideo(IFrame):\n",
        "  def __init__(self, id, source, page=1, width=400, height=300, **kwargs):\n",
        "    self.id = id\n",
        "    if source == 'Bilibili':\n",
        "      src = f'https://player.bilibili.com/player.html?bvid={id}&page={page}'\n",
        "    elif source == 'Osf':\n",
        "      src = f'https://mfr.ca-1.osf.io/render?url=https://osf.io/download/{id}/?direct%26mode=render'\n",
        "    super(PlayVideo, self).__init__(src, width, height, **kwargs)\n",
        "\n",
        "\n",
        "def display_videos(video_ids, W=400, H=300, fs=1):\n",
        "  tab_contents = []\n",
        "  for i, video_id in enumerate(video_ids):\n",
        "    out = widgets.Output()\n",
        "    with out:\n",
        "      if video_ids[i][0] == 'Youtube':\n",
        "        video = YouTubeVideo(id=video_ids[i][1], width=W,\n",
        "                             height=H, fs=fs, rel=0)\n",
        "        print(f'Video available at https://youtube.com/watch?v={video.id}')\n",
        "      else:\n",
        "        video = PlayVideo(id=video_ids[i][1], source=video_ids[i][0], width=W,\n",
        "                          height=H, fs=fs, autoplay=False)\n",
        "        if video_ids[i][0] == 'Bilibili':\n",
        "          print(f'Video available at https://www.bilibili.com/video/{video.id}')\n",
        "        elif video_ids[i][0] == 'Osf':\n",
        "          print(f'Video available at https://osf.io/{video.id}')\n",
        "      display(video)\n",
        "    tab_contents.append(out)\n",
        "  return tab_contents\n",
        "\n",
        "\n",
        "video_ids = [('Youtube', 'Sfp6--d_H1A'), ('Bilibili', 'BV1j44y1272h')]\n",
        "tab_contents = display_videos(video_ids, W=854, H=480)\n",
        "tabs = widgets.Tab()\n",
        "tabs.children = tab_contents\n",
        "for i in range(len(tab_contents)):\n",
        "  tabs.set_title(i, video_ids[i][0])\n",
        "display(tabs)"
      ]
    },
    {
      "cell_type": "code",
      "execution_count": null,
      "metadata": {
        "cellView": "form",
        "execution": {},
        "id": "-EsrmVLNkx3B"
      },
      "outputs": [],
      "source": [
        "# @title Submit your feedback\n",
        "content_review(f\"{feedback_prefix}_Be_a_group_Video\")"
      ]
    },
    {
      "cell_type": "code",
      "execution_count": null,
      "metadata": {
        "cellView": "form",
        "execution": {},
        "id": "SsrfOw8Okx3F"
      },
      "outputs": [],
      "source": [
        "# @title Video 17: Syllabus\n",
        "from ipywidgets import widgets\n",
        "from IPython.display import YouTubeVideo\n",
        "from IPython.display import IFrame\n",
        "from IPython.display import display\n",
        "\n",
        "\n",
        "class PlayVideo(IFrame):\n",
        "  def __init__(self, id, source, page=1, width=400, height=300, **kwargs):\n",
        "    self.id = id\n",
        "    if source == 'Bilibili':\n",
        "      src = f'https://player.bilibili.com/player.html?bvid={id}&page={page}'\n",
        "    elif source == 'Osf':\n",
        "      src = f'https://mfr.ca-1.osf.io/render?url=https://osf.io/download/{id}/?direct%26mode=render'\n",
        "    super(PlayVideo, self).__init__(src, width, height, **kwargs)\n",
        "\n",
        "\n",
        "def display_videos(video_ids, W=400, H=300, fs=1):\n",
        "  tab_contents = []\n",
        "  for i, video_id in enumerate(video_ids):\n",
        "    out = widgets.Output()\n",
        "    with out:\n",
        "      if video_ids[i][0] == 'Youtube':\n",
        "        video = YouTubeVideo(id=video_ids[i][1], width=W,\n",
        "                             height=H, fs=fs, rel=0)\n",
        "        print(f'Video available at https://youtube.com/watch?v={video.id}')\n",
        "      else:\n",
        "        video = PlayVideo(id=video_ids[i][1], source=video_ids[i][0], width=W,\n",
        "                          height=H, fs=fs, autoplay=False)\n",
        "        if video_ids[i][0] == 'Bilibili':\n",
        "          print(f'Video available at https://www.bilibili.com/video/{video.id}')\n",
        "        elif video_ids[i][0] == 'Osf':\n",
        "          print(f'Video available at https://osf.io/{video.id}')\n",
        "      display(video)\n",
        "    tab_contents.append(out)\n",
        "  return tab_contents\n",
        "\n",
        "\n",
        "video_ids = [('Youtube', 'cDvAqG_hAvQ'), ('Bilibili', 'BV1iB4y1N7uQ')]\n",
        "tab_contents = display_videos(video_ids, W=854, H=480)\n",
        "tabs = widgets.Tab()\n",
        "tabs.children = tab_contents\n",
        "for i in range(len(tab_contents)):\n",
        "  tabs.set_title(i, video_ids[i][0])\n",
        "display(tabs)"
      ]
    },
    {
      "cell_type": "code",
      "execution_count": null,
      "metadata": {
        "cellView": "form",
        "execution": {},
        "id": "U-wmpbDokx3G"
      },
      "outputs": [],
      "source": [
        "# @title Submit your feedback\n",
        "content_review(f\"{feedback_prefix}_Syllabus_Video\")"
      ]
    },
    {
      "cell_type": "markdown",
      "metadata": {
        "execution": {},
        "id": "Txslp-G8kx3G"
      },
      "source": [
        "## Meet our lecturers\n",
        "\n",
        "### Week 1: the building blocks\n",
        "* [Konrad Kording](https://kordinglab.com)\n",
        "* [Andrew Saxe](https://www.saxelab.org/)\n",
        "* [Surya Ganguli](https://ganguli-gang.stanford.edu/)\n",
        "* [Ioannis Mitliagkas](http://mitliagkas.github.io/)\n",
        "* [Lyle Ungar](https://www.cis.upenn.edu/~ungar/)\n",
        "\n",
        "### Week 2: making things work\n",
        "* [Alona Fyshe](https://webdocs.cs.ualberta.ca/~alona/)\n",
        "* [Alexander Ecker](https://eckerlab.org/)\n",
        "* [James Evans](https://sociology.uchicago.edu/directory/james-evans)\n",
        "* [He He](https://hhexiy.github.io/)\n",
        "* [Vikash Gilja](https://tnel.ucsd.edu/bio) and [Akash Srivastava](https://akashgit.github.io/)\n",
        "\n",
        "### Week 3: more magic\n",
        "* [Tim Lillicrap](https://contrastiveconvergence.net/~timothylillicrap/index.php) and [Blake Richards](https://www.mcgill.ca/neuro/blake-richards-phd)\n",
        "* [Jane Wang](http://www.janexwang.com/) and [Feryal Behbahani](https://feryal.github.io/)\n",
        "* [Tim Lillicrap](https://contrastiveconvergence.net/~timothylillicrap/index.php) and [Blake Richards](https://www.mcgill.ca/neuro/blake-richards-phd)\n",
        "* [Josh Vogelstein](https://jovo.me/) and [Vincenzo Lamonaco](https://www.vincenzolomonaco.com/)"
      ]
    },
    {
      "cell_type": "markdown",
      "metadata": {
        "execution": {},
        "id": "A-Edm9E4kx3G"
      },
      "source": [
        "Now, go to the [visualization of ICLR papers](https://iclr.cc/virtual/2021/paper_vis.html). Read a few abstracts. Look at the various clusters. Where do you see yourself in this map?"
      ]
    },
    {
      "cell_type": "markdown",
      "metadata": {
        "execution": {},
        "id": "XLDfykutkx3G"
      },
      "source": [
        "---\n",
        "# Daily survey\n",
        "\n",
        "Don't forget to complete your reflections and content check in the daily survey! Please be patient after logging in as there is\n",
        "a small delay before you will be redirected to the survey.\n",
        "\n",
        "<a href=\"https://portal.neuromatchacademy.org/api/redirect/to/f2da6480-069c-49b9-a37b-8750f9d6f359\"><img src=\"https://github.com/NeuromatchAcademy/course-content-dl/blob/main/tutorials/static/SurveyButton.png?raw=1\" alt=\"button link to survey\" style=\"width:410px\"></a>"
      ]
    },
    {
      "cell_type": "markdown",
      "metadata": {
        "execution": {},
        "id": "I-XN7ttxkx3H"
      },
      "source": [
        "---\n",
        "# Bonus - 60 years of Machine Learning Research in one Plot\n",
        "\n",
        "By [Hendrik Strobelt](http://hendrik.strobelt.com) (MIT-IBM Watson AI Lab) with support from Benjamin Hoover.\n",
        "\n",
        "In this notebook we visualize a subset* of 3,300 articles retreived from the AllenAI [S2ORC dataset](https://github.com/allenai/s2orc). We represent each paper by a position that is output of a dimensionality reduction method applied to a vector representation of each paper. The vector representation is the output of a neural network.\n",
        "\n",
        "**Note:** The selection is very biased on the keywords and methodology we used to filter. Please see the details section to learn about what we did."
      ]
    },
    {
      "cell_type": "code",
      "execution_count": null,
      "metadata": {
        "cellView": "form",
        "execution": {},
        "id": "cpOWiHeckx3H"
      },
      "outputs": [],
      "source": [
        "# @title Install and Import `altair` and `vega_datasets`.\n",
        "!pip install altair vega_datasets --quiet\n",
        "\n",
        "import altair as alt  # altair is defining data visualizations\n",
        "\n",
        "# Source data files\n",
        "# Position data file maps ID to x,y positions\n",
        "# original link: http://gltr.io/temp/ml_regexv1_cs_ma_citation+_99perc.pos_umap_cosine_100_d0.1.json\n",
        "POS_FILE = 'https://osf.io/qyrfn/download'\n",
        "# original link: http://gltr.io/temp/ml_regexv1_cs_ma_citation+_99perc_clean.csv\n",
        "# Metadata file maps ID to title, abstract, author,....\n",
        "META_FILE = 'https://osf.io/vfdu6/download'\n",
        "\n",
        "# data loading and wrangling\n",
        "def load_data():\n",
        "  \"\"\"\n",
        "  Loading the data\n",
        "\n",
        "  Args:\n",
        "    None\n",
        "\n",
        "  Returns:\n",
        "    Merged read dataFrame combining id and paper_id;\n",
        "  \"\"\"\n",
        "  positions = pd.read_json(POS_FILE)\n",
        "  positions[['x', 'y']] = positions['pos'].to_list()\n",
        "  meta = pd.read_csv(META_FILE)\n",
        "  return positions.merge(meta, left_on='id', right_on='paper_id')\n",
        "\n",
        "\n",
        "# load data\n",
        "data = load_data()"
      ]
    },
    {
      "cell_type": "code",
      "execution_count": null,
      "metadata": {
        "cellView": "form",
        "execution": {},
        "id": "Uuiu_A_Ukx3H"
      },
      "outputs": [],
      "source": [
        "# @title Define Visualization using ALtair\n",
        "YEAR_PERIOD = \"quinquennial\"  # @param\n",
        "selection = alt.selection_multi(fields=[YEAR_PERIOD], bind='legend')\n",
        "data[YEAR_PERIOD] = (data[\"year\"] / 5.0).apply(np.floor) * 5\n",
        "chart = alt.Chart(data[[\"x\", \"y\", \"authors\", \"title\", YEAR_PERIOD, \"citation_count\"]], width=800,\n",
        "                  height=800).mark_circle(radius=2, opacity=0.2).encode(\n",
        "    alt.Color(YEAR_PERIOD+':O',\n",
        "              scale=alt.Scale(scheme='viridis', reverse=False, clamp=True, domain=list(range(1955,2020,5))),\n",
        "              # legend=alt.Legend(title='Total Records')\n",
        "              ),\n",
        "    alt.Size('citation_count',\n",
        "              scale=alt.Scale(type=\"pow\", exponent=1, range=[15, 300])\n",
        "              ),\n",
        "       alt.X('x:Q',\n",
        "        scale=alt.Scale(zero=False), axis=alt.Axis(labels=False)\n",
        "    ),\n",
        "       alt.Y('y:Q',\n",
        "        scale=alt.Scale(zero=False), axis=alt.Axis(labels=False)\n",
        "    ),\n",
        "    tooltip=['title', 'authors'],\n",
        "    # size='citation_count',\n",
        "    # color=\"decade:O\",\n",
        "    opacity=alt.condition(selection, alt.value(.8), alt.value(0.2)),\n",
        "\n",
        ").add_selection(\n",
        "    selection\n",
        ").interactive()"
      ]
    },
    {
      "cell_type": "markdown",
      "source": [
        "# New Section"
      ],
      "metadata": {
        "id": "_hGrvA2dpL9u"
      }
    },
    {
      "cell_type": "markdown",
      "metadata": {
        "execution": {},
        "id": "_3qsnQTekx3H"
      },
      "source": [
        "Lets look at the Visualization. Each dot represents one paper. Close dots mean that the respective papers are closer related than distant ones. The color indicates the 5-year period of when the paper was published. The dot size indicates the citation count (within S2ORC corpus) as of July 2020.\n",
        "\n",
        "The view is **interactive** and allows for three main interactions. Try them and play around:\n",
        "1. Hover over a dot to see a tooltip (title, author)\n",
        "2. Select a year in the legend (right) to filter dots\n",
        "3. Zoom in/out with scroll -- double click resets view"
      ]
    },
    {
      "cell_type": "code",
      "execution_count": null,
      "metadata": {
        "execution": {},
        "id": "op4ZlJOqkx3H"
      },
      "outputs": [],
      "source": [
        "chart"
      ]
    },
    {
      "cell_type": "markdown",
      "metadata": {
        "execution": {},
        "id": "xlhLSFzWkx3H"
      },
      "source": [
        "## Questions\n",
        "\n",
        "By playing around, can you find some answers to the following questions?\n",
        "\n",
        "1. Can you find topical clusters? What cluster might occur because of a filtering error?\n",
        "2. Can you see a temporal trend in the data and clusters?\n",
        "3. Can you determine when deep learning methods started booming ?\n",
        "4. Can you find the key papers that where written before the DL \"winter\" that define milestones for a cluster? (tip: look for large dots of different color)"
      ]
    },
    {
      "cell_type": "markdown",
      "metadata": {
        "execution": {},
        "id": "MsUBDTJ1kx3J"
      },
      "source": [
        "[*Click for solution*](https://github.com/NeuromatchAcademy/course-content-dl/tree/main/tutorials/W1D1_BasicsAndPytorch/solutions/W1D1_Tutorial1_Solution_21a88cd0.py)\n",
        "\n"
      ]
    },
    {
      "cell_type": "code",
      "execution_count": null,
      "metadata": {
        "cellView": "form",
        "execution": {},
        "id": "YVerbzyPkx3K"
      },
      "outputs": [],
      "source": [
        "# @title Submit your feedback\n",
        "content_review(f\"{feedback_prefix}_Bonus_Section_Discussion\")"
      ]
    },
    {
      "cell_type": "markdown",
      "metadata": {
        "execution": {},
        "id": "VfrDDHalkx3K"
      },
      "source": [
        "## Methods\n",
        "\n",
        "Here is what we did:\n",
        "1. Filtering of all papers who fullfilled the criterria:\n",
        "  - are categorized as `Computer Science` or `Mathematics`\n",
        "  - one of the following keywords appearing in title or abstract: `\"machine learning|artificial intelligence|neural network|(machine|computer) vision|perceptron|network architecture| RNN | CNN | LSTM | BLEU | MNIST | CIFAR |reinforcement learning|gradient descent| Imagenet \"`\n",
        "2. Per year, remove all papers that are below the 99 percentile of citation count in that year\n",
        "3. Embed each paper by using abstract + title in SPECTER model\n",
        "4. Project based on embedding using UMAP\n",
        "5. Visualize using Altair"
      ]
    },
    {
      "cell_type": "markdown",
      "metadata": {
        "execution": {},
        "id": "XGB9aQGVkx3L"
      },
      "source": [
        "### Find Authors"
      ]
    },
    {
      "cell_type": "code",
      "execution_count": null,
      "metadata": {
        "cellView": "form",
        "execution": {},
        "id": "Lsmn-bnWkx3L"
      },
      "outputs": [],
      "source": [
        "# @title Edit the `AUTHOR_FILTER` variable to full text search for authors.\n",
        "\n",
        "AUTHOR_FILTER = \"Rush \"  # @param space at the end means \"word border\"\n",
        "\n",
        "### Don't ignore case when searching...\n",
        "FLAGS = 0\n",
        "### uncomment do ignore case\n",
        "# FLAGS = re.IGNORECASE\n",
        "\n",
        "## --- FILTER CODE.. make it your own ---\n",
        "data['issel'] = data['authors'].str.contains(AUTHOR_FILTER, na=False, flags=FLAGS, )\n",
        "if data['issel'].mean()<0.0000000001:\n",
        "  print('No match found')\n",
        "\n",
        "## --- FROM HERE ON VIS CODE ---\n",
        "alt.Chart(data[[\"x\", \"y\", \"authors\", \"title\", YEAR_PERIOD, \"citation_count\", \"issel\"]], width=800,\n",
        "                  height=800) \\\n",
        "    .mark_circle(stroke=\"black\", strokeOpacity=1).encode(\n",
        "    alt.Color(YEAR_PERIOD+':O',\n",
        "              scale=alt.Scale(scheme='viridis', reverse=False),\n",
        "              # legend=alt.Legend(title='Total Records')\n",
        "              ),\n",
        "    alt.Size('citation_count',\n",
        "              scale=alt.Scale(type=\"pow\", exponent=1, range=[15, 300])\n",
        "              ),\n",
        "    alt.StrokeWidth('issel:Q', scale=alt.Scale(type=\"linear\", domain=[0,1], range=[0, 2]), legend=None),\n",
        "\n",
        "    alt.Opacity('issel:Q', scale=alt.Scale(type=\"linear\", domain=[0,1], range=[.2, 1]), legend=None),\n",
        "    alt.X('x:Q',\n",
        "        scale=alt.Scale(zero=False), axis=alt.Axis(labels=False)\n",
        "    ),\n",
        "    alt.Y('y:Q',\n",
        "        scale=alt.Scale(zero=False), axis=alt.Axis(labels=False)\n",
        "    ),\n",
        "    tooltip=['title', 'authors'],\n",
        ").interactive()"
      ]
    },
    {
      "cell_type": "markdown",
      "metadata": {
        "execution": {},
        "id": "hub4YBXikx3L"
      },
      "source": [
        "---\n",
        "# Appendix\n",
        "\n",
        "## Official PyTorch resources:\n",
        "\n",
        "### Tutorials\n",
        "- [https://pytorch.org/tutorials/](https://pytorch.org/tutorials/)\n",
        "\n",
        "### Documentation\n",
        "- [https://pytorch.org/docs/stable/tensors.html](https://pytorch.org/docs/stable/tensors.html) (tensor methods)\n",
        "\n",
        "- [https://pytorch.org/docs/stable/generated/torch.Tensor.view.html#torch.Tensor.view](https://pytorch.org/docs/stable/generated/torch.Tensor.view.html#torch.Tensor.view) (The view method in particular)\n",
        "\n",
        "- [https://pytorch.org/vision/stable/datasets.html](https://pytorch.org/vision/stable/datasets.html) (pre-loaded image datasets)\n",
        "\n",
        "## Google Colab Resources:\n",
        "- [https://research.google.com/colaboratory/faq.html](https://research.google.com/colaboratory/faq.html) (FAQ including guidance on GPU usage)\n",
        "\n",
        "## Books for reference:\n",
        "- [https://www.deeplearningbook.org/](https://www.deeplearningbook.org/) (Deep Learning by Ian Goodfellow, Yoshua Bengio and Aaron Courville)"
      ]
    }
  ],
  "metadata": {
    "accelerator": "GPU",
    "colab": {
      "name": "W1D1_Tutorial1",
      "provenance": [],
      "toc_visible": true
    },
    "kernel": {
      "display_name": "Python 3",
      "language": "python",
      "name": "python3"
    },
    "kernelspec": {
      "display_name": "Python 3",
      "name": "python3"
    },
    "language_info": {
      "codemirror_mode": {
        "name": "ipython",
        "version": 3
      },
      "file_extension": ".py",
      "mimetype": "text/x-python",
      "name": "python",
      "nbconvert_exporter": "python",
      "pygments_lexer": "ipython3",
      "version": "3.7.11"
    },
    "widgets": {
      "application/vnd.jupyter.widget-state+json": {
        "6ae118ea10194538ae6d81d0d7391077": {
          "model_module": "@jupyter-widgets/controls",
          "model_name": "TabModel",
          "model_module_version": "1.5.0",
          "state": {
            "_dom_classes": [],
            "_model_module": "@jupyter-widgets/controls",
            "_model_module_version": "1.5.0",
            "_model_name": "TabModel",
            "_titles": {
              "0": "Youtube",
              "1": "Bilibili"
            },
            "_view_count": null,
            "_view_module": "@jupyter-widgets/controls",
            "_view_module_version": "1.5.0",
            "_view_name": "TabView",
            "box_style": "",
            "children": [
              "IPY_MODEL_132aafb574794666a041cf56dcd1ce4a",
              "IPY_MODEL_47fe31407d0849c79e9cd20b49ec191d"
            ],
            "layout": "IPY_MODEL_9b19e4293a804d1aab1e2033f7a53a1e",
            "selected_index": 0
          }
        },
        "132aafb574794666a041cf56dcd1ce4a": {
          "model_module": "@jupyter-widgets/output",
          "model_name": "OutputModel",
          "model_module_version": "1.0.0",
          "state": {
            "_dom_classes": [],
            "_model_module": "@jupyter-widgets/output",
            "_model_module_version": "1.0.0",
            "_model_name": "OutputModel",
            "_view_count": null,
            "_view_module": "@jupyter-widgets/output",
            "_view_module_version": "1.0.0",
            "_view_name": "OutputView",
            "layout": "IPY_MODEL_716563df26ad44558259820c6396ad82",
            "msg_id": "",
            "outputs": [
              {
                "output_type": "stream",
                "name": "stdout",
                "text": [
                  "Video available at https://youtube.com/watch?v=9Mc9GFUtILY\n"
                ]
              },
              {
                "output_type": "display_data",
                "data": {
                  "text/plain": "<IPython.lib.display.YouTubeVideo at 0x79224993bb10>",
                  "text/html": "\n        <iframe\n            width=\"854\"\n            height=\"480\"\n            src=\"https://www.youtube.com/embed/9Mc9GFUtILY?fs=1&rel=0\"\n            frameborder=\"0\"\n            allowfullscreen\n            \n        ></iframe>\n        ",
                  "image/jpeg": "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\n"
                },
                "metadata": {}
              }
            ]
          }
        },
        "47fe31407d0849c79e9cd20b49ec191d": {
          "model_module": "@jupyter-widgets/output",
          "model_name": "OutputModel",
          "model_module_version": "1.0.0",
          "state": {
            "_dom_classes": [],
            "_model_module": "@jupyter-widgets/output",
            "_model_module_version": "1.0.0",
            "_model_name": "OutputModel",
            "_view_count": null,
            "_view_module": "@jupyter-widgets/output",
            "_view_module_version": "1.0.0",
            "_view_name": "OutputView",
            "layout": "IPY_MODEL_7af7260402c14ea68dec94257d366286",
            "msg_id": "",
            "outputs": [
              {
                "output_type": "stream",
                "name": "stdout",
                "text": [
                  "Video available at https://www.bilibili.com/video/BV1nM4y1K7qx\n"
                ]
              },
              {
                "output_type": "display_data",
                "data": {
                  "text/plain": "<__main__.PlayVideo at 0x79223e753bd0>",
                  "text/html": "\n        <iframe\n            width=\"854\"\n            height=\"480\"\n            src=\"https://player.bilibili.com/player.html?bvid=BV1nM4y1K7qx&page=1?fs=1&autoplay=False\"\n            frameborder=\"0\"\n            allowfullscreen\n            \n        ></iframe>\n        "
                },
                "metadata": {}
              }
            ]
          }
        },
        "9b19e4293a804d1aab1e2033f7a53a1e": {
          "model_module": "@jupyter-widgets/base",
          "model_name": "LayoutModel",
          "model_module_version": "1.2.0",
          "state": {
            "_model_module": "@jupyter-widgets/base",
            "_model_module_version": "1.2.0",
            "_model_name": "LayoutModel",
            "_view_count": null,
            "_view_module": "@jupyter-widgets/base",
            "_view_module_version": "1.2.0",
            "_view_name": "LayoutView",
            "align_content": null,
            "align_items": null,
            "align_self": null,
            "border": null,
            "bottom": null,
            "display": null,
            "flex": null,
            "flex_flow": null,
            "grid_area": null,
            "grid_auto_columns": null,
            "grid_auto_flow": null,
            "grid_auto_rows": null,
            "grid_column": null,
            "grid_gap": null,
            "grid_row": null,
            "grid_template_areas": null,
            "grid_template_columns": null,
            "grid_template_rows": null,
            "height": null,
            "justify_content": null,
            "justify_items": null,
            "left": null,
            "margin": null,
            "max_height": null,
            "max_width": null,
            "min_height": null,
            "min_width": null,
            "object_fit": null,
            "object_position": null,
            "order": null,
            "overflow": null,
            "overflow_x": null,
            "overflow_y": null,
            "padding": null,
            "right": null,
            "top": null,
            "visibility": null,
            "width": null
          }
        },
        "716563df26ad44558259820c6396ad82": {
          "model_module": "@jupyter-widgets/base",
          "model_name": "LayoutModel",
          "model_module_version": "1.2.0",
          "state": {
            "_model_module": "@jupyter-widgets/base",
            "_model_module_version": "1.2.0",
            "_model_name": "LayoutModel",
            "_view_count": null,
            "_view_module": "@jupyter-widgets/base",
            "_view_module_version": "1.2.0",
            "_view_name": "LayoutView",
            "align_content": null,
            "align_items": null,
            "align_self": null,
            "border": null,
            "bottom": null,
            "display": null,
            "flex": null,
            "flex_flow": null,
            "grid_area": null,
            "grid_auto_columns": null,
            "grid_auto_flow": null,
            "grid_auto_rows": null,
            "grid_column": null,
            "grid_gap": null,
            "grid_row": null,
            "grid_template_areas": null,
            "grid_template_columns": null,
            "grid_template_rows": null,
            "height": null,
            "justify_content": null,
            "justify_items": null,
            "left": null,
            "margin": null,
            "max_height": null,
            "max_width": null,
            "min_height": null,
            "min_width": null,
            "object_fit": null,
            "object_position": null,
            "order": null,
            "overflow": null,
            "overflow_x": null,
            "overflow_y": null,
            "padding": null,
            "right": null,
            "top": null,
            "visibility": null,
            "width": null
          }
        },
        "7af7260402c14ea68dec94257d366286": {
          "model_module": "@jupyter-widgets/base",
          "model_name": "LayoutModel",
          "model_module_version": "1.2.0",
          "state": {
            "_model_module": "@jupyter-widgets/base",
            "_model_module_version": "1.2.0",
            "_model_name": "LayoutModel",
            "_view_count": null,
            "_view_module": "@jupyter-widgets/base",
            "_view_module_version": "1.2.0",
            "_view_name": "LayoutView",
            "align_content": null,
            "align_items": null,
            "align_self": null,
            "border": null,
            "bottom": null,
            "display": null,
            "flex": null,
            "flex_flow": null,
            "grid_area": null,
            "grid_auto_columns": null,
            "grid_auto_flow": null,
            "grid_auto_rows": null,
            "grid_column": null,
            "grid_gap": null,
            "grid_row": null,
            "grid_template_areas": null,
            "grid_template_columns": null,
            "grid_template_rows": null,
            "height": null,
            "justify_content": null,
            "justify_items": null,
            "left": null,
            "margin": null,
            "max_height": null,
            "max_width": null,
            "min_height": null,
            "min_width": null,
            "object_fit": null,
            "object_position": null,
            "order": null,
            "overflow": null,
            "overflow_x": null,
            "overflow_y": null,
            "padding": null,
            "right": null,
            "top": null,
            "visibility": null,
            "width": null
          }
        },
        "018e68d514a849b8b4acf69fac763019": {
          "model_module": "@jupyter-widgets/controls",
          "model_name": "VBoxModel",
          "model_module_version": "1.5.0",
          "state": {
            "_dom_classes": [],
            "_model_module": "@jupyter-widgets/controls",
            "_model_module_version": "1.5.0",
            "_model_name": "VBoxModel",
            "_view_count": null,
            "_view_module": "@jupyter-widgets/controls",
            "_view_module_version": "1.5.0",
            "_view_name": "VBoxView",
            "box_style": "",
            "children": [
              "IPY_MODEL_2fe6f90634044d548dc31c6f98082c61"
            ],
            "layout": "IPY_MODEL_37502699a89745fdbadee9d1d4200bfe"
          }
        },
        "2fe6f90634044d548dc31c6f98082c61": {
          "model_module": "@jupyter-widgets/controls",
          "model_name": "VBoxModel",
          "model_module_version": "1.5.0",
          "state": {
            "_dom_classes": [],
            "_model_module": "@jupyter-widgets/controls",
            "_model_module_version": "1.5.0",
            "_model_name": "VBoxModel",
            "_view_count": null,
            "_view_module": "@jupyter-widgets/controls",
            "_view_module_version": "1.5.0",
            "_view_name": "VBoxView",
            "box_style": "",
            "children": [
              "IPY_MODEL_3e9e64b99970491baac358400769c5ba",
              "IPY_MODEL_f28b22eb24114ec7bf1a565073979161",
              "IPY_MODEL_cb9f13a7cef14ef483750d7b1db1972f"
            ],
            "layout": "IPY_MODEL_5efdfd14270c4482b8837a8827b59294"
          }
        },
        "37502699a89745fdbadee9d1d4200bfe": {
          "model_module": "@jupyter-widgets/base",
          "model_name": "LayoutModel",
          "model_module_version": "1.2.0",
          "state": {
            "_model_module": "@jupyter-widgets/base",
            "_model_module_version": "1.2.0",
            "_model_name": "LayoutModel",
            "_view_count": null,
            "_view_module": "@jupyter-widgets/base",
            "_view_module_version": "1.2.0",
            "_view_name": "LayoutView",
            "align_content": null,
            "align_items": null,
            "align_self": null,
            "border": null,
            "bottom": null,
            "display": null,
            "flex": null,
            "flex_flow": null,
            "grid_area": null,
            "grid_auto_columns": null,
            "grid_auto_flow": null,
            "grid_auto_rows": null,
            "grid_column": null,
            "grid_gap": null,
            "grid_row": null,
            "grid_template_areas": null,
            "grid_template_columns": null,
            "grid_template_rows": null,
            "height": null,
            "justify_content": null,
            "justify_items": null,
            "left": null,
            "margin": null,
            "max_height": null,
            "max_width": null,
            "min_height": null,
            "min_width": null,
            "object_fit": null,
            "object_position": null,
            "order": null,
            "overflow": null,
            "overflow_x": null,
            "overflow_y": null,
            "padding": null,
            "right": null,
            "top": null,
            "visibility": null,
            "width": null
          }
        },
        "3e9e64b99970491baac358400769c5ba": {
          "model_module": "@jupyter-widgets/controls",
          "model_name": "HBoxModel",
          "model_module_version": "1.5.0",
          "state": {
            "_dom_classes": [],
            "_model_module": "@jupyter-widgets/controls",
            "_model_module_version": "1.5.0",
            "_model_name": "HBoxModel",
            "_view_count": null,
            "_view_module": "@jupyter-widgets/controls",
            "_view_module_version": "1.5.0",
            "_view_name": "HBoxView",
            "box_style": "",
            "children": [
              "IPY_MODEL_7b4af0b9dbd94c4b8cc4e4ccbd189e2c",
              "IPY_MODEL_c96cee18927645918a688eb587abc5e2",
              "IPY_MODEL_8043933399a84298b23d0f0fd1d903b3"
            ],
            "layout": "IPY_MODEL_df37033c2a61499f832a5289e99336de"
          }
        },
        "f28b22eb24114ec7bf1a565073979161": {
          "model_module": "@jupyter-widgets/controls",
          "model_name": "HBoxModel",
          "model_module_version": "1.5.0",
          "state": {
            "_dom_classes": [],
            "_model_module": "@jupyter-widgets/controls",
            "_model_module_version": "1.5.0",
            "_model_name": "HBoxModel",
            "_view_count": null,
            "_view_module": "@jupyter-widgets/controls",
            "_view_module_version": "1.5.0",
            "_view_name": "HBoxView",
            "box_style": "",
            "children": [
              "IPY_MODEL_7a5e674e17694d35a2df4992b7488d78",
              "IPY_MODEL_e0800b2b701b4b56a286069671fc2808"
            ],
            "layout": "IPY_MODEL_f6f01e92b0a84b0180a203bb006f620b"
          }
        },
        "cb9f13a7cef14ef483750d7b1db1972f": {
          "model_module": "@jupyter-widgets/controls",
          "model_name": "LabelModel",
          "model_module_version": "1.5.0",
          "state": {
            "_dom_classes": [],
            "_model_module": "@jupyter-widgets/controls",
            "_model_module_version": "1.5.0",
            "_model_name": "LabelModel",
            "_view_count": null,
            "_view_module": "@jupyter-widgets/controls",
            "_view_module_version": "1.5.0",
            "_view_name": "LabelView",
            "description": "",
            "description_tooltip": null,
            "layout": "IPY_MODEL_55f27552660944ed9665d35e2d2ff2a2",
            "placeholder": "​",
            "style": "IPY_MODEL_83b2ffc721424c83965d8355bd78da3e",
            "value": "Thanks for your feedback!"
          }
        },
        "5efdfd14270c4482b8837a8827b59294": {
          "model_module": "@jupyter-widgets/base",
          "model_name": "LayoutModel",
          "model_module_version": "1.2.0",
          "state": {
            "_model_module": "@jupyter-widgets/base",
            "_model_module_version": "1.2.0",
            "_model_name": "LayoutModel",
            "_view_count": null,
            "_view_module": "@jupyter-widgets/base",
            "_view_module_version": "1.2.0",
            "_view_name": "LayoutView",
            "align_content": null,
            "align_items": null,
            "align_self": null,
            "border": null,
            "bottom": null,
            "display": null,
            "flex": null,
            "flex_flow": null,
            "grid_area": null,
            "grid_auto_columns": null,
            "grid_auto_flow": null,
            "grid_auto_rows": null,
            "grid_column": null,
            "grid_gap": null,
            "grid_row": null,
            "grid_template_areas": null,
            "grid_template_columns": null,
            "grid_template_rows": null,
            "height": null,
            "justify_content": null,
            "justify_items": null,
            "left": null,
            "margin": null,
            "max_height": null,
            "max_width": null,
            "min_height": null,
            "min_width": null,
            "object_fit": null,
            "object_position": null,
            "order": null,
            "overflow": null,
            "overflow_x": null,
            "overflow_y": null,
            "padding": null,
            "right": null,
            "top": null,
            "visibility": null,
            "width": null
          }
        },
        "7b4af0b9dbd94c4b8cc4e4ccbd189e2c": {
          "model_module": "@jupyter-widgets/controls",
          "model_name": "ButtonModel",
          "model_module_version": "1.5.0",
          "state": {
            "_dom_classes": [
              "happy"
            ],
            "_model_module": "@jupyter-widgets/controls",
            "_model_module_version": "1.5.0",
            "_model_name": "ButtonModel",
            "_view_count": null,
            "_view_module": "@jupyter-widgets/controls",
            "_view_module_version": "1.5.0",
            "_view_name": "ButtonView",
            "button_style": "",
            "description": "🙂",
            "disabled": false,
            "icon": "",
            "layout": "IPY_MODEL_fb7a5ddb487643089b05ba8e0b5c949f",
            "style": "IPY_MODEL_a81ce2f5f5df4c0986814fe7c6a9bdfb",
            "tooltip": "happy"
          }
        },
        "c96cee18927645918a688eb587abc5e2": {
          "model_module": "@jupyter-widgets/controls",
          "model_name": "ButtonModel",
          "model_module_version": "1.5.0",
          "state": {
            "_dom_classes": [
              "medium"
            ],
            "_model_module": "@jupyter-widgets/controls",
            "_model_module_version": "1.5.0",
            "_model_name": "ButtonModel",
            "_view_count": null,
            "_view_module": "@jupyter-widgets/controls",
            "_view_module_version": "1.5.0",
            "_view_name": "ButtonView",
            "button_style": "",
            "description": "😐",
            "disabled": false,
            "icon": "",
            "layout": "IPY_MODEL_5fe66902744543a9b7565be6bdd2e59c",
            "style": "IPY_MODEL_1f32b43629564e74b2f4e078e40d7d01",
            "tooltip": "medium"
          }
        },
        "8043933399a84298b23d0f0fd1d903b3": {
          "model_module": "@jupyter-widgets/controls",
          "model_name": "ButtonModel",
          "model_module_version": "1.5.0",
          "state": {
            "_dom_classes": [
              "sad"
            ],
            "_model_module": "@jupyter-widgets/controls",
            "_model_module_version": "1.5.0",
            "_model_name": "ButtonModel",
            "_view_count": null,
            "_view_module": "@jupyter-widgets/controls",
            "_view_module_version": "1.5.0",
            "_view_name": "ButtonView",
            "button_style": "",
            "description": "🙁",
            "disabled": false,
            "icon": "",
            "layout": "IPY_MODEL_973e4a851a1343a0adead7bf9c30a8a5",
            "style": "IPY_MODEL_7c339b6c2db94a1ca6b3055e03f6c705",
            "tooltip": "sad"
          }
        },
        "df37033c2a61499f832a5289e99336de": {
          "model_module": "@jupyter-widgets/base",
          "model_name": "LayoutModel",
          "model_module_version": "1.2.0",
          "state": {
            "_model_module": "@jupyter-widgets/base",
            "_model_module_version": "1.2.0",
            "_model_name": "LayoutModel",
            "_view_count": null,
            "_view_module": "@jupyter-widgets/base",
            "_view_module_version": "1.2.0",
            "_view_name": "LayoutView",
            "align_content": null,
            "align_items": null,
            "align_self": null,
            "border": null,
            "bottom": null,
            "display": null,
            "flex": null,
            "flex_flow": null,
            "grid_area": null,
            "grid_auto_columns": null,
            "grid_auto_flow": null,
            "grid_auto_rows": null,
            "grid_column": null,
            "grid_gap": null,
            "grid_row": null,
            "grid_template_areas": null,
            "grid_template_columns": null,
            "grid_template_rows": null,
            "height": null,
            "justify_content": null,
            "justify_items": null,
            "left": null,
            "margin": null,
            "max_height": null,
            "max_width": null,
            "min_height": null,
            "min_width": null,
            "object_fit": null,
            "object_position": null,
            "order": null,
            "overflow": null,
            "overflow_x": null,
            "overflow_y": null,
            "padding": null,
            "right": null,
            "top": null,
            "visibility": null,
            "width": null
          }
        },
        "7a5e674e17694d35a2df4992b7488d78": {
          "model_module": "@jupyter-widgets/controls",
          "model_name": "TextareaModel",
          "model_module_version": "1.5.0",
          "state": {
            "_dom_classes": [],
            "_model_module": "@jupyter-widgets/controls",
            "_model_module_version": "1.5.0",
            "_model_name": "TextareaModel",
            "_view_count": null,
            "_view_module": "@jupyter-widgets/controls",
            "_view_module_version": "1.5.0",
            "_view_name": "TextareaView",
            "continuous_update": true,
            "description": "",
            "description_tooltip": null,
            "disabled": false,
            "layout": "IPY_MODEL_667353a3b2b649eeb877eaef053122de",
            "placeholder": "We want your feedback!",
            "rows": null,
            "style": "IPY_MODEL_6f75c0b6f14b43b18ef2da1128f48e55",
            "value": ""
          }
        },
        "e0800b2b701b4b56a286069671fc2808": {
          "model_module": "@jupyter-widgets/controls",
          "model_name": "ButtonModel",
          "model_module_version": "1.5.0",
          "state": {
            "_dom_classes": [],
            "_model_module": "@jupyter-widgets/controls",
            "_model_module_version": "1.5.0",
            "_model_name": "ButtonModel",
            "_view_count": null,
            "_view_module": "@jupyter-widgets/controls",
            "_view_module_version": "1.5.0",
            "_view_name": "ButtonView",
            "button_style": "",
            "description": "Submit",
            "disabled": false,
            "icon": "",
            "layout": "IPY_MODEL_a4335d8540814a0c8cba7efcfd81e17c",
            "style": "IPY_MODEL_b5361e94c1af43ecb050dff994ef1cd6",
            "tooltip": ""
          }
        },
        "f6f01e92b0a84b0180a203bb006f620b": {
          "model_module": "@jupyter-widgets/base",
          "model_name": "LayoutModel",
          "model_module_version": "1.2.0",
          "state": {
            "_model_module": "@jupyter-widgets/base",
            "_model_module_version": "1.2.0",
            "_model_name": "LayoutModel",
            "_view_count": null,
            "_view_module": "@jupyter-widgets/base",
            "_view_module_version": "1.2.0",
            "_view_name": "LayoutView",
            "align_content": null,
            "align_items": null,
            "align_self": null,
            "border": null,
            "bottom": null,
            "display": "none",
            "flex": null,
            "flex_flow": null,
            "grid_area": null,
            "grid_auto_columns": null,
            "grid_auto_flow": null,
            "grid_auto_rows": null,
            "grid_column": null,
            "grid_gap": null,
            "grid_row": null,
            "grid_template_areas": null,
            "grid_template_columns": null,
            "grid_template_rows": null,
            "height": null,
            "justify_content": null,
            "justify_items": null,
            "left": null,
            "margin": null,
            "max_height": null,
            "max_width": null,
            "min_height": null,
            "min_width": null,
            "object_fit": null,
            "object_position": null,
            "order": null,
            "overflow": null,
            "overflow_x": null,
            "overflow_y": null,
            "padding": null,
            "right": null,
            "top": null,
            "visibility": null,
            "width": null
          }
        },
        "55f27552660944ed9665d35e2d2ff2a2": {
          "model_module": "@jupyter-widgets/base",
          "model_name": "LayoutModel",
          "model_module_version": "1.2.0",
          "state": {
            "_model_module": "@jupyter-widgets/base",
            "_model_module_version": "1.2.0",
            "_model_name": "LayoutModel",
            "_view_count": null,
            "_view_module": "@jupyter-widgets/base",
            "_view_module_version": "1.2.0",
            "_view_name": "LayoutView",
            "align_content": null,
            "align_items": null,
            "align_self": null,
            "border": null,
            "bottom": null,
            "display": "none",
            "flex": null,
            "flex_flow": null,
            "grid_area": null,
            "grid_auto_columns": null,
            "grid_auto_flow": null,
            "grid_auto_rows": null,
            "grid_column": null,
            "grid_gap": null,
            "grid_row": null,
            "grid_template_areas": null,
            "grid_template_columns": null,
            "grid_template_rows": null,
            "height": null,
            "justify_content": null,
            "justify_items": null,
            "left": null,
            "margin": null,
            "max_height": null,
            "max_width": null,
            "min_height": null,
            "min_width": null,
            "object_fit": null,
            "object_position": null,
            "order": null,
            "overflow": null,
            "overflow_x": null,
            "overflow_y": null,
            "padding": null,
            "right": null,
            "top": null,
            "visibility": null,
            "width": null
          }
        },
        "83b2ffc721424c83965d8355bd78da3e": {
          "model_module": "@jupyter-widgets/controls",
          "model_name": "DescriptionStyleModel",
          "model_module_version": "1.5.0",
          "state": {
            "_model_module": "@jupyter-widgets/controls",
            "_model_module_version": "1.5.0",
            "_model_name": "DescriptionStyleModel",
            "_view_count": null,
            "_view_module": "@jupyter-widgets/base",
            "_view_module_version": "1.2.0",
            "_view_name": "StyleView",
            "description_width": ""
          }
        },
        "fb7a5ddb487643089b05ba8e0b5c949f": {
          "model_module": "@jupyter-widgets/base",
          "model_name": "LayoutModel",
          "model_module_version": "1.2.0",
          "state": {
            "_model_module": "@jupyter-widgets/base",
            "_model_module_version": "1.2.0",
            "_model_name": "LayoutModel",
            "_view_count": null,
            "_view_module": "@jupyter-widgets/base",
            "_view_module_version": "1.2.0",
            "_view_name": "LayoutView",
            "align_content": null,
            "align_items": null,
            "align_self": null,
            "border": null,
            "bottom": null,
            "display": null,
            "flex": null,
            "flex_flow": null,
            "grid_area": null,
            "grid_auto_columns": null,
            "grid_auto_flow": null,
            "grid_auto_rows": null,
            "grid_column": null,
            "grid_gap": null,
            "grid_row": null,
            "grid_template_areas": null,
            "grid_template_columns": null,
            "grid_template_rows": null,
            "height": "auto",
            "justify_content": null,
            "justify_items": null,
            "left": null,
            "margin": null,
            "max_height": null,
            "max_width": null,
            "min_height": null,
            "min_width": null,
            "object_fit": null,
            "object_position": null,
            "order": null,
            "overflow": null,
            "overflow_x": null,
            "overflow_y": null,
            "padding": "0.5em",
            "right": null,
            "top": null,
            "visibility": null,
            "width": "auto"
          }
        },
        "a81ce2f5f5df4c0986814fe7c6a9bdfb": {
          "model_module": "@jupyter-widgets/controls",
          "model_name": "ButtonStyleModel",
          "model_module_version": "1.5.0",
          "state": {
            "_model_module": "@jupyter-widgets/controls",
            "_model_module_version": "1.5.0",
            "_model_name": "ButtonStyleModel",
            "_view_count": null,
            "_view_module": "@jupyter-widgets/base",
            "_view_module_version": "1.2.0",
            "_view_name": "StyleView",
            "button_color": "#aaffaa",
            "font_weight": ""
          }
        },
        "5fe66902744543a9b7565be6bdd2e59c": {
          "model_module": "@jupyter-widgets/base",
          "model_name": "LayoutModel",
          "model_module_version": "1.2.0",
          "state": {
            "_model_module": "@jupyter-widgets/base",
            "_model_module_version": "1.2.0",
            "_model_name": "LayoutModel",
            "_view_count": null,
            "_view_module": "@jupyter-widgets/base",
            "_view_module_version": "1.2.0",
            "_view_name": "LayoutView",
            "align_content": null,
            "align_items": null,
            "align_self": null,
            "border": null,
            "bottom": null,
            "display": null,
            "flex": null,
            "flex_flow": null,
            "grid_area": null,
            "grid_auto_columns": null,
            "grid_auto_flow": null,
            "grid_auto_rows": null,
            "grid_column": null,
            "grid_gap": null,
            "grid_row": null,
            "grid_template_areas": null,
            "grid_template_columns": null,
            "grid_template_rows": null,
            "height": "auto",
            "justify_content": null,
            "justify_items": null,
            "left": null,
            "margin": null,
            "max_height": null,
            "max_width": null,
            "min_height": null,
            "min_width": null,
            "object_fit": null,
            "object_position": null,
            "order": null,
            "overflow": null,
            "overflow_x": null,
            "overflow_y": null,
            "padding": "0.5em",
            "right": null,
            "top": null,
            "visibility": null,
            "width": "auto"
          }
        },
        "1f32b43629564e74b2f4e078e40d7d01": {
          "model_module": "@jupyter-widgets/controls",
          "model_name": "ButtonStyleModel",
          "model_module_version": "1.5.0",
          "state": {
            "_model_module": "@jupyter-widgets/controls",
            "_model_module_version": "1.5.0",
            "_model_name": "ButtonStyleModel",
            "_view_count": null,
            "_view_module": "@jupyter-widgets/base",
            "_view_module_version": "1.2.0",
            "_view_name": "StyleView",
            "button_color": "#dddd77",
            "font_weight": ""
          }
        },
        "973e4a851a1343a0adead7bf9c30a8a5": {
          "model_module": "@jupyter-widgets/base",
          "model_name": "LayoutModel",
          "model_module_version": "1.2.0",
          "state": {
            "_model_module": "@jupyter-widgets/base",
            "_model_module_version": "1.2.0",
            "_model_name": "LayoutModel",
            "_view_count": null,
            "_view_module": "@jupyter-widgets/base",
            "_view_module_version": "1.2.0",
            "_view_name": "LayoutView",
            "align_content": null,
            "align_items": null,
            "align_self": null,
            "border": null,
            "bottom": null,
            "display": null,
            "flex": null,
            "flex_flow": null,
            "grid_area": null,
            "grid_auto_columns": null,
            "grid_auto_flow": null,
            "grid_auto_rows": null,
            "grid_column": null,
            "grid_gap": null,
            "grid_row": null,
            "grid_template_areas": null,
            "grid_template_columns": null,
            "grid_template_rows": null,
            "height": "auto",
            "justify_content": null,
            "justify_items": null,
            "left": null,
            "margin": null,
            "max_height": null,
            "max_width": null,
            "min_height": null,
            "min_width": null,
            "object_fit": null,
            "object_position": null,
            "order": null,
            "overflow": null,
            "overflow_x": null,
            "overflow_y": null,
            "padding": "0.5em",
            "right": null,
            "top": null,
            "visibility": null,
            "width": "auto"
          }
        },
        "7c339b6c2db94a1ca6b3055e03f6c705": {
          "model_module": "@jupyter-widgets/controls",
          "model_name": "ButtonStyleModel",
          "model_module_version": "1.5.0",
          "state": {
            "_model_module": "@jupyter-widgets/controls",
            "_model_module_version": "1.5.0",
            "_model_name": "ButtonStyleModel",
            "_view_count": null,
            "_view_module": "@jupyter-widgets/base",
            "_view_module_version": "1.2.0",
            "_view_name": "StyleView",
            "button_color": "#ffaaaa",
            "font_weight": ""
          }
        },
        "667353a3b2b649eeb877eaef053122de": {
          "model_module": "@jupyter-widgets/base",
          "model_name": "LayoutModel",
          "model_module_version": "1.2.0",
          "state": {
            "_model_module": "@jupyter-widgets/base",
            "_model_module_version": "1.2.0",
            "_model_name": "LayoutModel",
            "_view_count": null,
            "_view_module": "@jupyter-widgets/base",
            "_view_module_version": "1.2.0",
            "_view_name": "LayoutView",
            "align_content": null,
            "align_items": null,
            "align_self": null,
            "border": null,
            "bottom": null,
            "display": null,
            "flex": null,
            "flex_flow": null,
            "grid_area": null,
            "grid_auto_columns": null,
            "grid_auto_flow": null,
            "grid_auto_rows": null,
            "grid_column": null,
            "grid_gap": null,
            "grid_row": null,
            "grid_template_areas": null,
            "grid_template_columns": null,
            "grid_template_rows": null,
            "height": "auto",
            "justify_content": null,
            "justify_items": null,
            "left": null,
            "margin": null,
            "max_height": null,
            "max_width": null,
            "min_height": null,
            "min_width": null,
            "object_fit": null,
            "object_position": null,
            "order": null,
            "overflow": null,
            "overflow_x": null,
            "overflow_y": null,
            "padding": null,
            "right": null,
            "top": null,
            "visibility": null,
            "width": "auto"
          }
        },
        "6f75c0b6f14b43b18ef2da1128f48e55": {
          "model_module": "@jupyter-widgets/controls",
          "model_name": "DescriptionStyleModel",
          "model_module_version": "1.5.0",
          "state": {
            "_model_module": "@jupyter-widgets/controls",
            "_model_module_version": "1.5.0",
            "_model_name": "DescriptionStyleModel",
            "_view_count": null,
            "_view_module": "@jupyter-widgets/base",
            "_view_module_version": "1.2.0",
            "_view_name": "StyleView",
            "description_width": ""
          }
        },
        "a4335d8540814a0c8cba7efcfd81e17c": {
          "model_module": "@jupyter-widgets/base",
          "model_name": "LayoutModel",
          "model_module_version": "1.2.0",
          "state": {
            "_model_module": "@jupyter-widgets/base",
            "_model_module_version": "1.2.0",
            "_model_name": "LayoutModel",
            "_view_count": null,
            "_view_module": "@jupyter-widgets/base",
            "_view_module_version": "1.2.0",
            "_view_name": "LayoutView",
            "align_content": null,
            "align_items": null,
            "align_self": null,
            "border": null,
            "bottom": null,
            "display": null,
            "flex": null,
            "flex_flow": null,
            "grid_area": null,
            "grid_auto_columns": null,
            "grid_auto_flow": null,
            "grid_auto_rows": null,
            "grid_column": null,
            "grid_gap": null,
            "grid_row": null,
            "grid_template_areas": null,
            "grid_template_columns": null,
            "grid_template_rows": null,
            "height": "auto",
            "justify_content": null,
            "justify_items": null,
            "left": null,
            "margin": null,
            "max_height": null,
            "max_width": null,
            "min_height": null,
            "min_width": null,
            "object_fit": null,
            "object_position": null,
            "order": null,
            "overflow": null,
            "overflow_x": null,
            "overflow_y": null,
            "padding": null,
            "right": null,
            "top": null,
            "visibility": null,
            "width": "auto"
          }
        },
        "b5361e94c1af43ecb050dff994ef1cd6": {
          "model_module": "@jupyter-widgets/controls",
          "model_name": "ButtonStyleModel",
          "model_module_version": "1.5.0",
          "state": {
            "_model_module": "@jupyter-widgets/controls",
            "_model_module_version": "1.5.0",
            "_model_name": "ButtonStyleModel",
            "_view_count": null,
            "_view_module": "@jupyter-widgets/base",
            "_view_module_version": "1.2.0",
            "_view_name": "StyleView",
            "button_color": null,
            "font_weight": ""
          }
        },
        "005a311e758b475b8c2b76e0593cc567": {
          "model_module": "@jupyter-widgets/controls",
          "model_name": "VBoxModel",
          "model_module_version": "1.5.0",
          "state": {
            "_dom_classes": [],
            "_model_module": "@jupyter-widgets/controls",
            "_model_module_version": "1.5.0",
            "_model_name": "VBoxModel",
            "_view_count": null,
            "_view_module": "@jupyter-widgets/controls",
            "_view_module_version": "1.5.0",
            "_view_name": "VBoxView",
            "box_style": "",
            "children": [
              "IPY_MODEL_a32a6d9f0061427fb9c3719481317986"
            ],
            "layout": "IPY_MODEL_5b50d141e6d947cc926e8a48f149ebfb"
          }
        },
        "a32a6d9f0061427fb9c3719481317986": {
          "model_module": "@jupyter-widgets/controls",
          "model_name": "VBoxModel",
          "model_module_version": "1.5.0",
          "state": {
            "_dom_classes": [],
            "_model_module": "@jupyter-widgets/controls",
            "_model_module_version": "1.5.0",
            "_model_name": "VBoxModel",
            "_view_count": null,
            "_view_module": "@jupyter-widgets/controls",
            "_view_module_version": "1.5.0",
            "_view_name": "VBoxView",
            "box_style": "",
            "children": [
              "IPY_MODEL_2cf4299a85914b699ec5ba15619c092a",
              "IPY_MODEL_4336058292e64bbdb35cab5597d9d4d8",
              "IPY_MODEL_118c3d10b9064c91819f413c83f4742e"
            ],
            "layout": "IPY_MODEL_0c9de144c9424fb8a48e91b443148781"
          }
        },
        "5b50d141e6d947cc926e8a48f149ebfb": {
          "model_module": "@jupyter-widgets/base",
          "model_name": "LayoutModel",
          "model_module_version": "1.2.0",
          "state": {
            "_model_module": "@jupyter-widgets/base",
            "_model_module_version": "1.2.0",
            "_model_name": "LayoutModel",
            "_view_count": null,
            "_view_module": "@jupyter-widgets/base",
            "_view_module_version": "1.2.0",
            "_view_name": "LayoutView",
            "align_content": null,
            "align_items": null,
            "align_self": null,
            "border": null,
            "bottom": null,
            "display": null,
            "flex": null,
            "flex_flow": null,
            "grid_area": null,
            "grid_auto_columns": null,
            "grid_auto_flow": null,
            "grid_auto_rows": null,
            "grid_column": null,
            "grid_gap": null,
            "grid_row": null,
            "grid_template_areas": null,
            "grid_template_columns": null,
            "grid_template_rows": null,
            "height": null,
            "justify_content": null,
            "justify_items": null,
            "left": null,
            "margin": null,
            "max_height": null,
            "max_width": null,
            "min_height": null,
            "min_width": null,
            "object_fit": null,
            "object_position": null,
            "order": null,
            "overflow": null,
            "overflow_x": null,
            "overflow_y": null,
            "padding": null,
            "right": null,
            "top": null,
            "visibility": null,
            "width": null
          }
        },
        "2cf4299a85914b699ec5ba15619c092a": {
          "model_module": "@jupyter-widgets/controls",
          "model_name": "HBoxModel",
          "model_module_version": "1.5.0",
          "state": {
            "_dom_classes": [],
            "_model_module": "@jupyter-widgets/controls",
            "_model_module_version": "1.5.0",
            "_model_name": "HBoxModel",
            "_view_count": null,
            "_view_module": "@jupyter-widgets/controls",
            "_view_module_version": "1.5.0",
            "_view_name": "HBoxView",
            "box_style": "",
            "children": [
              "IPY_MODEL_c3d3580c97fc4ad5b5b64d0eef6f5e3a",
              "IPY_MODEL_6ddbbb5650474618a851b6b45723ce8c",
              "IPY_MODEL_57e62a978c124709acb30a9f98d41be8"
            ],
            "layout": "IPY_MODEL_200d1909a8274bec8d74dbcb28088405"
          }
        },
        "4336058292e64bbdb35cab5597d9d4d8": {
          "model_module": "@jupyter-widgets/controls",
          "model_name": "HBoxModel",
          "model_module_version": "1.5.0",
          "state": {
            "_dom_classes": [],
            "_model_module": "@jupyter-widgets/controls",
            "_model_module_version": "1.5.0",
            "_model_name": "HBoxModel",
            "_view_count": null,
            "_view_module": "@jupyter-widgets/controls",
            "_view_module_version": "1.5.0",
            "_view_name": "HBoxView",
            "box_style": "",
            "children": [
              "IPY_MODEL_aa78f244db1f4d919d96e8fe084d6698",
              "IPY_MODEL_d0739104daa54dfdbb50816f74980e72"
            ],
            "layout": "IPY_MODEL_168fb0421fef4a1285460043120f1e3f"
          }
        },
        "118c3d10b9064c91819f413c83f4742e": {
          "model_module": "@jupyter-widgets/controls",
          "model_name": "LabelModel",
          "model_module_version": "1.5.0",
          "state": {
            "_dom_classes": [],
            "_model_module": "@jupyter-widgets/controls",
            "_model_module_version": "1.5.0",
            "_model_name": "LabelModel",
            "_view_count": null,
            "_view_module": "@jupyter-widgets/controls",
            "_view_module_version": "1.5.0",
            "_view_name": "LabelView",
            "description": "",
            "description_tooltip": null,
            "layout": "IPY_MODEL_e44e5f5d5cc649d798ed50249374b860",
            "placeholder": "​",
            "style": "IPY_MODEL_24f42ffb1887445380ed9b9637b91071",
            "value": "Thanks for your feedback!"
          }
        },
        "0c9de144c9424fb8a48e91b443148781": {
          "model_module": "@jupyter-widgets/base",
          "model_name": "LayoutModel",
          "model_module_version": "1.2.0",
          "state": {
            "_model_module": "@jupyter-widgets/base",
            "_model_module_version": "1.2.0",
            "_model_name": "LayoutModel",
            "_view_count": null,
            "_view_module": "@jupyter-widgets/base",
            "_view_module_version": "1.2.0",
            "_view_name": "LayoutView",
            "align_content": null,
            "align_items": null,
            "align_self": null,
            "border": null,
            "bottom": null,
            "display": null,
            "flex": null,
            "flex_flow": null,
            "grid_area": null,
            "grid_auto_columns": null,
            "grid_auto_flow": null,
            "grid_auto_rows": null,
            "grid_column": null,
            "grid_gap": null,
            "grid_row": null,
            "grid_template_areas": null,
            "grid_template_columns": null,
            "grid_template_rows": null,
            "height": null,
            "justify_content": null,
            "justify_items": null,
            "left": null,
            "margin": null,
            "max_height": null,
            "max_width": null,
            "min_height": null,
            "min_width": null,
            "object_fit": null,
            "object_position": null,
            "order": null,
            "overflow": null,
            "overflow_x": null,
            "overflow_y": null,
            "padding": null,
            "right": null,
            "top": null,
            "visibility": null,
            "width": null
          }
        },
        "c3d3580c97fc4ad5b5b64d0eef6f5e3a": {
          "model_module": "@jupyter-widgets/controls",
          "model_name": "ButtonModel",
          "model_module_version": "1.5.0",
          "state": {
            "_dom_classes": [
              "happy"
            ],
            "_model_module": "@jupyter-widgets/controls",
            "_model_module_version": "1.5.0",
            "_model_name": "ButtonModel",
            "_view_count": null,
            "_view_module": "@jupyter-widgets/controls",
            "_view_module_version": "1.5.0",
            "_view_name": "ButtonView",
            "button_style": "",
            "description": "🙂",
            "disabled": false,
            "icon": "",
            "layout": "IPY_MODEL_1e42c664d10b4942b7ef120f8f845865",
            "style": "IPY_MODEL_ed363810a444432ab5b7337140ad11f7",
            "tooltip": "happy"
          }
        },
        "6ddbbb5650474618a851b6b45723ce8c": {
          "model_module": "@jupyter-widgets/controls",
          "model_name": "ButtonModel",
          "model_module_version": "1.5.0",
          "state": {
            "_dom_classes": [
              "medium"
            ],
            "_model_module": "@jupyter-widgets/controls",
            "_model_module_version": "1.5.0",
            "_model_name": "ButtonModel",
            "_view_count": null,
            "_view_module": "@jupyter-widgets/controls",
            "_view_module_version": "1.5.0",
            "_view_name": "ButtonView",
            "button_style": "",
            "description": "😐",
            "disabled": false,
            "icon": "",
            "layout": "IPY_MODEL_a143a1e38aca4ea399855baeb291f286",
            "style": "IPY_MODEL_28feb9f46d7d4b9c93eff727b443cdc7",
            "tooltip": "medium"
          }
        },
        "57e62a978c124709acb30a9f98d41be8": {
          "model_module": "@jupyter-widgets/controls",
          "model_name": "ButtonModel",
          "model_module_version": "1.5.0",
          "state": {
            "_dom_classes": [
              "sad"
            ],
            "_model_module": "@jupyter-widgets/controls",
            "_model_module_version": "1.5.0",
            "_model_name": "ButtonModel",
            "_view_count": null,
            "_view_module": "@jupyter-widgets/controls",
            "_view_module_version": "1.5.0",
            "_view_name": "ButtonView",
            "button_style": "",
            "description": "🙁",
            "disabled": false,
            "icon": "",
            "layout": "IPY_MODEL_ac7e2111e5be44e597b74111bd42796a",
            "style": "IPY_MODEL_9a83c1a31a46400798ded709176420b4",
            "tooltip": "sad"
          }
        },
        "200d1909a8274bec8d74dbcb28088405": {
          "model_module": "@jupyter-widgets/base",
          "model_name": "LayoutModel",
          "model_module_version": "1.2.0",
          "state": {
            "_model_module": "@jupyter-widgets/base",
            "_model_module_version": "1.2.0",
            "_model_name": "LayoutModel",
            "_view_count": null,
            "_view_module": "@jupyter-widgets/base",
            "_view_module_version": "1.2.0",
            "_view_name": "LayoutView",
            "align_content": null,
            "align_items": null,
            "align_self": null,
            "border": null,
            "bottom": null,
            "display": null,
            "flex": null,
            "flex_flow": null,
            "grid_area": null,
            "grid_auto_columns": null,
            "grid_auto_flow": null,
            "grid_auto_rows": null,
            "grid_column": null,
            "grid_gap": null,
            "grid_row": null,
            "grid_template_areas": null,
            "grid_template_columns": null,
            "grid_template_rows": null,
            "height": null,
            "justify_content": null,
            "justify_items": null,
            "left": null,
            "margin": null,
            "max_height": null,
            "max_width": null,
            "min_height": null,
            "min_width": null,
            "object_fit": null,
            "object_position": null,
            "order": null,
            "overflow": null,
            "overflow_x": null,
            "overflow_y": null,
            "padding": null,
            "right": null,
            "top": null,
            "visibility": null,
            "width": null
          }
        },
        "aa78f244db1f4d919d96e8fe084d6698": {
          "model_module": "@jupyter-widgets/controls",
          "model_name": "TextareaModel",
          "model_module_version": "1.5.0",
          "state": {
            "_dom_classes": [],
            "_model_module": "@jupyter-widgets/controls",
            "_model_module_version": "1.5.0",
            "_model_name": "TextareaModel",
            "_view_count": null,
            "_view_module": "@jupyter-widgets/controls",
            "_view_module_version": "1.5.0",
            "_view_name": "TextareaView",
            "continuous_update": true,
            "description": "",
            "description_tooltip": null,
            "disabled": false,
            "layout": "IPY_MODEL_f073ea061ae34dfd9961710fb1bd6ce5",
            "placeholder": "We want your feedback!",
            "rows": null,
            "style": "IPY_MODEL_dbbe309b7ec044e5a9da8996a4703170",
            "value": ""
          }
        },
        "d0739104daa54dfdbb50816f74980e72": {
          "model_module": "@jupyter-widgets/controls",
          "model_name": "ButtonModel",
          "model_module_version": "1.5.0",
          "state": {
            "_dom_classes": [],
            "_model_module": "@jupyter-widgets/controls",
            "_model_module_version": "1.5.0",
            "_model_name": "ButtonModel",
            "_view_count": null,
            "_view_module": "@jupyter-widgets/controls",
            "_view_module_version": "1.5.0",
            "_view_name": "ButtonView",
            "button_style": "",
            "description": "Submit",
            "disabled": false,
            "icon": "",
            "layout": "IPY_MODEL_979afbc8fb7d48679e5a628c269c569b",
            "style": "IPY_MODEL_30d9ad76b46b4b5d9028315b7b45151b",
            "tooltip": ""
          }
        },
        "168fb0421fef4a1285460043120f1e3f": {
          "model_module": "@jupyter-widgets/base",
          "model_name": "LayoutModel",
          "model_module_version": "1.2.0",
          "state": {
            "_model_module": "@jupyter-widgets/base",
            "_model_module_version": "1.2.0",
            "_model_name": "LayoutModel",
            "_view_count": null,
            "_view_module": "@jupyter-widgets/base",
            "_view_module_version": "1.2.0",
            "_view_name": "LayoutView",
            "align_content": null,
            "align_items": null,
            "align_self": null,
            "border": null,
            "bottom": null,
            "display": "none",
            "flex": null,
            "flex_flow": null,
            "grid_area": null,
            "grid_auto_columns": null,
            "grid_auto_flow": null,
            "grid_auto_rows": null,
            "grid_column": null,
            "grid_gap": null,
            "grid_row": null,
            "grid_template_areas": null,
            "grid_template_columns": null,
            "grid_template_rows": null,
            "height": null,
            "justify_content": null,
            "justify_items": null,
            "left": null,
            "margin": null,
            "max_height": null,
            "max_width": null,
            "min_height": null,
            "min_width": null,
            "object_fit": null,
            "object_position": null,
            "order": null,
            "overflow": null,
            "overflow_x": null,
            "overflow_y": null,
            "padding": null,
            "right": null,
            "top": null,
            "visibility": null,
            "width": null
          }
        },
        "e44e5f5d5cc649d798ed50249374b860": {
          "model_module": "@jupyter-widgets/base",
          "model_name": "LayoutModel",
          "model_module_version": "1.2.0",
          "state": {
            "_model_module": "@jupyter-widgets/base",
            "_model_module_version": "1.2.0",
            "_model_name": "LayoutModel",
            "_view_count": null,
            "_view_module": "@jupyter-widgets/base",
            "_view_module_version": "1.2.0",
            "_view_name": "LayoutView",
            "align_content": null,
            "align_items": null,
            "align_self": null,
            "border": null,
            "bottom": null,
            "display": "none",
            "flex": null,
            "flex_flow": null,
            "grid_area": null,
            "grid_auto_columns": null,
            "grid_auto_flow": null,
            "grid_auto_rows": null,
            "grid_column": null,
            "grid_gap": null,
            "grid_row": null,
            "grid_template_areas": null,
            "grid_template_columns": null,
            "grid_template_rows": null,
            "height": null,
            "justify_content": null,
            "justify_items": null,
            "left": null,
            "margin": null,
            "max_height": null,
            "max_width": null,
            "min_height": null,
            "min_width": null,
            "object_fit": null,
            "object_position": null,
            "order": null,
            "overflow": null,
            "overflow_x": null,
            "overflow_y": null,
            "padding": null,
            "right": null,
            "top": null,
            "visibility": null,
            "width": null
          }
        },
        "24f42ffb1887445380ed9b9637b91071": {
          "model_module": "@jupyter-widgets/controls",
          "model_name": "DescriptionStyleModel",
          "model_module_version": "1.5.0",
          "state": {
            "_model_module": "@jupyter-widgets/controls",
            "_model_module_version": "1.5.0",
            "_model_name": "DescriptionStyleModel",
            "_view_count": null,
            "_view_module": "@jupyter-widgets/base",
            "_view_module_version": "1.2.0",
            "_view_name": "StyleView",
            "description_width": ""
          }
        },
        "1e42c664d10b4942b7ef120f8f845865": {
          "model_module": "@jupyter-widgets/base",
          "model_name": "LayoutModel",
          "model_module_version": "1.2.0",
          "state": {
            "_model_module": "@jupyter-widgets/base",
            "_model_module_version": "1.2.0",
            "_model_name": "LayoutModel",
            "_view_count": null,
            "_view_module": "@jupyter-widgets/base",
            "_view_module_version": "1.2.0",
            "_view_name": "LayoutView",
            "align_content": null,
            "align_items": null,
            "align_self": null,
            "border": null,
            "bottom": null,
            "display": null,
            "flex": null,
            "flex_flow": null,
            "grid_area": null,
            "grid_auto_columns": null,
            "grid_auto_flow": null,
            "grid_auto_rows": null,
            "grid_column": null,
            "grid_gap": null,
            "grid_row": null,
            "grid_template_areas": null,
            "grid_template_columns": null,
            "grid_template_rows": null,
            "height": "auto",
            "justify_content": null,
            "justify_items": null,
            "left": null,
            "margin": null,
            "max_height": null,
            "max_width": null,
            "min_height": null,
            "min_width": null,
            "object_fit": null,
            "object_position": null,
            "order": null,
            "overflow": null,
            "overflow_x": null,
            "overflow_y": null,
            "padding": "0.5em",
            "right": null,
            "top": null,
            "visibility": null,
            "width": "auto"
          }
        },
        "ed363810a444432ab5b7337140ad11f7": {
          "model_module": "@jupyter-widgets/controls",
          "model_name": "ButtonStyleModel",
          "model_module_version": "1.5.0",
          "state": {
            "_model_module": "@jupyter-widgets/controls",
            "_model_module_version": "1.5.0",
            "_model_name": "ButtonStyleModel",
            "_view_count": null,
            "_view_module": "@jupyter-widgets/base",
            "_view_module_version": "1.2.0",
            "_view_name": "StyleView",
            "button_color": "#aaffaa",
            "font_weight": ""
          }
        },
        "a143a1e38aca4ea399855baeb291f286": {
          "model_module": "@jupyter-widgets/base",
          "model_name": "LayoutModel",
          "model_module_version": "1.2.0",
          "state": {
            "_model_module": "@jupyter-widgets/base",
            "_model_module_version": "1.2.0",
            "_model_name": "LayoutModel",
            "_view_count": null,
            "_view_module": "@jupyter-widgets/base",
            "_view_module_version": "1.2.0",
            "_view_name": "LayoutView",
            "align_content": null,
            "align_items": null,
            "align_self": null,
            "border": null,
            "bottom": null,
            "display": null,
            "flex": null,
            "flex_flow": null,
            "grid_area": null,
            "grid_auto_columns": null,
            "grid_auto_flow": null,
            "grid_auto_rows": null,
            "grid_column": null,
            "grid_gap": null,
            "grid_row": null,
            "grid_template_areas": null,
            "grid_template_columns": null,
            "grid_template_rows": null,
            "height": "auto",
            "justify_content": null,
            "justify_items": null,
            "left": null,
            "margin": null,
            "max_height": null,
            "max_width": null,
            "min_height": null,
            "min_width": null,
            "object_fit": null,
            "object_position": null,
            "order": null,
            "overflow": null,
            "overflow_x": null,
            "overflow_y": null,
            "padding": "0.5em",
            "right": null,
            "top": null,
            "visibility": null,
            "width": "auto"
          }
        },
        "28feb9f46d7d4b9c93eff727b443cdc7": {
          "model_module": "@jupyter-widgets/controls",
          "model_name": "ButtonStyleModel",
          "model_module_version": "1.5.0",
          "state": {
            "_model_module": "@jupyter-widgets/controls",
            "_model_module_version": "1.5.0",
            "_model_name": "ButtonStyleModel",
            "_view_count": null,
            "_view_module": "@jupyter-widgets/base",
            "_view_module_version": "1.2.0",
            "_view_name": "StyleView",
            "button_color": "#dddd77",
            "font_weight": ""
          }
        },
        "ac7e2111e5be44e597b74111bd42796a": {
          "model_module": "@jupyter-widgets/base",
          "model_name": "LayoutModel",
          "model_module_version": "1.2.0",
          "state": {
            "_model_module": "@jupyter-widgets/base",
            "_model_module_version": "1.2.0",
            "_model_name": "LayoutModel",
            "_view_count": null,
            "_view_module": "@jupyter-widgets/base",
            "_view_module_version": "1.2.0",
            "_view_name": "LayoutView",
            "align_content": null,
            "align_items": null,
            "align_self": null,
            "border": null,
            "bottom": null,
            "display": null,
            "flex": null,
            "flex_flow": null,
            "grid_area": null,
            "grid_auto_columns": null,
            "grid_auto_flow": null,
            "grid_auto_rows": null,
            "grid_column": null,
            "grid_gap": null,
            "grid_row": null,
            "grid_template_areas": null,
            "grid_template_columns": null,
            "grid_template_rows": null,
            "height": "auto",
            "justify_content": null,
            "justify_items": null,
            "left": null,
            "margin": null,
            "max_height": null,
            "max_width": null,
            "min_height": null,
            "min_width": null,
            "object_fit": null,
            "object_position": null,
            "order": null,
            "overflow": null,
            "overflow_x": null,
            "overflow_y": null,
            "padding": "0.5em",
            "right": null,
            "top": null,
            "visibility": null,
            "width": "auto"
          }
        },
        "9a83c1a31a46400798ded709176420b4": {
          "model_module": "@jupyter-widgets/controls",
          "model_name": "ButtonStyleModel",
          "model_module_version": "1.5.0",
          "state": {
            "_model_module": "@jupyter-widgets/controls",
            "_model_module_version": "1.5.0",
            "_model_name": "ButtonStyleModel",
            "_view_count": null,
            "_view_module": "@jupyter-widgets/base",
            "_view_module_version": "1.2.0",
            "_view_name": "StyleView",
            "button_color": "#ffaaaa",
            "font_weight": ""
          }
        },
        "f073ea061ae34dfd9961710fb1bd6ce5": {
          "model_module": "@jupyter-widgets/base",
          "model_name": "LayoutModel",
          "model_module_version": "1.2.0",
          "state": {
            "_model_module": "@jupyter-widgets/base",
            "_model_module_version": "1.2.0",
            "_model_name": "LayoutModel",
            "_view_count": null,
            "_view_module": "@jupyter-widgets/base",
            "_view_module_version": "1.2.0",
            "_view_name": "LayoutView",
            "align_content": null,
            "align_items": null,
            "align_self": null,
            "border": null,
            "bottom": null,
            "display": null,
            "flex": null,
            "flex_flow": null,
            "grid_area": null,
            "grid_auto_columns": null,
            "grid_auto_flow": null,
            "grid_auto_rows": null,
            "grid_column": null,
            "grid_gap": null,
            "grid_row": null,
            "grid_template_areas": null,
            "grid_template_columns": null,
            "grid_template_rows": null,
            "height": "auto",
            "justify_content": null,
            "justify_items": null,
            "left": null,
            "margin": null,
            "max_height": null,
            "max_width": null,
            "min_height": null,
            "min_width": null,
            "object_fit": null,
            "object_position": null,
            "order": null,
            "overflow": null,
            "overflow_x": null,
            "overflow_y": null,
            "padding": null,
            "right": null,
            "top": null,
            "visibility": null,
            "width": "auto"
          }
        },
        "dbbe309b7ec044e5a9da8996a4703170": {
          "model_module": "@jupyter-widgets/controls",
          "model_name": "DescriptionStyleModel",
          "model_module_version": "1.5.0",
          "state": {
            "_model_module": "@jupyter-widgets/controls",
            "_model_module_version": "1.5.0",
            "_model_name": "DescriptionStyleModel",
            "_view_count": null,
            "_view_module": "@jupyter-widgets/base",
            "_view_module_version": "1.2.0",
            "_view_name": "StyleView",
            "description_width": ""
          }
        },
        "979afbc8fb7d48679e5a628c269c569b": {
          "model_module": "@jupyter-widgets/base",
          "model_name": "LayoutModel",
          "model_module_version": "1.2.0",
          "state": {
            "_model_module": "@jupyter-widgets/base",
            "_model_module_version": "1.2.0",
            "_model_name": "LayoutModel",
            "_view_count": null,
            "_view_module": "@jupyter-widgets/base",
            "_view_module_version": "1.2.0",
            "_view_name": "LayoutView",
            "align_content": null,
            "align_items": null,
            "align_self": null,
            "border": null,
            "bottom": null,
            "display": null,
            "flex": null,
            "flex_flow": null,
            "grid_area": null,
            "grid_auto_columns": null,
            "grid_auto_flow": null,
            "grid_auto_rows": null,
            "grid_column": null,
            "grid_gap": null,
            "grid_row": null,
            "grid_template_areas": null,
            "grid_template_columns": null,
            "grid_template_rows": null,
            "height": "auto",
            "justify_content": null,
            "justify_items": null,
            "left": null,
            "margin": null,
            "max_height": null,
            "max_width": null,
            "min_height": null,
            "min_width": null,
            "object_fit": null,
            "object_position": null,
            "order": null,
            "overflow": null,
            "overflow_x": null,
            "overflow_y": null,
            "padding": null,
            "right": null,
            "top": null,
            "visibility": null,
            "width": "auto"
          }
        },
        "30d9ad76b46b4b5d9028315b7b45151b": {
          "model_module": "@jupyter-widgets/controls",
          "model_name": "ButtonStyleModel",
          "model_module_version": "1.5.0",
          "state": {
            "_model_module": "@jupyter-widgets/controls",
            "_model_module_version": "1.5.0",
            "_model_name": "ButtonStyleModel",
            "_view_count": null,
            "_view_module": "@jupyter-widgets/base",
            "_view_module_version": "1.2.0",
            "_view_name": "StyleView",
            "button_color": null,
            "font_weight": ""
          }
        },
        "d9ffc6681612483caa41754d47664eaa": {
          "model_module": "@jupyter-widgets/controls",
          "model_name": "VBoxModel",
          "model_module_version": "1.5.0",
          "state": {
            "_dom_classes": [],
            "_model_module": "@jupyter-widgets/controls",
            "_model_module_version": "1.5.0",
            "_model_name": "VBoxModel",
            "_view_count": null,
            "_view_module": "@jupyter-widgets/controls",
            "_view_module_version": "1.5.0",
            "_view_name": "VBoxView",
            "box_style": "",
            "children": [
              "IPY_MODEL_5bd7242b53b44f5a8c75414512976514"
            ],
            "layout": "IPY_MODEL_20ef85045baa4ac987ac5755695c1fd4"
          }
        },
        "5bd7242b53b44f5a8c75414512976514": {
          "model_module": "@jupyter-widgets/controls",
          "model_name": "VBoxModel",
          "model_module_version": "1.5.0",
          "state": {
            "_dom_classes": [],
            "_model_module": "@jupyter-widgets/controls",
            "_model_module_version": "1.5.0",
            "_model_name": "VBoxModel",
            "_view_count": null,
            "_view_module": "@jupyter-widgets/controls",
            "_view_module_version": "1.5.0",
            "_view_name": "VBoxView",
            "box_style": "",
            "children": [
              "IPY_MODEL_28f5a3a92271453b941c955b00c50683",
              "IPY_MODEL_ccae771854004be9a7eb0f7478d863e6",
              "IPY_MODEL_3109bce046394bc4a8bea6131ff7f199"
            ],
            "layout": "IPY_MODEL_687cb0973cec4c3da8e9ad66f3c86a9a"
          }
        },
        "20ef85045baa4ac987ac5755695c1fd4": {
          "model_module": "@jupyter-widgets/base",
          "model_name": "LayoutModel",
          "model_module_version": "1.2.0",
          "state": {
            "_model_module": "@jupyter-widgets/base",
            "_model_module_version": "1.2.0",
            "_model_name": "LayoutModel",
            "_view_count": null,
            "_view_module": "@jupyter-widgets/base",
            "_view_module_version": "1.2.0",
            "_view_name": "LayoutView",
            "align_content": null,
            "align_items": null,
            "align_self": null,
            "border": null,
            "bottom": null,
            "display": null,
            "flex": null,
            "flex_flow": null,
            "grid_area": null,
            "grid_auto_columns": null,
            "grid_auto_flow": null,
            "grid_auto_rows": null,
            "grid_column": null,
            "grid_gap": null,
            "grid_row": null,
            "grid_template_areas": null,
            "grid_template_columns": null,
            "grid_template_rows": null,
            "height": null,
            "justify_content": null,
            "justify_items": null,
            "left": null,
            "margin": null,
            "max_height": null,
            "max_width": null,
            "min_height": null,
            "min_width": null,
            "object_fit": null,
            "object_position": null,
            "order": null,
            "overflow": null,
            "overflow_x": null,
            "overflow_y": null,
            "padding": null,
            "right": null,
            "top": null,
            "visibility": null,
            "width": null
          }
        },
        "28f5a3a92271453b941c955b00c50683": {
          "model_module": "@jupyter-widgets/controls",
          "model_name": "HBoxModel",
          "model_module_version": "1.5.0",
          "state": {
            "_dom_classes": [],
            "_model_module": "@jupyter-widgets/controls",
            "_model_module_version": "1.5.0",
            "_model_name": "HBoxModel",
            "_view_count": null,
            "_view_module": "@jupyter-widgets/controls",
            "_view_module_version": "1.5.0",
            "_view_name": "HBoxView",
            "box_style": "",
            "children": [
              "IPY_MODEL_27cd57e329834b1ca31719dd8b7b47f3",
              "IPY_MODEL_036b1c878f9440f0953eed1d8e57a7bc",
              "IPY_MODEL_caafae5f6d164575be35acca194d3f66"
            ],
            "layout": "IPY_MODEL_bfe33f829f0f420795e5062b40371738"
          }
        },
        "ccae771854004be9a7eb0f7478d863e6": {
          "model_module": "@jupyter-widgets/controls",
          "model_name": "HBoxModel",
          "model_module_version": "1.5.0",
          "state": {
            "_dom_classes": [],
            "_model_module": "@jupyter-widgets/controls",
            "_model_module_version": "1.5.0",
            "_model_name": "HBoxModel",
            "_view_count": null,
            "_view_module": "@jupyter-widgets/controls",
            "_view_module_version": "1.5.0",
            "_view_name": "HBoxView",
            "box_style": "",
            "children": [
              "IPY_MODEL_7affd0ca8fcf43eb9624dc8aed00bea6",
              "IPY_MODEL_a5d65a4ecc8c429e8ace1e751a127f32"
            ],
            "layout": "IPY_MODEL_3306cdd4385740d3b8c0d2b30ae315fa"
          }
        },
        "3109bce046394bc4a8bea6131ff7f199": {
          "model_module": "@jupyter-widgets/controls",
          "model_name": "LabelModel",
          "model_module_version": "1.5.0",
          "state": {
            "_dom_classes": [],
            "_model_module": "@jupyter-widgets/controls",
            "_model_module_version": "1.5.0",
            "_model_name": "LabelModel",
            "_view_count": null,
            "_view_module": "@jupyter-widgets/controls",
            "_view_module_version": "1.5.0",
            "_view_name": "LabelView",
            "description": "",
            "description_tooltip": null,
            "layout": "IPY_MODEL_1428fc293cc74d7abf49e4fd8f638b22",
            "placeholder": "​",
            "style": "IPY_MODEL_14b89bec4b304c37a119ab960f2ef496",
            "value": "Thanks for your feedback!"
          }
        },
        "687cb0973cec4c3da8e9ad66f3c86a9a": {
          "model_module": "@jupyter-widgets/base",
          "model_name": "LayoutModel",
          "model_module_version": "1.2.0",
          "state": {
            "_model_module": "@jupyter-widgets/base",
            "_model_module_version": "1.2.0",
            "_model_name": "LayoutModel",
            "_view_count": null,
            "_view_module": "@jupyter-widgets/base",
            "_view_module_version": "1.2.0",
            "_view_name": "LayoutView",
            "align_content": null,
            "align_items": null,
            "align_self": null,
            "border": null,
            "bottom": null,
            "display": null,
            "flex": null,
            "flex_flow": null,
            "grid_area": null,
            "grid_auto_columns": null,
            "grid_auto_flow": null,
            "grid_auto_rows": null,
            "grid_column": null,
            "grid_gap": null,
            "grid_row": null,
            "grid_template_areas": null,
            "grid_template_columns": null,
            "grid_template_rows": null,
            "height": null,
            "justify_content": null,
            "justify_items": null,
            "left": null,
            "margin": null,
            "max_height": null,
            "max_width": null,
            "min_height": null,
            "min_width": null,
            "object_fit": null,
            "object_position": null,
            "order": null,
            "overflow": null,
            "overflow_x": null,
            "overflow_y": null,
            "padding": null,
            "right": null,
            "top": null,
            "visibility": null,
            "width": null
          }
        },
        "27cd57e329834b1ca31719dd8b7b47f3": {
          "model_module": "@jupyter-widgets/controls",
          "model_name": "ButtonModel",
          "model_module_version": "1.5.0",
          "state": {
            "_dom_classes": [
              "happy"
            ],
            "_model_module": "@jupyter-widgets/controls",
            "_model_module_version": "1.5.0",
            "_model_name": "ButtonModel",
            "_view_count": null,
            "_view_module": "@jupyter-widgets/controls",
            "_view_module_version": "1.5.0",
            "_view_name": "ButtonView",
            "button_style": "",
            "description": "🙂",
            "disabled": false,
            "icon": "",
            "layout": "IPY_MODEL_1a0478fab2e84666a81a8d1f0d96c672",
            "style": "IPY_MODEL_3b6bf4429712455281d2fed67a8e104e",
            "tooltip": "happy"
          }
        },
        "036b1c878f9440f0953eed1d8e57a7bc": {
          "model_module": "@jupyter-widgets/controls",
          "model_name": "ButtonModel",
          "model_module_version": "1.5.0",
          "state": {
            "_dom_classes": [
              "medium"
            ],
            "_model_module": "@jupyter-widgets/controls",
            "_model_module_version": "1.5.0",
            "_model_name": "ButtonModel",
            "_view_count": null,
            "_view_module": "@jupyter-widgets/controls",
            "_view_module_version": "1.5.0",
            "_view_name": "ButtonView",
            "button_style": "",
            "description": "😐",
            "disabled": false,
            "icon": "",
            "layout": "IPY_MODEL_401696b6a05f4937993bf218a10b0bad",
            "style": "IPY_MODEL_7fbf5b06468f4804a99fd53b32ca1025",
            "tooltip": "medium"
          }
        },
        "caafae5f6d164575be35acca194d3f66": {
          "model_module": "@jupyter-widgets/controls",
          "model_name": "ButtonModel",
          "model_module_version": "1.5.0",
          "state": {
            "_dom_classes": [
              "sad"
            ],
            "_model_module": "@jupyter-widgets/controls",
            "_model_module_version": "1.5.0",
            "_model_name": "ButtonModel",
            "_view_count": null,
            "_view_module": "@jupyter-widgets/controls",
            "_view_module_version": "1.5.0",
            "_view_name": "ButtonView",
            "button_style": "",
            "description": "🙁",
            "disabled": false,
            "icon": "",
            "layout": "IPY_MODEL_29604a127c1c4d62b943357836fab037",
            "style": "IPY_MODEL_2878a7ab2cbb4aa6b9ae4171782b764f",
            "tooltip": "sad"
          }
        },
        "bfe33f829f0f420795e5062b40371738": {
          "model_module": "@jupyter-widgets/base",
          "model_name": "LayoutModel",
          "model_module_version": "1.2.0",
          "state": {
            "_model_module": "@jupyter-widgets/base",
            "_model_module_version": "1.2.0",
            "_model_name": "LayoutModel",
            "_view_count": null,
            "_view_module": "@jupyter-widgets/base",
            "_view_module_version": "1.2.0",
            "_view_name": "LayoutView",
            "align_content": null,
            "align_items": null,
            "align_self": null,
            "border": null,
            "bottom": null,
            "display": null,
            "flex": null,
            "flex_flow": null,
            "grid_area": null,
            "grid_auto_columns": null,
            "grid_auto_flow": null,
            "grid_auto_rows": null,
            "grid_column": null,
            "grid_gap": null,
            "grid_row": null,
            "grid_template_areas": null,
            "grid_template_columns": null,
            "grid_template_rows": null,
            "height": null,
            "justify_content": null,
            "justify_items": null,
            "left": null,
            "margin": null,
            "max_height": null,
            "max_width": null,
            "min_height": null,
            "min_width": null,
            "object_fit": null,
            "object_position": null,
            "order": null,
            "overflow": null,
            "overflow_x": null,
            "overflow_y": null,
            "padding": null,
            "right": null,
            "top": null,
            "visibility": null,
            "width": null
          }
        },
        "7affd0ca8fcf43eb9624dc8aed00bea6": {
          "model_module": "@jupyter-widgets/controls",
          "model_name": "TextareaModel",
          "model_module_version": "1.5.0",
          "state": {
            "_dom_classes": [],
            "_model_module": "@jupyter-widgets/controls",
            "_model_module_version": "1.5.0",
            "_model_name": "TextareaModel",
            "_view_count": null,
            "_view_module": "@jupyter-widgets/controls",
            "_view_module_version": "1.5.0",
            "_view_name": "TextareaView",
            "continuous_update": true,
            "description": "",
            "description_tooltip": null,
            "disabled": false,
            "layout": "IPY_MODEL_9bc5b2cbce6c4e1682642c5e49d799d8",
            "placeholder": "We want your feedback!",
            "rows": null,
            "style": "IPY_MODEL_68e48a59f6bd4fc9b2ae1bb469cdc4ef",
            "value": ""
          }
        },
        "a5d65a4ecc8c429e8ace1e751a127f32": {
          "model_module": "@jupyter-widgets/controls",
          "model_name": "ButtonModel",
          "model_module_version": "1.5.0",
          "state": {
            "_dom_classes": [],
            "_model_module": "@jupyter-widgets/controls",
            "_model_module_version": "1.5.0",
            "_model_name": "ButtonModel",
            "_view_count": null,
            "_view_module": "@jupyter-widgets/controls",
            "_view_module_version": "1.5.0",
            "_view_name": "ButtonView",
            "button_style": "",
            "description": "Submit",
            "disabled": false,
            "icon": "",
            "layout": "IPY_MODEL_4a37228f7deb47e7b844c4ebc7417766",
            "style": "IPY_MODEL_756f7ae0900f49f7bd1c4fa7440e9ea4",
            "tooltip": ""
          }
        },
        "3306cdd4385740d3b8c0d2b30ae315fa": {
          "model_module": "@jupyter-widgets/base",
          "model_name": "LayoutModel",
          "model_module_version": "1.2.0",
          "state": {
            "_model_module": "@jupyter-widgets/base",
            "_model_module_version": "1.2.0",
            "_model_name": "LayoutModel",
            "_view_count": null,
            "_view_module": "@jupyter-widgets/base",
            "_view_module_version": "1.2.0",
            "_view_name": "LayoutView",
            "align_content": null,
            "align_items": null,
            "align_self": null,
            "border": null,
            "bottom": null,
            "display": "none",
            "flex": null,
            "flex_flow": null,
            "grid_area": null,
            "grid_auto_columns": null,
            "grid_auto_flow": null,
            "grid_auto_rows": null,
            "grid_column": null,
            "grid_gap": null,
            "grid_row": null,
            "grid_template_areas": null,
            "grid_template_columns": null,
            "grid_template_rows": null,
            "height": null,
            "justify_content": null,
            "justify_items": null,
            "left": null,
            "margin": null,
            "max_height": null,
            "max_width": null,
            "min_height": null,
            "min_width": null,
            "object_fit": null,
            "object_position": null,
            "order": null,
            "overflow": null,
            "overflow_x": null,
            "overflow_y": null,
            "padding": null,
            "right": null,
            "top": null,
            "visibility": null,
            "width": null
          }
        },
        "1428fc293cc74d7abf49e4fd8f638b22": {
          "model_module": "@jupyter-widgets/base",
          "model_name": "LayoutModel",
          "model_module_version": "1.2.0",
          "state": {
            "_model_module": "@jupyter-widgets/base",
            "_model_module_version": "1.2.0",
            "_model_name": "LayoutModel",
            "_view_count": null,
            "_view_module": "@jupyter-widgets/base",
            "_view_module_version": "1.2.0",
            "_view_name": "LayoutView",
            "align_content": null,
            "align_items": null,
            "align_self": null,
            "border": null,
            "bottom": null,
            "display": "none",
            "flex": null,
            "flex_flow": null,
            "grid_area": null,
            "grid_auto_columns": null,
            "grid_auto_flow": null,
            "grid_auto_rows": null,
            "grid_column": null,
            "grid_gap": null,
            "grid_row": null,
            "grid_template_areas": null,
            "grid_template_columns": null,
            "grid_template_rows": null,
            "height": null,
            "justify_content": null,
            "justify_items": null,
            "left": null,
            "margin": null,
            "max_height": null,
            "max_width": null,
            "min_height": null,
            "min_width": null,
            "object_fit": null,
            "object_position": null,
            "order": null,
            "overflow": null,
            "overflow_x": null,
            "overflow_y": null,
            "padding": null,
            "right": null,
            "top": null,
            "visibility": null,
            "width": null
          }
        },
        "14b89bec4b304c37a119ab960f2ef496": {
          "model_module": "@jupyter-widgets/controls",
          "model_name": "DescriptionStyleModel",
          "model_module_version": "1.5.0",
          "state": {
            "_model_module": "@jupyter-widgets/controls",
            "_model_module_version": "1.5.0",
            "_model_name": "DescriptionStyleModel",
            "_view_count": null,
            "_view_module": "@jupyter-widgets/base",
            "_view_module_version": "1.2.0",
            "_view_name": "StyleView",
            "description_width": ""
          }
        },
        "1a0478fab2e84666a81a8d1f0d96c672": {
          "model_module": "@jupyter-widgets/base",
          "model_name": "LayoutModel",
          "model_module_version": "1.2.0",
          "state": {
            "_model_module": "@jupyter-widgets/base",
            "_model_module_version": "1.2.0",
            "_model_name": "LayoutModel",
            "_view_count": null,
            "_view_module": "@jupyter-widgets/base",
            "_view_module_version": "1.2.0",
            "_view_name": "LayoutView",
            "align_content": null,
            "align_items": null,
            "align_self": null,
            "border": null,
            "bottom": null,
            "display": null,
            "flex": null,
            "flex_flow": null,
            "grid_area": null,
            "grid_auto_columns": null,
            "grid_auto_flow": null,
            "grid_auto_rows": null,
            "grid_column": null,
            "grid_gap": null,
            "grid_row": null,
            "grid_template_areas": null,
            "grid_template_columns": null,
            "grid_template_rows": null,
            "height": "auto",
            "justify_content": null,
            "justify_items": null,
            "left": null,
            "margin": null,
            "max_height": null,
            "max_width": null,
            "min_height": null,
            "min_width": null,
            "object_fit": null,
            "object_position": null,
            "order": null,
            "overflow": null,
            "overflow_x": null,
            "overflow_y": null,
            "padding": "0.5em",
            "right": null,
            "top": null,
            "visibility": null,
            "width": "auto"
          }
        },
        "3b6bf4429712455281d2fed67a8e104e": {
          "model_module": "@jupyter-widgets/controls",
          "model_name": "ButtonStyleModel",
          "model_module_version": "1.5.0",
          "state": {
            "_model_module": "@jupyter-widgets/controls",
            "_model_module_version": "1.5.0",
            "_model_name": "ButtonStyleModel",
            "_view_count": null,
            "_view_module": "@jupyter-widgets/base",
            "_view_module_version": "1.2.0",
            "_view_name": "StyleView",
            "button_color": "#aaffaa",
            "font_weight": ""
          }
        },
        "401696b6a05f4937993bf218a10b0bad": {
          "model_module": "@jupyter-widgets/base",
          "model_name": "LayoutModel",
          "model_module_version": "1.2.0",
          "state": {
            "_model_module": "@jupyter-widgets/base",
            "_model_module_version": "1.2.0",
            "_model_name": "LayoutModel",
            "_view_count": null,
            "_view_module": "@jupyter-widgets/base",
            "_view_module_version": "1.2.0",
            "_view_name": "LayoutView",
            "align_content": null,
            "align_items": null,
            "align_self": null,
            "border": null,
            "bottom": null,
            "display": null,
            "flex": null,
            "flex_flow": null,
            "grid_area": null,
            "grid_auto_columns": null,
            "grid_auto_flow": null,
            "grid_auto_rows": null,
            "grid_column": null,
            "grid_gap": null,
            "grid_row": null,
            "grid_template_areas": null,
            "grid_template_columns": null,
            "grid_template_rows": null,
            "height": "auto",
            "justify_content": null,
            "justify_items": null,
            "left": null,
            "margin": null,
            "max_height": null,
            "max_width": null,
            "min_height": null,
            "min_width": null,
            "object_fit": null,
            "object_position": null,
            "order": null,
            "overflow": null,
            "overflow_x": null,
            "overflow_y": null,
            "padding": "0.5em",
            "right": null,
            "top": null,
            "visibility": null,
            "width": "auto"
          }
        },
        "7fbf5b06468f4804a99fd53b32ca1025": {
          "model_module": "@jupyter-widgets/controls",
          "model_name": "ButtonStyleModel",
          "model_module_version": "1.5.0",
          "state": {
            "_model_module": "@jupyter-widgets/controls",
            "_model_module_version": "1.5.0",
            "_model_name": "ButtonStyleModel",
            "_view_count": null,
            "_view_module": "@jupyter-widgets/base",
            "_view_module_version": "1.2.0",
            "_view_name": "StyleView",
            "button_color": "#dddd77",
            "font_weight": ""
          }
        },
        "29604a127c1c4d62b943357836fab037": {
          "model_module": "@jupyter-widgets/base",
          "model_name": "LayoutModel",
          "model_module_version": "1.2.0",
          "state": {
            "_model_module": "@jupyter-widgets/base",
            "_model_module_version": "1.2.0",
            "_model_name": "LayoutModel",
            "_view_count": null,
            "_view_module": "@jupyter-widgets/base",
            "_view_module_version": "1.2.0",
            "_view_name": "LayoutView",
            "align_content": null,
            "align_items": null,
            "align_self": null,
            "border": null,
            "bottom": null,
            "display": null,
            "flex": null,
            "flex_flow": null,
            "grid_area": null,
            "grid_auto_columns": null,
            "grid_auto_flow": null,
            "grid_auto_rows": null,
            "grid_column": null,
            "grid_gap": null,
            "grid_row": null,
            "grid_template_areas": null,
            "grid_template_columns": null,
            "grid_template_rows": null,
            "height": "auto",
            "justify_content": null,
            "justify_items": null,
            "left": null,
            "margin": null,
            "max_height": null,
            "max_width": null,
            "min_height": null,
            "min_width": null,
            "object_fit": null,
            "object_position": null,
            "order": null,
            "overflow": null,
            "overflow_x": null,
            "overflow_y": null,
            "padding": "0.5em",
            "right": null,
            "top": null,
            "visibility": null,
            "width": "auto"
          }
        },
        "2878a7ab2cbb4aa6b9ae4171782b764f": {
          "model_module": "@jupyter-widgets/controls",
          "model_name": "ButtonStyleModel",
          "model_module_version": "1.5.0",
          "state": {
            "_model_module": "@jupyter-widgets/controls",
            "_model_module_version": "1.5.0",
            "_model_name": "ButtonStyleModel",
            "_view_count": null,
            "_view_module": "@jupyter-widgets/base",
            "_view_module_version": "1.2.0",
            "_view_name": "StyleView",
            "button_color": "#ffaaaa",
            "font_weight": ""
          }
        },
        "9bc5b2cbce6c4e1682642c5e49d799d8": {
          "model_module": "@jupyter-widgets/base",
          "model_name": "LayoutModel",
          "model_module_version": "1.2.0",
          "state": {
            "_model_module": "@jupyter-widgets/base",
            "_model_module_version": "1.2.0",
            "_model_name": "LayoutModel",
            "_view_count": null,
            "_view_module": "@jupyter-widgets/base",
            "_view_module_version": "1.2.0",
            "_view_name": "LayoutView",
            "align_content": null,
            "align_items": null,
            "align_self": null,
            "border": null,
            "bottom": null,
            "display": null,
            "flex": null,
            "flex_flow": null,
            "grid_area": null,
            "grid_auto_columns": null,
            "grid_auto_flow": null,
            "grid_auto_rows": null,
            "grid_column": null,
            "grid_gap": null,
            "grid_row": null,
            "grid_template_areas": null,
            "grid_template_columns": null,
            "grid_template_rows": null,
            "height": "auto",
            "justify_content": null,
            "justify_items": null,
            "left": null,
            "margin": null,
            "max_height": null,
            "max_width": null,
            "min_height": null,
            "min_width": null,
            "object_fit": null,
            "object_position": null,
            "order": null,
            "overflow": null,
            "overflow_x": null,
            "overflow_y": null,
            "padding": null,
            "right": null,
            "top": null,
            "visibility": null,
            "width": "auto"
          }
        },
        "68e48a59f6bd4fc9b2ae1bb469cdc4ef": {
          "model_module": "@jupyter-widgets/controls",
          "model_name": "DescriptionStyleModel",
          "model_module_version": "1.5.0",
          "state": {
            "_model_module": "@jupyter-widgets/controls",
            "_model_module_version": "1.5.0",
            "_model_name": "DescriptionStyleModel",
            "_view_count": null,
            "_view_module": "@jupyter-widgets/base",
            "_view_module_version": "1.2.0",
            "_view_name": "StyleView",
            "description_width": ""
          }
        },
        "4a37228f7deb47e7b844c4ebc7417766": {
          "model_module": "@jupyter-widgets/base",
          "model_name": "LayoutModel",
          "model_module_version": "1.2.0",
          "state": {
            "_model_module": "@jupyter-widgets/base",
            "_model_module_version": "1.2.0",
            "_model_name": "LayoutModel",
            "_view_count": null,
            "_view_module": "@jupyter-widgets/base",
            "_view_module_version": "1.2.0",
            "_view_name": "LayoutView",
            "align_content": null,
            "align_items": null,
            "align_self": null,
            "border": null,
            "bottom": null,
            "display": null,
            "flex": null,
            "flex_flow": null,
            "grid_area": null,
            "grid_auto_columns": null,
            "grid_auto_flow": null,
            "grid_auto_rows": null,
            "grid_column": null,
            "grid_gap": null,
            "grid_row": null,
            "grid_template_areas": null,
            "grid_template_columns": null,
            "grid_template_rows": null,
            "height": "auto",
            "justify_content": null,
            "justify_items": null,
            "left": null,
            "margin": null,
            "max_height": null,
            "max_width": null,
            "min_height": null,
            "min_width": null,
            "object_fit": null,
            "object_position": null,
            "order": null,
            "overflow": null,
            "overflow_x": null,
            "overflow_y": null,
            "padding": null,
            "right": null,
            "top": null,
            "visibility": null,
            "width": "auto"
          }
        },
        "756f7ae0900f49f7bd1c4fa7440e9ea4": {
          "model_module": "@jupyter-widgets/controls",
          "model_name": "ButtonStyleModel",
          "model_module_version": "1.5.0",
          "state": {
            "_model_module": "@jupyter-widgets/controls",
            "_model_module_version": "1.5.0",
            "_model_name": "ButtonStyleModel",
            "_view_count": null,
            "_view_module": "@jupyter-widgets/base",
            "_view_module_version": "1.2.0",
            "_view_name": "StyleView",
            "button_color": null,
            "font_weight": ""
          }
        },
        "68d61e766cb048fab2ee75cef8272ecd": {
          "model_module": "@jupyter-widgets/controls",
          "model_name": "TabModel",
          "model_module_version": "1.5.0",
          "state": {
            "_dom_classes": [],
            "_model_module": "@jupyter-widgets/controls",
            "_model_module_version": "1.5.0",
            "_model_name": "TabModel",
            "_titles": {
              "0": "Youtube",
              "1": "Bilibili"
            },
            "_view_count": null,
            "_view_module": "@jupyter-widgets/controls",
            "_view_module_version": "1.5.0",
            "_view_name": "TabView",
            "box_style": "",
            "children": [
              "IPY_MODEL_827d5ab6ae824db7945c0700ed4eed63",
              "IPY_MODEL_cf3ee9c726734ec8aa9b3d7c2cc36410"
            ],
            "layout": "IPY_MODEL_a080e19b709949a4beb89c1522115d74",
            "selected_index": 0
          }
        },
        "827d5ab6ae824db7945c0700ed4eed63": {
          "model_module": "@jupyter-widgets/output",
          "model_name": "OutputModel",
          "model_module_version": "1.0.0",
          "state": {
            "_dom_classes": [],
            "_model_module": "@jupyter-widgets/output",
            "_model_module_version": "1.0.0",
            "_model_name": "OutputModel",
            "_view_count": null,
            "_view_module": "@jupyter-widgets/output",
            "_view_module_version": "1.0.0",
            "_view_name": "OutputView",
            "layout": "IPY_MODEL_3f9626fd9013454d85c78fafe809920b",
            "msg_id": "",
            "outputs": [
              {
                "output_type": "stream",
                "name": "stdout",
                "text": [
                  "Video available at https://youtube.com/watch?v=JrC_UAJWYKU\n"
                ]
              },
              {
                "output_type": "display_data",
                "data": {
                  "text/plain": "<IPython.lib.display.YouTubeVideo at 0x79233576f290>",
                  "text/html": "\n        <iframe\n            width=\"854\"\n            height=\"480\"\n            src=\"https://www.youtube.com/embed/JrC_UAJWYKU?fs=1&rel=0\"\n            frameborder=\"0\"\n            allowfullscreen\n            \n        ></iframe>\n        ",
                  "image/jpeg": "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\n"
                },
                "metadata": {}
              }
            ]
          }
        },
        "cf3ee9c726734ec8aa9b3d7c2cc36410": {
          "model_module": "@jupyter-widgets/output",
          "model_name": "OutputModel",
          "model_module_version": "1.0.0",
          "state": {
            "_dom_classes": [],
            "_model_module": "@jupyter-widgets/output",
            "_model_module_version": "1.0.0",
            "_model_name": "OutputModel",
            "_view_count": null,
            "_view_module": "@jupyter-widgets/output",
            "_view_module_version": "1.0.0",
            "_view_name": "OutputView",
            "layout": "IPY_MODEL_26b0552a3d244f649386bbc5cffcf37c",
            "msg_id": "",
            "outputs": [
              {
                "output_type": "stream",
                "name": "stdout",
                "text": [
                  "Video available at https://www.bilibili.com/video/BV1xy4y1T7kv\n"
                ]
              },
              {
                "output_type": "display_data",
                "data": {
                  "text/plain": "<__main__.PlayVideo at 0x7923357798d0>",
                  "text/html": "\n        <iframe\n            width=\"854\"\n            height=\"480\"\n            src=\"https://player.bilibili.com/player.html?bvid=BV1xy4y1T7kv&page=1?fs=1&autoplay=False\"\n            frameborder=\"0\"\n            allowfullscreen\n            \n        ></iframe>\n        "
                },
                "metadata": {}
              }
            ]
          }
        },
        "a080e19b709949a4beb89c1522115d74": {
          "model_module": "@jupyter-widgets/base",
          "model_name": "LayoutModel",
          "model_module_version": "1.2.0",
          "state": {
            "_model_module": "@jupyter-widgets/base",
            "_model_module_version": "1.2.0",
            "_model_name": "LayoutModel",
            "_view_count": null,
            "_view_module": "@jupyter-widgets/base",
            "_view_module_version": "1.2.0",
            "_view_name": "LayoutView",
            "align_content": null,
            "align_items": null,
            "align_self": null,
            "border": null,
            "bottom": null,
            "display": null,
            "flex": null,
            "flex_flow": null,
            "grid_area": null,
            "grid_auto_columns": null,
            "grid_auto_flow": null,
            "grid_auto_rows": null,
            "grid_column": null,
            "grid_gap": null,
            "grid_row": null,
            "grid_template_areas": null,
            "grid_template_columns": null,
            "grid_template_rows": null,
            "height": null,
            "justify_content": null,
            "justify_items": null,
            "left": null,
            "margin": null,
            "max_height": null,
            "max_width": null,
            "min_height": null,
            "min_width": null,
            "object_fit": null,
            "object_position": null,
            "order": null,
            "overflow": null,
            "overflow_x": null,
            "overflow_y": null,
            "padding": null,
            "right": null,
            "top": null,
            "visibility": null,
            "width": null
          }
        },
        "3f9626fd9013454d85c78fafe809920b": {
          "model_module": "@jupyter-widgets/base",
          "model_name": "LayoutModel",
          "model_module_version": "1.2.0",
          "state": {
            "_model_module": "@jupyter-widgets/base",
            "_model_module_version": "1.2.0",
            "_model_name": "LayoutModel",
            "_view_count": null,
            "_view_module": "@jupyter-widgets/base",
            "_view_module_version": "1.2.0",
            "_view_name": "LayoutView",
            "align_content": null,
            "align_items": null,
            "align_self": null,
            "border": null,
            "bottom": null,
            "display": null,
            "flex": null,
            "flex_flow": null,
            "grid_area": null,
            "grid_auto_columns": null,
            "grid_auto_flow": null,
            "grid_auto_rows": null,
            "grid_column": null,
            "grid_gap": null,
            "grid_row": null,
            "grid_template_areas": null,
            "grid_template_columns": null,
            "grid_template_rows": null,
            "height": null,
            "justify_content": null,
            "justify_items": null,
            "left": null,
            "margin": null,
            "max_height": null,
            "max_width": null,
            "min_height": null,
            "min_width": null,
            "object_fit": null,
            "object_position": null,
            "order": null,
            "overflow": null,
            "overflow_x": null,
            "overflow_y": null,
            "padding": null,
            "right": null,
            "top": null,
            "visibility": null,
            "width": null
          }
        },
        "26b0552a3d244f649386bbc5cffcf37c": {
          "model_module": "@jupyter-widgets/base",
          "model_name": "LayoutModel",
          "model_module_version": "1.2.0",
          "state": {
            "_model_module": "@jupyter-widgets/base",
            "_model_module_version": "1.2.0",
            "_model_name": "LayoutModel",
            "_view_count": null,
            "_view_module": "@jupyter-widgets/base",
            "_view_module_version": "1.2.0",
            "_view_name": "LayoutView",
            "align_content": null,
            "align_items": null,
            "align_self": null,
            "border": null,
            "bottom": null,
            "display": null,
            "flex": null,
            "flex_flow": null,
            "grid_area": null,
            "grid_auto_columns": null,
            "grid_auto_flow": null,
            "grid_auto_rows": null,
            "grid_column": null,
            "grid_gap": null,
            "grid_row": null,
            "grid_template_areas": null,
            "grid_template_columns": null,
            "grid_template_rows": null,
            "height": null,
            "justify_content": null,
            "justify_items": null,
            "left": null,
            "margin": null,
            "max_height": null,
            "max_width": null,
            "min_height": null,
            "min_width": null,
            "object_fit": null,
            "object_position": null,
            "order": null,
            "overflow": null,
            "overflow_x": null,
            "overflow_y": null,
            "padding": null,
            "right": null,
            "top": null,
            "visibility": null,
            "width": null
          }
        },
        "1ab6136e28484497af0b064e3454df02": {
          "model_module": "@jupyter-widgets/controls",
          "model_name": "TabModel",
          "model_module_version": "1.5.0",
          "state": {
            "_dom_classes": [],
            "_model_module": "@jupyter-widgets/controls",
            "_model_module_version": "1.5.0",
            "_model_name": "TabModel",
            "_titles": {
              "0": "Youtube",
              "1": "Bilibili"
            },
            "_view_count": null,
            "_view_module": "@jupyter-widgets/controls",
            "_view_module_version": "1.5.0",
            "_view_name": "TabView",
            "box_style": "",
            "children": [
              "IPY_MODEL_34e7dd8eba1c46829238de67a7323ee2",
              "IPY_MODEL_e2fe10cf74a9484dbe0388405d0c2b5d"
            ],
            "layout": "IPY_MODEL_c65809e432824b90af321596bdf348ed",
            "selected_index": 0
          }
        },
        "34e7dd8eba1c46829238de67a7323ee2": {
          "model_module": "@jupyter-widgets/output",
          "model_name": "OutputModel",
          "model_module_version": "1.0.0",
          "state": {
            "_dom_classes": [],
            "_model_module": "@jupyter-widgets/output",
            "_model_module_version": "1.0.0",
            "_model_name": "OutputModel",
            "_view_count": null,
            "_view_module": "@jupyter-widgets/output",
            "_view_module_version": "1.0.0",
            "_view_name": "OutputView",
            "layout": "IPY_MODEL_035d926737fa4105b90818407484f422",
            "msg_id": "",
            "outputs": [
              {
                "output_type": "stream",
                "name": "stdout",
                "text": [
                  "Video available at https://youtube.com/watch?v=PwSzRohUvck\n"
                ]
              },
              {
                "output_type": "display_data",
                "data": {
                  "text/plain": "<IPython.lib.display.YouTubeVideo at 0x79223e788710>",
                  "text/html": "\n        <iframe\n            width=\"854\"\n            height=\"480\"\n            src=\"https://www.youtube.com/embed/PwSzRohUvck?fs=1&rel=0\"\n            frameborder=\"0\"\n            allowfullscreen\n            \n        ></iframe>\n        ",
                  "image/jpeg": "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\n"
                },
                "metadata": {}
              }
            ]
          }
        },
        "e2fe10cf74a9484dbe0388405d0c2b5d": {
          "model_module": "@jupyter-widgets/output",
          "model_name": "OutputModel",
          "model_module_version": "1.0.0",
          "state": {
            "_dom_classes": [],
            "_model_module": "@jupyter-widgets/output",
            "_model_module_version": "1.0.0",
            "_model_name": "OutputModel",
            "_view_count": null,
            "_view_module": "@jupyter-widgets/output",
            "_view_module_version": "1.0.0",
            "_view_name": "OutputView",
            "layout": "IPY_MODEL_0a0e4f270cc5499a8d1f7dfdb1e15069",
            "msg_id": "",
            "outputs": [
              {
                "output_type": "stream",
                "name": "stdout",
                "text": [
                  "Video available at https://www.bilibili.com/video/BV1fK4y1M74a\n"
                ]
              },
              {
                "output_type": "display_data",
                "data": {
                  "text/plain": "<__main__.PlayVideo at 0x792240c20810>",
                  "text/html": "\n        <iframe\n            width=\"854\"\n            height=\"480\"\n            src=\"https://player.bilibili.com/player.html?bvid=BV1fK4y1M74a&page=1?fs=1&autoplay=False\"\n            frameborder=\"0\"\n            allowfullscreen\n            \n        ></iframe>\n        "
                },
                "metadata": {}
              }
            ]
          }
        },
        "c65809e432824b90af321596bdf348ed": {
          "model_module": "@jupyter-widgets/base",
          "model_name": "LayoutModel",
          "model_module_version": "1.2.0",
          "state": {
            "_model_module": "@jupyter-widgets/base",
            "_model_module_version": "1.2.0",
            "_model_name": "LayoutModel",
            "_view_count": null,
            "_view_module": "@jupyter-widgets/base",
            "_view_module_version": "1.2.0",
            "_view_name": "LayoutView",
            "align_content": null,
            "align_items": null,
            "align_self": null,
            "border": null,
            "bottom": null,
            "display": null,
            "flex": null,
            "flex_flow": null,
            "grid_area": null,
            "grid_auto_columns": null,
            "grid_auto_flow": null,
            "grid_auto_rows": null,
            "grid_column": null,
            "grid_gap": null,
            "grid_row": null,
            "grid_template_areas": null,
            "grid_template_columns": null,
            "grid_template_rows": null,
            "height": null,
            "justify_content": null,
            "justify_items": null,
            "left": null,
            "margin": null,
            "max_height": null,
            "max_width": null,
            "min_height": null,
            "min_width": null,
            "object_fit": null,
            "object_position": null,
            "order": null,
            "overflow": null,
            "overflow_x": null,
            "overflow_y": null,
            "padding": null,
            "right": null,
            "top": null,
            "visibility": null,
            "width": null
          }
        },
        "035d926737fa4105b90818407484f422": {
          "model_module": "@jupyter-widgets/base",
          "model_name": "LayoutModel",
          "model_module_version": "1.2.0",
          "state": {
            "_model_module": "@jupyter-widgets/base",
            "_model_module_version": "1.2.0",
            "_model_name": "LayoutModel",
            "_view_count": null,
            "_view_module": "@jupyter-widgets/base",
            "_view_module_version": "1.2.0",
            "_view_name": "LayoutView",
            "align_content": null,
            "align_items": null,
            "align_self": null,
            "border": null,
            "bottom": null,
            "display": null,
            "flex": null,
            "flex_flow": null,
            "grid_area": null,
            "grid_auto_columns": null,
            "grid_auto_flow": null,
            "grid_auto_rows": null,
            "grid_column": null,
            "grid_gap": null,
            "grid_row": null,
            "grid_template_areas": null,
            "grid_template_columns": null,
            "grid_template_rows": null,
            "height": null,
            "justify_content": null,
            "justify_items": null,
            "left": null,
            "margin": null,
            "max_height": null,
            "max_width": null,
            "min_height": null,
            "min_width": null,
            "object_fit": null,
            "object_position": null,
            "order": null,
            "overflow": null,
            "overflow_x": null,
            "overflow_y": null,
            "padding": null,
            "right": null,
            "top": null,
            "visibility": null,
            "width": null
          }
        },
        "0a0e4f270cc5499a8d1f7dfdb1e15069": {
          "model_module": "@jupyter-widgets/base",
          "model_name": "LayoutModel",
          "model_module_version": "1.2.0",
          "state": {
            "_model_module": "@jupyter-widgets/base",
            "_model_module_version": "1.2.0",
            "_model_name": "LayoutModel",
            "_view_count": null,
            "_view_module": "@jupyter-widgets/base",
            "_view_module_version": "1.2.0",
            "_view_name": "LayoutView",
            "align_content": null,
            "align_items": null,
            "align_self": null,
            "border": null,
            "bottom": null,
            "display": null,
            "flex": null,
            "flex_flow": null,
            "grid_area": null,
            "grid_auto_columns": null,
            "grid_auto_flow": null,
            "grid_auto_rows": null,
            "grid_column": null,
            "grid_gap": null,
            "grid_row": null,
            "grid_template_areas": null,
            "grid_template_columns": null,
            "grid_template_rows": null,
            "height": null,
            "justify_content": null,
            "justify_items": null,
            "left": null,
            "margin": null,
            "max_height": null,
            "max_width": null,
            "min_height": null,
            "min_width": null,
            "object_fit": null,
            "object_position": null,
            "order": null,
            "overflow": null,
            "overflow_x": null,
            "overflow_y": null,
            "padding": null,
            "right": null,
            "top": null,
            "visibility": null,
            "width": null
          }
        },
        "2ff7ad4d96844dc59ca45ba715020f11": {
          "model_module": "@jupyter-widgets/controls",
          "model_name": "TabModel",
          "model_module_version": "1.5.0",
          "state": {
            "_dom_classes": [],
            "_model_module": "@jupyter-widgets/controls",
            "_model_module_version": "1.5.0",
            "_model_name": "TabModel",
            "_titles": {
              "0": "Youtube",
              "1": "Bilibili"
            },
            "_view_count": null,
            "_view_module": "@jupyter-widgets/controls",
            "_view_module_version": "1.5.0",
            "_view_name": "TabView",
            "box_style": "",
            "children": [
              "IPY_MODEL_5a43846dddb840ff8f96dab31fbaf712",
              "IPY_MODEL_c73910df5c734b3eb08ab3271bdbbc82"
            ],
            "layout": "IPY_MODEL_e8345ccfb7814e62ac9cf69f131570ea",
            "selected_index": 0
          }
        },
        "5a43846dddb840ff8f96dab31fbaf712": {
          "model_module": "@jupyter-widgets/output",
          "model_name": "OutputModel",
          "model_module_version": "1.0.0",
          "state": {
            "_dom_classes": [],
            "_model_module": "@jupyter-widgets/output",
            "_model_module_version": "1.0.0",
            "_model_name": "OutputModel",
            "_view_count": null,
            "_view_module": "@jupyter-widgets/output",
            "_view_module_version": "1.0.0",
            "_view_name": "OutputView",
            "layout": "IPY_MODEL_6756db4ebc41436386cd06409b651e98",
            "msg_id": "",
            "outputs": [
              {
                "output_type": "stream",
                "name": "stdout",
                "text": [
                  "Video available at https://youtube.com/watch?v=4MIqnE4XPaA\n"
                ]
              },
              {
                "output_type": "display_data",
                "data": {
                  "text/plain": "<IPython.lib.display.YouTubeVideo at 0x79234dbd6d90>",
                  "text/html": "\n        <iframe\n            width=\"854\"\n            height=\"480\"\n            src=\"https://www.youtube.com/embed/4MIqnE4XPaA?fs=1&rel=0\"\n            frameborder=\"0\"\n            allowfullscreen\n            \n        ></iframe>\n        ",
                  "image/jpeg": "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\n"
                },
                "metadata": {}
              }
            ]
          }
        },
        "c73910df5c734b3eb08ab3271bdbbc82": {
          "model_module": "@jupyter-widgets/output",
          "model_name": "OutputModel",
          "model_module_version": "1.0.0",
          "state": {
            "_dom_classes": [],
            "_model_module": "@jupyter-widgets/output",
            "_model_module_version": "1.0.0",
            "_model_name": "OutputModel",
            "_view_count": null,
            "_view_module": "@jupyter-widgets/output",
            "_view_module_version": "1.0.0",
            "_view_name": "OutputView",
            "layout": "IPY_MODEL_517e4593e12247b9aac07f7313c387ad",
            "msg_id": "",
            "outputs": [
              {
                "output_type": "stream",
                "name": "stdout",
                "text": [
                  "Video available at https://www.bilibili.com/video/BV1v54y1n7CS\n"
                ]
              },
              {
                "output_type": "display_data",
                "data": {
                  "text/plain": "<__main__.PlayVideo at 0x79223e775610>",
                  "text/html": "\n        <iframe\n            width=\"854\"\n            height=\"480\"\n            src=\"https://player.bilibili.com/player.html?bvid=BV1v54y1n7CS&page=1?fs=1&autoplay=False\"\n            frameborder=\"0\"\n            allowfullscreen\n            \n        ></iframe>\n        "
                },
                "metadata": {}
              }
            ]
          }
        },
        "e8345ccfb7814e62ac9cf69f131570ea": {
          "model_module": "@jupyter-widgets/base",
          "model_name": "LayoutModel",
          "model_module_version": "1.2.0",
          "state": {
            "_model_module": "@jupyter-widgets/base",
            "_model_module_version": "1.2.0",
            "_model_name": "LayoutModel",
            "_view_count": null,
            "_view_module": "@jupyter-widgets/base",
            "_view_module_version": "1.2.0",
            "_view_name": "LayoutView",
            "align_content": null,
            "align_items": null,
            "align_self": null,
            "border": null,
            "bottom": null,
            "display": null,
            "flex": null,
            "flex_flow": null,
            "grid_area": null,
            "grid_auto_columns": null,
            "grid_auto_flow": null,
            "grid_auto_rows": null,
            "grid_column": null,
            "grid_gap": null,
            "grid_row": null,
            "grid_template_areas": null,
            "grid_template_columns": null,
            "grid_template_rows": null,
            "height": null,
            "justify_content": null,
            "justify_items": null,
            "left": null,
            "margin": null,
            "max_height": null,
            "max_width": null,
            "min_height": null,
            "min_width": null,
            "object_fit": null,
            "object_position": null,
            "order": null,
            "overflow": null,
            "overflow_x": null,
            "overflow_y": null,
            "padding": null,
            "right": null,
            "top": null,
            "visibility": null,
            "width": null
          }
        },
        "6756db4ebc41436386cd06409b651e98": {
          "model_module": "@jupyter-widgets/base",
          "model_name": "LayoutModel",
          "model_module_version": "1.2.0",
          "state": {
            "_model_module": "@jupyter-widgets/base",
            "_model_module_version": "1.2.0",
            "_model_name": "LayoutModel",
            "_view_count": null,
            "_view_module": "@jupyter-widgets/base",
            "_view_module_version": "1.2.0",
            "_view_name": "LayoutView",
            "align_content": null,
            "align_items": null,
            "align_self": null,
            "border": null,
            "bottom": null,
            "display": null,
            "flex": null,
            "flex_flow": null,
            "grid_area": null,
            "grid_auto_columns": null,
            "grid_auto_flow": null,
            "grid_auto_rows": null,
            "grid_column": null,
            "grid_gap": null,
            "grid_row": null,
            "grid_template_areas": null,
            "grid_template_columns": null,
            "grid_template_rows": null,
            "height": null,
            "justify_content": null,
            "justify_items": null,
            "left": null,
            "margin": null,
            "max_height": null,
            "max_width": null,
            "min_height": null,
            "min_width": null,
            "object_fit": null,
            "object_position": null,
            "order": null,
            "overflow": null,
            "overflow_x": null,
            "overflow_y": null,
            "padding": null,
            "right": null,
            "top": null,
            "visibility": null,
            "width": null
          }
        },
        "517e4593e12247b9aac07f7313c387ad": {
          "model_module": "@jupyter-widgets/base",
          "model_name": "LayoutModel",
          "model_module_version": "1.2.0",
          "state": {
            "_model_module": "@jupyter-widgets/base",
            "_model_module_version": "1.2.0",
            "_model_name": "LayoutModel",
            "_view_count": null,
            "_view_module": "@jupyter-widgets/base",
            "_view_module_version": "1.2.0",
            "_view_name": "LayoutView",
            "align_content": null,
            "align_items": null,
            "align_self": null,
            "border": null,
            "bottom": null,
            "display": null,
            "flex": null,
            "flex_flow": null,
            "grid_area": null,
            "grid_auto_columns": null,
            "grid_auto_flow": null,
            "grid_auto_rows": null,
            "grid_column": null,
            "grid_gap": null,
            "grid_row": null,
            "grid_template_areas": null,
            "grid_template_columns": null,
            "grid_template_rows": null,
            "height": null,
            "justify_content": null,
            "justify_items": null,
            "left": null,
            "margin": null,
            "max_height": null,
            "max_width": null,
            "min_height": null,
            "min_width": null,
            "object_fit": null,
            "object_position": null,
            "order": null,
            "overflow": null,
            "overflow_x": null,
            "overflow_y": null,
            "padding": null,
            "right": null,
            "top": null,
            "visibility": null,
            "width": null
          }
        }
      }
    }
  },
  "nbformat": 4,
  "nbformat_minor": 0
}