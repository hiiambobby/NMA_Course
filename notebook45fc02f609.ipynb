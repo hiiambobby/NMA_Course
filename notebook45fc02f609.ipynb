{
 "cells": [
  {
   "cell_type": "code",
   "execution_count": 1,
   "id": "1bf9fca7",
   "metadata": {
    "_cell_guid": "b1076dfc-b9ad-4769-8c92-a6c4dae69d19",
    "_uuid": "8f2839f25d086af736a60e9eeb907d3b93b6e0e5",
    "execution": {
     "iopub.execute_input": "2025-07-15T09:11:12.475230Z",
     "iopub.status.busy": "2025-07-15T09:11:12.474887Z",
     "iopub.status.idle": "2025-07-15T09:11:28.034252Z",
     "shell.execute_reply": "2025-07-15T09:11:28.032967Z"
    },
    "papermill": {
     "duration": 15.566575,
     "end_time": "2025-07-15T09:11:28.036112",
     "exception": false,
     "start_time": "2025-07-15T09:11:12.469537",
     "status": "completed"
    },
    "tags": []
   },
   "outputs": [
    {
     "name": "stdout",
     "output_type": "stream",
     "text": [
      "/kaggle/input/fashionmnist/t10k-labels-idx1-ubyte\n",
      "/kaggle/input/fashionmnist/t10k-images-idx3-ubyte\n",
      "/kaggle/input/fashionmnist/fashion-mnist_test.csv\n",
      "/kaggle/input/fashionmnist/fashion-mnist_train.csv\n",
      "/kaggle/input/fashionmnist/train-labels-idx1-ubyte\n",
      "/kaggle/input/fashionmnist/train-images-idx3-ubyte\n"
     ]
    }
   ],
   "source": [
    "# This Python 3 environment comes with many helpful analytics libraries installed\n",
    "# It is defined by the kaggle/python Docker image: https://github.com/kaggle/docker-python\n",
    "# For example, here's several helpful packages to load\n",
    "\n",
    "import numpy as np # linear algebra\n",
    "import pandas as pd # data processing, CSV file I/O (e.g. pd.read_csv)\n",
    "import requests\n",
    "import time\n",
    "import torch\n",
    "import scipy.signal\n",
    "import matplotlib.pyplot as plt\n",
    "\n",
    "import torch.nn as nn\n",
    "import torch.nn.functional as F\n",
    "\n",
    "import torchvision.transforms as transforms\n",
    "import torchvision.datasets as datasets\n",
    "from torch.utils.data import DataLoader\n",
    "\n",
    "from tqdm.notebook import tqdm, trange\n",
    "from PIL import Image\n",
    "\n",
    "# Input data files are available in the read-only \"../input/\" directory\n",
    "# For example, running this (by clicking run or pressing Shift+Enter) will list all files under the input directory\n",
    "\n",
    "import os\n",
    "for dirname, _, filenames in os.walk('/kaggle/input'):\n",
    "    for filename in filenames:\n",
    "        print(os.path.join(dirname, filename))\n",
    "\n",
    "# You can write up to 20GB to the current directory (/kaggle/working/) that gets preserved as output when you create a version using \"Save & Run All\" \n",
    "# You can also write temporary files to /kaggle/temp/, but they won't be saved outside of the current session"
   ]
  },
  {
   "cell_type": "code",
   "execution_count": 2,
   "id": "368a2276",
   "metadata": {
    "execution": {
     "iopub.execute_input": "2025-07-15T09:11:28.046426Z",
     "iopub.status.busy": "2025-07-15T09:11:28.045391Z",
     "iopub.status.idle": "2025-07-15T09:11:37.661372Z",
     "shell.execute_reply": "2025-07-15T09:11:37.660245Z"
    },
    "papermill": {
     "duration": 9.622847,
     "end_time": "2025-07-15T09:11:37.663340",
     "exception": false,
     "start_time": "2025-07-15T09:11:28.040493",
     "status": "completed"
    },
    "tags": []
   },
   "outputs": [
    {
     "name": "stdout",
     "output_type": "stream",
     "text": [
      "  Preparing metadata (setup.py) ... \u001b[?25l\u001b[?25hdone\r\n",
      "  Preparing metadata (setup.py) ... \u001b[?25l\u001b[?25hdone\r\n",
      "  Building wheel for vibecheck (setup.py) ... \u001b[?25l\u001b[?25hdone\r\n",
      "  Building wheel for datatops (setup.py) ... \u001b[?25l\u001b[?25hdone\r\n"
     ]
    }
   ],
   "source": [
    "# @title Install and import feedback gadget\n",
    "\n",
    "!pip3 install vibecheck datatops --quiet\n",
    "\n",
    "from vibecheck import DatatopsContentReviewContainer\n",
    "def content_review(notebook_section: str):\n",
    "    return DatatopsContentReviewContainer(\n",
    "        \"\",  # No text prompt\n",
    "        notebook_section,\n",
    "        {\n",
    "            \"url\": \"https://pmyvdlilci.execute-api.us-east-1.amazonaws.com/klab\",\n",
    "            \"name\": \"neuromatch_dl\",\n",
    "            \"user_key\": \"f379rz8y\",\n",
    "        },\n",
    "    ).render()\n",
    "\n",
    "\n",
    "feedback_prefix = \"W2D2_T1\""
   ]
  },
  {
   "cell_type": "code",
   "execution_count": 3,
   "id": "e367b381",
   "metadata": {
    "execution": {
     "iopub.execute_input": "2025-07-15T09:11:37.673064Z",
     "iopub.status.busy": "2025-07-15T09:11:37.672336Z",
     "iopub.status.idle": "2025-07-15T09:11:37.903390Z",
     "shell.execute_reply": "2025-07-15T09:11:37.902267Z"
    },
    "papermill": {
     "duration": 0.238503,
     "end_time": "2025-07-15T09:11:37.905861",
     "exception": false,
     "start_time": "2025-07-15T09:11:37.667358",
     "status": "completed"
    },
    "tags": []
   },
   "outputs": [],
   "source": [
    "# @title Figure Settings\n",
    "import logging\n",
    "logging.getLogger('matplotlib.font_manager').disabled = True\n",
    "\n",
    "import ipywidgets as widgets  # Interactive display\n",
    "%matplotlib inline\n",
    "%config InlineBackend.figure_format = 'retina'\n",
    "plt.style.use(\"https://raw.githubusercontent.com/NeuromatchAcademy/content-creation/main/nma.mplstyle\")"
   ]
  },
  {
   "cell_type": "code",
   "execution_count": 4,
   "id": "39678fdd",
   "metadata": {
    "execution": {
     "iopub.execute_input": "2025-07-15T09:11:37.917580Z",
     "iopub.status.busy": "2025-07-15T09:11:37.917216Z",
     "iopub.status.idle": "2025-07-15T09:11:37.941373Z",
     "shell.execute_reply": "2025-07-15T09:11:37.940211Z"
    },
    "papermill": {
     "duration": 0.032885,
     "end_time": "2025-07-15T09:11:37.943889",
     "exception": false,
     "start_time": "2025-07-15T09:11:37.911004",
     "status": "completed"
    },
    "tags": []
   },
   "outputs": [],
   "source": [
    "# @title Helper functions\n",
    "from scipy.signal import correlate2d\n",
    "import zipfile, gzip, shutil, tarfile\n",
    "\n",
    "\n",
    "def download_data(fname, folder, url, tar):\n",
    "  \"\"\"\n",
    "  Data downloading from OSF.\n",
    "\n",
    "  Args:\n",
    "    fname : str\n",
    "      The name of the archive\n",
    "    folder : str\n",
    "      The name of the destination folder\n",
    "    url : str\n",
    "      The download url\n",
    "    tar : boolean\n",
    "      `tar=True` the archive is `fname`.tar.gz, `tar=False` is `fname`.zip\n",
    "\n",
    "  Returns:\n",
    "    Nothing.\n",
    "  \"\"\"\n",
    "\n",
    "  if not os.path.exists(folder):\n",
    "    print(f'\\nDownloading {folder} dataset...')\n",
    "    r = requests.get(url, allow_redirects=True)\n",
    "    with open(fname, 'wb') as fh:\n",
    "      fh.write(r.content)\n",
    "    print(f'\\nDownloading {folder} completed.')\n",
    "\n",
    "    print('\\nExtracting the files...\\n')\n",
    "    if not tar:\n",
    "      with zipfile.ZipFile(fname, 'r') as fz:\n",
    "        fz.extractall()\n",
    "    else:\n",
    "      with tarfile.open(fname) as ft:\n",
    "        ft.extractall()\n",
    "    # Remove the archive\n",
    "    os.remove(fname)\n",
    "\n",
    "    # Extract all .gz files\n",
    "    foldername = folder + '/raw/'\n",
    "    for filename in os.listdir(foldername):\n",
    "      # Remove the extension\n",
    "      fname = filename.replace('.gz', '')\n",
    "      # Gunzip all files\n",
    "      with gzip.open(foldername + filename, 'rb') as f_in:\n",
    "        with open(foldername + fname, 'wb') as f_out:\n",
    "          shutil.copyfileobj(f_in, f_out)\n",
    "          os.remove(foldername+filename)\n",
    "  else:\n",
    "    print(f'{folder} dataset has already been downloaded.\\n')\n",
    "\n",
    "\n",
    "def check_shape_function(func, image_shape, kernel_shape):\n",
    "  \"\"\"\n",
    "  Helper function to check shape implementation\n",
    "\n",
    "  Args:\n",
    "    func: f.__name__\n",
    "      Function name\n",
    "    image_shape: tuple\n",
    "      Image shape\n",
    "    kernel_shape: tuple\n",
    "      Kernel shape\n",
    "\n",
    "  Returns:\n",
    "    Nothing\n",
    "  \"\"\"\n",
    "  correct_shape = correlate2d(np.random.rand(*image_shape), np.random.rand(*kernel_shape), \"valid\").shape\n",
    "  user_shape = func(image_shape, kernel_shape)\n",
    "  if correct_shape != user_shape:\n",
    "    print(f\"❌ Your calculated output shape is not correct.\")\n",
    "  else:\n",
    "    print(f\"✅ Output for image_shape: {image_shape} and kernel_shape: {kernel_shape}, output_shape: {user_shape}, is correct.\")\n",
    "\n",
    "\n",
    "def check_conv_function(func, image, kernel):\n",
    "  \"\"\"\n",
    "  Helper function to check conv_function\n",
    "\n",
    "  Args:\n",
    "    func: f.__name__\n",
    "      Function name\n",
    "    image: np.ndarray\n",
    "      Image matrix\n",
    "    kernel_shape: np.ndarray\n",
    "      Kernel matrix\n",
    "\n",
    "  Returns:\n",
    "    Nothing\n",
    "  \"\"\"\n",
    "  solution_user = func(image, kernel)\n",
    "  solution_scipy = correlate2d(image, kernel, \"valid\")\n",
    "  result_right = (solution_user == solution_scipy).all()\n",
    "  if result_right:\n",
    "    print(\"✅ The function calculated the convolution correctly.\")\n",
    "  else:\n",
    "    print(\"❌ The function did not produce the right output.\")\n",
    "    print(\"For the input matrix:\")\n",
    "    print(image)\n",
    "    print(\"and the kernel:\")\n",
    "    print(kernel)\n",
    "    print(\"the function returned:\")\n",
    "    print(solution_user)\n",
    "    print(\"the correct output would be:\")\n",
    "    print(solution_scipy)\n",
    "\n",
    "\n",
    "def check_pooling_net(net, device='cpu'):\n",
    "  \"\"\"\n",
    "  Helper function to check pooling output\n",
    "\n",
    "  Args:\n",
    "    net: nn.module\n",
    "      Net instance\n",
    "    device: string\n",
    "      GPU/CUDA if available, CPU otherwise.\n",
    "\n",
    "  Returns:\n",
    "    Nothing\n",
    "  \"\"\"\n",
    "  x_img = emnist_train[x_img_idx][0].unsqueeze(dim=0).to(device)\n",
    "  output_x = net(x_img)\n",
    "  output_x = output_x.squeeze(dim=0).detach().cpu().numpy()\n",
    "\n",
    "  right_output = [\n",
    "      [0.000000, 0.000000, 0.000000, 0.000000, 0.000000, 0.000000, 0.000000,\n",
    "      0.000000, 0.000000, 0.000000, 0.000000, 0.000000],\n",
    "      [0.000000, 0.000000, 0.000000, 0.000000, 0.000000, 0.000000, 0.000000,\n",
    "      0.000000, 0.000000, 0.000000, 0.000000, 0.000000],\n",
    "      [9.309552, 1.6216984, 0.000000, 0.000000, 0.000000, 0.000000, 2.2708383,\n",
    "      2.6654134, 1.2271233, 0.000000, 0.000000, 0.000000],\n",
    "      [12.873457, 13.318945, 9.46229, 4.663746, 0.000000, 0.000000, 1.8889914,\n",
    "      0.31068993, 0.000000, 0.000000, 0.000000, 0.000000],\n",
    "      [0.000000, 8.354934, 10.378724, 16.882853, 18.499334, 4.8546696, 0.000000,\n",
    "      0.000000, 0.000000, 6.29296, 5.096506, 0.000000],\n",
    "      [0.000000, 0.000000, 0.31068993, 5.7074604, 9.984148, 4.12916, 8.10037,\n",
    "      7.667609, 0.000000, 0.000000, 1.2780352, 0.000000],\n",
    "      [0.000000, 2.436305, 3.9764223, 0.000000, 0.000000, 0.000000, 12.98801,\n",
    "      17.1756, 17.531992, 11.664275, 1.5453291, 0.000000],\n",
    "      [4.2691708, 2.3217516, 0.000000, 0.000000, 1.3798618, 0.05612564, 0.000000,\n",
    "      0.000000, 11.218788, 16.360992, 13.980816, 8.354935],\n",
    "      [1.8126211, 0.000000, 0.000000, 2.9199777, 3.9382377, 0.000000, 0.000000,\n",
    "      0.000000, 0.000000, 0.000000, 6.076582, 10.035061],\n",
    "      [0.000000, 0.92164516, 4.434638, 0.7816348, 0.000000, 0.000000, 0.000000,\n",
    "      0.000000, 0.000000, 0.000000, 0.000000, 0.83254766],\n",
    "      [0.000000, 0.000000, 0.000000, 0.000000, 0.000000, 0.000000, 0.000000,\n",
    "      0.000000, 0.000000, 0.000000, 0.000000, 0.000000],\n",
    "      [0.000000, 0.000000, 0.000000, 0.000000, 0.000000, 0.000000, 0.000000,\n",
    "      0.000000, 0.000000, 0.000000, 0.000000, 0.000000]\n",
    "  ]\n",
    "\n",
    "  right_shape = (3, 12, 12)\n",
    "\n",
    "  if output_x.shape != right_shape:\n",
    "    print(f\"❌ Your output does not have the right dimensions. Your output is {output_x.shape} the expected output is {right_shape}\")\n",
    "  elif (output_x[0] != right_output).all():\n",
    "    print(\"❌ Your output is not right.\")\n",
    "  else:\n",
    "    print(\"✅ Your network produced the correct output.\")\n",
    "\n",
    "\n",
    "# Just returns accuracy on test data\n",
    "def test(model, device, data_loader):\n",
    "  \"\"\"\n",
    "  Test function\n",
    "\n",
    "  Args:\n",
    "    net: nn.module\n",
    "      Net instance\n",
    "    device: string\n",
    "      GPU/CUDA if available, CPU otherwise.\n",
    "    data_loader: torch.loader\n",
    "      Test loader\n",
    "\n",
    "  Returns:\n",
    "    acc: float\n",
    "      Test accuracy\n",
    "  \"\"\"\n",
    "  model.eval()\n",
    "  correct = 0\n",
    "  total = 0\n",
    "  for data in data_loader:\n",
    "    inputs, labels = data\n",
    "    inputs = inputs.to(device).float()\n",
    "    labels = labels.to(device).long()\n",
    "\n",
    "    outputs = model(inputs)\n",
    "    _, predicted = torch.max(outputs, 1)\n",
    "    total += labels.size(0)\n",
    "    correct += (predicted == labels).sum().item()\n",
    "\n",
    "  acc = 100 * correct / total\n",
    "  return f\"{acc}%\""
   ]
  },
  {
   "cell_type": "code",
   "execution_count": 5,
   "id": "c45b2060",
   "metadata": {
    "execution": {
     "iopub.execute_input": "2025-07-15T09:11:37.952744Z",
     "iopub.status.busy": "2025-07-15T09:11:37.952394Z",
     "iopub.status.idle": "2025-07-15T09:11:37.961711Z",
     "shell.execute_reply": "2025-07-15T09:11:37.960584Z"
    },
    "papermill": {
     "duration": 0.015796,
     "end_time": "2025-07-15T09:11:37.963530",
     "exception": false,
     "start_time": "2025-07-15T09:11:37.947734",
     "status": "completed"
    },
    "tags": []
   },
   "outputs": [],
   "source": [
    "# @title Plotting Functions\n",
    "\n",
    "def display_image_from_greyscale_array(matrix, title):\n",
    "  \"\"\"\n",
    "  Display image from greyscale array\n",
    "\n",
    "  Args:\n",
    "    matrix: np.ndarray\n",
    "      Image\n",
    "    title: string\n",
    "      Title of plot\n",
    "\n",
    "  Returns:\n",
    "    Nothing\n",
    "  \"\"\"\n",
    "  _matrix = matrix.astype(np.uint8)\n",
    "  _img = Image.fromarray(_matrix, 'L')\n",
    "  plt.figure(figsize=(3, 3))\n",
    "  plt.imshow(_img, cmap='gray', vmin=0, vmax=255) # Using 220 instead of 255 so the examples show up better\n",
    "  plt.title(title)\n",
    "  plt.axis('off')\n",
    "\n",
    "\n",
    "def make_plots(original, actual_convolution, solution):\n",
    "  \"\"\"\n",
    "  Function to build original image/obtained solution and actual convolution\n",
    "\n",
    "  Args:\n",
    "    original: np.ndarray\n",
    "      Image\n",
    "    actual_convolution: np.ndarray\n",
    "      Expected convolution output\n",
    "    solution: np.ndarray\n",
    "      Obtained convolution output\n",
    "\n",
    "  Returns:\n",
    "    Nothing\n",
    "  \"\"\"\n",
    "  display_image_from_greyscale_array(original, \"Original Image\")\n",
    "  display_image_from_greyscale_array(actual_convolution, \"Convolution result\")\n",
    "  display_image_from_greyscale_array(solution, \"Your solution\")\n",
    "\n",
    "\n",
    "def plot_loss_accuracy(train_loss, train_acc,\n",
    "                       validation_loss, validation_acc):\n",
    "  \"\"\"\n",
    "  Code to plot loss and accuracy\n",
    "\n",
    "  Args:\n",
    "    train_loss: list\n",
    "      Log of training loss\n",
    "    validation_loss: list\n",
    "      Log of validation loss\n",
    "    train_acc: list\n",
    "      Log of training accuracy\n",
    "    validation_acc: list\n",
    "      Log of validation accuracy\n",
    "\n",
    "  Returns:\n",
    "    Nothing\n",
    "  \"\"\"\n",
    "  epochs = len(train_loss)\n",
    "  fig, (ax1, ax2) = plt.subplots(1, 2)\n",
    "  ax1.plot(list(range(epochs)), train_loss, label='Training Loss')\n",
    "  ax1.plot(list(range(epochs)), validation_loss, label='Validation Loss')\n",
    "  ax1.set_xlabel('Epochs')\n",
    "  ax1.set_ylabel('Loss')\n",
    "  ax1.set_title('Epoch vs Loss')\n",
    "  ax1.legend()\n",
    "\n",
    "  ax2.plot(list(range(epochs)), train_acc, label='Training Accuracy')\n",
    "  ax2.plot(list(range(epochs)), validation_acc, label='Validation Accuracy')\n",
    "  ax2.set_xlabel('Epochs')\n",
    "  ax2.set_ylabel('Accuracy')\n",
    "  ax2.set_title('Epoch vs Accuracy')\n",
    "  ax2.legend()\n",
    "  fig.set_size_inches(15.5, 5.5)"
   ]
  },
  {
   "cell_type": "code",
   "execution_count": 6,
   "id": "43891ec8",
   "metadata": {
    "execution": {
     "iopub.execute_input": "2025-07-15T09:11:37.972970Z",
     "iopub.status.busy": "2025-07-15T09:11:37.972600Z",
     "iopub.status.idle": "2025-07-15T09:11:37.980308Z",
     "shell.execute_reply": "2025-07-15T09:11:37.979269Z"
    },
    "papermill": {
     "duration": 0.014185,
     "end_time": "2025-07-15T09:11:37.981962",
     "exception": false,
     "start_time": "2025-07-15T09:11:37.967777",
     "status": "completed"
    },
    "tags": []
   },
   "outputs": [],
   "source": [
    "# @title Set random seed\n",
    "\n",
    "# @markdown Executing `set_seed(seed=seed)` you are setting the seed\n",
    "\n",
    "# For DL its critical to set the random seed so that students can have a\n",
    "# baseline to compare their results to expected results.\n",
    "# Read more here: https://pytorch.org/docs/stable/notes/randomness.html\n",
    "\n",
    "# Call `set_seed` function in the exercises to ensure reproducibility.\n",
    "import random\n",
    "import torch\n",
    "\n",
    "def set_seed(seed=None, seed_torch=True):\n",
    "  \"\"\"\n",
    "  Function that controls randomness.\n",
    "  NumPy and random modules must be imported.\n",
    "\n",
    "  Args:\n",
    "    seed : Integer\n",
    "      A non-negative integer that defines the random state. Default is `None`.\n",
    "    seed_torch : Boolean\n",
    "      If `True` sets the random seed for pytorch tensors, so pytorch module\n",
    "      must be imported. Default is `True`.\n",
    "\n",
    "  Returns:\n",
    "    Nothing.\n",
    "  \"\"\"\n",
    "  if seed is None:\n",
    "    seed = np.random.choice(2 ** 32)\n",
    "  random.seed(seed)\n",
    "  np.random.seed(seed)\n",
    "  if seed_torch:\n",
    "    torch.manual_seed(seed)\n",
    "    torch.cuda.manual_seed_all(seed)\n",
    "    torch.cuda.manual_seed(seed)\n",
    "    torch.backends.cudnn.benchmark = False\n",
    "    torch.backends.cudnn.deterministic = True\n",
    "\n",
    "  print(f'Random seed {seed} has been set.')\n",
    "\n",
    "\n",
    "# In case that `DataLoader` is used\n",
    "def seed_worker(worker_id):\n",
    "  \"\"\"\n",
    "  DataLoader will reseed workers following randomness in\n",
    "  multi-process data loading algorithm.\n",
    "\n",
    "  Args:\n",
    "    worker_id: integer\n",
    "      ID of subprocess to seed. 0 means that\n",
    "      the data will be loaded in the main process\n",
    "      Refer: https://pytorch.org/docs/stable/data.html#data-loading-randomness for more details\n",
    "\n",
    "  Returns:\n",
    "    Nothing\n",
    "  \"\"\"\n",
    "  worker_seed = torch.initial_seed() % 2**32\n",
    "  np.random.seed(worker_seed)\n",
    "  random.seed(worker_seed)"
   ]
  },
  {
   "cell_type": "code",
   "execution_count": 7,
   "id": "9cf3f187",
   "metadata": {
    "execution": {
     "iopub.execute_input": "2025-07-15T09:11:37.991636Z",
     "iopub.status.busy": "2025-07-15T09:11:37.990666Z",
     "iopub.status.idle": "2025-07-15T09:11:37.996502Z",
     "shell.execute_reply": "2025-07-15T09:11:37.995303Z"
    },
    "papermill": {
     "duration": 0.012375,
     "end_time": "2025-07-15T09:11:37.998328",
     "exception": false,
     "start_time": "2025-07-15T09:11:37.985953",
     "status": "completed"
    },
    "tags": []
   },
   "outputs": [],
   "source": [
    "# @title Set device (GPU or CPU). Execute `set_device()`\n",
    "# especially if torch modules used.\n",
    "\n",
    "# Inform the user if the notebook uses GPU or CPU.\n",
    "\n",
    "def set_device():\n",
    "  \"\"\"\n",
    "  Set the device. CUDA if available, CPU otherwise\n",
    "\n",
    "  Args:\n",
    "    None\n",
    "\n",
    "  Returns:\n",
    "    Nothing\n",
    "  \"\"\"\n",
    "  device = \"cuda\" if torch.cuda.is_available() else \"cpu\"\n",
    "  if device != \"cuda\":\n",
    "    print(\"WARNING: For this notebook to perform best, \"\n",
    "        \"if possible, in the menu under `Runtime` -> \"\n",
    "        \"`Change runtime type.`  select `GPU` \")\n",
    "  else:\n",
    "    print(\"GPU is enabled in this notebook.\")\n",
    "\n",
    "  return device"
   ]
  },
  {
   "cell_type": "code",
   "execution_count": 8,
   "id": "138a43f5",
   "metadata": {
    "execution": {
     "iopub.execute_input": "2025-07-15T09:11:38.008322Z",
     "iopub.status.busy": "2025-07-15T09:11:38.007968Z",
     "iopub.status.idle": "2025-07-15T09:11:38.023038Z",
     "shell.execute_reply": "2025-07-15T09:11:38.021861Z"
    },
    "papermill": {
     "duration": 0.021713,
     "end_time": "2025-07-15T09:11:38.024594",
     "exception": false,
     "start_time": "2025-07-15T09:11:38.002881",
     "status": "completed"
    },
    "tags": []
   },
   "outputs": [
    {
     "name": "stdout",
     "output_type": "stream",
     "text": [
      "Random seed 2021 has been set.\n",
      "WARNING: For this notebook to perform best, if possible, in the menu under `Runtime` -> `Change runtime type.`  select `GPU` \n"
     ]
    }
   ],
   "source": [
    "SEED = 2021\n",
    "set_seed(seed=SEED)\n",
    "DEVICE = set_device()"
   ]
  },
  {
   "cell_type": "code",
   "execution_count": 9,
   "id": "6c5623f1",
   "metadata": {
    "execution": {
     "iopub.execute_input": "2025-07-15T09:11:38.033978Z",
     "iopub.status.busy": "2025-07-15T09:11:38.033555Z",
     "iopub.status.idle": "2025-07-15T09:11:41.464331Z",
     "shell.execute_reply": "2025-07-15T09:11:41.463601Z"
    },
    "papermill": {
     "duration": 3.437347,
     "end_time": "2025-07-15T09:11:41.466049",
     "exception": false,
     "start_time": "2025-07-15T09:11:38.028702",
     "status": "completed"
    },
    "tags": []
   },
   "outputs": [
    {
     "name": "stdout",
     "output_type": "stream",
     "text": [
      "\n",
      "Downloading FashionMNIST dataset...\n",
      "\n",
      "Downloading FashionMNIST completed.\n",
      "\n",
      "Extracting the files...\n",
      "\n"
     ]
    }
   ],
   "source": [
    "# @title Download Fashion MNIST dataset\n",
    "\n",
    "# webpage: https://github.com/zalandoresearch/fashion-mnist\n",
    "fname = 'FashionMNIST.tar.gz'\n",
    "folder = 'FashionMNIST'\n",
    "url = \"https://osf.io/dfhu5/download\"\n",
    "download_data(fname, folder, url, tar=True)"
   ]
  },
  {
   "cell_type": "code",
   "execution_count": 10,
   "id": "c72a9e0f",
   "metadata": {
    "execution": {
     "iopub.execute_input": "2025-07-15T09:11:41.474982Z",
     "iopub.status.busy": "2025-07-15T09:11:41.474625Z",
     "iopub.status.idle": "2025-07-15T09:11:41.482615Z",
     "shell.execute_reply": "2025-07-15T09:11:41.481649Z"
    },
    "papermill": {
     "duration": 0.014201,
     "end_time": "2025-07-15T09:11:41.484253",
     "exception": false,
     "start_time": "2025-07-15T09:11:41.470052",
     "status": "completed"
    },
    "tags": []
   },
   "outputs": [],
   "source": [
    "# @title Loading Fashion-MNIST Data\n",
    "\n",
    "# @markdown `reduce_classes(data)` to reduce Fashion-MNIST Data to two-categories\n",
    "\n",
    "# need to split into train, validation, test\n",
    "def reduce_classes(data):\n",
    "  \"\"\"\n",
    "  Reducing classes in Fashion MNIST\n",
    "  to T-Shirts and Shirts\n",
    "\n",
    "  Args:\n",
    "    data: torch.tensor\n",
    "      Training Data\n",
    "\n",
    "  Returns:\n",
    "    data: torch.tensor\n",
    "      Data with two classes\n",
    "  \"\"\"\n",
    "  # Only want T-Shirts (0) and Shirts (6) labels\n",
    "  train_idx = (data.targets == 0) | (data.targets == 6)\n",
    "  data.targets = data.targets[train_idx]\n",
    "  data.data = data.data[train_idx]\n",
    "\n",
    "  # Convert Xs predictions to 1, Os predictions to 0\n",
    "  data.targets[data.targets == 6] = 1\n",
    "  return data\n",
    "\n",
    "\n",
    "def get_fashion_mnist_dataset(binary=False, download=False, seed=0):\n",
    "  \"\"\"\n",
    "  Helper function to get Fashion MNIST data\n",
    "\n",
    "  Args:\n",
    "    binary: boolean\n",
    "      If True, training data has only two classes\n",
    "    download: boolean\n",
    "      If True, download training data\n",
    "    seed: int\n",
    "      Set seed for reproducibility [default: 0]\n",
    "\n",
    "  Returns:\n",
    "    train_data: torch.tensor\n",
    "      Training data\n",
    "    test_data: torch.tensor\n",
    "      Test data\n",
    "    validation_data: torch.tensor\n",
    "      Validation data\n",
    "  \"\"\"\n",
    "  transform = transforms.Compose([\n",
    "                                  transforms.ToTensor(),\n",
    "                                  transforms.Normalize((0.1307,), (0.3081,))\n",
    "                                  ])\n",
    "\n",
    "  train_data = datasets.FashionMNIST(root='.',\n",
    "                                     download=download,\n",
    "                                     train=True,\n",
    "                                     transform=transform)\n",
    "\n",
    "\n",
    "  test_data = datasets.FashionMNIST(root='.',\n",
    "                                    download=download,\n",
    "                                    train=False,\n",
    "                                    transform=transform)\n",
    "\n",
    "  if binary:\n",
    "    train_data = reduce_classes(train_data)\n",
    "    test_data = reduce_classes(test_data)\n",
    "\n",
    "  set_seed(seed)\n",
    "  validation_data, test_data = torch.utils.data.random_split(test_data,\n",
    "                                                             [int(0.8*len(test_data)),\n",
    "                                                              int(0.2*len(test_data))])\n",
    "\n",
    "  return train_data, validation_data, test_data"
   ]
  },
  {
   "cell_type": "code",
   "execution_count": 11,
   "id": "d1f18577",
   "metadata": {
    "execution": {
     "iopub.execute_input": "2025-07-15T09:11:41.493457Z",
     "iopub.status.busy": "2025-07-15T09:11:41.493111Z",
     "iopub.status.idle": "2025-07-15T09:11:41.617613Z",
     "shell.execute_reply": "2025-07-15T09:11:41.616294Z"
    },
    "papermill": {
     "duration": 0.131002,
     "end_time": "2025-07-15T09:11:41.619367",
     "exception": false,
     "start_time": "2025-07-15T09:11:41.488365",
     "status": "completed"
    },
    "tags": []
   },
   "outputs": [
    {
     "name": "stdout",
     "output_type": "stream",
     "text": [
      "Random seed 2021 has been set.\n"
     ]
    }
   ],
   "source": [
    "num_classes = 2\n",
    "train_data, validation_data, test_data = get_fashion_mnist_dataset(seed=SEED)"
   ]
  },
  {
   "cell_type": "code",
   "execution_count": 12,
   "id": "0066584c",
   "metadata": {
    "execution": {
     "iopub.execute_input": "2025-07-15T09:11:41.628757Z",
     "iopub.status.busy": "2025-07-15T09:11:41.628423Z",
     "iopub.status.idle": "2025-07-15T09:11:41.632836Z",
     "shell.execute_reply": "2025-07-15T09:11:41.631925Z"
    },
    "papermill": {
     "duration": 0.010902,
     "end_time": "2025-07-15T09:11:41.634345",
     "exception": false,
     "start_time": "2025-07-15T09:11:41.623443",
     "status": "completed"
    },
    "tags": []
   },
   "outputs": [],
   "source": [
    "#let's see the dataset"
   ]
  },
  {
   "cell_type": "code",
   "execution_count": 13,
   "id": "39160e68",
   "metadata": {
    "execution": {
     "iopub.execute_input": "2025-07-15T09:11:41.645437Z",
     "iopub.status.busy": "2025-07-15T09:11:41.644654Z",
     "iopub.status.idle": "2025-07-15T09:11:43.015927Z",
     "shell.execute_reply": "2025-07-15T09:11:43.014949Z"
    },
    "papermill": {
     "duration": 1.379269,
     "end_time": "2025-07-15T09:11:43.017878",
     "exception": false,
     "start_time": "2025-07-15T09:11:41.638609",
     "status": "completed"
    },
    "tags": []
   },
   "outputs": [
    {
     "data": {
      "image/png": "[encoded data removed]",
      "text/plain": [
       "<Figure size 1850x1050 with 4 Axes>"
      ]
     },
     "metadata": {
      "image/png": {
       "height": 449,
       "width": 1825
      }
     },
     "output_type": "display_data"
    }
   ],
   "source": [
    "fig, (ax1, ax2, ax3, ax4) = plt.subplots(1, 4)\n",
    "ax1.imshow(train_data[0][0].reshape(28, 28), cmap=plt.get_cmap('gray'))\n",
    "ax2.imshow(train_data[1][0].reshape(28, 28), cmap=plt.get_cmap('gray'))\n",
    "ax3.imshow(train_data[2][0].reshape(28, 28), cmap=plt.get_cmap('gray'))\n",
    "ax4.imshow(train_data[3][0].reshape(28, 28), cmap=plt.get_cmap('gray'))\n",
    "fig.set_size_inches(18.5, 10.5)\n",
    "plt.show()"
   ]
  }
 ],
 "metadata": {
  "kaggle": {
   "accelerator": "none",
   "dataSources": [
    {
     "datasetId": 2243,
     "sourceId": 9243,
     "sourceType": "datasetVersion"
    }
   ],
   "dockerImageVersionId": 31089,
   "isGpuEnabled": false,
   "isInternetEnabled": true,
   "language": "python",
   "sourceType": "notebook"
  },
  "kernelspec": {
   "display_name": "Python 3",
   "language": "python",
   "name": "python3"
  },
  "language_info": {
   "codemirror_mode": {
    "name": "ipython",
    "version": 3
   },
   "file_extension": ".py",
   "mimetype": "text/x-python",
   "name": "python",
   "nbconvert_exporter": "python",
   "pygments_lexer": "ipython3",
   "version": "3.11.13"
  },
  "papermill": {
   "default_parameters": {},
   "duration": 38.165639,
   "end_time": "2025-07-15T09:11:45.809741",
   "environment_variables": {},
   "exception": null,
   "input_path": "__notebook__.ipynb",
   "output_path": "__notebook__.ipynb",
   "parameters": {},
   "start_time": "2025-07-15T09:11:07.644102",
   "version": "2.6.0"
  }
 },
 "nbformat": 4,
 "nbformat_minor": 5
}
