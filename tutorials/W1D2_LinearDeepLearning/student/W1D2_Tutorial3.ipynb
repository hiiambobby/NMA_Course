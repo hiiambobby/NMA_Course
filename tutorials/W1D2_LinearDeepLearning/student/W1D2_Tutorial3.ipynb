{
  "cells": [
    {
      "cell_type": "markdown",
      "metadata": {
        "id": "view-in-github",
        "colab_type": "text"
      },
      "source": [
        "<a href=\"https://colab.research.google.com/github/hiiambobby/NMA_Course/blob/main/tutorials/W1D2_LinearDeepLearning/student/W1D2_Tutorial3.ipynb\" target=\"_parent\"><img src=\"https://colab.research.google.com/assets/colab-badge.svg\" alt=\"Open In Colab\"/></a>"
      ]
    },
    {
      "cell_type": "markdown",
      "metadata": {
        "execution": {},
        "id": "uYAaiH1O2Nx9"
      },
      "source": [
        "# Tutorial 3: Deep linear neural networks\n",
        "**Week 1, Day 2: Linear Deep Learning**\n",
        "\n",
        "**By Neuromatch Academy**\n",
        "\n",
        "__Content creators:__ Saeed Salehi, Spiros Chavlis, Andrew Saxe\n",
        "\n",
        "__Content reviewers:__ Polina Turishcheva, Antoine De Comite\n",
        "\n",
        "__Content editors:__ Anoop Kulkarni\n",
        "\n",
        "__Production editors:__ Khalid Almubarak, Gagana B, Spiros Chavlis"
      ]
    },
    {
      "cell_type": "markdown",
      "metadata": {
        "execution": {},
        "id": "0w3mG5yr2NyF"
      },
      "source": [
        "---\n",
        "# Tutorial Objectives\n",
        "\n",
        "* Deep linear neural networks\n",
        "* Learning dynamics and singular value decomposition\n",
        "* Representational Similarity Analysis\n",
        "* Illusory correlations & ethics"
      ]
    },
    {
      "cell_type": "code",
      "execution_count": null,
      "metadata": {
        "cellView": "form",
        "execution": {},
        "id": "vQ68ACA22NyG"
      },
      "outputs": [],
      "source": [
        "# @title Tutorial slides\n",
        "from IPython.display import IFrame\n",
        "link_id = \"bncr8\"\n",
        "print(f\"If you want to download the slides: https://osf.io/download/{link_id}/\")\n",
        "IFrame(src=f\"https://mfr.ca-1.osf.io/render?url=https://osf.io/{link_id}/?direct%26mode=render%26action=download%26mode=render\", width=854, height=480)"
      ]
    },
    {
      "cell_type": "markdown",
      "metadata": {
        "execution": {},
        "id": "bkzrFGya2NyH"
      },
      "source": [
        "---\n",
        "# Setup\n",
        "\n",
        "This a GPU-Free tutorial!"
      ]
    },
    {
      "cell_type": "code",
      "execution_count": 1,
      "metadata": {
        "cellView": "form",
        "execution": {},
        "id": "jeRAEuYg2NyI",
        "outputId": "33c9ff9e-db86-4d9f-96e4-01ff425184ad",
        "colab": {
          "base_uri": "https://localhost:8080/"
        }
      },
      "outputs": [
        {
          "output_type": "stream",
          "name": "stdout",
          "text": [
            "  Preparing metadata (setup.py) ... \u001b[?25l\u001b[?25hdone\n",
            "  Preparing metadata (setup.py) ... \u001b[?25l\u001b[?25hdone\n",
            "\u001b[2K   \u001b[90m━━━━━━━━━━━━━━━━━━━━━━━━━━━━━━━━━━━━━━━━\u001b[0m \u001b[32m1.6/1.6 MB\u001b[0m \u001b[31m20.7 MB/s\u001b[0m eta \u001b[36m0:00:00\u001b[0m\n",
            "\u001b[?25h  Building wheel for vibecheck (setup.py) ... \u001b[?25l\u001b[?25hdone\n",
            "  Building wheel for datatops (setup.py) ... \u001b[?25l\u001b[?25hdone\n"
          ]
        }
      ],
      "source": [
        "# @title Install and import feedback gadget\n",
        "\n",
        "!pip3 install vibecheck datatops --quiet\n",
        "\n",
        "from vibecheck import DatatopsContentReviewContainer\n",
        "def content_review(notebook_section: str):\n",
        "    return DatatopsContentReviewContainer(\n",
        "        \"\",  # No text prompt\n",
        "        notebook_section,\n",
        "        {\n",
        "            \"url\": \"https://pmyvdlilci.execute-api.us-east-1.amazonaws.com/klab\",\n",
        "            \"name\": \"neuromatch_dl\",\n",
        "            \"user_key\": \"f379rz8y\",\n",
        "        },\n",
        "    ).render()\n",
        "\n",
        "\n",
        "feedback_prefix = \"W1D2_T3\""
      ]
    },
    {
      "cell_type": "code",
      "execution_count": 2,
      "metadata": {
        "execution": {},
        "id": "VfVo1vig2NyI"
      },
      "outputs": [],
      "source": [
        "# Imports\n",
        "import math\n",
        "import torch\n",
        "import matplotlib\n",
        "\n",
        "import numpy as np\n",
        "import matplotlib.pyplot as plt\n",
        "\n",
        "import torch.nn as nn\n",
        "import torch.optim as optim"
      ]
    },
    {
      "cell_type": "code",
      "execution_count": 3,
      "metadata": {
        "cellView": "form",
        "execution": {},
        "id": "xPFgP50r2NyK"
      },
      "outputs": [],
      "source": [
        "# @title Figure settings\n",
        "import logging\n",
        "logging.getLogger('matplotlib.font_manager').disabled = True\n",
        "\n",
        "from matplotlib import gridspec\n",
        "from ipywidgets import interact, IntSlider, FloatSlider, fixed\n",
        "from ipywidgets import FloatLogSlider, Layout, VBox\n",
        "from ipywidgets import interactive_output\n",
        "from mpl_toolkits.axes_grid1 import make_axes_locatable\n",
        "\n",
        "import warnings\n",
        "warnings.filterwarnings(\"ignore\")\n",
        "\n",
        "%config InlineBackend.figure_format = 'retina'\n",
        "plt.style.use(\"https://raw.githubusercontent.com/NeuromatchAcademy/content-creation/main/nma.mplstyle\")"
      ]
    },
    {
      "cell_type": "code",
      "execution_count": 4,
      "metadata": {
        "cellView": "form",
        "execution": {},
        "id": "djbKYXOj2NyL"
      },
      "outputs": [],
      "source": [
        "# @title Plotting functions\n",
        "\n",
        "def plot_x_y_hier_data(im1, im2, subplot_ratio=[1, 2]):\n",
        "  \"\"\"\n",
        "  Plot hierarchical data of labels vs features\n",
        "  for all samples\n",
        "\n",
        "  Args:\n",
        "    im1: np.ndarray\n",
        "      Input Dataset\n",
        "    im2: np.ndarray\n",
        "      Targets\n",
        "    subplot_ratio: list\n",
        "      Subplot ratios used to create subplots of varying sizes\n",
        "\n",
        "  Returns:\n",
        "    Nothing\n",
        "  \"\"\"\n",
        "  fig = plt.figure(figsize=(12, 5))\n",
        "  gs = gridspec.GridSpec(1, 2, width_ratios=subplot_ratio)\n",
        "  ax0 = plt.subplot(gs[0])\n",
        "  ax1 = plt.subplot(gs[1])\n",
        "  ax0.imshow(im1, cmap=\"cool\")\n",
        "  ax1.imshow(im2, cmap=\"cool\")\n",
        "  ax0.set_title(\"Labels of all samples\")\n",
        "  ax1.set_title(\"Features of all samples\")\n",
        "  ax0.set_axis_off()\n",
        "  ax1.set_axis_off()\n",
        "  plt.tight_layout()\n",
        "  plt.show()\n",
        "\n",
        "\n",
        "def plot_x_y_hier_one(im1, im2, subplot_ratio=[1, 2]):\n",
        "  \"\"\"\n",
        "  Plot hierarchical data of labels vs features\n",
        "  for a single sample\n",
        "\n",
        "  Args:\n",
        "    im1: np.ndarray\n",
        "      Input Dataset\n",
        "    im2: np.ndarray\n",
        "      Targets\n",
        "    subplot_ratio: list\n",
        "      Subplot ratios used to create subplots of varying sizes\n",
        "\n",
        "  Returns:\n",
        "    Nothing\n",
        "  \"\"\"\n",
        "  fig = plt.figure(figsize=(12, 1))\n",
        "  gs = gridspec.GridSpec(1, 2, width_ratios=subplot_ratio)\n",
        "  ax0 = plt.subplot(gs[0])\n",
        "  ax1 = plt.subplot(gs[1])\n",
        "  ax0.imshow(im1, cmap=\"cool\")\n",
        "  ax1.imshow(im2, cmap=\"cool\")\n",
        "  ax0.set_title(\"Labels of a single sample\")\n",
        "  ax1.set_title(\"Features of a single sample\")\n",
        "  ax0.set_axis_off()\n",
        "  ax1.set_axis_off()\n",
        "  plt.tight_layout()\n",
        "  plt.show()\n",
        "\n",
        "\n",
        "def plot_tree_data(label_list = None, feature_array = None, new_feature = None):\n",
        "  \"\"\"\n",
        "  Plot tree data\n",
        "\n",
        "  Args:\n",
        "    label_list: np.ndarray\n",
        "      List of labels [default: None]\n",
        "    feature_array: np.ndarray\n",
        "      List of features [default: None]\n",
        "    new_feature: string\n",
        "      Enables addition of new features\n",
        "\n",
        "  Returns:\n",
        "    Nothing\n",
        "  \"\"\"\n",
        "  cmap = matplotlib.colors.ListedColormap(['cyan', 'magenta'])\n",
        "  n_features = 10\n",
        "  n_labels = 8\n",
        "  im1 = np.eye(n_labels)\n",
        "  if feature_array is None:\n",
        "    im2 = np.array([[1, 1, 1, 1, 1, 1, 1, 1],\n",
        "                      [0, 0, 0, 0, 0, 0, 0, 0],\n",
        "                      [0, 0, 0, 0, 1, 1, 1, 1],\n",
        "                      [1, 1, 1, 1, 0, 0, 0, 0],\n",
        "                      [0, 0, 0, 0, 0, 0, 1, 1],\n",
        "                      [0, 0, 1, 1, 0, 0, 0, 0],\n",
        "                      [1, 1, 0, 0, 0, 0, 0, 0],\n",
        "                      [0, 0, 0, 0, 1, 1, 0, 0],\n",
        "                      [0, 1, 1, 1, 0, 0, 0, 0],\n",
        "                      [0, 0, 0, 0, 1, 1, 0, 1]]).T\n",
        "    im2[im2 == 0] = -1\n",
        "    feature_list = ['can_grow',\n",
        "                    'is_mammal',\n",
        "                    'has_leaves',\n",
        "                    'can_move',\n",
        "                    'has_trunk',\n",
        "                    'can_fly',\n",
        "                    'can_swim',\n",
        "                    'has_stem',\n",
        "                    'is_warmblooded',\n",
        "                    'can_flower']\n",
        "  else:\n",
        "    im2 = feature_array\n",
        "  if label_list is None:\n",
        "    label_list = ['Goldfish', 'Tuna', 'Robin', 'Canary',\n",
        "                  'Rose', 'Daisy', 'Pine', 'Oak']\n",
        "  fig = plt.figure(figsize=(12, 7))\n",
        "  gs = gridspec.GridSpec(1, 2, width_ratios=[1, 1.35])\n",
        "  ax1 = plt.subplot(gs[0])\n",
        "  ax2 = plt.subplot(gs[1])\n",
        "  ax1.imshow(im1, cmap=cmap)\n",
        "  if feature_array is None:\n",
        "    implt = ax2.imshow(im2, cmap=cmap, vmin=-1.0, vmax=1.0)\n",
        "  else:\n",
        "    implt = ax2.imshow(im2[:, -n_features:], cmap=cmap, vmin=-1.0, vmax=1.0)\n",
        "  divider = make_axes_locatable(ax2)\n",
        "  cax = divider.append_axes(\"right\", size=\"5%\", pad=0.1)\n",
        "  cbar = plt.colorbar(implt, cax=cax, ticks=[-0.5, 0.5])\n",
        "  cbar.ax.set_yticklabels(['no', 'yes'])\n",
        "  ax1.set_title(\"Labels\")\n",
        "  ax1.set_yticks(ticks=np.arange(n_labels))\n",
        "  ax1.set_yticklabels(labels=label_list)\n",
        "  ax1.set_xticks(ticks=np.arange(n_labels))\n",
        "  ax1.set_xticklabels(labels=label_list, rotation='vertical')\n",
        "  ax2.set_title(\"{} random Features\".format(n_features))\n",
        "  ax2.set_yticks(ticks=np.arange(n_labels))\n",
        "  ax2.set_yticklabels(labels=label_list)\n",
        "  if feature_array is None:\n",
        "    ax2.set_xticks(ticks=np.arange(n_features))\n",
        "    ax2.set_xticklabels(labels=feature_list, rotation='vertical')\n",
        "  else:\n",
        "    ax2.set_xticks(ticks=[n_features-1])\n",
        "    ax2.set_xticklabels(labels=[new_feature], rotation='vertical')\n",
        "  plt.tight_layout()\n",
        "  plt.show()\n",
        "\n",
        "\n",
        "def plot_loss(loss_array,\n",
        "              title=\"Training loss (Mean Squared Error)\",\n",
        "              c=\"r\"):\n",
        "  \"\"\"\n",
        "  Plot loss function\n",
        "\n",
        "  Args:\n",
        "    c: string\n",
        "      Specifies plot color\n",
        "    title: string\n",
        "      Specifies plot title\n",
        "    loss_array: np.ndarray\n",
        "      Log of MSE loss per epoch\n",
        "\n",
        "  Returns:\n",
        "    Nothing\n",
        "  \"\"\"\n",
        "  plt.figure(figsize=(10, 5))\n",
        "  plt.plot(loss_array, color=c)\n",
        "  plt.xlabel(\"Epoch\")\n",
        "  plt.ylabel(\"MSE\")\n",
        "  plt.title(title)\n",
        "  plt.show()\n",
        "\n",
        "\n",
        "def plot_loss_sv(loss_array, sv_array):\n",
        "  \"\"\"\n",
        "  Plot loss function\n",
        "\n",
        "  Args:\n",
        "    sv_array: np.ndarray\n",
        "      Log of singular values/modes across epochs\n",
        "    loss_array: np.ndarray\n",
        "      Log of MSE loss per epoch\n",
        "\n",
        "  Returns:\n",
        "    Nothing\n",
        "  \"\"\"\n",
        "  n_sing_values = sv_array.shape[1]\n",
        "  sv_array = sv_array / np.max(sv_array)\n",
        "  cmap = plt.cm.get_cmap(\"Set1\", n_sing_values)\n",
        "\n",
        "  _, (plot1, plot2) = plt.subplots(2, 1, sharex=True, figsize=(10, 10))\n",
        "  plot1.set_title(\"Training loss (Mean Squared Error)\")\n",
        "  plot1.plot(loss_array, color='r')\n",
        "\n",
        "  plot2.set_title(\"Evolution of singular values (modes)\")\n",
        "  for i in range(n_sing_values):\n",
        "    plot2.plot(sv_array[:, i], c=cmap(i))\n",
        "  plot2.set_xlabel(\"Epoch\")\n",
        "  plt.show()\n",
        "\n",
        "\n",
        "def plot_loss_sv_twin(loss_array, sv_array):\n",
        "  \"\"\"\n",
        "  Plot learning dynamics\n",
        "\n",
        "  Args:\n",
        "    sv_array: np.ndarray\n",
        "      Log of singular values/modes across epochs\n",
        "    loss_array: np.ndarray\n",
        "      Log of MSE loss per epoch\n",
        "\n",
        "  Returns:\n",
        "    Nothing\n",
        "  \"\"\"\n",
        "  n_sing_values = sv_array.shape[1]\n",
        "  sv_array = sv_array / np.max(sv_array)\n",
        "  cmap = plt.cm.get_cmap(\"winter\", n_sing_values)\n",
        "\n",
        "  fig = plt.figure(figsize=(10, 5))\n",
        "  ax1 = plt.gca()\n",
        "  ax1.set_title(\"Learning Dynamics\")\n",
        "  ax1.set_xlabel(\"Epoch\")\n",
        "  ax1.set_ylabel(\"Mean Squared Error\", c='r')\n",
        "  ax1.tick_params(axis='y', labelcolor='r')\n",
        "  ax1.plot(loss_array, color='r')\n",
        "\n",
        "  ax2 = ax1.twinx()\n",
        "  ax2.set_ylabel(\"Singular values (modes)\", c='b')\n",
        "  ax2.tick_params(axis='y', labelcolor='b')\n",
        "  for i in range(n_sing_values):\n",
        "    ax2.plot(sv_array[:, i], c=cmap(i))\n",
        "\n",
        "  fig.tight_layout()\n",
        "  plt.show()\n",
        "\n",
        "\n",
        "def plot_ills_sv_twin(ill_array, sv_array, ill_label):\n",
        "  \"\"\"\n",
        "  Plot network training evolution\n",
        "  and illusory correlations\n",
        "\n",
        "  Args:\n",
        "    sv_array: np.ndarray\n",
        "      Log of singular values/modes across epochs\n",
        "    ill_array: np.ndarray\n",
        "      Log of illusory correlations per epoch\n",
        "    ill_label: np.ndarray\n",
        "      Log of labels associated with illusory correlations\n",
        "\n",
        "  Returns:\n",
        "    Nothing\n",
        "  \"\"\"\n",
        "  n_sing_values = sv_array.shape[1]\n",
        "  sv_array = sv_array / np.max(sv_array)\n",
        "  cmap = plt.cm.get_cmap(\"winter\", n_sing_values)\n",
        "\n",
        "  fig = plt.figure(figsize=(10, 5))\n",
        "  ax1 = plt.gca()\n",
        "  ax1.set_title(\"Network training and the Illusory Correlations\")\n",
        "  ax1.set_xlabel(\"Epoch\")\n",
        "  ax1.set_ylabel(ill_label, c='r')\n",
        "  ax1.tick_params(axis='y', labelcolor='r')\n",
        "  ax1.plot(ill_array, color='r', linewidth=3)\n",
        "  ax1.set_ylim(-1.05, 1.05)\n",
        "\n",
        "  ax2 = ax1.twinx()\n",
        "  ax2.set_ylabel(\"Singular values (modes)\", c='b')\n",
        "  ax2.tick_params(axis='y', labelcolor='b')\n",
        "  for i in range(n_sing_values):\n",
        "    ax2.plot(sv_array[:, i], c=cmap(i))\n",
        "\n",
        "  fig.tight_layout()\n",
        "  plt.show()\n",
        "\n",
        "\n",
        "def plot_loss_sv_rsm(loss_array, sv_array, rsm_array, i_ep):\n",
        "  \"\"\"\n",
        "  Plot learning dynamics\n",
        "\n",
        "  Args:\n",
        "    sv_array: np.ndarray\n",
        "      Log of singular values/modes across epochs\n",
        "    loss_array: np.ndarray\n",
        "      Log of MSE loss per epoch\n",
        "    rsm_array: torch.tensor\n",
        "      Representation similarity matrix\n",
        "    i_ep: int\n",
        "      Which epoch to show\n",
        "\n",
        "  Returns:\n",
        "    Nothing\n",
        "  \"\"\"\n",
        "  n_ep = loss_array.shape[0]\n",
        "  rsm_array = rsm_array / np.max(rsm_array)\n",
        "  sv_array = sv_array / np.max(sv_array)\n",
        "\n",
        "  n_sing_values = sv_array.shape[1]\n",
        "  cmap = plt.cm.get_cmap(\"winter\", n_sing_values)\n",
        "\n",
        "  fig = plt.figure(figsize=(14, 5))\n",
        "  gs = gridspec.GridSpec(1, 2, width_ratios=[5, 3])\n",
        "\n",
        "  ax0 = plt.subplot(gs[1])\n",
        "  ax0.yaxis.tick_right()\n",
        "  implot = ax0.imshow(rsm_array[i_ep], cmap=\"Purples\", vmin=0.0, vmax=1.0)\n",
        "  divider = make_axes_locatable(ax0)\n",
        "  cax = divider.append_axes(\"right\", size=\"5%\", pad=0.9)\n",
        "  cbar = plt.colorbar(implot, cax=cax, ticks=[])\n",
        "  cbar.ax.set_ylabel('Similarity', fontsize=12)\n",
        "  ax0.set_title(\"RSM at epoch {}\".format(i_ep), fontsize=16)\n",
        "  ax0.set_yticks(ticks=np.arange(n_sing_values))\n",
        "  ax0.set_yticklabels(labels=item_names)\n",
        "  ax0.set_xticks(ticks=np.arange(n_sing_values))\n",
        "  ax0.set_xticklabels(labels=item_names, rotation='vertical')\n",
        "\n",
        "  ax1 = plt.subplot(gs[0])\n",
        "  ax1.set_title(\"Learning Dynamics\", fontsize=16)\n",
        "  ax1.set_xlabel(\"Epoch\")\n",
        "  ax1.set_ylabel(\"Mean Squared Error\", c='r')\n",
        "  ax1.tick_params(axis='y', labelcolor='r', direction=\"in\")\n",
        "  ax1.plot(np.arange(n_ep), loss_array, color='r')\n",
        "  ax1.axvspan(i_ep-2, i_ep+2, alpha=0.2, color='m')\n",
        "\n",
        "  ax2 = ax1.twinx()\n",
        "  ax2.set_ylabel(\"Singular values\", c='b')\n",
        "  ax2.tick_params(axis='y', labelcolor='b', direction=\"in\")\n",
        "  for i in range(n_sing_values):\n",
        "    ax2.plot(np.arange(n_ep), sv_array[:, i], c=cmap(i))\n",
        "  ax1.set_xlim(-1, n_ep+1)\n",
        "  ax2.set_xlim(-1, n_ep+1)\n",
        "\n",
        "  plt.show()"
      ]
    },
    {
      "cell_type": "code",
      "execution_count": 5,
      "metadata": {
        "cellView": "form",
        "execution": {},
        "id": "DTGziLoT2NyN"
      },
      "outputs": [],
      "source": [
        "# @title Helper functions\n",
        "\n",
        "def build_tree(n_levels, n_branches, probability,\n",
        "               to_np_array=True):\n",
        "  \"\"\"\n",
        "  Builds tree\n",
        "\n",
        "  Args:\n",
        "    n_levels: int\n",
        "      Number of levels in tree\n",
        "    n_branches: int\n",
        "      Number of branches in tree\n",
        "    probability: float\n",
        "      Flipping probability\n",
        "    to_np_array: boolean\n",
        "      If true, represent tree as np.ndarray\n",
        "\n",
        "  Returns:\n",
        "    tree: dict if to_np_array=False\n",
        "          np.ndarray otherwise\n",
        "      Tree\n",
        "  \"\"\"\n",
        "  assert 0.0 <= probability <= 1.0\n",
        "\n",
        "  tree = {}\n",
        "\n",
        "  tree[\"level\"] = [0]\n",
        "  for i in range(1, n_levels+1):\n",
        "    tree[\"level\"].extend([i]*(n_branches**i))\n",
        "\n",
        "  tree[\"pflip\"] = [probability]*len(tree[\"level\"])\n",
        "\n",
        "  tree[\"parent\"] = [None]\n",
        "  k = len(tree[\"level\"])-1\n",
        "  for j in range(k//n_branches):\n",
        "    tree[\"parent\"].extend([j]*n_branches)\n",
        "\n",
        "  if to_np_array:\n",
        "    tree[\"level\"] = np.array(tree[\"level\"])\n",
        "    tree[\"pflip\"] = np.array(tree[\"pflip\"])\n",
        "    tree[\"parent\"] = np.array(tree[\"parent\"])\n",
        "\n",
        "  return tree\n",
        "\n",
        "\n",
        "def sample_from_tree(tree, n):\n",
        "  \"\"\"\n",
        "  Generates n samples from a tree\n",
        "\n",
        "  Args:\n",
        "    tree: np.ndarray/dictionary\n",
        "      Tree\n",
        "    n: int\n",
        "      Number of levels in tree\n",
        "\n",
        "  Returns:\n",
        "    x: np.ndarray\n",
        "      Sample from tree\n",
        "  \"\"\"\n",
        "  items = [i for i, v in enumerate(tree[\"level\"]) if v == max(tree[\"level\"])]\n",
        "  n_items = len(items)\n",
        "  x = np.zeros(shape=(n, n_items))\n",
        "  rand_temp = np.random.rand(n, len(tree[\"pflip\"]))\n",
        "  flip_temp = np.repeat(tree[\"pflip\"].reshape(1, -1), n, 0)\n",
        "  samp = (rand_temp > flip_temp) * 2 - 1\n",
        "\n",
        "  for i in range(n_items):\n",
        "    j = items[i]\n",
        "    prop = samp[:, j]\n",
        "    while tree[\"parent\"][j] is not None:\n",
        "      j = tree[\"parent\"][j]\n",
        "      prop = prop * samp[:, j]\n",
        "    x[:, i] = prop.T\n",
        "  return x\n",
        "\n",
        "\n",
        "def generate_hsd():\n",
        "  \"\"\"\n",
        "  Building the tree\n",
        "\n",
        "  Args:\n",
        "    None\n",
        "\n",
        "  Returns:\n",
        "    tree_labels: np.ndarray\n",
        "      Tree Labels\n",
        "    tree_features: np.ndarray\n",
        "      Sample from tree\n",
        "  \"\"\"\n",
        "  n_branches = 2  # 2 branches at each node\n",
        "  probability = .15  # flipping probability\n",
        "  n_levels = 3  # number of levels (depth of tree)\n",
        "  tree = build_tree(n_levels, n_branches, probability, to_np_array=True)\n",
        "  tree[\"pflip\"][0] = 0.5\n",
        "  n_samples = 10000 # Sample this many features\n",
        "\n",
        "  tree_labels = np.eye(n_branches**n_levels)\n",
        "  tree_features = sample_from_tree(tree, n_samples).T\n",
        "  return tree_labels, tree_features\n",
        "\n",
        "\n",
        "def linear_regression(X, Y):\n",
        "  \"\"\"\n",
        "  Analytical Linear regression\n",
        "\n",
        "  Args:\n",
        "    X: np.ndarray\n",
        "      Input features\n",
        "    Y: np.ndarray\n",
        "      Targets\n",
        "\n",
        "  Returns:\n",
        "    W: np.ndarray\n",
        "      Analytical solution\n",
        "      W = Y @ X.T @ np.linalg.inv(X @ X.T)\n",
        "  \"\"\"\n",
        "  assert isinstance(X, np.ndarray)\n",
        "  assert isinstance(Y, np.ndarray)\n",
        "  M, Dx = X.shape\n",
        "  N, Dy = Y.shape\n",
        "  assert Dx == Dy\n",
        "  W = Y @ X.T @ np.linalg.inv(X @ X.T)\n",
        "  return W\n",
        "\n",
        "\n",
        "def add_feature(existing_features, new_feature):\n",
        "  \"\"\"\n",
        "  Adding new features to existing tree\n",
        "\n",
        "  Args:\n",
        "    existing_features: np.ndarray\n",
        "      List of features already present in the tree\n",
        "    new_feature: list\n",
        "      List of new features to be added\n",
        "\n",
        "  Returns:\n",
        "    New features augmented with existing features\n",
        "  \"\"\"\n",
        "  assert isinstance(existing_features, np.ndarray)\n",
        "  assert isinstance(new_feature, list)\n",
        "  new_feature = np.array([new_feature]).T\n",
        "  return np.hstack((tree_features, new_feature))\n",
        "\n",
        "\n",
        "def net_svd(model, in_dim):\n",
        "  \"\"\"\n",
        "  Performs a Singular Value Decomposition on\n",
        "  given model weights\n",
        "\n",
        "  Args:\n",
        "    model: torch.nn.Module\n",
        "      Neural network model\n",
        "    in_dim: int\n",
        "      The input dimension of the model\n",
        "\n",
        "  Returns:\n",
        "    U: torch.tensor\n",
        "      Orthogonal Matrix\n",
        "    Σ: torch.tensor\n",
        "      Diagonal Matrix\n",
        "    V: torch.tensor\n",
        "      Orthogonal Matrix\n",
        "  \"\"\"\n",
        "  W_tot = torch.eye(in_dim)\n",
        "  for weight in model.parameters():\n",
        "    W_tot = weight.detach() @ W_tot\n",
        "  U, SIGMA, V = torch.svd(W_tot)\n",
        "  return U, SIGMA, V\n",
        "\n",
        "\n",
        "def net_rsm(h):\n",
        "  \"\"\"\n",
        "  Calculates the Representational Similarity Matrix\n",
        "\n",
        "  Args:\n",
        "    h: torch.Tensor\n",
        "      Activity of a hidden layer\n",
        "\n",
        "  Returns:\n",
        "    rsm: torch.Tensor\n",
        "      Representational Similarity Matrix\n",
        "  \"\"\"\n",
        "  rsm = h @ h.T\n",
        "  return rsm\n",
        "\n",
        "\n",
        "def initializer_(model, gamma=1e-12):\n",
        "  \"\"\"\n",
        "  In-place Re-initialization of weights\n",
        "\n",
        "  Args:\n",
        "    model: torch.nn.Module\n",
        "      PyTorch neural net model\n",
        "    gamma: float\n",
        "      Initialization scale\n",
        "\n",
        "  Returns:\n",
        "    Nothing\n",
        "  \"\"\"\n",
        "  for weight in model.parameters():\n",
        "    n_out, n_in = weight.shape\n",
        "    sigma = gamma / math.sqrt(n_in + n_out)\n",
        "    nn.init.normal_(weight, mean=0.0, std=sigma)\n",
        "\n",
        "\n",
        "def test_initializer_ex(seed):\n",
        "  \"\"\"\n",
        "  Testing initializer implementation\n",
        "\n",
        "  Args:\n",
        "    seed: int\n",
        "      Set for reproducibility\n",
        "\n",
        "  Returns:\n",
        "    Nothing\n",
        "  \"\"\"\n",
        "  torch.manual_seed(seed)\n",
        "  model = LNNet(5000, 5000, 1)\n",
        "  try:\n",
        "    ex_initializer_(model, gamma=1)\n",
        "    std = torch.std(next(iter(model.parameters())).detach()).item()\n",
        "    if -1e-5 <= (std - 0.01) <= 1e-5:\n",
        "      print(\"Well done! Seems to be correct!\")\n",
        "    else:\n",
        "      print(\"Please double check your implementation!\")\n",
        "  except:\n",
        "    print(\"Faulty Implementation!\")\n",
        "\n",
        "\n",
        "def test_net_svd_ex(seed):\n",
        "  \"\"\"\n",
        "  Tests net_svd_ex exercise\n",
        "\n",
        "  Args:\n",
        "    seed: int\n",
        "      Set for reproducibility\n",
        "\n",
        "  Returns:\n",
        "    Nothing\n",
        "  \"\"\"\n",
        "  torch.manual_seed(seed)\n",
        "  model = LNNet(8, 30, 100)\n",
        "  try:\n",
        "    U_ex, Σ_ex, V_ex = ex_net_svd(model, 8)\n",
        "    U, Σ, V = net_svd(model, 8)\n",
        "    if (torch.all(torch.isclose(U_ex.detach(), U.detach(), atol=1e-6)) and\n",
        "        torch.all(torch.isclose(Σ_ex.detach(), Σ.detach(), atol=1e-6)) and\n",
        "        torch.all(torch.isclose(V_ex.detach(), V.detach(), atol=1e-6))):\n",
        "      print(\"Well done! Seems to be correct!\")\n",
        "    else:\n",
        "      print(\"Please double check your implementation!\")\n",
        "  except:\n",
        "    print(\"Faulty Implementation!\")\n",
        "\n",
        "\n",
        "def test_net_rsm_ex(seed):\n",
        "  \"\"\"\n",
        "  Tests net_rsm_ex implementation\n",
        "\n",
        "  Args:\n",
        "    seed: int\n",
        "      Set for reproducibility\n",
        "\n",
        "  Returns:\n",
        "    Nothing\n",
        "  \"\"\"\n",
        "  torch.manual_seed(seed)\n",
        "  x = torch.rand(7, 17)\n",
        "  try:\n",
        "    y_ex = ex_net_rsm(x)\n",
        "    y = x @ x.T\n",
        "    if (torch.all(torch.isclose(y_ex, y, atol=1e-6))):\n",
        "      print(\"Well done! Seems to be correct!\")\n",
        "    else:\n",
        "      print(\"Please double check your implementation!\")\n",
        "  except:\n",
        "    print(\"Faulty Implementation!\")"
      ]
    },
    {
      "cell_type": "code",
      "execution_count": 6,
      "metadata": {
        "cellView": "form",
        "execution": {},
        "id": "iM6zRWMz2NyP"
      },
      "outputs": [],
      "source": [
        "#@title Set random seed\n",
        "\n",
        "#@markdown Executing `set_seed(seed=seed)` you are setting the seed\n",
        "\n",
        "# For DL its critical to set the random seed so that students can have a\n",
        "# baseline to compare their results to expected results.\n",
        "# Read more here: https://pytorch.org/docs/stable/notes/randomness.html\n",
        "\n",
        "# Call `set_seed` function in the exercises to ensure reproducibility.\n",
        "import random\n",
        "import torch\n",
        "\n",
        "def set_seed(seed=None, seed_torch=True):\n",
        "  \"\"\"\n",
        "  Function that controls randomness. NumPy and random modules must be imported.\n",
        "\n",
        "  Args:\n",
        "    seed : Integer\n",
        "      A non-negative integer that defines the random state. Default is `None`.\n",
        "    seed_torch : Boolean\n",
        "      If `True` sets the random seed for pytorch tensors, so pytorch module\n",
        "      must be imported. Default is `True`.\n",
        "\n",
        "  Returns:\n",
        "    Nothing.\n",
        "  \"\"\"\n",
        "  if seed is None:\n",
        "    seed = np.random.choice(2 ** 32)\n",
        "  random.seed(seed)\n",
        "  np.random.seed(seed)\n",
        "  if seed_torch:\n",
        "    torch.manual_seed(seed)\n",
        "    torch.cuda.manual_seed_all(seed)\n",
        "    torch.cuda.manual_seed(seed)\n",
        "    torch.backends.cudnn.benchmark = False\n",
        "    torch.backends.cudnn.deterministic = True\n",
        "\n",
        "  print(f'Random seed {seed} has been set.')\n",
        "\n",
        "\n",
        "# In case that `DataLoader` is used\n",
        "def seed_worker(worker_id):\n",
        "  \"\"\"\n",
        "  DataLoader will reseed workers following randomness in\n",
        "  multi-process data loading algorithm.\n",
        "\n",
        "  Args:\n",
        "    worker_id: integer\n",
        "      ID of subprocess to seed. 0 means that\n",
        "      the data will be loaded in the main process\n",
        "      Refer: https://pytorch.org/docs/stable/data.html#data-loading-randomness for more details\n",
        "\n",
        "  Returns:\n",
        "    Nothing\n",
        "  \"\"\"\n",
        "  worker_seed = torch.initial_seed() % 2**32\n",
        "  np.random.seed(worker_seed)\n",
        "  random.seed(worker_seed)"
      ]
    },
    {
      "cell_type": "code",
      "execution_count": 7,
      "metadata": {
        "cellView": "form",
        "execution": {},
        "id": "8Pq5-o062NyQ"
      },
      "outputs": [],
      "source": [
        "#@title Set device (GPU or CPU). Execute `set_device()`\n",
        "# especially if torch modules used.\n",
        "\n",
        "# Inform the user if the notebook uses GPU or CPU.\n",
        "\n",
        "def set_device():\n",
        "  \"\"\"\n",
        "  Set the device. CUDA if available, CPU otherwise\n",
        "\n",
        "  Args:\n",
        "    None\n",
        "\n",
        "  Returns:\n",
        "    Nothing\n",
        "  \"\"\"\n",
        "  device = \"cuda\" if torch.cuda.is_available() else \"cpu\"\n",
        "  if device != \"cuda\":\n",
        "    print(\"GPU is not enabled in this notebook. \\n\"\n",
        "          \"If you want to enable it, in the menu under `Runtime` -> \\n\"\n",
        "          \"`Hardware accelerator.` and select `GPU` from the dropdown menu\")\n",
        "  else:\n",
        "    print(\"GPU is enabled in this notebook. \\n\"\n",
        "          \"If you want to disable it, in the menu under `Runtime` -> \\n\"\n",
        "          \"`Hardware accelerator.` and select `None` from the dropdown menu\")\n",
        "\n",
        "  return device"
      ]
    },
    {
      "cell_type": "code",
      "execution_count": 8,
      "metadata": {
        "execution": {},
        "id": "4w1xniPK2NyQ",
        "outputId": "5c3cdd2f-7e13-4b1a-d98b-9a809bd50e84",
        "colab": {
          "base_uri": "https://localhost:8080/"
        }
      },
      "outputs": [
        {
          "output_type": "stream",
          "name": "stdout",
          "text": [
            "Random seed 2021 has been set.\n",
            "GPU is not enabled in this notebook. \n",
            "If you want to enable it, in the menu under `Runtime` -> \n",
            "`Hardware accelerator.` and select `GPU` from the dropdown menu\n"
          ]
        }
      ],
      "source": [
        "SEED = 2021\n",
        "set_seed(seed=SEED)\n",
        "DEVICE = set_device()"
      ]
    },
    {
      "cell_type": "markdown",
      "metadata": {
        "execution": {},
        "id": "MzUam0oh2NyQ"
      },
      "source": [
        "This colab notebook is GPU free!"
      ]
    },
    {
      "cell_type": "markdown",
      "metadata": {
        "execution": {},
        "id": "3a70yndK2NyQ"
      },
      "source": [
        "---\n",
        "# Section 0: Prelude\n",
        "*Time estimate: ~10 mins*\n",
        "\n"
      ]
    },
    {
      "cell_type": "markdown",
      "metadata": {
        "execution": {},
        "id": "OK-Oi9r42NyR"
      },
      "source": [
        "**A note on the exercises**: Most of the exercises are marked `Optional(Bonus)` and should only read through them if you are in a tight timeline. Therefore we would not rely on the implementation of the exercises. If necessary, you can look at the *Helper Functions* cell above to find the functions and classes used in this tutorial.\n",
        "\n",
        "Throughout this tutorial, we will use a linear neural net with a single hidden layer. We have also excluded `bias` from the layers. Please note that the forward loop returns the hidden activation, besides the network output (prediction). we will need it in section 3."
      ]
    },
    {
      "cell_type": "code",
      "execution_count": 9,
      "metadata": {
        "execution": {},
        "id": "OQdRplZJ2NyR"
      },
      "outputs": [],
      "source": [
        "class LNNet(nn.Module):\n",
        "  \"\"\"\n",
        "  A Linear Neural Net with one hidden layer\n",
        "  \"\"\"\n",
        "\n",
        "  def __init__(self, in_dim, hid_dim, out_dim):\n",
        "    \"\"\"\n",
        "    Initialize LNNet parameters\n",
        "\n",
        "    Args:\n",
        "      in_dim: int\n",
        "        Input dimension\n",
        "      out_dim: int\n",
        "        Ouput dimension\n",
        "      hid_dim: int\n",
        "        Hidden dimension\n",
        "\n",
        "    Returns:\n",
        "      Nothing\n",
        "    \"\"\"\n",
        "    super().__init__()\n",
        "    self.in_hid = nn.Linear(in_dim, hid_dim, bias=False)\n",
        "    self.hid_out = nn.Linear(hid_dim, out_dim, bias=False)\n",
        "\n",
        "  def forward(self, x):\n",
        "    \"\"\"\n",
        "    Forward pass of LNNet\n",
        "\n",
        "    Args:\n",
        "      x: torch.Tensor\n",
        "        Input tensor\n",
        "\n",
        "    Returns:\n",
        "      hid: torch.Tensor\n",
        "        Hidden layer activity\n",
        "      out: torch.Tensor\n",
        "        Output/Prediction\n",
        "    \"\"\"\n",
        "    hid = self.in_hid(x)  # Hidden activity\n",
        "    out = self.hid_out(hid)  # Output (prediction)\n",
        "    return out, hid"
      ]
    },
    {
      "cell_type": "markdown",
      "metadata": {
        "execution": {},
        "id": "vdFZKtrn2NyR"
      },
      "source": [
        "Other than `net_svd` and `net_rsm` functions, the training loop should be mostly familiar to you. We will define these functions in the coming sections.\n",
        "\n",
        "**Important**: Please note that the two functions are part of inner training loop and are therefore executed and recorded at every iteration."
      ]
    },
    {
      "cell_type": "code",
      "execution_count": 10,
      "metadata": {
        "execution": {},
        "id": "lc_bIHNt2NyR"
      },
      "outputs": [],
      "source": [
        "def train(model, inputs, targets, n_epochs, lr, illusory_i=0):\n",
        "  \"\"\"\n",
        "  Training function\n",
        "\n",
        "  Args:\n",
        "    model: torch nn.Module\n",
        "      The neural network\n",
        "    inputs: torch.Tensor\n",
        "      Features (input) with shape `[batch_size, input_dim]`\n",
        "    targets: torch.Tensor\n",
        "      Targets (labels) with shape `[batch_size, output_dim]`\n",
        "    n_epochs: int\n",
        "      Number of training epochs (iterations)\n",
        "    lr: float\n",
        "      Learning rate\n",
        "    illusory_i: int\n",
        "      Index of illusory feature\n",
        "\n",
        "  Returns:\n",
        "    losses: np.ndarray\n",
        "      Record (evolution) of training loss\n",
        "    modes: np.ndarray\n",
        "      Record (evolution) of singular values (dynamic modes)\n",
        "    rs_mats: np.ndarray\n",
        "      Record (evolution) of representational similarity matrices\n",
        "    illusions: np.ndarray\n",
        "      Record of network prediction for the last feature\n",
        "  \"\"\"\n",
        "  in_dim = inputs.size(1)\n",
        "\n",
        "  losses = np.zeros(n_epochs)  # Loss records\n",
        "  modes = np.zeros((n_epochs, in_dim))  # Singular values (modes) records\n",
        "  rs_mats = []  # Representational similarity matrices\n",
        "  illusions = np.zeros(n_epochs)  # Prediction for the given feature\n",
        "\n",
        "  optimizer = optim.SGD(model.parameters(), lr=lr)\n",
        "  criterion = nn.MSELoss()\n",
        "\n",
        "  for i in range(n_epochs):\n",
        "    optimizer.zero_grad()\n",
        "    predictions, hiddens = model(inputs)\n",
        "    loss = criterion(predictions, targets)\n",
        "    loss.backward()\n",
        "    optimizer.step()\n",
        "\n",
        "    # Section 2 Singular value decomposition\n",
        "    U, Σ, V = net_svd(model, in_dim)\n",
        "\n",
        "    # Section 3 calculating representational similarity matrix\n",
        "    RSM = net_rsm(hiddens.detach())\n",
        "\n",
        "    # Section 4 network prediction of illusory_i inputs for the last feature\n",
        "    pred_ij = predictions.detach()[illusory_i, -1]\n",
        "\n",
        "    # Logging (recordings)\n",
        "    losses[i] = loss.item()\n",
        "    modes[i] = Σ.detach().numpy()\n",
        "    rs_mats.append(RSM.numpy())\n",
        "    illusions[i] = pred_ij.numpy()\n",
        "\n",
        "  return losses, modes, np.array(rs_mats), illusions"
      ]
    },
    {
      "cell_type": "markdown",
      "metadata": {
        "execution": {},
        "id": "ldX4ShRu2NyS"
      },
      "source": [
        "We also need take over the initialization of the weights. In PyTorch, [`nn.init`](https://pytorch.org/docs/stable/nn.init.html) provides us with the functions to initialize tensors from a given distribution."
      ]
    },
    {
      "cell_type": "markdown",
      "metadata": {
        "execution": {},
        "id": "JSVTo9OI2NyS"
      },
      "source": [
        "## Coding Exercise 0: Re-initialization (Optional)\n",
        "\n",
        "Complete the function `ex_initializer_`, such that the weights are sampled from the following distribution:\n",
        "\n",
        "\\begin{equation}\n",
        "\\mathcal{N}\\left(\\mu=0, ~~\\sigma=\\gamma \\sqrt{\\dfrac{1}{n_{in} + n_{out}}} \\right)\n",
        "\\end{equation}\n",
        "\n",
        "where $\\gamma$ is the initialization scale, $n_{in}$ and $n_{out}$ are respectively input and output dimensions of the layer. the Underscore (\"_\") in `ex_initializer_` and other functions, denotes \"[in-place](https://discuss.pytorch.org/t/what-is-in-place-operation/16244/2)\" operation.\n",
        "\n",
        "**important note**: Since we did not include bias in the layers, the `model.parameters()` would only return the weights in each layer."
      ]
    },
    {
      "cell_type": "code",
      "execution_count": 12,
      "metadata": {
        "execution": {},
        "id": "s_QrqHci2NyS",
        "outputId": "3bde1f93-266a-48cd-91b6-78bed6117ce1",
        "colab": {
          "base_uri": "https://localhost:8080/"
        }
      },
      "outputs": [
        {
          "output_type": "stream",
          "name": "stdout",
          "text": [
            "Well done! Seems to be correct!\n"
          ]
        }
      ],
      "source": [
        "def ex_initializer_(model, gamma=1e-12):\n",
        "  \"\"\"\n",
        "  In-place Re-initialization of weights\n",
        "\n",
        "  Args:\n",
        "    model: torch.nn.Module\n",
        "      PyTorch neural net model\n",
        "    gamma: float\n",
        "      Initialization scale\n",
        "\n",
        "  Returns:\n",
        "    Nothing\n",
        "  \"\"\"\n",
        "  for weight in model.parameters():\n",
        "    n_out, n_in = weight.shape\n",
        "    #################################################\n",
        "    ## Define the standard deviation (sigma) for the normal distribution\n",
        "    # as given in the equation above\n",
        "    # Complete the function and remove or comment the line below\n",
        "    #raise NotImplementedError(\"Function `ex_initializer_`\")\n",
        "    #################################################\n",
        "    sigma = sigma = gamma / math.sqrt(n_in + n_out)\n",
        "\n",
        "    nn.init.normal_(weight, mean=0.0, std=sigma)\n",
        "\n",
        "\n",
        "\n",
        "## uncomment and run\n",
        "test_initializer_ex(SEED)"
      ]
    },
    {
      "cell_type": "markdown",
      "metadata": {
        "execution": {},
        "id": "4LHQpjOq2NyS"
      },
      "source": [
        "[*Click for solution*](https://github.com/NeuromatchAcademy/course-content-dl/tree/main/tutorials/W1D2_LinearDeepLearning/solutions/W1D2_Tutorial3_Solution_8291e408.py)\n",
        "\n"
      ]
    },
    {
      "cell_type": "code",
      "execution_count": null,
      "metadata": {
        "cellView": "form",
        "execution": {},
        "id": "9flpVrjX2NyS"
      },
      "outputs": [],
      "source": [
        "# @title Submit your feedback\n",
        "content_review(f\"{feedback_prefix}_Reinitialization_Exercise\")"
      ]
    },
    {
      "cell_type": "markdown",
      "metadata": {
        "execution": {},
        "id": "uCc1Q4ML2NyT"
      },
      "source": [
        "---\n",
        "# Section 1: Deep Linear Neural Nets\n",
        "\n",
        "*Time estimate: ~20 mins*"
      ]
    },
    {
      "cell_type": "code",
      "execution_count": 13,
      "metadata": {
        "cellView": "form",
        "execution": {},
        "id": "YwBdI29G2NyT",
        "outputId": "1057a3db-a4f9-4c8e-fd04-bc8c2ca71d6f",
        "colab": {
          "base_uri": "https://localhost:8080/",
          "height": 581,
          "referenced_widgets": [
            "597274d2a9ea49f39ff4c9695f89138c",
            "d109a38f078546ec8ffacdd4ba25291c",
            "fc49a9dd7a6b4193aec803ce336b2625",
            "0405fedee6c1401f92950da330e1db9a",
            "ca28b16b85654211887b8f91fa11feb3",
            "ed1d505ce0bd4cb19bec9657c29d8986"
          ]
        }
      },
      "outputs": [
        {
          "output_type": "display_data",
          "data": {
            "text/plain": [
              "Tab(children=(Output(), Output()), _titles={'0': 'Youtube', '1': 'Bilibili'})"
            ],
            "application/vnd.jupyter.widget-view+json": {
              "version_major": 2,
              "version_minor": 0,
              "model_id": "597274d2a9ea49f39ff4c9695f89138c"
            }
          },
          "metadata": {}
        }
      ],
      "source": [
        "# @title Video 1: Intro to Representation Learning\n",
        "from ipywidgets import widgets\n",
        "from IPython.display import YouTubeVideo\n",
        "from IPython.display import IFrame\n",
        "from IPython.display import display\n",
        "\n",
        "\n",
        "class PlayVideo(IFrame):\n",
        "  def __init__(self, id, source, page=1, width=400, height=300, **kwargs):\n",
        "    self.id = id\n",
        "    if source == 'Bilibili':\n",
        "      src = f'https://player.bilibili.com/player.html?bvid={id}&page={page}'\n",
        "    elif source == 'Osf':\n",
        "      src = f'https://mfr.ca-1.osf.io/render?url=https://osf.io/download/{id}/?direct%26mode=render'\n",
        "    super(PlayVideo, self).__init__(src, width, height, **kwargs)\n",
        "\n",
        "\n",
        "def display_videos(video_ids, W=400, H=300, fs=1):\n",
        "  tab_contents = []\n",
        "  for i, video_id in enumerate(video_ids):\n",
        "    out = widgets.Output()\n",
        "    with out:\n",
        "      if video_ids[i][0] == 'Youtube':\n",
        "        video = YouTubeVideo(id=video_ids[i][1], width=W,\n",
        "                             height=H, fs=fs, rel=0)\n",
        "        print(f'Video available at https://youtube.com/watch?v={video.id}')\n",
        "      else:\n",
        "        video = PlayVideo(id=video_ids[i][1], source=video_ids[i][0], width=W,\n",
        "                          height=H, fs=fs, autoplay=False)\n",
        "        if video_ids[i][0] == 'Bilibili':\n",
        "          print(f'Video available at https://www.bilibili.com/video/{video.id}')\n",
        "        elif video_ids[i][0] == 'Osf':\n",
        "          print(f'Video available at https://osf.io/{video.id}')\n",
        "      display(video)\n",
        "    tab_contents.append(out)\n",
        "  return tab_contents\n",
        "\n",
        "\n",
        "video_ids = [('Youtube', 'DqMSU4Bikt0'), ('Bilibili', 'BV1iM4y1T7eJ')]\n",
        "tab_contents = display_videos(video_ids, W=854, H=480)\n",
        "tabs = widgets.Tab()\n",
        "tabs.children = tab_contents\n",
        "for i in range(len(tab_contents)):\n",
        "  tabs.set_title(i, video_ids[i][0])\n",
        "display(tabs)"
      ]
    },
    {
      "cell_type": "code",
      "execution_count": null,
      "metadata": {
        "cellView": "form",
        "execution": {},
        "id": "sk9nX8Rt2NyT"
      },
      "outputs": [],
      "source": [
        "# @title Submit your feedback\n",
        "content_review(f\"{feedback_prefix}_Intro_to_Representation_Learning_Video\")"
      ]
    },
    {
      "cell_type": "markdown",
      "metadata": {
        "execution": {},
        "id": "aapUOFFF2NyT"
      },
      "source": [
        "So far, depth just seems to slow down the learning. And we know that a single nonlinear hidden layer (given enough number of neurons and infinite training samples) has the potential to approximate any function. So it seems fair to ask: **What is depth good for**?\n",
        "\n",
        "One reason can be that shallow nonlinear neural networks hardly meet their true potential in practice. In the contrast, deep neural nets are often surprisingly powerful in learning complex functions without sacrificing generalization. A core intuition behind deep learning is that deep nets derive their power through learning internal representations. How does this work? To address representation learning, we have to go beyond the 1D chain.\n",
        "\n",
        "For this and the next couple of exercises, we use syntactically generated hierarchically structured data through a *branching diffusion process* (see [this reference](https://www.pnas.org/content/pnas/suppl/2019/05/16/1820226116.DCSupplemental/pnas.1820226116.sapp.pdf) for more details).\n",
        "\n",
        "<center><img src=\"https://raw.githubusercontent.com/NeuromatchAcademy/course-content-dl/main/tutorials/W1D2_LinearDeepLearning/static/tree.png\" alt=\"Simple nn graph\" width=\"600\"/></center>\n",
        "\n",
        "<center> hierarchically structured data (a tree) </center>\n",
        "\n",
        "The inputs to the network are labels (i.e. names), while the outputs are the features (i.e. attributes). For example, for the label \"Goldfish\", the network has to learn all the (artificially created) features, such as \"*can swim*\", \"*is cold-blooded*\", \"*has fins*\", and more. Given that we are training on hierarchically structured data, network could also learn the tree structure, that Goldfish and Tuna have rather similar features, and Robin has more in common with Tuna, compared to Rose."
      ]
    },
    {
      "cell_type": "code",
      "execution_count": 16,
      "metadata": {
        "cellView": "form",
        "execution": {},
        "id": "_D4T3zLK2NyT",
        "outputId": "b1fba83a-6722-4b63-cebd-c6cda49935a0",
        "colab": {
          "base_uri": "https://localhost:8080/",
          "height": 682
        }
      },
      "outputs": [
        {
          "output_type": "display_data",
          "data": {
            "text/plain": [
              "<Figure size 1200x700 with 3 Axes>"
            ],
            "image/png": "[encoded data removed]"
          },
          "metadata": {
            "image/png": {
              "width": 1174,
              "height": 596
            }
          }
        },
        {
          "output_type": "stream",
          "name": "stdout",
          "text": [
            "---------------------------------------------------------------\n",
            "Input Dimension: 8\n",
            "Output Dimension: 10000\n",
            "Number of samples: 8\n"
          ]
        }
      ],
      "source": [
        "# @markdown #### Run to generate and visualize training samples from tree\n",
        "\n",
        "tree_labels, tree_features = generate_hsd()\n",
        "\n",
        "# Convert (cast) data from np.ndarray to torch.Tensor\n",
        "label_tensor = torch.tensor(tree_labels).float()\n",
        "feature_tensor = torch.tensor(tree_features).float()\n",
        "\n",
        "item_names = ['Goldfish', 'Tuna', 'Robin', 'Canary',\n",
        "              'Rose', 'Daisy', 'Pine', 'Oak']\n",
        "plot_tree_data()\n",
        "\n",
        "# Dimensions\n",
        "print(\"---------------------------------------------------------------\")\n",
        "print(\"Input Dimension: {}\".format(tree_labels.shape[1]))\n",
        "print(\"Output Dimension: {}\".format(tree_features.shape[1]))\n",
        "print(\"Number of samples: {}\".format(tree_features.shape[0]))"
      ]
    },
    {
      "cell_type": "markdown",
      "metadata": {
        "execution": {},
        "id": "yyj-dvuT2NyT"
      },
      "source": [
        "To continue this tutorial, it is vital to understand the premise of our training data and what the task is. Therefore, please take your time to discuss them with your pod.\n",
        "\n",
        "<center><img src=\"https://raw.githubusercontent.com/NeuromatchAcademy/course-content-dl/main/tutorials/W1D2_LinearDeepLearning/static/neural_net.png\" alt=\"neural net\" width=\"600\"/></center>\n",
        "\n",
        "<center> The neural network used for this tutorial </center>"
      ]
    },
    {
      "cell_type": "markdown",
      "metadata": {
        "execution": {},
        "id": "nAD0U8vk2NyU"
      },
      "source": [
        "## Interactive Demo 1: Training the deep LNN\n",
        "\n",
        "Training a neural net on our data is straight forward. But before executing the next cell, remember the training loss curve from previous tutorial."
      ]
    },
    {
      "cell_type": "code",
      "execution_count": 17,
      "metadata": {
        "cellView": "form",
        "execution": {},
        "id": "w6IqEn1Z2NyU",
        "outputId": "042f49ff-fd2f-472b-aa3f-38e2ee64066a",
        "colab": {
          "base_uri": "https://localhost:8080/",
          "height": 492
        }
      },
      "outputs": [
        {
          "output_type": "display_data",
          "data": {
            "text/plain": [
              "<Figure size 1000x500 with 1 Axes>"
            ],
            "image/png": "[encoded data removed]"
          },
          "metadata": {
            "image/png": {
              "width": 975,
              "height": 475
            }
          }
        }
      ],
      "source": [
        "# @markdown #### Make sure you execute this cell to train the network and plot\n",
        "\n",
        "lr = 100.0  # Learning rate\n",
        "gamma = 1e-12  # Initialization scale\n",
        "n_epochs = 250  # Number of epochs\n",
        "dim_input = 8  # Input dimension = `label_tensor.size(1)`\n",
        "dim_hidden = 30  # Hidden neurons\n",
        "dim_output = 10000  # Output dimension = `feature_tensor.size(1)`\n",
        "\n",
        "# Model instantiation\n",
        "dlnn_model = LNNet(dim_input, dim_hidden, dim_output)\n",
        "\n",
        "# Weights re-initialization\n",
        "initializer_(dlnn_model, gamma)\n",
        "\n",
        "# Training\n",
        "losses, *_ = train(dlnn_model,\n",
        "                  label_tensor,\n",
        "                  feature_tensor,\n",
        "                  n_epochs=n_epochs,\n",
        "                  lr=lr)\n",
        "\n",
        "# Plotting\n",
        "plot_loss(losses)"
      ]
    },
    {
      "cell_type": "markdown",
      "metadata": {
        "execution": {},
        "id": "A59HoGZv2NyU"
      },
      "source": [
        "**Think!**\n",
        "\n",
        "Why haven't we seen these \"bumps\" in training before? And should we look for them in the future? What do these bumps mean?\n",
        "\n",
        "Recall from previous tutorial, that we are always interested in learning rate ($\\eta$) and initialization ($\\gamma$) that would give us the fastest but yet stable (reliable) convergence. Try finding the optimal $\\eta$ and $\\gamma$ using the following widgets. More specifically, try large $\\gamma$ and see if we can recover the bumps by tuning the $\\eta$."
      ]
    },
    {
      "cell_type": "code",
      "execution_count": 19,
      "metadata": {
        "cellView": "form",
        "execution": {},
        "id": "Ce2x3KnQ2NyU",
        "outputId": "4fad86d8-9bbb-4eab-ed79-c920194f52b2",
        "colab": {
          "base_uri": "https://localhost:8080/",
          "height": 556,
          "referenced_widgets": [
            "e528d0beffce4b1db3fcc7fb94b09204",
            "57ebb584b9a641208e698c8c887510d7",
            "228b4653495448eab11208f1bd25707f",
            "2a36a4571ac8435cb62676c3f1a575f0",
            "006a89070afb4635a0252bb68990e4eb",
            "373bf02bf6e042bebbe12b79c9a26857",
            "302134ddba3c4a8fb079cd985eda32a3",
            "88dc732de3504b5eab184ae20c0d9db2",
            "b1bba550bf9f45e78fcc0dc79ca4f3e0",
            "74b3865390394c8281f69db0eb7fb5d6"
          ]
        }
      },
      "outputs": [
        {
          "output_type": "display_data",
          "data": {
            "text/plain": [
              "interactive(children=(FloatSlider(value=100.0, continuous_update=False, description='eta', max=200.0, min=1.0,…"
            ],
            "application/vnd.jupyter.widget-view+json": {
              "version_major": 2,
              "version_minor": 0,
              "model_id": "e528d0beffce4b1db3fcc7fb94b09204"
            }
          },
          "metadata": {}
        }
      ],
      "source": [
        "# @markdown #### Make sure you execute this cell to enable the widget!\n",
        "\n",
        "def loss_lr_init(lr, gamma):\n",
        "  \"\"\"\n",
        "  Trains and plots the loss evolution\n",
        "\n",
        "  Args:\n",
        "    lr: float\n",
        "      Learning rate\n",
        "    gamma: float\n",
        "      Initialization scale\n",
        "\n",
        "  Returns:\n",
        "    Nothing\n",
        "  \"\"\"\n",
        "  n_epochs = 250  # Number of epochs\n",
        "  dim_input = 8  # Input dimension = `label_tensor.size(1)`\n",
        "  dim_hidden = 30  # Hidden neurons\n",
        "  dim_output = 10000  # Output dimension = `feature_tensor.size(1)`\n",
        "\n",
        "  # Model instantiation\n",
        "  dlnn_model = LNNet(dim_input, dim_hidden, dim_output)\n",
        "\n",
        "  # Weights re-initialization\n",
        "  initializer_(dlnn_model, gamma)\n",
        "\n",
        "  losses, *_ = train(dlnn_model,\n",
        "                    label_tensor,\n",
        "                    feature_tensor,\n",
        "                    n_epochs=n_epochs,\n",
        "                    lr=lr)\n",
        "\n",
        "  plot_loss(losses)\n",
        "\n",
        "_ = interact(loss_lr_init,\n",
        "             lr = FloatSlider(min=1.0, max=200.0,\n",
        "                              step=1.0, value=100.0,\n",
        "                              continuous_update=False,\n",
        "                              readout_format='.1f',\n",
        "                              description='eta'),\n",
        "             epochs = fixed(250),\n",
        "             gamma = FloatLogSlider(min=-15, max=1,\n",
        "                                    step=1, value=1e-12, base=10,\n",
        "                                    continuous_update=False,\n",
        "                                    description='gamma')\n",
        "             )"
      ]
    },
    {
      "cell_type": "code",
      "execution_count": null,
      "metadata": {
        "cellView": "form",
        "execution": {},
        "id": "ts7t8nLX2NyV"
      },
      "outputs": [],
      "source": [
        "# @title Submit your feedback\n",
        "content_review(f\"{feedback_prefix}_Training_the_deep_LNN_Interactive_Demo\")"
      ]
    },
    {
      "cell_type": "markdown",
      "metadata": {
        "execution": {},
        "id": "tmuflSdD2NyV"
      },
      "source": [
        "---\n",
        "# Section 2: Singular Value Decomposition (SVD)\n",
        "\n",
        "*Time estimate: ~20 mins*"
      ]
    },
    {
      "cell_type": "code",
      "execution_count": null,
      "metadata": {
        "cellView": "form",
        "execution": {},
        "id": "-XHCse9P2NyV"
      },
      "outputs": [],
      "source": [
        "# @title Video 2: SVD\n",
        "from ipywidgets import widgets\n",
        "from IPython.display import YouTubeVideo\n",
        "from IPython.display import IFrame\n",
        "from IPython.display import display\n",
        "\n",
        "\n",
        "class PlayVideo(IFrame):\n",
        "  def __init__(self, id, source, page=1, width=400, height=300, **kwargs):\n",
        "    self.id = id\n",
        "    if source == 'Bilibili':\n",
        "      src = f'https://player.bilibili.com/player.html?bvid={id}&page={page}'\n",
        "    elif source == 'Osf':\n",
        "      src = f'https://mfr.ca-1.osf.io/render?url=https://osf.io/download/{id}/?direct%26mode=render'\n",
        "    super(PlayVideo, self).__init__(src, width, height, **kwargs)\n",
        "\n",
        "\n",
        "def display_videos(video_ids, W=400, H=300, fs=1):\n",
        "  tab_contents = []\n",
        "  for i, video_id in enumerate(video_ids):\n",
        "    out = widgets.Output()\n",
        "    with out:\n",
        "      if video_ids[i][0] == 'Youtube':\n",
        "        video = YouTubeVideo(id=video_ids[i][1], width=W,\n",
        "                             height=H, fs=fs, rel=0)\n",
        "        print(f'Video available at https://youtube.com/watch?v={video.id}')\n",
        "      else:\n",
        "        video = PlayVideo(id=video_ids[i][1], source=video_ids[i][0], width=W,\n",
        "                          height=H, fs=fs, autoplay=False)\n",
        "        if video_ids[i][0] == 'Bilibili':\n",
        "          print(f'Video available at https://www.bilibili.com/video/{video.id}')\n",
        "        elif video_ids[i][0] == 'Osf':\n",
        "          print(f'Video available at https://osf.io/{video.id}')\n",
        "      display(video)\n",
        "    tab_contents.append(out)\n",
        "  return tab_contents\n",
        "\n",
        "\n",
        "video_ids = [('Youtube', '18oNWRziskM'), ('Bilibili', 'BV1bw411R7DJ')]\n",
        "tab_contents = display_videos(video_ids, W=854, H=480)\n",
        "tabs = widgets.Tab()\n",
        "tabs.children = tab_contents\n",
        "for i in range(len(tab_contents)):\n",
        "  tabs.set_title(i, video_ids[i][0])\n",
        "display(tabs)"
      ]
    },
    {
      "cell_type": "code",
      "execution_count": null,
      "metadata": {
        "cellView": "form",
        "execution": {},
        "id": "b1umP2JP2NyW"
      },
      "outputs": [],
      "source": [
        "# @title Submit your feedback\n",
        "content_review(f\"{feedback_prefix}_SVD_Video\")"
      ]
    },
    {
      "cell_type": "markdown",
      "metadata": {
        "execution": {},
        "id": "0IEiQs7b2NyW"
      },
      "source": [
        "In this section, we intend to study the learning (training) dynamics we just saw. First, we should know that a linear neural network is performing sequential matrix multiplications, which can be simplified to:\n",
        "\n",
        "\\begin{align}\n",
        "\\mathbf{y} &= \\mathbf{W}_{L}~\\mathbf{W}_{L-1}~\\dots~\\mathbf{W}_{1} ~ \\mathbf{x} \\\\\n",
        " &= \\left(\\prod_{i=1}^{L}{\\mathbf{W}_{i}}\\right) ~ \\mathbf{x} \\\\\n",
        " &= \\mathbf{W}_{tot} ~ \\mathbf{x}\n",
        "\\end{align}\n",
        "\n",
        "where $L$ denotes the number of layers in our network.\n",
        "\n",
        "[Saxe et al. (2013)](https://arxiv.org/abs/1312.6120) showed that to analyze and to understanding the nonlinear learning dynamics of a deep LNN, we can use [Singular Value Decomposition (SVD)](https://en.wikipedia.org/wiki/Singular_value_decomposition) to decompose the $\\mathbf{W}_{tot}$ into orthogonal vectors, where orthogonality of the vectors would ensure their \"individuality (independence)\". This means we can break a deep wide LNN into multiple deep narrow LNN, so their activity is untangled from each other.\n",
        "\n",
        "<br/>\n",
        "\n",
        "__A Quick intro to SVD__\n",
        "\n",
        "Any real-valued matix $A$ (yes, ANY) can be decomposed (factorized) to 3 matrices:\n",
        "\n",
        "\\begin{equation}\n",
        "\\mathbf{A} = \\mathbf{U} \\mathbf{Σ} \\mathbf{V}^{\\top}\n",
        "\\end{equation}\n",
        "\n",
        "where $U$ is an orthogonal matrix, $\\Sigma$ is a diagonal matrix, and $V$ is again an orthogonal matrix. The diagonal elements of $\\Sigma$ are called **singular values**.\n",
        "\n",
        "The main difference between SVD and EigenValue Decomposition (EVD), is that EVD requires $A$ to be squared and does not guarantee the eigenvectors to be orthogonal.\n",
        "\n",
        "We strongly recommend the [Singular Value Decomposition (the SVD)](https://www.youtube.com/watch?v=mBcLRGuAFUk) by the amazing [Gilbert Strang](http://www-math.mit.edu/~gs/), if you would like to learn more."
      ]
    },
    {
      "cell_type": "markdown",
      "metadata": {
        "execution": {},
        "id": "cakZwToj2NyW"
      },
      "source": [
        "## Coding Exercise 2: SVD (Optional)\n",
        "\n",
        "The goal is to perform the SVD on $\\mathbf{W}_{tot}$ in every epoch, and record the singular values (modes) during the training.\n",
        "\n",
        "Complete the function `ex_net_svd`, by first calculating the $\\mathbf{W}_{tot} = \\prod_{i=1}^{L}{\\mathbf{W}_{i}}$ and finally performing SVD on the $\\mathbf{W}_{tot}$. Please use the PyTorch [`torch.svd`](https://pytorch.org/docs/stable/generated/torch.svd.html) instead of NumPy [`np.linalg.svd`](https://numpy.org/doc/stable/reference/generated/numpy.linalg.svd.html)."
      ]
    },
    {
      "cell_type": "code",
      "execution_count": null,
      "metadata": {
        "execution": {},
        "id": "vNA3xxYL2Nyc"
      },
      "outputs": [],
      "source": [
        "def ex_net_svd(model, in_dim):\n",
        "  \"\"\"\n",
        "  Performs a Singular Value Decomposition on a given model weights\n",
        "\n",
        "  Args:\n",
        "    model: torch.nn.Module\n",
        "      Neural network model\n",
        "    in_dim: int\n",
        "      The input dimension of the model\n",
        "\n",
        "  Returns:\n",
        "    U: torch.tensor\n",
        "      Orthogonal matrix\n",
        "    Σ: torch.tensor\n",
        "      Diagonal matrix\n",
        "    V: torch.tensor\n",
        "      Orthogonal matrix\n",
        "  \"\"\"\n",
        "  W_tot = torch.eye(in_dim)\n",
        "  for weight in model.parameters():\n",
        "    #################################################\n",
        "    ## Calculate the W_tot by multiplication of all weights\n",
        "    # and then perform SVD on the W_tot using pytorch's `torch.svd`\n",
        "    # Complete the function and remove or comment the line below\n",
        "    raise NotImplementedError(\"Function `ex_net_svd`\")\n",
        "    #################################################\n",
        "    W_tot = ...\n",
        "  U, Σ, V = ...\n",
        "  return U, Σ, V\n",
        "\n",
        "\n",
        "## Uncomment and run\n",
        "# test_net_svd_ex(SEED)"
      ]
    },
    {
      "cell_type": "markdown",
      "metadata": {
        "execution": {},
        "id": "NITqcXN82Nyc"
      },
      "source": [
        "[*Click for solution*](https://github.com/NeuromatchAcademy/course-content-dl/tree/main/tutorials/W1D2_LinearDeepLearning/solutions/W1D2_Tutorial3_Solution_e65fa809.py)\n",
        "\n"
      ]
    },
    {
      "cell_type": "code",
      "execution_count": null,
      "metadata": {
        "cellView": "form",
        "execution": {},
        "id": "rjxEqVLF2Nyc"
      },
      "outputs": [],
      "source": [
        "# @title Submit your feedback\n",
        "content_review(f\"{feedback_prefix}_SVD_Exercise\")"
      ]
    },
    {
      "cell_type": "code",
      "execution_count": null,
      "metadata": {
        "cellView": "form",
        "execution": {},
        "id": "OplWhB6o2Nyd"
      },
      "outputs": [],
      "source": [
        "# @markdown #### Make sure you execute this cell to train the network and plot\n",
        "\n",
        "lr = 100.0  # Learning rate\n",
        "gamma = 1e-12  # Initialization scale\n",
        "n_epochs = 250  # Number of epochs\n",
        "dim_input = 8  # Input dimension = `label_tensor.size(1)`\n",
        "dim_hidden = 30  # Hidden neurons\n",
        "dim_output = 10000  # Output dimension = `feature_tensor.size(1)`\n",
        "\n",
        "# Model instantiation\n",
        "dlnn_model = LNNet(dim_input, dim_hidden, dim_output)\n",
        "\n",
        "# Weights re-initialization\n",
        "initializer_(dlnn_model, gamma)\n",
        "\n",
        "# Training\n",
        "losses, modes, *_ = train(dlnn_model,\n",
        "                          label_tensor,\n",
        "                          feature_tensor,\n",
        "                          n_epochs=n_epochs,\n",
        "                          lr=lr)\n",
        "\n",
        "plot_loss_sv_twin(losses, modes)"
      ]
    },
    {
      "cell_type": "markdown",
      "metadata": {
        "execution": {},
        "id": "A0ZsQYHL2Nyd"
      },
      "source": [
        "**Think!**\n",
        "\n",
        "In EigenValue decomposition, the amount of variance explained by eigenvectors is proportional to the corresponding eigenvalues. What about the SVD? We see that the gradient descent guides the network to first learn the features that carry more information (have higher singular value)!"
      ]
    },
    {
      "cell_type": "code",
      "execution_count": null,
      "metadata": {
        "cellView": "form",
        "execution": {},
        "id": "cgH97psN2Nyd"
      },
      "outputs": [],
      "source": [
        "# @title Submit your feedback\n",
        "content_review(f\"{feedback_prefix}_SVD_Discussion\")"
      ]
    },
    {
      "cell_type": "code",
      "execution_count": null,
      "metadata": {
        "cellView": "form",
        "execution": {},
        "id": "pPpM8VE12Nyd"
      },
      "outputs": [],
      "source": [
        "# @title Video 3: SVD - Discussion\n",
        "from ipywidgets import widgets\n",
        "from IPython.display import YouTubeVideo\n",
        "from IPython.display import IFrame\n",
        "from IPython.display import display\n",
        "\n",
        "\n",
        "class PlayVideo(IFrame):\n",
        "  def __init__(self, id, source, page=1, width=400, height=300, **kwargs):\n",
        "    self.id = id\n",
        "    if source == 'Bilibili':\n",
        "      src = f'https://player.bilibili.com/player.html?bvid={id}&page={page}'\n",
        "    elif source == 'Osf':\n",
        "      src = f'https://mfr.ca-1.osf.io/render?url=https://osf.io/download/{id}/?direct%26mode=render'\n",
        "    super(PlayVideo, self).__init__(src, width, height, **kwargs)\n",
        "\n",
        "\n",
        "def display_videos(video_ids, W=400, H=300, fs=1):\n",
        "  tab_contents = []\n",
        "  for i, video_id in enumerate(video_ids):\n",
        "    out = widgets.Output()\n",
        "    with out:\n",
        "      if video_ids[i][0] == 'Youtube':\n",
        "        video = YouTubeVideo(id=video_ids[i][1], width=W,\n",
        "                             height=H, fs=fs, rel=0)\n",
        "        print(f'Video available at https://youtube.com/watch?v={video.id}')\n",
        "      else:\n",
        "        video = PlayVideo(id=video_ids[i][1], source=video_ids[i][0], width=W,\n",
        "                          height=H, fs=fs, autoplay=False)\n",
        "        if video_ids[i][0] == 'Bilibili':\n",
        "          print(f'Video available at https://www.bilibili.com/video/{video.id}')\n",
        "        elif video_ids[i][0] == 'Osf':\n",
        "          print(f'Video available at https://osf.io/{video.id}')\n",
        "      display(video)\n",
        "    tab_contents.append(out)\n",
        "  return tab_contents\n",
        "\n",
        "\n",
        "video_ids = [('Youtube', 'JEbRPPG2kUI'), ('Bilibili', 'BV1t54y1J7Tb')]\n",
        "tab_contents = display_videos(video_ids, W=854, H=480)\n",
        "tabs = widgets.Tab()\n",
        "tabs.children = tab_contents\n",
        "for i in range(len(tab_contents)):\n",
        "  tabs.set_title(i, video_ids[i][0])\n",
        "display(tabs)"
      ]
    },
    {
      "cell_type": "code",
      "execution_count": null,
      "metadata": {
        "cellView": "form",
        "execution": {},
        "id": "AzwcZxN02Nyd"
      },
      "outputs": [],
      "source": [
        "# @title Submit your feedback\n",
        "content_review(f\"{feedback_prefix}_SVD_Discussion_Video\")"
      ]
    },
    {
      "cell_type": "markdown",
      "metadata": {
        "execution": {},
        "id": "B83OSVJ22Nye"
      },
      "source": [
        "---\n",
        "# Section 3: Representational Similarity Analysis (RSA)\n",
        "\n",
        "*Time estimate: ~20 mins*"
      ]
    },
    {
      "cell_type": "code",
      "execution_count": null,
      "metadata": {
        "cellView": "form",
        "execution": {},
        "id": "9wR8jBfa2Nye"
      },
      "outputs": [],
      "source": [
        "# @title Video 4: RSA\n",
        "from ipywidgets import widgets\n",
        "from IPython.display import YouTubeVideo\n",
        "from IPython.display import IFrame\n",
        "from IPython.display import display\n",
        "\n",
        "\n",
        "class PlayVideo(IFrame):\n",
        "  def __init__(self, id, source, page=1, width=400, height=300, **kwargs):\n",
        "    self.id = id\n",
        "    if source == 'Bilibili':\n",
        "      src = f'https://player.bilibili.com/player.html?bvid={id}&page={page}'\n",
        "    elif source == 'Osf':\n",
        "      src = f'https://mfr.ca-1.osf.io/render?url=https://osf.io/download/{id}/?direct%26mode=render'\n",
        "    super(PlayVideo, self).__init__(src, width, height, **kwargs)\n",
        "\n",
        "\n",
        "def display_videos(video_ids, W=400, H=300, fs=1):\n",
        "  tab_contents = []\n",
        "  for i, video_id in enumerate(video_ids):\n",
        "    out = widgets.Output()\n",
        "    with out:\n",
        "      if video_ids[i][0] == 'Youtube':\n",
        "        video = YouTubeVideo(id=video_ids[i][1], width=W,\n",
        "                             height=H, fs=fs, rel=0)\n",
        "        print(f'Video available at https://youtube.com/watch?v={video.id}')\n",
        "      else:\n",
        "        video = PlayVideo(id=video_ids[i][1], source=video_ids[i][0], width=W,\n",
        "                          height=H, fs=fs, autoplay=False)\n",
        "        if video_ids[i][0] == 'Bilibili':\n",
        "          print(f'Video available at https://www.bilibili.com/video/{video.id}')\n",
        "        elif video_ids[i][0] == 'Osf':\n",
        "          print(f'Video available at https://osf.io/{video.id}')\n",
        "      display(video)\n",
        "    tab_contents.append(out)\n",
        "  return tab_contents\n",
        "\n",
        "\n",
        "video_ids = [('Youtube', 'YOs1yffysX8'), ('Bilibili', 'BV19f4y157zD')]\n",
        "tab_contents = display_videos(video_ids, W=854, H=480)\n",
        "tabs = widgets.Tab()\n",
        "tabs.children = tab_contents\n",
        "for i in range(len(tab_contents)):\n",
        "  tabs.set_title(i, video_ids[i][0])\n",
        "display(tabs)"
      ]
    },
    {
      "cell_type": "code",
      "execution_count": null,
      "metadata": {
        "cellView": "form",
        "execution": {},
        "id": "91zs2fWE2Nye"
      },
      "outputs": [],
      "source": [
        "# @title Submit your feedback\n",
        "content_review(f\"{feedback_prefix}_RSA_Video\")"
      ]
    },
    {
      "cell_type": "markdown",
      "metadata": {
        "execution": {},
        "id": "WfxklejG2Nyf"
      },
      "source": [
        "The previous section ended with an interesting remark. SVD helped to break our deep \"wide\" linear neural net into 8 deep \"narrow\" linear neural nets.\n",
        "\n",
        "The first narrow net (highest singular value) converges fastest, while the last four narrow nets, converge almost simultaneously and have the smallest singular values. Can it be that the narrow net with larger mode is learning the difference between \"living things\" and \"objects\", while another narrow net with smaller mode is learning the difference between Fish and Birds? how could we check this hypothesis?\n",
        "\n",
        "Representational Similarity Analysis (RSA) is an approach that could help us understand the internal representation of our network. The main idea is that the activity of hidden units (neurons) in the network must be similar when the network is presented with similar input. For our dataset (hierarchically structured data), we expect the activity of neurons in the hidden layer to be more similar for Tuna and Canary, and less similar for Tuna and Oak.\n",
        "\n",
        "For similarity measure, we can use the good old dot (scalar) product, which is also called cosine similarity. For calculating the dot product between multiple vectors (which would be our case), we can simply use matrix multiplication. Therefore the Representational Similarity Matrix for multiple-input (batch) activity could be calculated as follow:\n",
        "\n",
        "\\begin{equation}\n",
        "RSM = \\mathbf{H} \\mathbf{H}^{\\top}\n",
        "\\end{equation}\n",
        "\n",
        "where $\\mathbf{H} = \\mathbf{X} \\mathbf{W_1}$ is the activity of hidden neurons for a given batch $\\mathbf{X}$."
      ]
    },
    {
      "cell_type": "markdown",
      "metadata": {
        "execution": {},
        "id": "SwMOZGCX2Nyf"
      },
      "source": [
        "## Coding Exercise 3: RSA (Optional)\n",
        "\n",
        "The task is simple. We would need to measure the similarity between hidden layer activities $~\\mathbf{h} =  \\mathbf{x} ~\\mathbf{W_1}$) for every input $\\mathbf{x}$.\n",
        "\n",
        "If we perform RSA in every iteration, we could also see the evolution of representation learning."
      ]
    },
    {
      "cell_type": "code",
      "execution_count": null,
      "metadata": {
        "execution": {},
        "id": "UtiyNLDt2Nyg"
      },
      "outputs": [],
      "source": [
        "def ex_net_rsm(h):\n",
        "  \"\"\"\n",
        "  Calculates the Representational Similarity Matrix\n",
        "\n",
        "  Arg:\n",
        "    h: torch.Tensor\n",
        "      Activity of a hidden layer\n",
        "\n",
        "  Returns:\n",
        "    rsm: torch.Tensor\n",
        "      Representational Similarity Matrix\n",
        "  \"\"\"\n",
        "  #################################################\n",
        "  ## Calculate the Representational Similarity Matrix\n",
        "  # Complete the function and remove or comment the line below\n",
        "  raise NotImplementedError(\"Function `ex_net_rsm`\")\n",
        "  #################################################\n",
        "  rsm = ...\n",
        "  return rsm\n",
        "\n",
        "\n",
        "## Uncomment and run\n",
        "# test_net_rsm_ex(SEED)"
      ]
    },
    {
      "cell_type": "markdown",
      "metadata": {
        "execution": {},
        "id": "3mhptAow2Nyi"
      },
      "source": [
        "[*Click for solution*](https://github.com/NeuromatchAcademy/course-content-dl/tree/main/tutorials/W1D2_LinearDeepLearning/solutions/W1D2_Tutorial3_Solution_322ede5f.py)\n",
        "\n"
      ]
    },
    {
      "cell_type": "markdown",
      "metadata": {
        "execution": {},
        "id": "-9R_lfWN2Nyi"
      },
      "source": [
        "Now we can train the model while recording the losses, modes, and RSMs at every iteration. First, use the epoch slider to explore the evolution of RSM without changing default lr ($\\eta$) and initialization ($\\gamma$). Then, as we did before, set $\\eta$ and $\\gamma$ to larger values to see whether you can retrieve the sequential structured learning of representations."
      ]
    },
    {
      "cell_type": "code",
      "execution_count": null,
      "metadata": {
        "cellView": "form",
        "execution": {},
        "id": "bKv3a3dv2Nyi"
      },
      "outputs": [],
      "source": [
        "#@markdown #### Make sure you execute this cell to enable widgets\n",
        "\n",
        "def loss_svd_rsm_lr_gamma(lr, gamma, i_ep):\n",
        "  \"\"\"\n",
        "  Widget to record loss/mode/RSM at every iteration\n",
        "\n",
        "  Args:\n",
        "    lr: float\n",
        "      Learning rate\n",
        "    gamma: float\n",
        "      Initialization scale\n",
        "    i_ep: int\n",
        "      Which epoch to show\n",
        "\n",
        "  Returns:\n",
        "    Nothing\n",
        "  \"\"\"\n",
        "  n_epochs = 250  # Number of epochs\n",
        "  dim_input = 8  # Input dimension = `label_tensor.size(1)`\n",
        "  dim_hidden = 30  # Hidden neurons\n",
        "  dim_output = 10000  # Output dimension = `feature_tensor.size(1)`\n",
        "\n",
        "  # Model instantiation\n",
        "  dlnn_model = LNNet(dim_input, dim_hidden, dim_output)\n",
        "\n",
        "  # Weights re-initialization\n",
        "  initializer_(dlnn_model, gamma)\n",
        "\n",
        "  # Training\n",
        "  losses, modes, rsms, _ = train(dlnn_model,\n",
        "                                 label_tensor,\n",
        "                                 feature_tensor,\n",
        "                                 n_epochs=n_epochs,\n",
        "                                 lr=lr)\n",
        "  plot_loss_sv_rsm(losses, modes, rsms, i_ep)\n",
        "\n",
        "i_ep_slider = IntSlider(min=10, max=241, step=1, value=61,\n",
        "                        continuous_update=False,\n",
        "                        description='Epoch',\n",
        "                        layout=Layout(width='630px'))\n",
        "\n",
        "lr_slider = FloatSlider(min=20.0, max=200.0, step=1.0, value=100.0,\n",
        "                        continuous_update=False,\n",
        "                        readout_format='.1f',\n",
        "                        description='eta')\n",
        "\n",
        "gamma_slider = FloatLogSlider(min=-15, max=1, step=1,\n",
        "                              value=1e-12, base=10,\n",
        "                              continuous_update=False,\n",
        "                              description='gamma')\n",
        "\n",
        "widgets_ui = VBox([lr_slider, gamma_slider, i_ep_slider])\n",
        "\n",
        "widgets_out = interactive_output(loss_svd_rsm_lr_gamma,\n",
        "                                 {'lr': lr_slider,\n",
        "                                  'gamma': gamma_slider,\n",
        "                                  'i_ep': i_ep_slider})\n",
        "\n",
        "display(widgets_ui, widgets_out)"
      ]
    },
    {
      "cell_type": "markdown",
      "metadata": {
        "execution": {},
        "id": "d1HIr95Z2Nyi"
      },
      "source": [
        "Let's take a moment to analyze this more. A deep neural net is learning the representations, rather than a naive mapping (look-up table). This is thought to be the reason for deep neural nets supreme generalization and transfer learning ability. Unsurprisingly, neural nets with no hidden layer are incapable of representation learning, even with extremely small initialization."
      ]
    },
    {
      "cell_type": "code",
      "execution_count": null,
      "metadata": {
        "cellView": "form",
        "execution": {},
        "id": "_FdOtq732Nyj"
      },
      "outputs": [],
      "source": [
        "# @title Submit your feedback\n",
        "content_review(f\"{feedback_prefix}_RSA_Exercise\")"
      ]
    },
    {
      "cell_type": "code",
      "execution_count": null,
      "metadata": {
        "cellView": "form",
        "execution": {},
        "id": "RDEdv2NQ2Nyj"
      },
      "outputs": [],
      "source": [
        "# @title Video 5: RSA - Discussion\n",
        "from ipywidgets import widgets\n",
        "from IPython.display import YouTubeVideo\n",
        "from IPython.display import IFrame\n",
        "from IPython.display import display\n",
        "\n",
        "\n",
        "class PlayVideo(IFrame):\n",
        "  def __init__(self, id, source, page=1, width=400, height=300, **kwargs):\n",
        "    self.id = id\n",
        "    if source == 'Bilibili':\n",
        "      src = f'https://player.bilibili.com/player.html?bvid={id}&page={page}'\n",
        "    elif source == 'Osf':\n",
        "      src = f'https://mfr.ca-1.osf.io/render?url=https://osf.io/download/{id}/?direct%26mode=render'\n",
        "    super(PlayVideo, self).__init__(src, width, height, **kwargs)\n",
        "\n",
        "\n",
        "def display_videos(video_ids, W=400, H=300, fs=1):\n",
        "  tab_contents = []\n",
        "  for i, video_id in enumerate(video_ids):\n",
        "    out = widgets.Output()\n",
        "    with out:\n",
        "      if video_ids[i][0] == 'Youtube':\n",
        "        video = YouTubeVideo(id=video_ids[i][1], width=W,\n",
        "                             height=H, fs=fs, rel=0)\n",
        "        print(f'Video available at https://youtube.com/watch?v={video.id}')\n",
        "      else:\n",
        "        video = PlayVideo(id=video_ids[i][1], source=video_ids[i][0], width=W,\n",
        "                          height=H, fs=fs, autoplay=False)\n",
        "        if video_ids[i][0] == 'Bilibili':\n",
        "          print(f'Video available at https://www.bilibili.com/video/{video.id}')\n",
        "        elif video_ids[i][0] == 'Osf':\n",
        "          print(f'Video available at https://osf.io/{video.id}')\n",
        "      display(video)\n",
        "    tab_contents.append(out)\n",
        "  return tab_contents\n",
        "\n",
        "\n",
        "video_ids = [('Youtube', 'vprldATyq1o'), ('Bilibili', 'BV18y4y1j7Xr')]\n",
        "tab_contents = display_videos(video_ids, W=854, H=480)\n",
        "tabs = widgets.Tab()\n",
        "tabs.children = tab_contents\n",
        "for i in range(len(tab_contents)):\n",
        "  tabs.set_title(i, video_ids[i][0])\n",
        "display(tabs)"
      ]
    },
    {
      "cell_type": "code",
      "execution_count": null,
      "metadata": {
        "cellView": "form",
        "execution": {},
        "id": "aG1gvDq32Nyk"
      },
      "outputs": [],
      "source": [
        "# @title Submit your feedback\n",
        "content_review(f\"{feedback_prefix}_RSA_Discussion_Video\")"
      ]
    },
    {
      "cell_type": "markdown",
      "metadata": {
        "execution": {},
        "id": "gs4n4nfL2Nyk"
      },
      "source": [
        "---\n",
        "# Section 4: Illusory Correlations\n",
        "\n",
        "*Time estimate: ~20-30 mins*"
      ]
    },
    {
      "cell_type": "code",
      "execution_count": null,
      "metadata": {
        "cellView": "form",
        "execution": {},
        "id": "1ff9gOVB2Nyk"
      },
      "outputs": [],
      "source": [
        "# @title Video 6: Illusory Correlations\n",
        "from ipywidgets import widgets\n",
        "from IPython.display import YouTubeVideo\n",
        "from IPython.display import IFrame\n",
        "from IPython.display import display\n",
        "\n",
        "\n",
        "class PlayVideo(IFrame):\n",
        "  def __init__(self, id, source, page=1, width=400, height=300, **kwargs):\n",
        "    self.id = id\n",
        "    if source == 'Bilibili':\n",
        "      src = f'https://player.bilibili.com/player.html?bvid={id}&page={page}'\n",
        "    elif source == 'Osf':\n",
        "      src = f'https://mfr.ca-1.osf.io/render?url=https://osf.io/download/{id}/?direct%26mode=render'\n",
        "    super(PlayVideo, self).__init__(src, width, height, **kwargs)\n",
        "\n",
        "\n",
        "def display_videos(video_ids, W=400, H=300, fs=1):\n",
        "  tab_contents = []\n",
        "  for i, video_id in enumerate(video_ids):\n",
        "    out = widgets.Output()\n",
        "    with out:\n",
        "      if video_ids[i][0] == 'Youtube':\n",
        "        video = YouTubeVideo(id=video_ids[i][1], width=W,\n",
        "                             height=H, fs=fs, rel=0)\n",
        "        print(f'Video available at https://youtube.com/watch?v={video.id}')\n",
        "      else:\n",
        "        video = PlayVideo(id=video_ids[i][1], source=video_ids[i][0], width=W,\n",
        "                          height=H, fs=fs, autoplay=False)\n",
        "        if video_ids[i][0] == 'Bilibili':\n",
        "          print(f'Video available at https://www.bilibili.com/video/{video.id}')\n",
        "        elif video_ids[i][0] == 'Osf':\n",
        "          print(f'Video available at https://osf.io/{video.id}')\n",
        "      display(video)\n",
        "    tab_contents.append(out)\n",
        "  return tab_contents\n",
        "\n",
        "\n",
        "video_ids = [('Youtube', 'RxsAvyIoqEo'), ('Bilibili', 'BV1vv411E7Sq')]\n",
        "tab_contents = display_videos(video_ids, W=854, H=480)\n",
        "tabs = widgets.Tab()\n",
        "tabs.children = tab_contents\n",
        "for i in range(len(tab_contents)):\n",
        "  tabs.set_title(i, video_ids[i][0])\n",
        "display(tabs)"
      ]
    },
    {
      "cell_type": "code",
      "execution_count": null,
      "metadata": {
        "cellView": "form",
        "execution": {},
        "id": "A-1P7zue2Nyk"
      },
      "outputs": [],
      "source": [
        "# @title Submit your feedback\n",
        "content_review(f\"{feedback_prefix}_IllusoryCorrelations_Video\")"
      ]
    },
    {
      "cell_type": "markdown",
      "metadata": {
        "execution": {},
        "id": "eIaNpNew2Nyk"
      },
      "source": [
        "Let's recall the training loss curves. There was often a long plateau (where the weights are stuck at a saddle point), followed by a sudden drop. For very deep complex neural nets, such plateaus can take hours of training, and we are often tempted to stop the training, because we believe it is \"as good as it gets\"! Another side effect of \"immature interruption\" of training is the network finding (learning) illusory correlations.\n",
        "\n",
        "To better understand this, let's do the next demonstration and exercise."
      ]
    },
    {
      "cell_type": "markdown",
      "metadata": {
        "execution": {},
        "id": "jmad0ES52Nyl"
      },
      "source": [
        "## Demonstration: Illusory Correlations\n",
        "\n",
        "Our original dataset has 4 animals: Canary, Robin, Goldfish, and Tuna. These animals all have bones. Therefore if we include a \"has bone\" feature, the network would learn it at the second level (i.e. second bump, second mode convergence), when it learns the animal-plants distinction.\n",
        "\n",
        "What if the dataset has Shark instead of Goldfish. Sharks don't have bones (their skeletons are made of cartilaginous, which is much lighter than true bone and more flexible). Then we will have a feature which is *True* (i.e. +1) for Tuna, Robin, and Canary, but *False* (i.e. -1) for all the plants and the shark! Let's see what the network does.\n",
        "\n",
        "First, we add the new feature to the targets. We then start training our LNN and in every epoch, record the network prediction for \"sharks having bones\".\n",
        "\n",
        "<center><img src=\"https://raw.githubusercontent.com/NeuromatchAcademy/course-content-dl/main/tutorials/W1D2_LinearDeepLearning/static/shark_tree.png\" alt=\"Simple nn graph\" width=\"600\"/></center>"
      ]
    },
    {
      "cell_type": "code",
      "execution_count": null,
      "metadata": {
        "execution": {},
        "id": "_qAVsZvI2Nyl"
      },
      "outputs": [],
      "source": [
        "# Sampling new data from the tree\n",
        "tree_labels, tree_features = generate_hsd()\n",
        "\n",
        "# Replacing Goldfish with Shark\n",
        "item_names = ['Shark', 'Tuna', 'Robin', 'Canary',\n",
        "              'Rose', 'Daisy', 'Pine', 'Oak']\n",
        "\n",
        "# Index of label to record\n",
        "illusion_idx = 0  # Shark is the first element\n",
        "\n",
        "# The new feature (has bones) vector\n",
        "new_feature = [-1, 1, 1, 1, -1, -1, -1, -1]\n",
        "its_label = 'has_bones'\n",
        "\n",
        "# Adding feature has_bones to the feature array\n",
        "tree_features = add_feature(tree_features, new_feature)\n",
        "\n",
        "# Plotting\n",
        "plot_tree_data(item_names, tree_features, its_label)"
      ]
    },
    {
      "cell_type": "markdown",
      "metadata": {
        "execution": {},
        "id": "lifLLCtM2Nyl"
      },
      "source": [
        "You can see the new feature shown in the last column of the plot above.\n",
        "\n",
        "Now we can train the network on the new data, and record the network prediction (output) for Shark (indexed 0) label and \"has bone\" feature (last feature, indexed -1), during the training.\n",
        "\n",
        "Here is the snippet from the training loop that keeps track of network prediction for `illusory_i`th label and last (`-1`) feature:\n",
        "\n",
        "```python\n",
        "pred_ij = predictions.detach()[illusory_i, -1]\n",
        "```"
      ]
    },
    {
      "cell_type": "code",
      "execution_count": null,
      "metadata": {
        "cellView": "form",
        "execution": {},
        "id": "yXBrfT4v2Nyl"
      },
      "outputs": [],
      "source": [
        "#@markdown #### Make sure you execute this cell to train the network and plot\n",
        "\n",
        "# Convert (cast) data from np.ndarray to torch.Tensor\n",
        "label_tensor = torch.tensor(tree_labels).float()\n",
        "feature_tensor = torch.tensor(tree_features).float()\n",
        "\n",
        "lr = 100.0  # Learning rate\n",
        "gamma = 1e-12  # Initialization scale\n",
        "n_epochs = 250  # Number of epochs\n",
        "dim_input = 8  # Input dimension = `label_tensor.size(1)`\n",
        "dim_hidden = 30  # Hidden neurons\n",
        "dim_output = feature_tensor.size(1)\n",
        "\n",
        "# Model instantiation\n",
        "dlnn_model = LNNet(dim_input, dim_hidden, dim_output)\n",
        "\n",
        "# Weights re-initialization\n",
        "initializer_(dlnn_model, gamma)\n",
        "\n",
        "# Training\n",
        "_, modes, _, ill_predictions = train(dlnn_model,\n",
        "                                     label_tensor,\n",
        "                                     feature_tensor,\n",
        "                                     n_epochs=n_epochs,\n",
        "                                     lr=lr,\n",
        "                                     illusory_i=illusion_idx)\n",
        "\n",
        "# Label for the plot\n",
        "ill_label = f\"Prediction for {item_names[illusion_idx]} {its_label}\"\n",
        "\n",
        "# Plotting\n",
        "plot_ills_sv_twin(ill_predictions, modes, ill_label)"
      ]
    },
    {
      "cell_type": "markdown",
      "metadata": {
        "execution": {},
        "id": "aTgwhYcm2Nyl"
      },
      "source": [
        "It seems that the network starts by learning an \"illusory correlation\" that sharks have bones, and in later epochs, as it learns deeper representations, it can see (learn) beyond the illusory correlation. This is important to remember that we never presented the network with any data saying that sharks have bones."
      ]
    },
    {
      "cell_type": "markdown",
      "metadata": {
        "execution": {},
        "id": "gG5NWIRl2Nyl"
      },
      "source": [
        "## Exercise 4: Illusory Correlations\n",
        "\n",
        "This exercise is just for you to explore the idea of illusory correlations. Think of medical, natural, or possibly social illusory correlations which can test the learning power of deep linear neural nets.\n",
        "\n",
        "**important notes**: the generated data is independent of tree labels, therefore the names are just for convenience.\n",
        "\n",
        "Here is our example for **Non-human Living things do not speak**. The lines marked by `{edit}` are for you to change in your example."
      ]
    },
    {
      "cell_type": "code",
      "execution_count": null,
      "metadata": {
        "execution": {},
        "id": "wQwuuEih2Nym"
      },
      "outputs": [],
      "source": [
        "# Sampling new data from the tree\n",
        "tree_labels, tree_features = generate_hsd()\n",
        "\n",
        "# {edit} Replacing Canary with Parrot\n",
        "item_names = ['Goldfish', 'Tuna', 'Robin', 'Parrot',\n",
        "              'Rose', 'Daisy', 'Pine', 'Oak']\n",
        "\n",
        "# {edit} Index of label to record\n",
        "illusion_idx = 3  # Parrot is the fourth element\n",
        "\n",
        "# {edit} The new feature (cannot speak) vector\n",
        "new_feature = [1, 1, 1, -1, 1, 1, 1, 1]\n",
        "its_label = 'cannot_speak'\n",
        "\n",
        "# Adding feature has_bones to the feature array\n",
        "tree_features = add_feature(tree_features, new_feature)\n",
        "\n",
        "# Plotting\n",
        "plot_tree_data(item_names, tree_features, its_label)"
      ]
    },
    {
      "cell_type": "code",
      "execution_count": null,
      "metadata": {
        "cellView": "form",
        "execution": {},
        "id": "EdF_H5cR2Nym"
      },
      "outputs": [],
      "source": [
        "# @markdown #### Make sure you execute this cell to train the network and plot\n",
        "\n",
        "# Convert (cast) data from np.ndarray to torch.Tensor\n",
        "label_tensor = torch.tensor(tree_labels).float()\n",
        "feature_tensor = torch.tensor(tree_features).float()\n",
        "\n",
        "lr = 100.0  # Learning rate\n",
        "gamma = 1e-12  # Initialization scale\n",
        "n_epochs = 250  # Number of epochs\n",
        "dim_input = 8  # Input dimension = `label_tensor.size(1)`\n",
        "dim_hidden = 30  # Hidden neurons\n",
        "dim_output = feature_tensor.size(1)\n",
        "\n",
        "# Model instantiation\n",
        "dlnn_model = LNNet(dim_input, dim_hidden, dim_output)\n",
        "\n",
        "# Weights re-initialization\n",
        "initializer_(dlnn_model, gamma)\n",
        "\n",
        "# Training\n",
        "_, modes, _, ill_predictions = train(dlnn_model,\n",
        "                                     label_tensor,\n",
        "                                     feature_tensor,\n",
        "                                     n_epochs=n_epochs,\n",
        "                                     lr=lr,\n",
        "                                     illusory_i=illusion_idx)\n",
        "\n",
        "# Label for the plot\n",
        "ill_label = f\"Prediction for {item_names[illusion_idx]} {its_label}\"\n",
        "\n",
        "# Plotting\n",
        "plot_ills_sv_twin(ill_predictions, modes, ill_label)"
      ]
    },
    {
      "cell_type": "code",
      "execution_count": null,
      "metadata": {
        "cellView": "form",
        "execution": {},
        "id": "hIQMHKSR2Nym"
      },
      "outputs": [],
      "source": [
        "# @title Submit your feedback\n",
        "content_review(f\"{feedback_prefix}_Illusory_Correlations_Exercise\")"
      ]
    },
    {
      "cell_type": "code",
      "execution_count": null,
      "metadata": {
        "cellView": "form",
        "execution": {},
        "id": "p-3k4wb42Nyn"
      },
      "outputs": [],
      "source": [
        "# @title Video 7: Illusory Correlations - Discussion\n",
        "from ipywidgets import widgets\n",
        "from IPython.display import YouTubeVideo\n",
        "from IPython.display import IFrame\n",
        "from IPython.display import display\n",
        "\n",
        "\n",
        "class PlayVideo(IFrame):\n",
        "  def __init__(self, id, source, page=1, width=400, height=300, **kwargs):\n",
        "    self.id = id\n",
        "    if source == 'Bilibili':\n",
        "      src = f'https://player.bilibili.com/player.html?bvid={id}&page={page}'\n",
        "    elif source == 'Osf':\n",
        "      src = f'https://mfr.ca-1.osf.io/render?url=https://osf.io/download/{id}/?direct%26mode=render'\n",
        "    super(PlayVideo, self).__init__(src, width, height, **kwargs)\n",
        "\n",
        "\n",
        "def display_videos(video_ids, W=400, H=300, fs=1):\n",
        "  tab_contents = []\n",
        "  for i, video_id in enumerate(video_ids):\n",
        "    out = widgets.Output()\n",
        "    with out:\n",
        "      if video_ids[i][0] == 'Youtube':\n",
        "        video = YouTubeVideo(id=video_ids[i][1], width=W,\n",
        "                             height=H, fs=fs, rel=0)\n",
        "        print(f'Video available at https://youtube.com/watch?v={video.id}')\n",
        "      else:\n",
        "        video = PlayVideo(id=video_ids[i][1], source=video_ids[i][0], width=W,\n",
        "                          height=H, fs=fs, autoplay=False)\n",
        "        if video_ids[i][0] == 'Bilibili':\n",
        "          print(f'Video available at https://www.bilibili.com/video/{video.id}')\n",
        "        elif video_ids[i][0] == 'Osf':\n",
        "          print(f'Video available at https://osf.io/{video.id}')\n",
        "      display(video)\n",
        "    tab_contents.append(out)\n",
        "  return tab_contents\n",
        "\n",
        "\n",
        "video_ids = [('Youtube', '6VLHKQjQJmI'), ('Bilibili', 'BV1vv411E7rg')]\n",
        "tab_contents = display_videos(video_ids, W=854, H=480)\n",
        "tabs = widgets.Tab()\n",
        "tabs.children = tab_contents\n",
        "for i in range(len(tab_contents)):\n",
        "  tabs.set_title(i, video_ids[i][0])\n",
        "display(tabs)"
      ]
    },
    {
      "cell_type": "code",
      "execution_count": null,
      "metadata": {
        "cellView": "form",
        "execution": {},
        "id": "YSYAiTdY2Nyn"
      },
      "outputs": [],
      "source": [
        "# @title Submit your feedback\n",
        "content_review(f\"{feedback_prefix}_Illusory_Correlations_Discussion_Video\")"
      ]
    },
    {
      "cell_type": "markdown",
      "metadata": {
        "execution": {},
        "id": "cQNN3AuB2Nyo"
      },
      "source": [
        "---\n",
        "# Summary\n",
        "\n",
        "The second day of the course has ended. So, in the third tutorial of the linear deep learning day we have learned more advanced topics. In the beginning we implemented a deep linear neural network and then we studied its learning dynamics using the linear algebra tool called singular value decomposition. Then, we learned about the representational similarity analysis and the illusory correlation."
      ]
    },
    {
      "cell_type": "code",
      "execution_count": null,
      "metadata": {
        "cellView": "form",
        "execution": {},
        "id": "cwhXNMUo2Nyp"
      },
      "outputs": [],
      "source": [
        "# @title Video 8: Outro\n",
        "from ipywidgets import widgets\n",
        "from IPython.display import YouTubeVideo\n",
        "from IPython.display import IFrame\n",
        "from IPython.display import display\n",
        "\n",
        "\n",
        "class PlayVideo(IFrame):\n",
        "  def __init__(self, id, source, page=1, width=400, height=300, **kwargs):\n",
        "    self.id = id\n",
        "    if source == 'Bilibili':\n",
        "      src = f'https://player.bilibili.com/player.html?bvid={id}&page={page}'\n",
        "    elif source == 'Osf':\n",
        "      src = f'https://mfr.ca-1.osf.io/render?url=https://osf.io/download/{id}/?direct%26mode=render'\n",
        "    super(PlayVideo, self).__init__(src, width, height, **kwargs)\n",
        "\n",
        "\n",
        "def display_videos(video_ids, W=400, H=300, fs=1):\n",
        "  tab_contents = []\n",
        "  for i, video_id in enumerate(video_ids):\n",
        "    out = widgets.Output()\n",
        "    with out:\n",
        "      if video_ids[i][0] == 'Youtube':\n",
        "        video = YouTubeVideo(id=video_ids[i][1], width=W,\n",
        "                             height=H, fs=fs, rel=0)\n",
        "        print(f'Video available at https://youtube.com/watch?v={video.id}')\n",
        "      else:\n",
        "        video = PlayVideo(id=video_ids[i][1], source=video_ids[i][0], width=W,\n",
        "                          height=H, fs=fs, autoplay=False)\n",
        "        if video_ids[i][0] == 'Bilibili':\n",
        "          print(f'Video available at https://www.bilibili.com/video/{video.id}')\n",
        "        elif video_ids[i][0] == 'Osf':\n",
        "          print(f'Video available at https://osf.io/{video.id}')\n",
        "      display(video)\n",
        "    tab_contents.append(out)\n",
        "  return tab_contents\n",
        "\n",
        "\n",
        "video_ids = [('Youtube', 'N2szOIsKyXE'), ('Bilibili', 'BV1AL411n7ns')]\n",
        "tab_contents = display_videos(video_ids, W=854, H=480)\n",
        "tabs = widgets.Tab()\n",
        "tabs.children = tab_contents\n",
        "for i in range(len(tab_contents)):\n",
        "  tabs.set_title(i, video_ids[i][0])\n",
        "display(tabs)"
      ]
    },
    {
      "cell_type": "code",
      "execution_count": null,
      "metadata": {
        "cellView": "form",
        "execution": {},
        "id": "H_CCLaJO2Nyq"
      },
      "outputs": [],
      "source": [
        "# @title Submit your feedback\n",
        "content_review(f\"{feedback_prefix}_Outro_Video\")"
      ]
    },
    {
      "cell_type": "markdown",
      "metadata": {
        "execution": {},
        "id": "EaHKp3YE2Nyq"
      },
      "source": [
        "---\n",
        "# Daily survey\n",
        "\n",
        "Don't forget to complete your reflections and content check in the daily survey! Please be patient after logging in as there is\n",
        "a small delay before you will be redirected to the survey.\n",
        "\n",
        "<a href=\"https://portal.neuromatchacademy.org/api/redirect/to/36baec17-b227-4ee9-bd21-72d3c0fcddf4\"><img src=\"https://github.com/NeuromatchAcademy/course-content-dl/blob/main/tutorials/static/SurveyButton.png?raw=1\" alt=\"button link to survey\" style=\"width:410px\"></a>"
      ]
    },
    {
      "cell_type": "markdown",
      "metadata": {
        "execution": {},
        "id": "DJsCzFFh2Nyq"
      },
      "source": [
        "---\n",
        "# Bonus\n",
        "\n",
        "*Time estimate: ~20-30 mins*"
      ]
    },
    {
      "cell_type": "code",
      "execution_count": null,
      "metadata": {
        "cellView": "form",
        "execution": {},
        "id": "vk8A7Ckq2Nyq"
      },
      "outputs": [],
      "source": [
        "# @title Video 9: Linear Regression\n",
        "from ipywidgets import widgets\n",
        "from IPython.display import YouTubeVideo\n",
        "from IPython.display import IFrame\n",
        "from IPython.display import display\n",
        "\n",
        "\n",
        "class PlayVideo(IFrame):\n",
        "  def __init__(self, id, source, page=1, width=400, height=300, **kwargs):\n",
        "    self.id = id\n",
        "    if source == 'Bilibili':\n",
        "      src = f'https://player.bilibili.com/player.html?bvid={id}&page={page}'\n",
        "    elif source == 'Osf':\n",
        "      src = f'https://mfr.ca-1.osf.io/render?url=https://osf.io/download/{id}/?direct%26mode=render'\n",
        "    super(PlayVideo, self).__init__(src, width, height, **kwargs)\n",
        "\n",
        "\n",
        "def display_videos(video_ids, W=400, H=300, fs=1):\n",
        "  tab_contents = []\n",
        "  for i, video_id in enumerate(video_ids):\n",
        "    out = widgets.Output()\n",
        "    with out:\n",
        "      if video_ids[i][0] == 'Youtube':\n",
        "        video = YouTubeVideo(id=video_ids[i][1], width=W,\n",
        "                             height=H, fs=fs, rel=0)\n",
        "        print(f'Video available at https://youtube.com/watch?v={video.id}')\n",
        "      else:\n",
        "        video = PlayVideo(id=video_ids[i][1], source=video_ids[i][0], width=W,\n",
        "                          height=H, fs=fs, autoplay=False)\n",
        "        if video_ids[i][0] == 'Bilibili':\n",
        "          print(f'Video available at https://www.bilibili.com/video/{video.id}')\n",
        "        elif video_ids[i][0] == 'Osf':\n",
        "          print(f'Video available at https://osf.io/{video.id}')\n",
        "      display(video)\n",
        "    tab_contents.append(out)\n",
        "  return tab_contents\n",
        "\n",
        "\n",
        "video_ids = [('Youtube', 'uULOAbhYaaE'), ('Bilibili', 'BV1Pf4y1L71L')]\n",
        "tab_contents = display_videos(video_ids, W=854, H=480)\n",
        "tabs = widgets.Tab()\n",
        "tabs.children = tab_contents\n",
        "for i in range(len(tab_contents)):\n",
        "  tabs.set_title(i, video_ids[i][0])\n",
        "display(tabs)"
      ]
    },
    {
      "cell_type": "code",
      "execution_count": null,
      "metadata": {
        "cellView": "form",
        "execution": {},
        "id": "_d52zz472Nyr"
      },
      "outputs": [],
      "source": [
        "# @title Submit your feedback\n",
        "content_review(f\"{feedback_prefix}_Linear_Regression_Bonus_Video\")"
      ]
    },
    {
      "cell_type": "markdown",
      "metadata": {
        "execution": {},
        "id": "buDvpGhT2Nyr"
      },
      "source": [
        "## Section 5.1: Linear Regression\n",
        "\n",
        "Generally, *regression* refers to a set of methods for modeling the mapping (relationship) between one (or more) independent variable(s) (i.e., features) and one (or more) dependent variable(s) (i.e., labels). For example, if we want to examine the relative impacts of calendar date, GPS coordinates, and time of the say (the independent variables) on air temperature (the dependent variable). On the other hand, regression can be used for predictive analysis. Thus the independent variables are also called predictors. When the model contains more than one predictor, then the method is called *multiple regression*, and if it contains more than one dependent variable called *multivariate regression*. Regression problems pop up whenever we want to predict a numerical (usually continuous) value.\n",
        "\n",
        "The independent variables are collected in vector $\\mathbf{x} \\in \\mathbb{R}^M$, where $M$ denotes the number of independent variables, while the dependent variables are collected in vector $\\mathbf{y} \\in \\mathbb{R}^N$, where $N$ denotes the number of dependent variables. And the mapping between them is represented by the weight matrix $\\mathbf{W} \\in \\mathbb{R}^{N \\times M}$ and a bias vector $\\mathbf{b} \\in \\mathbb{R}^{N}$ (generalizing to affine mappings).\n",
        "\n",
        "The multivariate regression model can be written as:\n",
        "\n",
        "\\begin{equation}\n",
        "\\mathbf{y} = \\mathbf{W} ~ \\mathbf{x} + \\mathbf{b}\n",
        "\\end{equation}\n",
        "\n",
        "or it can be written in matrix format as:\n",
        "\n",
        "\\begin{equation}\n",
        "\\begin{bmatrix} y_{1} \\\\ y_{2} \\\\ \\vdots \\\\ y_{N} \\\\ \\end{bmatrix} = \\begin{bmatrix} w_{1,1} & w_{1,2} & \\dots & w_{1,M} \\\\ w_{2,1} & w_{2,2} & \\dots & w_{2,M} \\\\ \\vdots & \\ddots & \\ddots & \\vdots \\\\ w_{N,1} & w_{N,2} & \\dots & w_{N,M} \\end{bmatrix} \\begin{bmatrix} x_{1} \\\\ x_{2} \\\\ \\vdots \\\\ x_{M} \\\\ \\end{bmatrix} + \\begin{bmatrix} b_{1} \\\\ b_{2} \\\\ \\vdots \\\\b_{N} \\\\ \\end{bmatrix}\n",
        "\\end{equation}"
      ]
    },
    {
      "cell_type": "markdown",
      "metadata": {
        "execution": {},
        "id": "R2oml3Yo2Nyr"
      },
      "source": [
        "## Section 5.2: Vectorized regression\n",
        "\n",
        "Linear regression can be simply extended to multi-samples ($D$) input-output mapping, which we can collect in a matrix $\\mathbf{X} \\in \\mathbb{R}^{M \\times D}$, sometimes called the design matrix. The sample dimension also shows up in the output matrix $\\mathbf{Y} \\in \\mathbb{R}^{N \\times D}$. Thus, linear regression takes the following form:\n",
        "\n",
        "\\begin{equation}\n",
        "\\mathbf{Y} = \\mathbf{W} ~ \\mathbf{X} + \\mathbf{b}\n",
        "\\end{equation}\n",
        "\n",
        "where matrix $\\mathbf{W} \\in \\mathbb{R}^{N \\times M}$ and the vector $\\mathbf{b} \\in \\mathbb{R}^{N}$ (broadcasted over sample dimension) are the desired parameters to find."
      ]
    },
    {
      "cell_type": "markdown",
      "metadata": {
        "execution": {},
        "id": "ACdaqD2o2Nyr"
      },
      "source": [
        "## Section 5.3: Analytical Linear Regression"
      ]
    },
    {
      "cell_type": "markdown",
      "metadata": {
        "execution": {},
        "id": "1fzBwu752Nyr"
      },
      "source": [
        "Linear regression is a relatively simple optimization problem. Unlike most other models that we will see in this course, linear regression for mean squared loss can be solved analytically.\n",
        "\n",
        "For $D$ samples (batch size), $\\mathbf{X} \\in \\mathbb{R}^{M \\times D}$, and $\\mathbf{Y} \\in \\mathbb{R}^{N \\times D}$, the goal of linear regression is to find $\\mathbf{W} \\in \\mathbb{R}^{N \\times M}$ such that:\n",
        "\n",
        "\\begin{equation}\n",
        "\\mathbf{Y} = \\mathbf{W} ~ \\mathbf{X}\n",
        "\\end{equation}\n",
        "\n",
        "Given the Squared Error loss function, we have:\n",
        "\n",
        "\\begin{equation}\n",
        "Loss(\\mathbf{W}) = ||\\mathbf{Y} - \\mathbf{W} ~ \\mathbf{X}||^2\n",
        "\\end{equation}\n",
        "\n",
        "So, using matrix notation, the optimization problem is given by:\n",
        "\n",
        "\\begin{align}\n",
        "\\mathbf{W^{*}} &= \\underset{\\mathbf{W}}{\\mathrm{argmin}} \\left( Loss (\\mathbf{W})  \\right) \\\\\n",
        " &= \\underset{\\mathbf{W}}{\\mathrm{argmin}} \\left( ||\\mathbf{Y} - \\mathbf{W} ~ \\mathbf{X}||^2  \\right) \\\\\n",
        "&= \\underset{\\mathbf{W}}{\\mathrm{argmin}} \\left( \\left( \\mathbf{Y} - \\mathbf{W} ~ \\mathbf{X}\\right)^{\\top} \\left( \\mathbf{Y} - \\mathbf{W} ~ \\mathbf{X}\\right) \\right)\n",
        "\\end{align}\n",
        "\n",
        "To solve the minimization problem, we can simply set the derivative of the loss with respect to $\\mathbf{W}$ to zero.\n",
        "\n",
        "\\begin{equation}\n",
        "\\dfrac{\\partial Loss}{\\partial \\mathbf{W}} = 0\n",
        "\\end{equation}\n",
        "\n",
        "Assuming that $\\mathbf{X}\\mathbf{X}^{\\top}$ is full-rank, and thus it is invertible, we can write:\n",
        "\n",
        "\\begin{equation}\n",
        "\\mathbf{W}^{\\mathbf{*}} = \\mathbf{Y} \\mathbf{X}^{\\top} \\left( \\mathbf{X}  \\mathbf{X}^{\\top} \\right) ^{-1}\n",
        "\\end{equation}\n",
        "\n",
        "<br>\n",
        "\n",
        "**Note:** The $||\\cdot||$ denotes the norm 2 or the Euclidean norm of a vector."
      ]
    },
    {
      "cell_type": "markdown",
      "metadata": {
        "execution": {},
        "id": "mbsyFOEo2Nys"
      },
      "source": [
        "### Coding Exercise 5.3.1: Analytical solution to LR\n",
        "\n",
        "Complete the function `linear_regression` for finding the analytical solution to linear regression."
      ]
    },
    {
      "cell_type": "code",
      "execution_count": null,
      "metadata": {
        "execution": {},
        "id": "hPQyK-zL2Nys"
      },
      "outputs": [],
      "source": [
        "def linear_regression(X, Y):\n",
        "  \"\"\"\n",
        "  Analytical Linear regression\n",
        "\n",
        "  Args:\n",
        "    X: np.ndarray\n",
        "      Design matrix\n",
        "    Y: np.ndarray\n",
        "      Target ouputs\n",
        "\n",
        "  Returns:\n",
        "    W: np.ndarray\n",
        "      Estimated weights (mapping)\n",
        "  \"\"\"\n",
        "  assert isinstance(X, np.ndarray)\n",
        "  assert isinstance(Y, np.ndarray)\n",
        "  M, Dx = X.shape\n",
        "  N, Dy = Y.shape\n",
        "  assert Dx == Dy\n",
        "  #################################################\n",
        "  ## Complete the linear_regression_exercise function\n",
        "  # Complete the function and remove or comment the line below\n",
        "  raise NotImplementedError(\"Linear Regression `linear_regression`\")\n",
        "  #################################################\n",
        "  W = ...\n",
        "\n",
        "  return W\n",
        "\n",
        "\n",
        "W_true = np.random.randint(low=0, high=10, size=(3, 3)).astype(float)\n",
        "\n",
        "X_train = np.random.rand(3, 37)  # 37 samples\n",
        "noise = np.random.normal(scale=0.01, size=(3, 37))\n",
        "Y_train = W_true @ X_train + noise\n",
        "\n",
        "## Uncomment and run\n",
        "# W_estimate = linear_regression(X_train, Y_train)\n",
        "# print(f\"True weights:\\n {W_true}\")\n",
        "# print(f\"\\nEstimated weights:\\n {np.round(W_estimate, 1)}\")"
      ]
    },
    {
      "cell_type": "markdown",
      "metadata": {
        "execution": {},
        "id": "L-kdg8Cd2Nys"
      },
      "source": [
        "[*Click for solution*](https://github.com/NeuromatchAcademy/course-content-dl/tree/main/tutorials/W1D2_LinearDeepLearning/solutions/W1D2_Tutorial3_Solution_aa3d6993.py)\n",
        "\n"
      ]
    },
    {
      "cell_type": "code",
      "execution_count": null,
      "metadata": {
        "cellView": "form",
        "execution": {},
        "id": "DrB2O5u42Nys"
      },
      "outputs": [],
      "source": [
        "# @title Submit your feedback\n",
        "content_review(f\"{feedback_prefix}_Analytical_Solution_to_LR_Exercise\")"
      ]
    },
    {
      "cell_type": "markdown",
      "metadata": {
        "execution": {},
        "id": "0y9OgTI92Nys"
      },
      "source": [
        "## Demonstration: Linear Regression vs. DLNN\n",
        "\n",
        "A linear neural network with NO hidden layer is very similar to linear regression in its core. We also know that no matter how many hidden layers a linear network has, it can be compressed to linear regression (no hidden layers).\n",
        "\n",
        "In this demonstration, we use the hierarchically structured data to:\n",
        "\n",
        "* analytically find the mapping between features and labels\n",
        "* train a zero-depth LNN to find the mapping\n",
        "* compare them to the $W_{tot}$ from the already trained deep LNN"
      ]
    },
    {
      "cell_type": "code",
      "execution_count": null,
      "metadata": {
        "execution": {},
        "id": "YY7PMvXp2Nyt"
      },
      "outputs": [],
      "source": [
        "# Sampling new data from the tree\n",
        "tree_labels, tree_features = generate_hsd()\n",
        "\n",
        "# Convert (cast) data from np.ndarray to torch.Tensor\n",
        "label_tensor = torch.tensor(tree_labels).float()\n",
        "feature_tensor = torch.tensor(tree_features).float()"
      ]
    },
    {
      "cell_type": "code",
      "execution_count": null,
      "metadata": {
        "execution": {},
        "id": "KUZ9e0522Nyt"
      },
      "outputs": [],
      "source": [
        "# Calculating the W_tot for deep network (already trained model)\n",
        "\n",
        "lr = 100.0  # Learning rate\n",
        "gamma = 1e-12  # Initialization scale\n",
        "n_epochs = 250  # Number of epochs\n",
        "dim_input = 8  # Input dimension = `label_tensor.size(1)`\n",
        "dim_hidden = 30  # Hidden neurons\n",
        "dim_output = 10000  # Output dimension = `feature_tensor.size(1)`\n",
        "\n",
        "# Model instantiation\n",
        "dlnn_model = LNNet(dim_input, dim_hidden, dim_output)\n",
        "\n",
        "# Weights re-initialization\n",
        "initializer_(dlnn_model, gamma)\n",
        "\n",
        "# Training\n",
        "losses, modes, rsms, ills = train(dlnn_model,\n",
        "                                  label_tensor,\n",
        "                                  feature_tensor,\n",
        "                                  n_epochs=n_epochs,\n",
        "                                  lr=lr)\n",
        "\n",
        "deep_W_tot = torch.eye(dim_input)\n",
        "for weight in dlnn_model.parameters():\n",
        "  deep_W_tot = weight @ deep_W_tot\n",
        "deep_W_tot = deep_W_tot.detach().numpy()"
      ]
    },
    {
      "cell_type": "code",
      "execution_count": null,
      "metadata": {
        "execution": {},
        "id": "9tqggOIY2Nyt"
      },
      "outputs": [],
      "source": [
        "# Analytically estimation of weights\n",
        "# First dimension of data is `batch`, so we need to transpose our data\n",
        "analytical_weights = linear_regression(tree_labels.T, tree_features.T)"
      ]
    },
    {
      "cell_type": "code",
      "execution_count": null,
      "metadata": {
        "execution": {},
        "id": "ODLmrv2D2Nyt"
      },
      "outputs": [],
      "source": [
        "class LRNet(nn.Module):\n",
        "  \"\"\"\n",
        "  A Linear Neural Net with ZERO hidden layer (LR net)\n",
        "  \"\"\"\n",
        "\n",
        "  def __init__(self, in_dim, out_dim):\n",
        "    \"\"\"\n",
        "    Initialize LRNet\n",
        "\n",
        "    Args:\n",
        "      in_dim: int\n",
        "        Input dimension\n",
        "      hid_dim: int\n",
        "        Hidden dimension\n",
        "\n",
        "    Returns:\n",
        "      Nothing\n",
        "    \"\"\"\n",
        "    super().__init__()\n",
        "    self.in_out = nn.Linear(in_dim, out_dim, bias=False)\n",
        "\n",
        "  def forward(self, x):\n",
        "    \"\"\"\n",
        "    Forward pass of LRNet\n",
        "\n",
        "    Args:\n",
        "      x: torch.Tensor\n",
        "        Input tensor\n",
        "\n",
        "    Returns:\n",
        "      out: torch.Tensor\n",
        "        Output/Prediction\n",
        "    \"\"\"\n",
        "    out = self.in_out(x)  # Output (Prediction)\n",
        "    return out"
      ]
    },
    {
      "cell_type": "code",
      "execution_count": null,
      "metadata": {
        "execution": {},
        "id": "aBdlaMwf2Nyt"
      },
      "outputs": [],
      "source": [
        "lr = 1000.0  # Learning rate\n",
        "gamma = 1e-12  # Initialization scale\n",
        "n_epochs = 250  # Number of epochs\n",
        "dim_input = 8  # Input dimension = `label_tensor.size(1)`\n",
        "dim_output = 10000  # Output dimension = `feature_tensor.size(1)`\n",
        "\n",
        "# Model instantiation\n",
        "LR_model = LRNet(dim_input, dim_output)\n",
        "optimizer = optim.SGD(LR_model.parameters(), lr=lr)\n",
        "criterion = nn.MSELoss()\n",
        "\n",
        "losses = np.zeros(n_epochs)  # Loss records\n",
        "for i in range(n_epochs):  # Training loop\n",
        "  optimizer.zero_grad()\n",
        "  predictions = LR_model(label_tensor)\n",
        "  loss = criterion(predictions, feature_tensor)\n",
        "  loss.backward()\n",
        "  optimizer.step()\n",
        "  losses[i] = loss.item()\n",
        "\n",
        "# Trained weights from zero_depth_model\n",
        "LR_model_weights = next(iter(LR_model.parameters())).detach().numpy()\n",
        "\n",
        "plot_loss(losses, \"Training loss for zero depth LNN\", c=\"r\")"
      ]
    },
    {
      "cell_type": "code",
      "execution_count": null,
      "metadata": {
        "execution": {},
        "id": "Ij5aYrrS2Nyt"
      },
      "outputs": [],
      "source": [
        "print(\"The final weights from all methods are approximately equal?! \"\n",
        "\"{}!\".format(\n",
        "  (np.allclose(analytical_weights, LR_model_weights, atol=1e-02) and \\\n",
        "   np.allclose(analytical_weights, deep_W_tot, atol=1e-02))\n",
        "  )\n",
        ")"
      ]
    },
    {
      "cell_type": "markdown",
      "metadata": {
        "execution": {},
        "id": "Sja9UPas2Nyu"
      },
      "source": [
        "As you may have guessed, they all arrive at the same results but through very different paths."
      ]
    },
    {
      "cell_type": "code",
      "execution_count": null,
      "metadata": {
        "cellView": "form",
        "execution": {},
        "id": "4OOrKtbO2Nyu"
      },
      "outputs": [],
      "source": [
        "# @title Video 10: Linear Regression - Discussion\n",
        "from ipywidgets import widgets\n",
        "from IPython.display import YouTubeVideo\n",
        "from IPython.display import IFrame\n",
        "from IPython.display import display\n",
        "\n",
        "\n",
        "class PlayVideo(IFrame):\n",
        "  def __init__(self, id, source, page=1, width=400, height=300, **kwargs):\n",
        "    self.id = id\n",
        "    if source == 'Bilibili':\n",
        "      src = f'https://player.bilibili.com/player.html?bvid={id}&page={page}'\n",
        "    elif source == 'Osf':\n",
        "      src = f'https://mfr.ca-1.osf.io/render?url=https://osf.io/download/{id}/?direct%26mode=render'\n",
        "    super(PlayVideo, self).__init__(src, width, height, **kwargs)\n",
        "\n",
        "\n",
        "def display_videos(video_ids, W=400, H=300, fs=1):\n",
        "  tab_contents = []\n",
        "  for i, video_id in enumerate(video_ids):\n",
        "    out = widgets.Output()\n",
        "    with out:\n",
        "      if video_ids[i][0] == 'Youtube':\n",
        "        video = YouTubeVideo(id=video_ids[i][1], width=W,\n",
        "                             height=H, fs=fs, rel=0)\n",
        "        print(f'Video available at https://youtube.com/watch?v={video.id}')\n",
        "      else:\n",
        "        video = PlayVideo(id=video_ids[i][1], source=video_ids[i][0], width=W,\n",
        "                          height=H, fs=fs, autoplay=False)\n",
        "        if video_ids[i][0] == 'Bilibili':\n",
        "          print(f'Video available at https://www.bilibili.com/video/{video.id}')\n",
        "        elif video_ids[i][0] == 'Osf':\n",
        "          print(f'Video available at https://osf.io/{video.id}')\n",
        "      display(video)\n",
        "    tab_contents.append(out)\n",
        "  return tab_contents\n",
        "\n",
        "\n",
        "video_ids = [('Youtube', 'gG15_J0i05Y'), ('Bilibili', 'BV18v411E7Wg')]\n",
        "tab_contents = display_videos(video_ids, W=854, H=480)\n",
        "tabs = widgets.Tab()\n",
        "tabs.children = tab_contents\n",
        "for i in range(len(tab_contents)):\n",
        "  tabs.set_title(i, video_ids[i][0])\n",
        "display(tabs)"
      ]
    },
    {
      "cell_type": "code",
      "execution_count": null,
      "metadata": {
        "cellView": "form",
        "execution": {},
        "id": "BqU_ggUx2Nyv"
      },
      "outputs": [],
      "source": [
        "# @title Submit your feedback\n",
        "content_review(f\"{feedback_prefix}_Linear_Regression_Discussion_Video\")"
      ]
    }
  ],
  "metadata": {
    "colab": {
      "name": "W1D2_Tutorial3",
      "provenance": [],
      "toc_visible": true,
      "include_colab_link": true
    },
    "kernel": {
      "display_name": "Python 3",
      "language": "python",
      "name": "python3"
    },
    "kernelspec": {
      "display_name": "Python 3",
      "name": "python3"
    },
    "language_info": {
      "codemirror_mode": {
        "name": "ipython",
        "version": 3
      },
      "file_extension": ".py",
      "mimetype": "text/x-python",
      "name": "python",
      "nbconvert_exporter": "python",
      "pygments_lexer": "ipython3",
      "version": "3.7.11"
    },
    "widgets": {
      "application/vnd.jupyter.widget-state+json": {
        "597274d2a9ea49f39ff4c9695f89138c": {
          "model_module": "@jupyter-widgets/controls",
          "model_name": "TabModel",
          "model_module_version": "1.5.0",
          "state": {
            "_dom_classes": [],
            "_model_module": "@jupyter-widgets/controls",
            "_model_module_version": "1.5.0",
            "_model_name": "TabModel",
            "_titles": {
              "0": "Youtube",
              "1": "Bilibili"
            },
            "_view_count": null,
            "_view_module": "@jupyter-widgets/controls",
            "_view_module_version": "1.5.0",
            "_view_name": "TabView",
            "box_style": "",
            "children": [
              "IPY_MODEL_d109a38f078546ec8ffacdd4ba25291c",
              "IPY_MODEL_fc49a9dd7a6b4193aec803ce336b2625"
            ],
            "layout": "IPY_MODEL_0405fedee6c1401f92950da330e1db9a",
            "selected_index": 0
          }
        },
        "d109a38f078546ec8ffacdd4ba25291c": {
          "model_module": "@jupyter-widgets/output",
          "model_name": "OutputModel",
          "model_module_version": "1.0.0",
          "state": {
            "_dom_classes": [],
            "_model_module": "@jupyter-widgets/output",
            "_model_module_version": "1.0.0",
            "_model_name": "OutputModel",
            "_view_count": null,
            "_view_module": "@jupyter-widgets/output",
            "_view_module_version": "1.0.0",
            "_view_name": "OutputView",
            "layout": "IPY_MODEL_ca28b16b85654211887b8f91fa11feb3",
            "msg_id": "",
            "outputs": [
              {
                "output_type": "stream",
                "name": "stdout",
                "text": [
                  "Video available at https://youtube.com/watch?v=DqMSU4Bikt0\n"
                ]
              },
              {
                "output_type": "display_data",
                "data": {
                  "text/plain": "<IPython.lib.display.YouTubeVideo at 0x7dfce9fcbc90>",
                  "text/html": "\n        <iframe\n            width=\"854\"\n            height=\"480\"\n            src=\"https://www.youtube.com/embed/DqMSU4Bikt0?fs=1&rel=0\"\n            frameborder=\"0\"\n            allowfullscreen\n            \n        ></iframe>\n        ",
                  "image/jpeg": "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\n"
                },
                "metadata": {}
              }
            ]
          }
        },
        "fc49a9dd7a6b4193aec803ce336b2625": {
          "model_module": "@jupyter-widgets/output",
          "model_name": "OutputModel",
          "model_module_version": "1.0.0",
          "state": {
            "_dom_classes": [],
            "_model_module": "@jupyter-widgets/output",
            "_model_module_version": "1.0.0",
            "_model_name": "OutputModel",
            "_view_count": null,
            "_view_module": "@jupyter-widgets/output",
            "_view_module_version": "1.0.0",
            "_view_name": "OutputView",
            "layout": "IPY_MODEL_ed1d505ce0bd4cb19bec9657c29d8986",
            "msg_id": "",
            "outputs": [
              {
                "output_type": "stream",
                "name": "stdout",
                "text": [
                  "Video available at https://www.bilibili.com/video/BV1iM4y1T7eJ\n"
                ]
              },
              {
                "output_type": "display_data",
                "data": {
                  "text/plain": "<__main__.PlayVideo at 0x7dfdbc232210>",
                  "text/html": "\n        <iframe\n            width=\"854\"\n            height=\"480\"\n            src=\"https://player.bilibili.com/player.html?bvid=BV1iM4y1T7eJ&page=1?fs=1&autoplay=False\"\n            frameborder=\"0\"\n            allowfullscreen\n            \n        ></iframe>\n        "
                },
                "metadata": {}
              }
            ]
          }
        },
        "0405fedee6c1401f92950da330e1db9a": {
          "model_module": "@jupyter-widgets/base",
          "model_name": "LayoutModel",
          "model_module_version": "1.2.0",
          "state": {
            "_model_module": "@jupyter-widgets/base",
            "_model_module_version": "1.2.0",
            "_model_name": "LayoutModel",
            "_view_count": null,
            "_view_module": "@jupyter-widgets/base",
            "_view_module_version": "1.2.0",
            "_view_name": "LayoutView",
            "align_content": null,
            "align_items": null,
            "align_self": null,
            "border": null,
            "bottom": null,
            "display": null,
            "flex": null,
            "flex_flow": null,
            "grid_area": null,
            "grid_auto_columns": null,
            "grid_auto_flow": null,
            "grid_auto_rows": null,
            "grid_column": null,
            "grid_gap": null,
            "grid_row": null,
            "grid_template_areas": null,
            "grid_template_columns": null,
            "grid_template_rows": null,
            "height": null,
            "justify_content": null,
            "justify_items": null,
            "left": null,
            "margin": null,
            "max_height": null,
            "max_width": null,
            "min_height": null,
            "min_width": null,
            "object_fit": null,
            "object_position": null,
            "order": null,
            "overflow": null,
            "overflow_x": null,
            "overflow_y": null,
            "padding": null,
            "right": null,
            "top": null,
            "visibility": null,
            "width": null
          }
        },
        "ca28b16b85654211887b8f91fa11feb3": {
          "model_module": "@jupyter-widgets/base",
          "model_name": "LayoutModel",
          "model_module_version": "1.2.0",
          "state": {
            "_model_module": "@jupyter-widgets/base",
            "_model_module_version": "1.2.0",
            "_model_name": "LayoutModel",
            "_view_count": null,
            "_view_module": "@jupyter-widgets/base",
            "_view_module_version": "1.2.0",
            "_view_name": "LayoutView",
            "align_content": null,
            "align_items": null,
            "align_self": null,
            "border": null,
            "bottom": null,
            "display": null,
            "flex": null,
            "flex_flow": null,
            "grid_area": null,
            "grid_auto_columns": null,
            "grid_auto_flow": null,
            "grid_auto_rows": null,
            "grid_column": null,
            "grid_gap": null,
            "grid_row": null,
            "grid_template_areas": null,
            "grid_template_columns": null,
            "grid_template_rows": null,
            "height": null,
            "justify_content": null,
            "justify_items": null,
            "left": null,
            "margin": null,
            "max_height": null,
            "max_width": null,
            "min_height": null,
            "min_width": null,
            "object_fit": null,
            "object_position": null,
            "order": null,
            "overflow": null,
            "overflow_x": null,
            "overflow_y": null,
            "padding": null,
            "right": null,
            "top": null,
            "visibility": null,
            "width": null
          }
        },
        "ed1d505ce0bd4cb19bec9657c29d8986": {
          "model_module": "@jupyter-widgets/base",
          "model_name": "LayoutModel",
          "model_module_version": "1.2.0",
          "state": {
            "_model_module": "@jupyter-widgets/base",
            "_model_module_version": "1.2.0",
            "_model_name": "LayoutModel",
            "_view_count": null,
            "_view_module": "@jupyter-widgets/base",
            "_view_module_version": "1.2.0",
            "_view_name": "LayoutView",
            "align_content": null,
            "align_items": null,
            "align_self": null,
            "border": null,
            "bottom": null,
            "display": null,
            "flex": null,
            "flex_flow": null,
            "grid_area": null,
            "grid_auto_columns": null,
            "grid_auto_flow": null,
            "grid_auto_rows": null,
            "grid_column": null,
            "grid_gap": null,
            "grid_row": null,
            "grid_template_areas": null,
            "grid_template_columns": null,
            "grid_template_rows": null,
            "height": null,
            "justify_content": null,
            "justify_items": null,
            "left": null,
            "margin": null,
            "max_height": null,
            "max_width": null,
            "min_height": null,
            "min_width": null,
            "object_fit": null,
            "object_position": null,
            "order": null,
            "overflow": null,
            "overflow_x": null,
            "overflow_y": null,
            "padding": null,
            "right": null,
            "top": null,
            "visibility": null,
            "width": null
          }
        },
        "e528d0beffce4b1db3fcc7fb94b09204": {
          "model_module": "@jupyter-widgets/controls",
          "model_name": "VBoxModel",
          "model_module_version": "1.5.0",
          "state": {
            "_dom_classes": [
              "widget-interact"
            ],
            "_model_module": "@jupyter-widgets/controls",
            "_model_module_version": "1.5.0",
            "_model_name": "VBoxModel",
            "_view_count": null,
            "_view_module": "@jupyter-widgets/controls",
            "_view_module_version": "1.5.0",
            "_view_name": "VBoxView",
            "box_style": "",
            "children": [
              "IPY_MODEL_57ebb584b9a641208e698c8c887510d7",
              "IPY_MODEL_228b4653495448eab11208f1bd25707f",
              "IPY_MODEL_2a36a4571ac8435cb62676c3f1a575f0"
            ],
            "layout": "IPY_MODEL_006a89070afb4635a0252bb68990e4eb"
          }
        },
        "57ebb584b9a641208e698c8c887510d7": {
          "model_module": "@jupyter-widgets/controls",
          "model_name": "FloatSliderModel",
          "model_module_version": "1.5.0",
          "state": {
            "_dom_classes": [],
            "_model_module": "@jupyter-widgets/controls",
            "_model_module_version": "1.5.0",
            "_model_name": "FloatSliderModel",
            "_view_count": null,
            "_view_module": "@jupyter-widgets/controls",
            "_view_module_version": "1.5.0",
            "_view_name": "FloatSliderView",
            "continuous_update": false,
            "description": "eta",
            "description_tooltip": null,
            "disabled": false,
            "layout": "IPY_MODEL_373bf02bf6e042bebbe12b79c9a26857",
            "max": 200,
            "min": 1,
            "orientation": "horizontal",
            "readout": true,
            "readout_format": ".1f",
            "step": 1,
            "style": "IPY_MODEL_302134ddba3c4a8fb079cd985eda32a3",
            "value": 100
          }
        },
        "228b4653495448eab11208f1bd25707f": {
          "model_module": "@jupyter-widgets/controls",
          "model_name": "FloatLogSliderModel",
          "model_module_version": "1.5.0",
          "state": {
            "_dom_classes": [],
            "_model_module": "@jupyter-widgets/controls",
            "_model_module_version": "1.5.0",
            "_model_name": "FloatLogSliderModel",
            "_view_count": null,
            "_view_module": "@jupyter-widgets/controls",
            "_view_module_version": "1.5.0",
            "_view_name": "FloatLogSliderView",
            "base": 10,
            "continuous_update": false,
            "description": "gamma",
            "description_tooltip": null,
            "disabled": false,
            "layout": "IPY_MODEL_88dc732de3504b5eab184ae20c0d9db2",
            "max": 1,
            "min": -15,
            "orientation": "horizontal",
            "readout": true,
            "readout_format": ".3g",
            "step": 1,
            "style": "IPY_MODEL_b1bba550bf9f45e78fcc0dc79ca4f3e0",
            "value": 0.00001
          }
        },
        "2a36a4571ac8435cb62676c3f1a575f0": {
          "model_module": "@jupyter-widgets/output",
          "model_name": "OutputModel",
          "model_module_version": "1.0.0",
          "state": {
            "_dom_classes": [],
            "_model_module": "@jupyter-widgets/output",
            "_model_module_version": "1.0.0",
            "_model_name": "OutputModel",
            "_view_count": null,
            "_view_module": "@jupyter-widgets/output",
            "_view_module_version": "1.0.0",
            "_view_name": "OutputView",
            "layout": "IPY_MODEL_74b3865390394c8281f69db0eb7fb5d6",
            "msg_id": "",
            "outputs": [
              {
                "output_type": "display_data",
                "data": {
                  "text/plain": "<Figure size 1000x500 with 1 Axes>",
                  "image/png": "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\n"
                },
                "metadata": {
                  "image/png": {
                    "width": 975,
                    "height": 475
                  }
                }
              }
            ]
          }
        },
        "006a89070afb4635a0252bb68990e4eb": {
          "model_module": "@jupyter-widgets/base",
          "model_name": "LayoutModel",
          "model_module_version": "1.2.0",
          "state": {
            "_model_module": "@jupyter-widgets/base",
            "_model_module_version": "1.2.0",
            "_model_name": "LayoutModel",
            "_view_count": null,
            "_view_module": "@jupyter-widgets/base",
            "_view_module_version": "1.2.0",
            "_view_name": "LayoutView",
            "align_content": null,
            "align_items": null,
            "align_self": null,
            "border": null,
            "bottom": null,
            "display": null,
            "flex": null,
            "flex_flow": null,
            "grid_area": null,
            "grid_auto_columns": null,
            "grid_auto_flow": null,
            "grid_auto_rows": null,
            "grid_column": null,
            "grid_gap": null,
            "grid_row": null,
            "grid_template_areas": null,
            "grid_template_columns": null,
            "grid_template_rows": null,
            "height": null,
            "justify_content": null,
            "justify_items": null,
            "left": null,
            "margin": null,
            "max_height": null,
            "max_width": null,
            "min_height": null,
            "min_width": null,
            "object_fit": null,
            "object_position": null,
            "order": null,
            "overflow": null,
            "overflow_x": null,
            "overflow_y": null,
            "padding": null,
            "right": null,
            "top": null,
            "visibility": null,
            "width": null
          }
        },
        "373bf02bf6e042bebbe12b79c9a26857": {
          "model_module": "@jupyter-widgets/base",
          "model_name": "LayoutModel",
          "model_module_version": "1.2.0",
          "state": {
            "_model_module": "@jupyter-widgets/base",
            "_model_module_version": "1.2.0",
            "_model_name": "LayoutModel",
            "_view_count": null,
            "_view_module": "@jupyter-widgets/base",
            "_view_module_version": "1.2.0",
            "_view_name": "LayoutView",
            "align_content": null,
            "align_items": null,
            "align_self": null,
            "border": null,
            "bottom": null,
            "display": null,
            "flex": null,
            "flex_flow": null,
            "grid_area": null,
            "grid_auto_columns": null,
            "grid_auto_flow": null,
            "grid_auto_rows": null,
            "grid_column": null,
            "grid_gap": null,
            "grid_row": null,
            "grid_template_areas": null,
            "grid_template_columns": null,
            "grid_template_rows": null,
            "height": null,
            "justify_content": null,
            "justify_items": null,
            "left": null,
            "margin": null,
            "max_height": null,
            "max_width": null,
            "min_height": null,
            "min_width": null,
            "object_fit": null,
            "object_position": null,
            "order": null,
            "overflow": null,
            "overflow_x": null,
            "overflow_y": null,
            "padding": null,
            "right": null,
            "top": null,
            "visibility": null,
            "width": null
          }
        },
        "302134ddba3c4a8fb079cd985eda32a3": {
          "model_module": "@jupyter-widgets/controls",
          "model_name": "SliderStyleModel",
          "model_module_version": "1.5.0",
          "state": {
            "_model_module": "@jupyter-widgets/controls",
            "_model_module_version": "1.5.0",
            "_model_name": "SliderStyleModel",
            "_view_count": null,
            "_view_module": "@jupyter-widgets/base",
            "_view_module_version": "1.2.0",
            "_view_name": "StyleView",
            "description_width": "",
            "handle_color": null
          }
        },
        "88dc732de3504b5eab184ae20c0d9db2": {
          "model_module": "@jupyter-widgets/base",
          "model_name": "LayoutModel",
          "model_module_version": "1.2.0",
          "state": {
            "_model_module": "@jupyter-widgets/base",
            "_model_module_version": "1.2.0",
            "_model_name": "LayoutModel",
            "_view_count": null,
            "_view_module": "@jupyter-widgets/base",
            "_view_module_version": "1.2.0",
            "_view_name": "LayoutView",
            "align_content": null,
            "align_items": null,
            "align_self": null,
            "border": null,
            "bottom": null,
            "display": null,
            "flex": null,
            "flex_flow": null,
            "grid_area": null,
            "grid_auto_columns": null,
            "grid_auto_flow": null,
            "grid_auto_rows": null,
            "grid_column": null,
            "grid_gap": null,
            "grid_row": null,
            "grid_template_areas": null,
            "grid_template_columns": null,
            "grid_template_rows": null,
            "height": null,
            "justify_content": null,
            "justify_items": null,
            "left": null,
            "margin": null,
            "max_height": null,
            "max_width": null,
            "min_height": null,
            "min_width": null,
            "object_fit": null,
            "object_position": null,
            "order": null,
            "overflow": null,
            "overflow_x": null,
            "overflow_y": null,
            "padding": null,
            "right": null,
            "top": null,
            "visibility": null,
            "width": null
          }
        },
        "b1bba550bf9f45e78fcc0dc79ca4f3e0": {
          "model_module": "@jupyter-widgets/controls",
          "model_name": "SliderStyleModel",
          "model_module_version": "1.5.0",
          "state": {
            "_model_module": "@jupyter-widgets/controls",
            "_model_module_version": "1.5.0",
            "_model_name": "SliderStyleModel",
            "_view_count": null,
            "_view_module": "@jupyter-widgets/base",
            "_view_module_version": "1.2.0",
            "_view_name": "StyleView",
            "description_width": "",
            "handle_color": null
          }
        },
        "74b3865390394c8281f69db0eb7fb5d6": {
          "model_module": "@jupyter-widgets/base",
          "model_name": "LayoutModel",
          "model_module_version": "1.2.0",
          "state": {
            "_model_module": "@jupyter-widgets/base",
            "_model_module_version": "1.2.0",
            "_model_name": "LayoutModel",
            "_view_count": null,
            "_view_module": "@jupyter-widgets/base",
            "_view_module_version": "1.2.0",
            "_view_name": "LayoutView",
            "align_content": null,
            "align_items": null,
            "align_self": null,
            "border": null,
            "bottom": null,
            "display": null,
            "flex": null,
            "flex_flow": null,
            "grid_area": null,
            "grid_auto_columns": null,
            "grid_auto_flow": null,
            "grid_auto_rows": null,
            "grid_column": null,
            "grid_gap": null,
            "grid_row": null,
            "grid_template_areas": null,
            "grid_template_columns": null,
            "grid_template_rows": null,
            "height": null,
            "justify_content": null,
            "justify_items": null,
            "left": null,
            "margin": null,
            "max_height": null,
            "max_width": null,
            "min_height": null,
            "min_width": null,
            "object_fit": null,
            "object_position": null,
            "order": null,
            "overflow": null,
            "overflow_x": null,
            "overflow_y": null,
            "padding": null,
            "right": null,
            "top": null,
            "visibility": null,
            "width": null
          }
        }
      }
    }
  },
  "nbformat": 4,
  "nbformat_minor": 0
}