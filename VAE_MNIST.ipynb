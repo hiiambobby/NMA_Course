{
  "nbformat": 4,
  "nbformat_minor": 0,
  "metadata": {
    "colab": {
      "provenance": [],
      "gpuType": "T4",
      "authorship_tag": "ABX9TyP8x4M39i2pTwfw+B75lB51",
      "include_colab_link": true
    },
    "kernelspec": {
      "name": "python3",
      "display_name": "Python 3"
    },
    "language_info": {
      "name": "python"
    },
    "accelerator": "GPU"
  },
  "cells": [
    {
      "cell_type": "markdown",
      "metadata": {
        "id": "view-in-github",
        "colab_type": "text"
      },
      "source": [
        "<a href=\"https://colab.research.google.com/github/hiiambobby/NMA_Course/blob/main/VAE_MNIST.ipynb\" target=\"_parent\"><img src=\"https://colab.research.google.com/assets/colab-badge.svg\" alt=\"Open In Colab\"/></a>"
      ]
    },
    {
      "cell_type": "code",
      "source": [
        "import torch\n",
        "import torchvision\n",
        "from torch import nn\n",
        "from tqdm import tqdm\n",
        "from torchvision import datasets\n",
        "from torch import optim\n",
        "import torch.nn.functional as F\n",
        "from torchvision import transforms\n",
        "from torch.utils.data import DataLoader\n",
        "import matplotlib.pyplot as plt\n",
        "from torchvision.utils import save_image\n"
      ],
      "metadata": {
        "id": "2he_L3Qvc5zg"
      },
      "execution_count": 1,
      "outputs": []
    },
    {
      "cell_type": "code",
      "source": [
        "#Config\n",
        "DEVICE = torch.device(\"cuda\" if torch.cuda.is_available() else \"cpu\")\n",
        "print(DEVICE)\n",
        "#Hyperparameters\n",
        "INPUT_DIM = 784\n",
        "H_DIM = 200\n",
        "Z_DIM = 20\n",
        "NUM_EPOCHS = 15\n",
        "BATCH_SIZE = 32\n",
        "LR_RATE = 3e-4  #karpathy constant\n",
        "\n",
        "dataset = datasets.MNIST(root=\"dataset/\",train = True,transform = transforms.ToTensor(),download = True)\n",
        "train_loader = DataLoader(dataset = dataset,batch_size = BATCH_SIZE,shuffle = True)\n"
      ],
      "metadata": {
        "colab": {
          "base_uri": "https://localhost:8080/"
        },
        "id": "AVpKtuRfHpsm",
        "outputId": "ee8a76db-be98-41b4-f232-9f822f4ff85a"
      },
      "execution_count": 2,
      "outputs": [
        {
          "output_type": "stream",
          "name": "stdout",
          "text": [
            "cuda\n"
          ]
        },
        {
          "output_type": "stream",
          "name": "stderr",
          "text": [
            "100%|██████████| 9.91M/9.91M [00:00<00:00, 17.8MB/s]\n",
            "100%|██████████| 28.9k/28.9k [00:00<00:00, 473kB/s]\n",
            "100%|██████████| 1.65M/1.65M [00:00<00:00, 4.40MB/s]\n",
            "100%|██████████| 4.54k/4.54k [00:00<00:00, 7.37MB/s]\n"
          ]
        }
      ]
    },
    {
      "cell_type": "code",
      "source": [
        "class VariationalAutoEncoder(nn.Module):\n",
        "  def __init__(self,input_dim,h_dim,z_dim):\n",
        "    super().__init__()\n",
        "    self.img_2hid = nn.Linear(input_dim,h_dim)\n",
        "\n",
        "    self.hid_2mu = nn.Linear(h_dim,z_dim)\n",
        "    self.hid_2sigma = nn.Linear(h_dim,z_dim)\n",
        "\n",
        "    self.z_2hid = nn.Linear(z_dim,h_dim)\n",
        "    self.hid_2img = nn.Linear(h_dim,input_dim)\n",
        "\n",
        "    self.relu = nn.ReLU()\n",
        "\n",
        "  def encode(self,x):\n",
        "    h = self.relu(self.img_2hid(x))\n",
        "    mu,sigma = self.hid_2mu(h),self.hid_2sigma(h)\n",
        "    return mu,sigma\n",
        "\n",
        "  def decode(self,z):\n",
        "    new_h = self.relu(self.z_2hid(z))\n",
        "    return torch.sigmoid(self.hid_2img(new_h))\n",
        "\n",
        "  def forward(self,x):\n",
        "    mu, sigma = self.encode(x)\n",
        "    epsilon = torch.randn_like(sigma)\n",
        "    z_reparam = mu + sigma*epsilon\n",
        "    x_reconst = self.decode(z_reparam)\n",
        "    return x_reconst,mu,sigma # we return all because we need it in kl divergnece\n"
      ],
      "metadata": {
        "id": "uWfO3IfVfv52"
      },
      "execution_count": 3,
      "outputs": []
    },
    {
      "cell_type": "code",
      "execution_count": 4,
      "metadata": {
        "id": "8R0w2kTncco6"
      },
      "outputs": [],
      "source": [
        "model = VariationalAutoEncoder(INPUT_DIM, H_DIM, Z_DIM).to(DEVICE)\n",
        "optimizer = optim.Adam(model.parameters(),lr = LR_RATE)\n",
        "loss_fn = nn.BCELoss(reduction=\"sum\")"
      ]
    },
    {
      "cell_type": "code",
      "source": [
        "def train(num_epochs, model, optimizer, loss_fn):\n",
        "\n",
        "  for epoch in range(num_epochs):\n",
        "    model.train()\n",
        "    total_loss = 0.0\n",
        "    loop = tqdm(enumerate(train_loader), total=len(train_loader), desc=f\"Epoch [{epoch+1}/{num_epochs}]\")\n",
        "    for i,(x,_) in loop:\n",
        "      #forward pass\n",
        "      x = x.to(DEVICE).view(-1,INPUT_DIM)\n",
        "      x_reconst,mu,sigma = model(x)\n",
        "      #loss\n",
        "      reconstruction_loss = loss_fn(x_reconst,x)\n",
        "      kl_div= -torch.sum(1+torch.log(sigma.pow(2))-mu.pow(2)-sigma.pow(2))\n",
        "\n",
        "      #backpropagation\n",
        "      loss = reconstruction_loss + kl_div\n",
        "      optimizer.zero_grad()\n",
        "      loss.backward()\n",
        "      optimizer.step()\n",
        "\n",
        "          # Update the running loss\n",
        "      total_loss += loss.item() * x.size(0)\n",
        "\n",
        "      # Print the epoch loss\n",
        "  epoch_loss = total_loss / len(train_loader.dataset)\n",
        "  print(\"Epoch {}/{}: loss={:.4f}\".format(epoch + 1, num_epochs, epoch_loss))"
      ],
      "metadata": {
        "id": "XEuf54DTcskB"
      },
      "execution_count": 5,
      "outputs": []
    },
    {
      "cell_type": "code",
      "source": [
        "# Initialize model, optimizer, loss\n",
        "model = VariationalAutoEncoder(INPUT_DIM,H_DIM, Z_DIM).to(DEVICE)\n",
        "optimizer = torch.optim.Adam(model.parameters(), lr=LR_RATE)\n",
        "loss_fn = nn.BCELoss(reduction=\"sum\")\n",
        "\n",
        "# Run training\n",
        "train(NUM_EPOCHS, model, optimizer, loss_fn)"
      ],
      "metadata": {
        "colab": {
          "base_uri": "https://localhost:8080/"
        },
        "id": "mNeCDFDZNwtp",
        "outputId": "f65f6981-60f0-45ee-eee1-22109a4d227f"
      },
      "execution_count": 6,
      "outputs": [
        {
          "output_type": "stream",
          "name": "stderr",
          "text": [
            "Epoch [1/15]: 100%|██████████| 1875/1875 [00:11<00:00, 157.47it/s]\n",
            "Epoch [2/15]: 100%|██████████| 1875/1875 [00:11<00:00, 169.33it/s]\n",
            "Epoch [3/15]: 100%|██████████| 1875/1875 [00:11<00:00, 166.33it/s]\n",
            "Epoch [4/15]: 100%|██████████| 1875/1875 [00:10<00:00, 171.42it/s]\n",
            "Epoch [5/15]: 100%|██████████| 1875/1875 [00:11<00:00, 169.38it/s]\n",
            "Epoch [6/15]: 100%|██████████| 1875/1875 [00:11<00:00, 167.94it/s]\n",
            "Epoch [7/15]: 100%|██████████| 1875/1875 [00:11<00:00, 169.83it/s]\n",
            "Epoch [8/15]: 100%|██████████| 1875/1875 [00:11<00:00, 169.42it/s]\n",
            "Epoch [9/15]: 100%|██████████| 1875/1875 [00:11<00:00, 166.68it/s]\n",
            "Epoch [10/15]: 100%|██████████| 1875/1875 [00:11<00:00, 167.90it/s]\n",
            "Epoch [11/15]: 100%|██████████| 1875/1875 [00:11<00:00, 166.63it/s]\n",
            "Epoch [12/15]: 100%|██████████| 1875/1875 [00:11<00:00, 169.86it/s]\n",
            "Epoch [13/15]: 100%|██████████| 1875/1875 [00:11<00:00, 169.48it/s]\n",
            "Epoch [14/15]: 100%|██████████| 1875/1875 [00:10<00:00, 175.02it/s]\n",
            "Epoch [15/15]: 100%|██████████| 1875/1875 [00:10<00:00, 171.93it/s]"
          ]
        },
        {
          "output_type": "stream",
          "name": "stdout",
          "text": [
            "Epoch 15/15: loss=4088.8768\n"
          ]
        },
        {
          "output_type": "stream",
          "name": "stderr",
          "text": [
            "\n"
          ]
        }
      ]
    },
    {
      "cell_type": "code",
      "source": [
        "def inference(digit, num_examples=1):\n",
        "    \"\"\"\n",
        "    Generates (num_examples) of a particular digit.\n",
        "    Specifically we extract an example of each digit,\n",
        "    then after we have the mu, sigma representation for\n",
        "    each digit we can sample from that.\n",
        "\n",
        "    After we sample we can run the decoder part of the VAE\n",
        "    and generate examples.\n",
        "    \"\"\"\n",
        "    images = []\n",
        "    idx = 0\n",
        "    for x, y in dataset:\n",
        "        if y == idx:\n",
        "            images.append(x.to(DEVICE))  # move image to model's device\n",
        "            idx += 1\n",
        "        if idx == 10:\n",
        "            break\n",
        "\n",
        "    encodings_digit = []\n",
        "    for d in range(10):\n",
        "        with torch.no_grad():\n",
        "            mu, sigma = model.encode(images[d].view(1, 784))\n",
        "        encodings_digit.append((mu, sigma))\n",
        "\n",
        "    mu, sigma = encodings_digit[digit]\n",
        "    for example in range(num_examples):\n",
        "        epsilon = torch.randn_like(sigma)\n",
        "        z = mu + sigma * epsilon\n",
        "        out = model.decode(z)\n",
        "        out = out.view(-1, 1, 28, 28)\n",
        "        save_image(out, f\"generated_{digit}_ex{example}.png\")\n"
      ],
      "metadata": {
        "id": "hDuqLY79UXaF"
      },
      "execution_count": 7,
      "outputs": []
    },
    {
      "cell_type": "code",
      "source": [
        "inference(digit=9,num_examples=5)"
      ],
      "metadata": {
        "id": "wlx2zSg9UrZ4"
      },
      "execution_count": 10,
      "outputs": []
    }
  ]
}